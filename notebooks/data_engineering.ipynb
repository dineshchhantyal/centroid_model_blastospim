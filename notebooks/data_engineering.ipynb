{
 "cells": [
  {
   "cell_type": "code",
   "execution_count": 29,
   "id": "bffcdaee-5350-411d-9a19-b47ad05bacbd",
   "metadata": {},
   "outputs": [],
   "source": [
    "import numpy as np\n",
    "from pathlib import Path"
   ]
  },
  {
   "cell_type": "code",
   "execution_count": 30,
   "id": "e7ebdccc-a520-41d7-a128-89d07a2f60ed",
   "metadata": {},
   "outputs": [],
   "source": [
    "def load_dataset(num_samples=None):\n",
    "    # Paths\n",
    "    \n",
    "    raw_dir = Path('/mnt/home/dchhantyal/centroid_model_blastospim/data/raw/')\n",
    "    labels_dir = Path('/mnt/home/dchhantyal/centroid_model_blastospim/data/labels/Blast')\n",
    "    \n",
    "    # Get data files from all subdirectories\n",
    "    data_files = sorted(list(raw_dir.rglob('*.npz')))\n",
    "    if num_samples:\n",
    "        data_files = data_files[:num_samples]\n",
    "    files = []\n",
    "    print(f\"📦 Processing {len(data_files)} files...\")\n",
    "    for file_path in data_files:\n",
    "        with np.load(file_path) as data:\n",
    "            # Get volume data\n",
    "            volume = data['img']\n",
    "            files.append([file_path.stem, volume.shape])\n",
    "            # files[file_path.stem] = volume.shape\n",
    "    return files"
   ]
  },
  {
   "cell_type": "code",
   "execution_count": 31,
   "id": "d4c9353b-c9bb-4a6b-99f1-90716bb381e9",
   "metadata": {},
   "outputs": [
    {
     "name": "stdout",
     "output_type": "stream",
     "text": [
      "📦 Processing 80 files...\n"
     ]
    }
   ],
   "source": [
    "files = load_dataset(80)"
   ]
  },
  {
   "cell_type": "code",
   "execution_count": null,
   "id": "883ef9e1-b693-47e2-aa5f-cfa01cc7fff9",
   "metadata": {},
   "outputs": [],
   "source": [
    "import pandas as pd"
   ]
  },
  {
   "cell_type": "code",
   "execution_count": null,
   "id": "84013862-3e65-4675-b4c4-7b71acea541e",
   "metadata": {},
   "outputs": [],
   "source": [
    "df = pd.DataFrame(files.tolist())"
   ]
  },
  {
   "cell_type": "code",
   "execution_count": null,
   "id": "2bf1259d-8b70-44ff-81d3-d46c107f43a9",
   "metadata": {},
   "outputs": [],
   "source": []
  }
 ],
 "metadata": {
  "kernelspec": {
   "display_name": "jupyter-gpu",
   "language": "python",
   "name": "jupyter-gpu"
  },
  "language_info": {
   "codemirror_mode": {
    "name": "ipython",
    "version": 3
   },
   "file_extension": ".py",
   "mimetype": "text/x-python",
   "name": "python",
   "nbconvert_exporter": "python",
   "pygments_lexer": "ipython3",
   "version": "3.10.13"
  }
 },
 "nbformat": 4,
 "nbformat_minor": 5
}
