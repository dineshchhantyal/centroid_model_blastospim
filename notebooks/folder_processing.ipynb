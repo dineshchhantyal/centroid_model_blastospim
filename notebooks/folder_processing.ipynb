{
 "cells": [
  {
   "cell_type": "markdown",
   "id": "330440db",
   "metadata": {},
   "source": [
    "# Folder Processing - Batch 3D Centroid Extraction\n",
    "\n",
    "This notebook demonstrates how to process multiple BlastoSpim NPZ files in a folder to extract geometric centers (centroids) from 3D volume labels using the correct voxel spacing from the research paper.\n",
    "\n",
    "## Overview\n",
    "- **Dataset**: BlastoSpim 3D microscopy data\n",
    "- **Voxel Spacing**: Z=2.0µm, Y/X=0.208µm (from research paper)\n",
    "- **Method**: Batch processing with center of mass calculation\n",
    "- **Output**: Organized results with comprehensive visualizations and analysis\n",
    "\n",
    "## Features\n",
    "- ✅ Batch processing of entire directories\n",
    "- ✅ Comprehensive logging for all files\n",
    "- ✅ Detailed progress tracking with statistics\n",
    "- ✅ Robust error handling per file\n",
    "- ✅ Research paper compliant voxel spacing\n",
    "- ✅ Professional visualizations for each file\n",
    "- ✅ Organized output structure\n",
    "- ✅ Batch summary reports\n",
    "- ✅ Parallel processing capabilities"
   ]
  },
  {
   "cell_type": "markdown",
   "id": "ac32d306",
   "metadata": {},
   "source": [
    "## 1. Import Required Libraries\n",
    "\n",
    "Import all necessary libraries for batch processing, including file handling, progress tracking, and parallel processing capabilities."
   ]
  },
  {
   "cell_type": "code",
   "execution_count": 1,
   "id": "44abf126",
   "metadata": {},
   "outputs": [
    {
     "name": "stdout",
     "output_type": "stream",
     "text": [
      "✅ All libraries imported successfully!\n",
      "✅ Project root: /mnt/home/dchhantyal/centroid_model_blastospim\n",
      "✅ Python version: 3.13.5 | packaged by conda-forge | (main, Jun 16 2025, 08:27:50) [GCC 13.3.0]\n",
      "✅ Key libraries:\n",
      "   - NumPy: 2.3.0\n",
      "   - Pandas: 2.3.0\n",
      "   - Matplotlib: 3.10.3\n"
     ]
    }
   ],
   "source": [
    "# Standard library imports for file and folder operations\n",
    "import sys\n",
    "import glob\n",
    "import logging\n",
    "from pathlib import Path\n",
    "from datetime import datetime\n",
    "import time\n",
    "\n",
    "# Scientific computing and progress tracking\n",
    "import numpy as np\n",
    "import pandas as pd\n",
    "import matplotlib.pyplot as plt\n",
    "\n",
    "# Add project root to Python path\n",
    "project_root = '/mnt/home/dchhantyal/centroid_model_blastospim'\n",
    "if project_root not in sys.path:\n",
    "    sys.path.append(project_root)\n",
    "\n",
    "# Import our custom batch processing modules\n",
    "from src.preprocessing.centroid_batch_processor import CentroidBatchProcessor\n",
    "from src.utils.config import ConfigManager\n",
    "\n",
    "print(\"✅ All libraries imported successfully!\")\n",
    "print(f\"✅ Project root: {project_root}\")\n",
    "print(f\"✅ Python version: {sys.version}\")\n",
    "print(f\"✅ Key libraries:\")\n",
    "print(f\"   - NumPy: {np.__version__}\")\n",
    "print(f\"   - Pandas: {pd.__version__}\")\n",
    "print(f\"   - Matplotlib: {plt.matplotlib.__version__}\")"
   ]
  },
  {
   "cell_type": "markdown",
   "id": "17b921cf",
   "metadata": {},
   "source": [
    "## 2. Setup Comprehensive Logging\n",
    "\n",
    "Configure detailed logging for batch processing with separate logs for overall batch operations and individual file processing."
   ]
  },
  {
   "cell_type": "code",
   "execution_count": 2,
   "id": "0a1b14c9",
   "metadata": {},
   "outputs": [
    {
     "name": "stderr",
     "output_type": "stream",
     "text": [
      "INFO: 🚀 Batch processing logging system initialized\n",
      "INFO: 📁 Batch log file: notebook_logs/batch_processing/batch_processing_20250620_182233.log\n"
     ]
    },
    {
     "name": "stdout",
     "output_type": "stream",
     "text": [
      "✅ Batch logging configured successfully\n",
      "📋 Batch log file: notebook_logs/batch_processing/batch_processing_20250620_182233.log\n",
      "📊 Log level: 10 (DEBUG)\n",
      "🔧 Handlers: 2 (file + console)\n",
      "📂 Log directory: notebook_logs/batch_processing\n",
      "📁 Individual file logs will be saved to: notebook_logs/batch_processing/individual_files\n",
      "📝 This setup allows tracking both batch overview and individual file details\n"
     ]
    }
   ],
   "source": [
    "# Create logs directory for batch processing\n",
    "logs_dir = Path(\"notebook_logs/batch_processing\")\n",
    "logs_dir.mkdir(parents=True, exist_ok=True)\n",
    "\n",
    "# Configure comprehensive logging for batch operations\n",
    "batch_log_filename = logs_dir / f\"batch_processing_{datetime.now().strftime('%Y%m%d_%H%M%S')}.log\"\n",
    "\n",
    "# Create batch logger\n",
    "batch_logger = logging.getLogger('batch_processor')\n",
    "batch_logger.setLevel(logging.DEBUG)\n",
    "\n",
    "# Clear any existing handlers\n",
    "batch_logger.handlers.clear()\n",
    "\n",
    "# Create formatters for different log levels\n",
    "detailed_formatter = logging.Formatter(\n",
    "    '%(asctime)s - %(name)s - %(levelname)s - [%(filename)s:%(lineno)d] - %(message)s'\n",
    ")\n",
    "console_formatter = logging.Formatter(\n",
    "    '%(levelname)s: %(message)s'\n",
    ")\n",
    "\n",
    "# File handler for detailed batch logs\n",
    "batch_file_handler = logging.FileHandler(batch_log_filename)\n",
    "batch_file_handler.setLevel(logging.DEBUG)\n",
    "batch_file_handler.setFormatter(detailed_formatter)\n",
    "\n",
    "# Console handler for progress information\n",
    "batch_console_handler = logging.StreamHandler()\n",
    "batch_console_handler.setLevel(logging.INFO)\n",
    "batch_console_handler.setFormatter(console_formatter)\n",
    "\n",
    "# Add handlers to batch logger\n",
    "batch_logger.addHandler(batch_file_handler)\n",
    "batch_logger.addHandler(batch_console_handler)\n",
    "\n",
    "# Test logging system\n",
    "batch_logger.info(\"🚀 Batch processing logging system initialized\")\n",
    "batch_logger.info(f\"📁 Batch log file: {batch_log_filename}\")\n",
    "batch_logger.debug(\"Debug logging is working for batch operations\")\n",
    "\n",
    "print(f\"✅ Batch logging configured successfully\")\n",
    "print(f\"📋 Batch log file: {batch_log_filename}\")\n",
    "print(f\"📊 Log level: {batch_logger.level} (DEBUG)\")\n",
    "print(f\"🔧 Handlers: {len(batch_logger.handlers)} (file + console)\")\n",
    "print(f\"📂 Log directory: {logs_dir}\")\n",
    "\n",
    "# Additional logging for individual file processing\n",
    "individual_logs_dir = logs_dir / \"individual_files\"\n",
    "individual_logs_dir.mkdir(exist_ok=True)\n",
    "\n",
    "print(f\"📁 Individual file logs will be saved to: {individual_logs_dir}\")\n",
    "print(\"📝 This setup allows tracking both batch overview and individual file details\")"
   ]
  },
  {
   "cell_type": "markdown",
   "id": "1b063f7b",
   "metadata": {},
   "source": [
    "## 3. Initialize Batch Processor\n",
    "\n",
    "Set up the CentroidBatchProcessor with proper configuration for BlastoSpim data processing."
   ]
  },
  {
   "cell_type": "code",
   "execution_count": 3,
   "id": "49b36d3c",
   "metadata": {},
   "outputs": [
    {
     "name": "stderr",
     "output_type": "stream",
     "text": [
      "INFO: 📋 Loading configuration from: /mnt/home/dchhantyal/centroid_model_blastospim/configs/base_config.yaml\n",
      "INFO: ✅ Configuration loaded successfully\n",
      "INFO: 📐 Voxel spacing: Z=2.0µm, Y/X=0.208µm\n",
      "INFO: 🔄 Initializing CentroidBatchProcessor...\n",
      "2025-06-20 18:22:40,239 - src.preprocessing.centroid_batch_processor - INFO - Using voxel spacing from config: Z=2.0µm, Y=0.208µm, X=0.208µm\n",
      "INFO: ✅ CentroidBatchProcessor initialized successfully\n",
      "2025-06-20 18:22:40,239 - batch_processor - INFO - ✅ CentroidBatchProcessor initialized successfully\n"
     ]
    },
    {
     "name": "stdout",
     "output_type": "stream",
     "text": [
      "✅ Batch processor ready for processing multiple files\n",
      "📋 Configuration: /mnt/home/dchhantyal/centroid_model_blastospim/configs/base_config.yaml\n",
      "📐 Voxel spacing: Z=2.0µm, Y/X=0.208µm\n",
      "🔧 Output will be organized in structured directories\n",
      "📊 Comprehensive logging enabled for all operations\n"
     ]
    }
   ],
   "source": [
    "# Load configuration for BlastoSpim data processing\n",
    "config_path = Path(project_root) / \"configs\" / \"base_config.yaml\"\n",
    "batch_logger.info(f\"📋 Loading configuration from: {config_path}\")\n",
    "\n",
    "# Verify config file exists\n",
    "if not config_path.exists():\n",
    "    batch_logger.error(f\"❌ Configuration file not found: {config_path}\")\n",
    "    raise FileNotFoundError(f\"Configuration file not found: {config_path}\")\n",
    "\n",
    "# Initialize configuration manager\n",
    "config_manager = ConfigManager(config_path)\n",
    "config = config_manager.to_dict()\n",
    "\n",
    "batch_logger.info(\"✅ Configuration loaded successfully\")\n",
    "batch_logger.info(f\"📐 Voxel spacing: Z={config['centroid_extraction']['voxel_size']['z']:.1f}µm, \"\n",
    "                  f\"Y/X={config['centroid_extraction']['voxel_size']['y']:.3f}µm\")\n",
    "batch_logger.debug(f\"🔧 Full config: {config}\")\n",
    "\n",
    "# Initialize the CentroidBatchProcessor\n",
    "try:\n",
    "    batch_logger.info(\"🔄 Initializing CentroidBatchProcessor...\")\n",
    "    batch_processor = CentroidBatchProcessor(\n",
    "        config_path=str(config_path), output_base_dir=\"data/labels\"\n",
    "    )\n",
    "    batch_logger.info(\"✅ CentroidBatchProcessor initialized successfully\")\n",
    "\n",
    "except Exception as e:\n",
    "    batch_logger.error(f\"❌ Failed to initialize batch processor: {str(e)}\")\n",
    "    raise e\n",
    "\n",
    "# Display initialization summary\n",
    "print(\"✅ Batch processor ready for processing multiple files\")\n",
    "print(f\"📋 Configuration: {config_path}\")\n",
    "print(f\"📐 Voxel spacing: Z={config['centroid_extraction']['voxel_size']['z']:.1f}µm, Y/X={config['centroid_extraction']['voxel_size']['y']:.3f}µm\")\n",
    "print(f\"🔧 Output will be organized in structured directories\")\n",
    "print(f\"📊 Comprehensive logging enabled for all operations\")"
   ]
  },
  {
   "cell_type": "markdown",
   "id": "d70e3efb",
   "metadata": {},
   "source": [
    "## 4. Specify Input Folder and Processing Parameters\n",
    "\n",
    "Define the folder containing NPZ files to process and set up batch processing parameters.\n",
    "\n",
    "### Key Parameters:\n",
    "- **Input Folder**: Directory containing BlastoSpim NPZ files\n",
    "- **Output Root**: Base directory for organized results\n",
    "- **Processing Options**: Parallel processing, error handling, visualization settings\n",
    "- **File Filtering**: Pattern matching for NPZ files"
   ]
  },
  {
   "cell_type": "code",
   "execution_count": 4,
   "id": "e71748e4",
   "metadata": {},
   "outputs": [
    {
     "name": "stderr",
     "output_type": "stream",
     "text": [
      "INFO: 📂 Input folder: /mnt/home/dchhantyal/centroid_model_blastospim/data/raw/Blast\n",
      "2025-06-20 18:24:16,080 - batch_processor - INFO - 📂 Input folder: /mnt/home/dchhantyal/centroid_model_blastospim/data/raw/Blast\n",
      "INFO: 📁 Output root: /mnt/home/dchhantyal/centroid_model_blastospim/data/labels/Blast\n",
      "2025-06-20 18:24:16,081 - batch_processor - INFO - 📁 Output root: /mnt/home/dchhantyal/centroid_model_blastospim/data/labels/Blast\n",
      "INFO: 🔍 Searching for NPZ files with pattern: /mnt/home/dchhantyal/centroid_model_blastospim/data/raw/Blast/*.npz\n",
      "2025-06-20 18:24:16,088 - batch_processor - INFO - 🔍 Searching for NPZ files with pattern: /mnt/home/dchhantyal/centroid_model_blastospim/data/raw/Blast/*.npz\n",
      "INFO: 📊 Found 80 NPZ files\n",
      "2025-06-20 18:24:16,089 - batch_processor - INFO - 📊 Found 80 NPZ files\n",
      "INFO: ⚙️  Processing parameters: {'max_workers': 8, 'save_visualizations': False, 'save_detailed_stats': True, 'create_summary_report': True, 'log_individual_files': True}\n",
      "2025-06-20 18:24:16,091 - batch_processor - INFO - ⚙️  Processing parameters: {'max_workers': 8, 'save_visualizations': False, 'save_detailed_stats': True, 'create_summary_report': True, 'log_individual_files': True}\n"
     ]
    },
    {
     "name": "stdout",
     "output_type": "stream",
     "text": [
      "✅ Found 80 NPZ files ready for processing\n",
      "   1. Blast_035.npz\n",
      "   2. Blast_005.npz\n",
      "   3. Blast_049.npz\n",
      "   4. Blast_028.npz\n",
      "   5. Blast_084.npz\n",
      "   ... and 75 more files\n",
      "\n",
      "⚙️  Processing Parameters:\n",
      "   - max_workers: 8\n",
      "   - save_visualizations: False\n",
      "   - save_detailed_stats: True\n",
      "   - create_summary_report: True\n",
      "   - log_individual_files: True\n"
     ]
    }
   ],
   "source": [
    "# Define input and output directories\n",
    "input_folder = Path(project_root) / Path(\"data/raw/Blast\") \n",
    "output_root = Path(project_root) / Path(\"data/labels/Blast\")\n",
    "\n",
    "batch_logger.info(f\"📂 Input folder: {input_folder}\")\n",
    "batch_logger.info(f\"📁 Output root: {output_root}\")\n",
    "\n",
    "# Create directories if they don't exist\n",
    "if not input_folder.exists():\n",
    "    raise FileNotFoundError(f\"❌ Input folder does not exist: {input_folder}\")\n",
    "output_root.mkdir(parents=True, exist_ok=True)\n",
    "\n",
    "# Search for NPZ files in the input directory\n",
    "npz_pattern = str(input_folder / \"*.npz\")\n",
    "npz_files = glob.glob(npz_pattern)\n",
    "npz_files = npz_files # Limit to first 5 files for demonstration\n",
    "\n",
    "batch_logger.info(f\"🔍 Searching for NPZ files with pattern: {npz_pattern}\")\n",
    "batch_logger.info(f\"📊 Found {len(npz_files)} NPZ files\")\n",
    "\n",
    "if len(npz_files) == 0:\n",
    "    batch_logger.warning(\"⚠️  No NPZ files found in the specified directory\")\n",
    "    print(\"⚠️  WARNING: No NPZ files found!\")\n",
    "    print(f\"📂 Searched in: {input_folder}\")\n",
    "    print(f\"🔍 Pattern used: {npz_pattern}\")\n",
    "    print(\"\\n💡 To proceed with this example:\")\n",
    "    print(\"   1. Place your BlastoSpim NPZ files in the 'data/raw' directory\")\n",
    "    print(\"   2. Or modify 'input_folder' path above to point to your data\")\n",
    "    print(\"   3. Re-run this cell\")\n",
    "else:\n",
    "    print(f\"✅ Found {len(npz_files)} NPZ files ready for processing\")\n",
    "    for i, file_path in enumerate(npz_files[:5], 1):  # Show first 5 files\n",
    "        print(f\"   {i}. {Path(file_path).name}\")\n",
    "    if len(npz_files) > 5:\n",
    "        print(f\"   ... and {len(npz_files) - 5} more files\")\n",
    "\n",
    "# Processing parameters\n",
    "processing_params = {\n",
    "    'max_workers': 8,  # Number of parallel processes (adjust based on your system)\n",
    "    'save_visualizations': False,\n",
    "    'save_detailed_stats': True,\n",
    "    'create_summary_report': True,\n",
    "    'log_individual_files': True\n",
    "}\n",
    "\n",
    "batch_logger.info(f\"⚙️  Processing parameters: {processing_params}\")\n",
    "print(f\"\\n⚙️  Processing Parameters:\")\n",
    "for key, value in processing_params.items():\n",
    "    print(f\"   - {key}: {value}\")"
   ]
  },
  {
   "cell_type": "markdown",
   "id": "1a1812e5",
   "metadata": {},
   "source": [
    "(OPTIONAL) : This will process files from a csv file if provided, otherwise it will process all files in the specified folder.\n"
   ]
  },
  {
   "cell_type": "code",
   "execution_count": 15,
   "id": "8095b196",
   "metadata": {},
   "outputs": [
    {
     "name": "stderr",
     "output_type": "stream",
     "text": [
      "INFO: 📂 Using CSV file for NPZ keys: npz_keys_summary.csv\n",
      "2025-06-20 18:30:45,017 - batch_processor - INFO - 📂 Using CSV file for NPZ keys: npz_keys_summary.csv\n"
     ]
    },
    {
     "name": "stdout",
     "output_type": "stream",
     "text": [
      "npz_files loaded from CSV: 1051 files\n"
     ]
    },
    {
     "name": "stderr",
     "output_type": "stream",
     "text": [
      "INFO: 📊 Final NPZ files to process: 1051\n",
      "2025-06-20 18:34:38,471 - batch_processor - INFO - 📊 Final NPZ files to process: 1051\n"
     ]
    }
   ],
   "source": [
    "RUN_CSV_FOLDERNAME = True\n",
    "\n",
    "if RUN_CSV_FOLDERNAME:\n",
    "    # Create CSV folder if it doesn't exist\n",
    "    csv_file = \"npz_keys_summary.csv\"\n",
    "    files = pd.read_csv(csv_file, index_col=0)\n",
    "    npz_files = files.index.tolist()  # Use index as file paths\n",
    "    batch_logger.info(f\"📂 Using CSV file for NPZ keys: {csv_file}\")\n",
    "    print(f\"npz_files loaded from CSV: {len(npz_files)} files\")\n",
    "\n",
    "    # check if the csv file has a 'labels' as column 3(Key_2) print the count of key_3 if that is not labels and remove it from npz_files\n",
    "    for i, file in enumerate(npz_files):\n",
    "        data = np.load(file, allow_pickle=True)\n",
    "        if 'labels' not in data.keys():\n",
    "            batch_logger.warning(f\"❌ File {file} does not contain 'labels' key, removing from processing list\")\n",
    "            npz_files.pop(i)\n",
    "    batch_logger.info(f\"📊 Final NPZ files to process: {len(npz_files)}\")"
   ]
  },
  {
   "cell_type": "markdown",
   "id": "e7d5c0f4",
   "metadata": {},
   "source": [
    "## 5. Execute Batch Processing\n",
    "\n",
    "Run the batch processor on all NPZ files with comprehensive progress tracking and error handling.\n",
    "\n",
    "### Processing Features:\n",
    "- **Progress Tracking**: Real-time progress bars and time estimates\n",
    "- **Error Handling**: Continue processing even if individual files fail\n",
    "- **Parallel Processing**: Process multiple files simultaneously (if enabled)\n",
    "- **Detailed Logging**: Track all operations and results\n",
    "- **Organized Output**: Structured directory hierarchy for results"
   ]
  },
  {
   "cell_type": "code",
   "execution_count": 18,
   "id": "abaf697d",
   "metadata": {},
   "outputs": [
    {
     "name": "stderr",
     "output_type": "stream",
     "text": [
      "INFO: 🚀 Starting batch processing of 1051 files\n",
      "2025-06-20 18:36:34,160 - batch_processor - INFO - 🚀 Starting batch processing of 1051 files\n",
      "INFO: ⚙️  Processing parameters: {'max_workers': 8, 'save_visualizations': False, 'save_detailed_stats': True, 'create_summary_report': True, 'log_individual_files': True}\n",
      "2025-06-20 18:36:34,161 - batch_processor - INFO - ⚙️  Processing parameters: {'max_workers': 8, 'save_visualizations': False, 'save_detailed_stats': True, 'create_summary_report': True, 'log_individual_files': True}\n"
     ]
    },
    {
     "name": "stdout",
     "output_type": "stream",
     "text": [
      "\n",
      "🚀 Processing 1051 NPZ files...\n",
      "📂 Input: /mnt/home/dchhantyal/centroid_model_blastospim/data/raw/Blast\n",
      "📁 Output: /mnt/home/dchhantyal/centroid_model_blastospim/data/labels/Blast\n",
      "⚙️  Max workers: 8\n",
      "🎨 Visualizations: Disabled\n",
      "📊 Detailed stats: Enabled\n",
      "📋 Summary report: Enabled\n",
      "🔄 Parallel processing: Enabled\n",
      "\n",
      "============================================================\n",
      "✅ Batch processing initialized successfully!\n",
      "🔧 Configuration applied based on processing parameters\n"
     ]
    }
   ],
   "source": [
    "# Execute batch processing - Part 1: Initialization and Setup\n",
    "if len(npz_files) > 0:\n",
    "    batch_logger.info(f\"🚀 Starting batch processing of {len(npz_files)} files\")\n",
    "    batch_logger.info(f\"⚙️  Processing parameters: {processing_params}\")\n",
    "    start_time = time.time()\n",
    "    \n",
    "    # Import for parallel processing\n",
    "    from concurrent.futures import ThreadPoolExecutor, as_completed\n",
    "    \n",
    "    # Run batch processing with efficient parallel processing\n",
    "    print(f\"\\n🚀 Processing {len(npz_files)} NPZ files...\")\n",
    "    print(f\"📂 Input: {input_folder}\")\n",
    "    print(f\"📁 Output: {output_root}\")\n",
    "    print(f\"⚙️  Max workers: {processing_params['max_workers']}\")\n",
    "    print(f\"🎨 Visualizations: {'Enabled' if processing_params['save_visualizations'] else 'Disabled'}\")\n",
    "    print(f\"📊 Detailed stats: {'Enabled' if processing_params['save_detailed_stats'] else 'Disabled'}\")\n",
    "    print(f\"📋 Summary report: {'Enabled' if processing_params['create_summary_report'] else 'Disabled'}\")\n",
    "    print(f\"🔄 Parallel processing: {'Enabled' if processing_params['max_workers'] > 1 else 'Sequential'}\")\n",
    "    print(\"\\n\" + \"=\"*60)\n",
    "    \n",
    "    # Configure batch processor based on processing_params before processing\n",
    "    if not processing_params['save_visualizations']:\n",
    "        # Temporarily disable visualization in config if not wanted\n",
    "        original_viz_setting = batch_processor.config_manager.get(\"visualization.enabled\", True)\n",
    "        batch_processor.config_manager.set(\"visualization.enabled\", False)\n",
    "    \n",
    "    print(\"✅ Batch processing initialized successfully!\")\n",
    "    print(\"🔧 Configuration applied based on processing parameters\")\n",
    "    \n",
    "else:\n",
    "    print(\"⏭️  Skipping batch processing - no NPZ files found\")\n",
    "    print(\"💡 Add NPZ files to the input directory and re-run this cell\")\n",
    "    print(f\"🔧 Current processing parameters: {processing_params}\")\n",
    "    batch_results = None\n",
    "    batch_processing_summary = None"
   ]
  },
  {
   "cell_type": "code",
   "execution_count": 19,
   "id": "d379091e",
   "metadata": {},
   "outputs": [
    {
     "name": "stdout",
     "output_type": "stream",
     "text": [
      "✅ Worker function defined with improved visualization handling\n",
      "🔧 Each worker will create its own processor instance with proper configuration\n",
      "📊 Thread identification enabled for better progress tracking\n",
      "🎨 Visualization saving fixed - using config defaults instead of custom output directory\n",
      "🖼️  Matplotlib backend set to 'Agg' for thread-safe visualization\n",
      "🧹 Added automatic cleanup of matplotlib figures to prevent memory leaks\n"
     ]
    }
   ],
   "source": [
    "# Execute batch processing - Part 2: Define Worker Function\n",
    "if len(npz_files) > 0:\n",
    "    import threading\n",
    "    import matplotlib\n",
    "    import matplotlib.pyplot as plt\n",
    "    import warnings\n",
    "\n",
    "    # Define the worker function for parallel processing\n",
    "    def process_single_npz_file(npz_file_path):\n",
    "        \"\"\"Process a single NPZ file - designed for parallel execution with thread identification\"\"\"\n",
    "        thread_id = threading.current_thread().ident\n",
    "        worker_name = f\"Worker-{thread_id}\"\n",
    "\n",
    "        try:\n",
    "            # Set matplotlib backend for thread safety - CRITICAL for parallel processing\n",
    "            matplotlib.use('Agg', force=True)  # Use non-interactive backend\n",
    "            plt.ioff()  # Turn off interactive mode\n",
    "            warnings.filterwarnings('ignore', category=UserWarning, module='matplotlib')\n",
    "\n",
    "            # Use the shared batch processor configuration but let it handle output directories automatically\n",
    "            # This ensures proper visualization saving without directory conflicts\n",
    "            local_processor = CentroidBatchProcessor(\n",
    "                config_path=str(config_path), \n",
    "                # output_base_dir=output_root,\n",
    "            )\n",
    "\n",
    "            file_path = Path(npz_file_path)\n",
    "            filename = file_path.stem\n",
    "\n",
    "\n",
    "            # Use thread-safe logging with worker identification\n",
    "            if 'worker_logger' in globals():\n",
    "                worker_logger.info(f\"🔄 [{worker_name}] Starting: {filename}\")\n",
    "            else:\n",
    "                # Fallback to batch logger if worker logger not available\n",
    "                batch_logger.info(f\"🔄 Processing {filename} on {worker_name}...\")\n",
    "\n",
    "            # Process the single file with explicit visualization setting\n",
    "            result = local_processor.process_single_file(\n",
    "                input_file=str(file_path),\n",
    "                create_visualization=processing_params[\"save_visualizations\"],\n",
    "            )\n",
    "\n",
    "            # Force cleanup of matplotlib figures to prevent memory leaks\n",
    "            plt.close('all')\n",
    "\n",
    "            # Success logging with additional file info\n",
    "            if 'worker_logger' in globals():\n",
    "                worker_logger.info(f\"✅ [{worker_name}] Completed: {filename}\")\n",
    "                if 'output_paths' in result:\n",
    "                    worker_logger.info(f\"📁 [{worker_name}] Output: {result['output_paths']['main_dir']}\")\n",
    "                    # Check if visualization was actually created\n",
    "                    viz_path = result['output_paths']['visualization_dir'] / 'comprehensive_analysis.png'\n",
    "                    if viz_path.exists():\n",
    "                        worker_logger.info(f\"🎨 [{worker_name}] Visualization saved: {viz_path}\")\n",
    "                    else:\n",
    "                        worker_logger.warning(f\"⚠️  [{worker_name}] Visualization not found: {viz_path}\")\n",
    "            else:\n",
    "                batch_logger.info(f\"✅ Completed {filename}\")\n",
    "\n",
    "            return result\n",
    "\n",
    "        except Exception as e:\n",
    "            # Clean up matplotlib on error\n",
    "            plt.close('all')\n",
    "\n",
    "            # Error logging with thread identification\n",
    "            error_msg = f\"❌ [{worker_name}] Failed {Path(npz_file_path).name}: {str(e)}\"\n",
    "\n",
    "            if 'worker_logger' in globals():\n",
    "                worker_logger.error(error_msg)\n",
    "            else:\n",
    "                batch_logger.error(error_msg)\n",
    "\n",
    "            return {\n",
    "                'filename': Path(npz_file_path).stem,\n",
    "                'status': 'error',\n",
    "                'error': str(e),\n",
    "                'worker': worker_name\n",
    "            }\n",
    "\n",
    "    print(\"✅ Worker function defined with improved visualization handling\")\n",
    "    print(\"🔧 Each worker will create its own processor instance with proper configuration\")\n",
    "    print(\"📊 Thread identification enabled for better progress tracking\")\n",
    "    print(\"🎨 Visualization saving fixed - using config defaults instead of custom output directory\")\n",
    "    print(\"🖼️  Matplotlib backend set to 'Agg' for thread-safe visualization\")\n",
    "    print(\"🧹 Added automatic cleanup of matplotlib figures to prevent memory leaks\")\n",
    "\n",
    "else:\n",
    "    print(\"⏭️  Skipping worker function definition - no NPZ files found\")"
   ]
  },
  {
   "cell_type": "code",
   "execution_count": null,
   "id": "539ca667",
   "metadata": {},
   "outputs": [
    {
     "name": "stderr",
     "output_type": "stream",
     "text": [
      "2025-06-20 18:36:56,251 - src.preprocessing.centroid_batch_processor - INFO - Using voxel spacing from config: Z=2.0µm, Y=0.208µm, X=0.208µm\n"
     ]
    },
    {
     "name": "stdout",
     "output_type": "stream",
     "text": [
      "🔄 Starting parallel processing with 8 workers...\n",
      "📊 Progress tracking with thread identification enabled\n",
      "--------------------------------------------------------------------------------\n",
      "18:36:56 - [Worker-23454875105024] - INFO - 🔄 [Worker-23454875105024] Starting: H6_11\n"
     ]
    },
    {
     "name": "stderr",
     "output_type": "stream",
     "text": [
      "2025-06-20 18:36:56,251 - src.preprocessing.centroid_batch_processor - INFO - Using voxel spacing from config: Z=2.0µm, Y=0.208µm, X=0.208µm\n"
     ]
    },
    {
     "name": "stdout",
     "output_type": "stream",
     "text": [
      "18:36:56 - [Worker-23454843639552] - INFO - 🔄 [Worker-23454843639552] Starting: H6_016\n"
     ]
    },
    {
     "name": "stderr",
     "output_type": "stream",
     "text": [
      "2025-06-20 18:36:56,252 - src.preprocessing.centroid_batch_processor - INFO - Using voxel spacing from config: Z=2.0µm, Y=0.208µm, X=0.208µm\n",
      "2025-06-20 18:36:56,252 - src.preprocessing.centroid_batch_processor - INFO - Using voxel spacing from config: Z=2.0µm, Y=0.208µm, X=0.208µm\n"
     ]
    },
    {
     "name": "stdout",
     "output_type": "stream",
     "text": [
      "18:36:56 - [Worker-23454958307072] - INFO - 🔄 [Worker-23454958307072] Starting: H6_015\n",
      "18:36:56 - [Worker-23454883510016] - INFO - 🔄 [Worker-23454883510016] Starting: H6_18\n"
     ]
    },
    {
     "name": "stderr",
     "output_type": "stream",
     "text": [
      "2025-06-20 18:36:56,253 - src.preprocessing.centroid_batch_processor - INFO - Using voxel spacing from config: Z=2.0µm, Y=0.208µm, X=0.208µm\n"
     ]
    },
    {
     "name": "stdout",
     "output_type": "stream",
     "text": [
      "18:36:56 - [Worker-23454956205824] - INFO - 🔄 [Worker-23454956205824] Starting: H6_019\n"
     ]
    },
    {
     "name": "stderr",
     "output_type": "stream",
     "text": [
      "2025-06-20 18:36:56,253 - src.preprocessing.centroid_batch_processor - INFO - Using voxel spacing from config: Z=2.0µm, Y=0.208µm, X=0.208µm\n"
     ]
    },
    {
     "name": "stdout",
     "output_type": "stream",
     "text": [
      "18:36:56 - [Worker-23454954104576] - INFO - 🔄 [Worker-23454954104576] Starting: H6_19\n"
     ]
    },
    {
     "name": "stderr",
     "output_type": "stream",
     "text": [
      "2025-06-20 18:36:56,253 - worker_processor - INFO - 🔄 [Worker-23454875105024] Starting: H6_11\n",
      "2025-06-20 18:36:56,254 - worker_processor - INFO - 🔄 [Worker-23454843639552] Starting: H6_016\n",
      "2025-06-20 18:36:56,267 - worker_processor - INFO - 🔄 [Worker-23454958307072] Starting: H6_015\n",
      "2025-06-20 18:36:56,269 - src.preprocessing.centroid_batch_processor - INFO - Using voxel spacing from config: Z=2.0µm, Y=0.208µm, X=0.208µm\n"
     ]
    },
    {
     "name": "stdout",
     "output_type": "stream",
     "text": [
      "18:36:56 - [Worker-23454881408768] - INFO - 🔄 [Worker-23454881408768] Starting: H6_013\n"
     ]
    },
    {
     "name": "stderr",
     "output_type": "stream",
     "text": [
      "2025-06-20 18:36:56,269 - src.preprocessing.centroid_batch_processor - INFO - Using voxel spacing from config: Z=2.0µm, Y=0.208µm, X=0.208µm\n"
     ]
    },
    {
     "name": "stdout",
     "output_type": "stream",
     "text": [
      "18:36:56 - [Worker-23454877206272] - INFO - 🔄 [Worker-23454877206272] Starting: H6_20\n"
     ]
    },
    {
     "name": "stderr",
     "output_type": "stream",
     "text": [
      "2025-06-20 18:36:56,269 - worker_processor - INFO - 🔄 [Worker-23454883510016] Starting: H6_18\n",
      "2025-06-20 18:36:56,270 - worker_processor - INFO - 🔄 [Worker-23454956205824] Starting: H6_019\n",
      "2025-06-20 18:36:56,271 - src.preprocessing.centroid_batch_processor - INFO - Processing file: H6_11\n",
      "2025-06-20 18:36:56,270 - worker_processor - INFO - 🔄 [Worker-23454954104576] Starting: H6_19\n",
      "2025-06-20 18:36:56,279 - src.preprocessing.centroid_batch_processor - INFO - Processing file: H6_19\n",
      "2025-06-20 18:36:56,274 - src.preprocessing.centroid_batch_processor - INFO - Processing file: H6_015\n",
      "2025-06-20 18:36:56,275 - worker_processor - INFO - 🔄 [Worker-23454881408768] Starting: H6_013\n",
      "2025-06-20 18:36:56,276 - src.preprocessing.centroid_batch_processor - INFO - Processing file: H6_18\n",
      "2025-06-20 18:36:56,276 - worker_processor - INFO - 🔄 [Worker-23454877206272] Starting: H6_20\n",
      "2025-06-20 18:36:56,278 - src.preprocessing.centroid_batch_processor - INFO - Processing file: H6_019\n",
      "2025-06-20 18:36:56,272 - src.preprocessing.centroid_batch_processor - INFO - Processing file: H6_016\n",
      "2025-06-20 18:36:56,281 - src.preprocessing.centroid_batch_processor - INFO - Processing file: H6_013\n",
      "2025-06-20 18:36:56,282 - src.preprocessing.centroid_batch_processor - INFO - Processing file: H6_20\n",
      "2025-06-20 18:36:56,284 - src.preprocessing.centroid_batch_processor - INFO - Loading data from: /mnt/home/dchhantyal/centroid_model_blastospim/data/raw/H6/H6_11.npz\n",
      "2025-06-20 18:36:56,285 - src.preprocessing.centroid_batch_processor - INFO - Loading data from: /mnt/home/dchhantyal/centroid_model_blastospim/data/raw/H6/H6_18.npz\n",
      "2025-06-20 18:36:56,287 - src.preprocessing.centroid_batch_processor - INFO - Loading data from: /mnt/home/dchhantyal/centroid_model_blastospim/data/raw/H6/H6_013.npz\n",
      "2025-06-20 18:36:56,288 - src.preprocessing.centroid_batch_processor - INFO - Loading data from: /mnt/home/dchhantyal/centroid_model_blastospim/data/raw/H6/H6_19.npz\n",
      "2025-06-20 18:36:56,288 - src.preprocessing.centroid_batch_processor - INFO - Loading data from: /mnt/home/dchhantyal/centroid_model_blastospim/data/raw/H6/H6_015.npz\n",
      "2025-06-20 18:36:56,289 - src.preprocessing.centroid_batch_processor - INFO - Loading data from: /mnt/home/dchhantyal/centroid_model_blastospim/data/raw/H6/H6_019.npz\n",
      "2025-06-20 18:36:56,289 - src.preprocessing.centroid_batch_processor - INFO - Loading data from: /mnt/home/dchhantyal/centroid_model_blastospim/data/raw/H6/H6_016.npz\n",
      "2025-06-20 18:36:56,290 - src.preprocessing.centroid_batch_processor - INFO - Loading data from: /mnt/home/dchhantyal/centroid_model_blastospim/data/raw/H6/H6_20.npz\n",
      "2025-06-20 18:36:58,314 - src.preprocessing.centroid_batch_processor - INFO - Volume shape: (64, 1564, 1087)\n",
      "2025-06-20 18:36:58,314 - src.preprocessing.centroid_batch_processor - INFO - Mask shape: (64, 1564, 1087)\n",
      "2025-06-20 18:36:58,403 - src.preprocessing.centroid_batch_processor - INFO - Volume shape: (71, 1564, 1087)\n",
      "2025-06-20 18:36:58,403 - src.preprocessing.centroid_batch_processor - INFO - Mask shape: (71, 1564, 1087)\n",
      "2025-06-20 18:36:58,563 - src.preprocessing.centroid_batch_processor - INFO - Volume shape: (64, 1564, 1087)\n",
      "2025-06-20 18:36:58,564 - src.preprocessing.centroid_batch_processor - INFO - Mask shape: (64, 1564, 1087)\n",
      "2025-06-20 18:36:58,606 - src.preprocessing.centroid_batch_processor - INFO - Volume shape: (71, 1564, 1087)\n",
      "2025-06-20 18:36:58,609 - src.preprocessing.centroid_batch_processor - INFO - Mask shape: (71, 1564, 1087)\n",
      "2025-06-20 18:36:58,820 - src.preprocessing.centroid_batch_processor - INFO - Volume shape: (71, 1564, 1087)\n",
      "2025-06-20 18:36:58,836 - src.preprocessing.centroid_batch_processor - INFO - Mask shape: (71, 1564, 1087)\n",
      "2025-06-20 18:36:59,052 - src.preprocessing.centroid_batch_processor - INFO - Volume shape: (71, 1564, 1087)\n",
      "2025-06-20 18:36:59,072 - src.preprocessing.centroid_batch_processor - INFO - Mask shape: (71, 1564, 1087)\n",
      "2025-06-20 18:36:59,175 - src.preprocessing.centroid_batch_processor - INFO - Volume shape: (64, 1564, 1087)\n",
      "2025-06-20 18:36:59,182 - src.preprocessing.centroid_batch_processor - INFO - Mask shape: (64, 1564, 1087)\n",
      "2025-06-20 18:36:59,841 - src.preprocessing.centroid_batch_processor - INFO - Volume shape: (64, 1564, 1087)\n",
      "2025-06-20 18:36:59,860 - src.preprocessing.centroid_batch_processor - INFO - Mask shape: (64, 1564, 1087)\n",
      "2025-06-20 18:37:01,093 - src.preprocessing.centroid_batch_processor - INFO - Number of objects: 8\n",
      "2025-06-20 18:37:01,093 - src.preprocessing.centroid_batch_processor - INFO - Number of objects: 8\n",
      "2025-06-20 18:37:01,558 - src.preprocessing.centroid_batch_processor - INFO - Number of objects: 8\n",
      "2025-06-20 18:37:01,706 - src.preprocessing.centroid_batch_processor - INFO - Number of objects: 8\n",
      "2025-06-20 18:37:01,817 - src.preprocessing.centroid_batch_processor - INFO - Number of objects: 8\n",
      "2025-06-20 18:37:01,849 - src.preprocessing.centroid_batch_processor - INFO - Number of objects: 8\n",
      "2025-06-20 18:37:01,994 - src.preprocessing.centroid_batch_processor - INFO - Number of objects: 8\n",
      "2025-06-20 18:37:02,410 - src.preprocessing.centroid_batch_processor - INFO - Number of objects: 8\n",
      "2025-06-20 18:37:05,277 - src.preprocessing.centroid_batch_processor - INFO - Saved label data to: /mnt/home/dchhantyal/centroid_model_blastospim/data/labels/Blast/label_H6_19/data/label.npz\n",
      "2025-06-20 18:37:06,175 - src.preprocessing.centroid_batch_processor - INFO - Saved label data to: /mnt/home/dchhantyal/centroid_model_blastospim/data/labels/Blast/label_H6_18/data/label.npz\n",
      "2025-06-20 18:37:06,729 - src.preprocessing.centroid_batch_processor - INFO - Saved label data to: /mnt/home/dchhantyal/centroid_model_blastospim/data/labels/Blast/label_H6_019/data/label.npz\n",
      "2025-06-20 18:37:06,794 - src.preprocessing.centroid_batch_processor - INFO - Saved label data to: /mnt/home/dchhantyal/centroid_model_blastospim/data/labels/Blast/label_H6_20/data/label.npz\n",
      "2025-06-20 18:37:06,892 - src.preprocessing.centroid_batch_processor - INFO - Saved label data to: /mnt/home/dchhantyal/centroid_model_blastospim/data/labels/Blast/label_H6_016/data/label.npz\n",
      "2025-06-20 18:37:06,950 - src.preprocessing.centroid_batch_processor - INFO - Saved label data to: /mnt/home/dchhantyal/centroid_model_blastospim/data/labels/Blast/label_H6_11/data/label.npz\n",
      "2025-06-20 18:37:07,449 - src.preprocessing.centroid_batch_processor - INFO - Saved label data to: /mnt/home/dchhantyal/centroid_model_blastospim/data/labels/Blast/label_H6_015/data/label.npz\n",
      "2025-06-20 18:37:07,648 - src.preprocessing.centroid_batch_processor - INFO - Saved label data to: /mnt/home/dchhantyal/centroid_model_blastospim/data/labels/Blast/label_H6_013/data/label.npz\n",
      "2025-06-20 18:37:08,987 - src.preprocessing.centroid_batch_processor - INFO - Successfully processed H6_19\n"
     ]
    },
    {
     "name": "stdout",
     "output_type": "stream",
     "text": [
      "18:37:08 - [Worker-23454954104576] - INFO - ✅ [Worker-23454954104576] Completed: H6_19\n"
     ]
    },
    {
     "name": "stderr",
     "output_type": "stream",
     "text": [
      "2025-06-20 18:37:08,989 - worker_processor - INFO - ✅ [Worker-23454954104576] Completed: H6_19\n"
     ]
    },
    {
     "name": "stdout",
     "output_type": "stream",
     "text": [
      "18:37:08 - [Worker-23454954104576] - INFO - 📁 [Worker-23454954104576] Output: /mnt/home/dchhantyal/centroid_model_blastospim/data/labels/Blast/label_H6_19\n"
     ]
    },
    {
     "name": "stderr",
     "output_type": "stream",
     "text": [
      "2025-06-20 18:37:08,991 - worker_processor - INFO - 📁 [Worker-23454954104576] Output: /mnt/home/dchhantyal/centroid_model_blastospim/data/labels/Blast/label_H6_19\n"
     ]
    },
    {
     "name": "stdout",
     "output_type": "stream",
     "text": [
      "18:37:08 - [Worker-23454954104576] - WARNING - ⚠️  [Worker-23454954104576] Visualization not found: /mnt/home/dchhantyal/centroid_model_blastospim/data/labels/Blast/label_H6_19/visualizations/comprehensive_analysis.png\n"
     ]
    },
    {
     "name": "stderr",
     "output_type": "stream",
     "text": [
      "2025-06-20 18:37:08,993 - worker_processor - WARNING - ⚠️  [Worker-23454954104576] Visualization not found: /mnt/home/dchhantyal/centroid_model_blastospim/data/labels/Blast/label_H6_19/visualizations/comprehensive_analysis.png\n",
      "2025-06-20 18:37:09,006 - src.preprocessing.centroid_batch_processor - INFO - Using voxel spacing from config: Z=2.0µm, Y=0.208µm, X=0.208µm\n"
     ]
    },
    {
     "name": "stdout",
     "output_type": "stream",
     "text": [
      "✅ [ 1/1051] (  0.1%) | ETA: 13459.2s | H6_19.npz\n",
      "18:37:09 - [Worker-23454954104576] - INFO - 🔄 [Worker-23454954104576] Starting: H6_21\n"
     ]
    },
    {
     "name": "stderr",
     "output_type": "stream",
     "text": [
      "2025-06-20 18:37:09,008 - worker_processor - INFO - 🔄 [Worker-23454954104576] Starting: H6_21\n",
      "2025-06-20 18:37:09,012 - src.preprocessing.centroid_batch_processor - INFO - Processing file: H6_21\n",
      "2025-06-20 18:37:09,020 - src.preprocessing.centroid_batch_processor - INFO - Loading data from: /mnt/home/dchhantyal/centroid_model_blastospim/data/raw/H6/H6_21.npz\n",
      "2025-06-20 18:37:09,872 - src.preprocessing.centroid_batch_processor - INFO - Successfully processed H6_019\n"
     ]
    },
    {
     "name": "stdout",
     "output_type": "stream",
     "text": [
      "18:37:09 - [Worker-23454956205824] - INFO - ✅ [Worker-23454956205824] Completed: H6_019\n"
     ]
    },
    {
     "name": "stderr",
     "output_type": "stream",
     "text": [
      "2025-06-20 18:37:09,874 - worker_processor - INFO - ✅ [Worker-23454956205824] Completed: H6_019\n"
     ]
    },
    {
     "name": "stdout",
     "output_type": "stream",
     "text": [
      "18:37:09 - [Worker-23454956205824] - INFO - 📁 [Worker-23454956205824] Output: /mnt/home/dchhantyal/centroid_model_blastospim/data/labels/Blast/label_H6_019\n"
     ]
    },
    {
     "name": "stderr",
     "output_type": "stream",
     "text": [
      "2025-06-20 18:37:09,875 - worker_processor - INFO - 📁 [Worker-23454956205824] Output: /mnt/home/dchhantyal/centroid_model_blastospim/data/labels/Blast/label_H6_019\n"
     ]
    },
    {
     "name": "stdout",
     "output_type": "stream",
     "text": [
      "18:37:09 - [Worker-23454956205824] - WARNING - ⚠️  [Worker-23454956205824] Visualization not found: /mnt/home/dchhantyal/centroid_model_blastospim/data/labels/Blast/label_H6_019/visualizations/comprehensive_analysis.png\n"
     ]
    },
    {
     "name": "stderr",
     "output_type": "stream",
     "text": [
      "2025-06-20 18:37:09,876 - worker_processor - WARNING - ⚠️  [Worker-23454956205824] Visualization not found: /mnt/home/dchhantyal/centroid_model_blastospim/data/labels/Blast/label_H6_019/visualizations/comprehensive_analysis.png\n",
      "2025-06-20 18:37:09,884 - src.preprocessing.centroid_batch_processor - INFO - Using voxel spacing from config: Z=2.0µm, Y=0.208µm, X=0.208µm\n"
     ]
    },
    {
     "name": "stdout",
     "output_type": "stream",
     "text": [
      "✅ [ 2/1051] (  0.2%) | ETA: 7180.5s | H6_019.npz\n",
      "18:37:09 - [Worker-23454956205824] - INFO - 🔄 [Worker-23454956205824] Starting: H6_17\n"
     ]
    },
    {
     "name": "stderr",
     "output_type": "stream",
     "text": [
      "2025-06-20 18:37:09,887 - worker_processor - INFO - 🔄 [Worker-23454956205824] Starting: H6_17\n",
      "2025-06-20 18:37:09,890 - src.preprocessing.centroid_batch_processor - INFO - Processing file: H6_17\n",
      "2025-06-20 18:37:09,903 - src.preprocessing.centroid_batch_processor - INFO - Loading data from: /mnt/home/dchhantyal/centroid_model_blastospim/data/raw/H6/H6_17.npz\n",
      "2025-06-20 18:37:09,962 - src.preprocessing.centroid_batch_processor - INFO - Successfully processed H6_18\n"
     ]
    },
    {
     "name": "stdout",
     "output_type": "stream",
     "text": [
      "18:37:09 - [Worker-23454883510016] - INFO - ✅ [Worker-23454883510016] Completed: H6_18\n"
     ]
    },
    {
     "name": "stderr",
     "output_type": "stream",
     "text": [
      "2025-06-20 18:37:09,964 - worker_processor - INFO - ✅ [Worker-23454883510016] Completed: H6_18\n"
     ]
    },
    {
     "name": "stdout",
     "output_type": "stream",
     "text": [
      "18:37:09 - [Worker-23454883510016] - INFO - 📁 [Worker-23454883510016] Output: /mnt/home/dchhantyal/centroid_model_blastospim/data/labels/Blast/label_H6_18\n"
     ]
    },
    {
     "name": "stderr",
     "output_type": "stream",
     "text": [
      "2025-06-20 18:37:09,966 - worker_processor - INFO - 📁 [Worker-23454883510016] Output: /mnt/home/dchhantyal/centroid_model_blastospim/data/labels/Blast/label_H6_18\n"
     ]
    },
    {
     "name": "stdout",
     "output_type": "stream",
     "text": [
      "18:37:09 - [Worker-23454883510016] - WARNING - ⚠️  [Worker-23454883510016] Visualization not found: /mnt/home/dchhantyal/centroid_model_blastospim/data/labels/Blast/label_H6_18/visualizations/comprehensive_analysis.png\n"
     ]
    },
    {
     "name": "stderr",
     "output_type": "stream",
     "text": [
      "2025-06-20 18:37:09,968 - worker_processor - WARNING - ⚠️  [Worker-23454883510016] Visualization not found: /mnt/home/dchhantyal/centroid_model_blastospim/data/labels/Blast/label_H6_18/visualizations/comprehensive_analysis.png\n",
      "2025-06-20 18:37:09,990 - src.preprocessing.centroid_batch_processor - INFO - Using voxel spacing from config: Z=2.0µm, Y=0.208µm, X=0.208µm\n"
     ]
    },
    {
     "name": "stdout",
     "output_type": "stream",
     "text": [
      "✅ [ 3/1051] (  0.3%) | ETA: 4817.1s | H6_18.npz\n",
      "18:37:09 - [Worker-23454883510016] - INFO - 🔄 [Worker-23454883510016] Starting: H6_020\n"
     ]
    },
    {
     "name": "stderr",
     "output_type": "stream",
     "text": [
      "2025-06-20 18:37:09,992 - worker_processor - INFO - 🔄 [Worker-23454883510016] Starting: H6_020\n",
      "2025-06-20 18:37:09,994 - src.preprocessing.centroid_batch_processor - INFO - Processing file: H6_020\n",
      "2025-06-20 18:37:10,002 - src.preprocessing.centroid_batch_processor - INFO - Loading data from: /mnt/home/dchhantyal/centroid_model_blastospim/data/raw/H6/H6_020.npz\n",
      "2025-06-20 18:37:10,141 - src.preprocessing.centroid_batch_processor - INFO - Successfully processed H6_016\n"
     ]
    },
    {
     "name": "stdout",
     "output_type": "stream",
     "text": [
      "18:37:10 - [Worker-23454843639552] - INFO - ✅ [Worker-23454843639552] Completed: H6_016\n"
     ]
    },
    {
     "name": "stderr",
     "output_type": "stream",
     "text": [
      "2025-06-20 18:37:10,144 - worker_processor - INFO - ✅ [Worker-23454843639552] Completed: H6_016\n"
     ]
    },
    {
     "name": "stdout",
     "output_type": "stream",
     "text": [
      "18:37:10 - [Worker-23454843639552] - INFO - 📁 [Worker-23454843639552] Output: /mnt/home/dchhantyal/centroid_model_blastospim/data/labels/Blast/label_H6_016\n"
     ]
    },
    {
     "name": "stderr",
     "output_type": "stream",
     "text": [
      "2025-06-20 18:37:10,157 - worker_processor - INFO - 📁 [Worker-23454843639552] Output: /mnt/home/dchhantyal/centroid_model_blastospim/data/labels/Blast/label_H6_016\n"
     ]
    },
    {
     "name": "stdout",
     "output_type": "stream",
     "text": [
      "18:37:10 - [Worker-23454843639552] - WARNING - ⚠️  [Worker-23454843639552] Visualization not found: /mnt/home/dchhantyal/centroid_model_blastospim/data/labels/Blast/label_H6_016/visualizations/comprehensive_analysis.png\n"
     ]
    },
    {
     "name": "stderr",
     "output_type": "stream",
     "text": [
      "2025-06-20 18:37:10,158 - worker_processor - WARNING - ⚠️  [Worker-23454843639552] Visualization not found: /mnt/home/dchhantyal/centroid_model_blastospim/data/labels/Blast/label_H6_016/visualizations/comprehensive_analysis.png\n"
     ]
    },
    {
     "name": "stdout",
     "output_type": "stream",
     "text": [
      "✅ [ 4/1051] (  0.4%) | ETA: 3657.4s | H6_016.npz\n"
     ]
    },
    {
     "name": "stderr",
     "output_type": "stream",
     "text": [
      "2025-06-20 18:37:10,167 - src.preprocessing.centroid_batch_processor - INFO - Using voxel spacing from config: Z=2.0µm, Y=0.208µm, X=0.208µm\n"
     ]
    },
    {
     "name": "stdout",
     "output_type": "stream",
     "text": [
      "18:37:10 - [Worker-23454843639552] - INFO - 🔄 [Worker-23454843639552] Starting: H6_012\n"
     ]
    },
    {
     "name": "stderr",
     "output_type": "stream",
     "text": [
      "2025-06-20 18:37:10,168 - worker_processor - INFO - 🔄 [Worker-23454843639552] Starting: H6_012\n",
      "2025-06-20 18:37:10,169 - src.preprocessing.centroid_batch_processor - INFO - Processing file: H6_012\n",
      "2025-06-20 18:37:10,175 - src.preprocessing.centroid_batch_processor - INFO - Loading data from: /mnt/home/dchhantyal/centroid_model_blastospim/data/raw/H6/H6_012.npz\n",
      "2025-06-20 18:37:10,191 - src.preprocessing.centroid_batch_processor - INFO - Successfully processed H6_20\n"
     ]
    },
    {
     "name": "stdout",
     "output_type": "stream",
     "text": [
      "18:37:10 - [Worker-23454877206272] - INFO - ✅ [Worker-23454877206272] Completed: H6_20\n"
     ]
    },
    {
     "name": "stderr",
     "output_type": "stream",
     "text": [
      "2025-06-20 18:37:10,204 - worker_processor - INFO - ✅ [Worker-23454877206272] Completed: H6_20\n"
     ]
    },
    {
     "name": "stdout",
     "output_type": "stream",
     "text": [
      "18:37:10 - [Worker-23454877206272] - INFO - 📁 [Worker-23454877206272] Output: /mnt/home/dchhantyal/centroid_model_blastospim/data/labels/Blast/label_H6_20\n"
     ]
    },
    {
     "name": "stderr",
     "output_type": "stream",
     "text": [
      "2025-06-20 18:37:10,205 - worker_processor - INFO - 📁 [Worker-23454877206272] Output: /mnt/home/dchhantyal/centroid_model_blastospim/data/labels/Blast/label_H6_20\n"
     ]
    },
    {
     "name": "stdout",
     "output_type": "stream",
     "text": [
      "18:37:10 - [Worker-23454877206272] - WARNING - ⚠️  [Worker-23454877206272] Visualization not found: /mnt/home/dchhantyal/centroid_model_blastospim/data/labels/Blast/label_H6_20/visualizations/comprehensive_analysis.png\n"
     ]
    },
    {
     "name": "stderr",
     "output_type": "stream",
     "text": [
      "2025-06-20 18:37:10,206 - worker_processor - WARNING - ⚠️  [Worker-23454877206272] Visualization not found: /mnt/home/dchhantyal/centroid_model_blastospim/data/labels/Blast/label_H6_20/visualizations/comprehensive_analysis.png\n",
      "2025-06-20 18:37:10,215 - src.preprocessing.centroid_batch_processor - INFO - Using voxel spacing from config: Z=2.0µm, Y=0.208µm, X=0.208µm\n"
     ]
    },
    {
     "name": "stdout",
     "output_type": "stream",
     "text": [
      "✅ [ 5/1051] (  0.5%) | ETA: 2933.2s | H6_20.npz\n",
      "18:37:10 - [Worker-23454877206272] - INFO - 🔄 [Worker-23454877206272] Starting: H6_011\n"
     ]
    },
    {
     "name": "stderr",
     "output_type": "stream",
     "text": [
      "2025-06-20 18:37:10,215 - worker_processor - INFO - 🔄 [Worker-23454877206272] Starting: H6_011\n",
      "2025-06-20 18:37:10,220 - src.preprocessing.centroid_batch_processor - INFO - Processing file: H6_011\n",
      "2025-06-20 18:37:10,226 - src.preprocessing.centroid_batch_processor - INFO - Loading data from: /mnt/home/dchhantyal/centroid_model_blastospim/data/raw/H6/H6_011.npz\n",
      "2025-06-20 18:37:10,232 - src.preprocessing.centroid_batch_processor - INFO - Successfully processed H6_11\n"
     ]
    },
    {
     "name": "stdout",
     "output_type": "stream",
     "text": [
      "18:37:10 - [Worker-23454875105024] - INFO - ✅ [Worker-23454875105024] Completed: H6_11\n"
     ]
    },
    {
     "name": "stderr",
     "output_type": "stream",
     "text": [
      "2025-06-20 18:37:10,233 - worker_processor - INFO - ✅ [Worker-23454875105024] Completed: H6_11\n"
     ]
    },
    {
     "name": "stdout",
     "output_type": "stream",
     "text": [
      "18:37:10 - [Worker-23454875105024] - INFO - 📁 [Worker-23454875105024] Output: /mnt/home/dchhantyal/centroid_model_blastospim/data/labels/Blast/label_H6_11\n"
     ]
    },
    {
     "name": "stderr",
     "output_type": "stream",
     "text": [
      "2025-06-20 18:37:10,234 - worker_processor - INFO - 📁 [Worker-23454875105024] Output: /mnt/home/dchhantyal/centroid_model_blastospim/data/labels/Blast/label_H6_11\n"
     ]
    },
    {
     "name": "stdout",
     "output_type": "stream",
     "text": [
      "18:37:10 - [Worker-23454875105024] - WARNING - ⚠️  [Worker-23454875105024] Visualization not found: /mnt/home/dchhantyal/centroid_model_blastospim/data/labels/Blast/label_H6_11/visualizations/comprehensive_analysis.png\n"
     ]
    },
    {
     "name": "stderr",
     "output_type": "stream",
     "text": [
      "2025-06-20 18:37:10,235 - worker_processor - WARNING - ⚠️  [Worker-23454875105024] Visualization not found: /mnt/home/dchhantyal/centroid_model_blastospim/data/labels/Blast/label_H6_11/visualizations/comprehensive_analysis.png\n",
      "2025-06-20 18:37:10,244 - src.preprocessing.centroid_batch_processor - INFO - Using voxel spacing from config: Z=2.0µm, Y=0.208µm, X=0.208µm\n"
     ]
    },
    {
     "name": "stdout",
     "output_type": "stream",
     "text": [
      "✅ [ 6/1051] (  0.6%) | ETA: 2447.1s | H6_11.npz\n",
      "18:37:10 - [Worker-23454875105024] - INFO - 🔄 [Worker-23454875105024] Starting: H6_13\n"
     ]
    },
    {
     "name": "stderr",
     "output_type": "stream",
     "text": [
      "2025-06-20 18:37:10,245 - worker_processor - INFO - 🔄 [Worker-23454875105024] Starting: H6_13\n",
      "2025-06-20 18:37:10,247 - src.preprocessing.centroid_batch_processor - INFO - Processing file: H6_13\n",
      "2025-06-20 18:37:10,251 - src.preprocessing.centroid_batch_processor - INFO - Loading data from: /mnt/home/dchhantyal/centroid_model_blastospim/data/raw/H6/H6_13.npz\n",
      "2025-06-20 18:37:10,417 - src.preprocessing.centroid_batch_processor - INFO - Successfully processed H6_015\n"
     ]
    },
    {
     "name": "stdout",
     "output_type": "stream",
     "text": [
      "18:37:10 - [Worker-23454958307072] - INFO - ✅ [Worker-23454958307072] Completed: H6_015\n"
     ]
    },
    {
     "name": "stderr",
     "output_type": "stream",
     "text": [
      "2025-06-20 18:37:10,419 - worker_processor - INFO - ✅ [Worker-23454958307072] Completed: H6_015\n"
     ]
    },
    {
     "name": "stdout",
     "output_type": "stream",
     "text": [
      "18:37:10 - [Worker-23454958307072] - INFO - 📁 [Worker-23454958307072] Output: /mnt/home/dchhantyal/centroid_model_blastospim/data/labels/Blast/label_H6_015\n"
     ]
    },
    {
     "name": "stderr",
     "output_type": "stream",
     "text": [
      "2025-06-20 18:37:10,420 - worker_processor - INFO - 📁 [Worker-23454958307072] Output: /mnt/home/dchhantyal/centroid_model_blastospim/data/labels/Blast/label_H6_015\n"
     ]
    },
    {
     "name": "stdout",
     "output_type": "stream",
     "text": [
      "18:37:10 - [Worker-23454958307072] - WARNING - ⚠️  [Worker-23454958307072] Visualization not found: /mnt/home/dchhantyal/centroid_model_blastospim/data/labels/Blast/label_H6_015/visualizations/comprehensive_analysis.png\n"
     ]
    },
    {
     "name": "stderr",
     "output_type": "stream",
     "text": [
      "2025-06-20 18:37:10,422 - worker_processor - WARNING - ⚠️  [Worker-23454958307072] Visualization not found: /mnt/home/dchhantyal/centroid_model_blastospim/data/labels/Blast/label_H6_015/visualizations/comprehensive_analysis.png\n",
      "2025-06-20 18:37:10,431 - src.preprocessing.centroid_batch_processor - INFO - Using voxel spacing from config: Z=2.0µm, Y=0.208µm, X=0.208µm\n"
     ]
    },
    {
     "name": "stdout",
     "output_type": "stream",
     "text": [
      "✅ [ 7/1051] (  0.7%) | ETA: 2123.3s | H6_015.npz\n",
      "18:37:10 - [Worker-23454958307072] - INFO - 🔄 [Worker-23454958307072] Starting: H6_017\n"
     ]
    },
    {
     "name": "stderr",
     "output_type": "stream",
     "text": [
      "2025-06-20 18:37:10,431 - worker_processor - INFO - 🔄 [Worker-23454958307072] Starting: H6_017\n",
      "2025-06-20 18:37:10,432 - src.preprocessing.centroid_batch_processor - INFO - Processing file: H6_017\n",
      "2025-06-20 18:37:10,435 - src.preprocessing.centroid_batch_processor - INFO - Loading data from: /mnt/home/dchhantyal/centroid_model_blastospim/data/raw/H6/H6_017.npz\n",
      "2025-06-20 18:37:10,476 - src.preprocessing.centroid_batch_processor - INFO - Successfully processed H6_013\n"
     ]
    },
    {
     "name": "stdout",
     "output_type": "stream",
     "text": [
      "18:37:10 - [Worker-23454881408768] - INFO - ✅ [Worker-23454881408768] Completed: H6_013\n"
     ]
    },
    {
     "name": "stderr",
     "output_type": "stream",
     "text": [
      "2025-06-20 18:37:10,478 - worker_processor - INFO - ✅ [Worker-23454881408768] Completed: H6_013\n"
     ]
    },
    {
     "name": "stdout",
     "output_type": "stream",
     "text": [
      "18:37:10 - [Worker-23454881408768] - INFO - 📁 [Worker-23454881408768] Output: /mnt/home/dchhantyal/centroid_model_blastospim/data/labels/Blast/label_H6_013\n"
     ]
    },
    {
     "name": "stderr",
     "output_type": "stream",
     "text": [
      "2025-06-20 18:37:10,479 - worker_processor - INFO - 📁 [Worker-23454881408768] Output: /mnt/home/dchhantyal/centroid_model_blastospim/data/labels/Blast/label_H6_013\n"
     ]
    },
    {
     "name": "stdout",
     "output_type": "stream",
     "text": [
      "18:37:10 - [Worker-23454881408768] - WARNING - ⚠️  [Worker-23454881408768] Visualization not found: /mnt/home/dchhantyal/centroid_model_blastospim/data/labels/Blast/label_H6_013/visualizations/comprehensive_analysis.png\n"
     ]
    },
    {
     "name": "stderr",
     "output_type": "stream",
     "text": [
      "2025-06-20 18:37:10,480 - worker_processor - WARNING - ⚠️  [Worker-23454881408768] Visualization not found: /mnt/home/dchhantyal/centroid_model_blastospim/data/labels/Blast/label_H6_013/visualizations/comprehensive_analysis.png\n",
      "2025-06-20 18:37:10,490 - src.preprocessing.centroid_batch_processor - INFO - Using voxel spacing from config: Z=2.0µm, Y=0.208µm, X=0.208µm\n"
     ]
    },
    {
     "name": "stdout",
     "output_type": "stream",
     "text": [
      "✅ [ 8/1051] (  0.8%) | ETA: 1863.7s | H6_013.npz\n",
      "18:37:10 - [Worker-23454881408768] - INFO - 🔄 [Worker-23454881408768] Starting: H6_16\n"
     ]
    },
    {
     "name": "stderr",
     "output_type": "stream",
     "text": [
      "2025-06-20 18:37:10,491 - worker_processor - INFO - 🔄 [Worker-23454881408768] Starting: H6_16\n",
      "2025-06-20 18:37:10,492 - src.preprocessing.centroid_batch_processor - INFO - Processing file: H6_16\n",
      "2025-06-20 18:37:10,499 - src.preprocessing.centroid_batch_processor - INFO - Loading data from: /mnt/home/dchhantyal/centroid_model_blastospim/data/raw/H6/H6_16.npz\n",
      "2025-06-20 18:37:10,602 - src.preprocessing.centroid_batch_processor - INFO - Volume shape: (64, 1564, 1087)\n",
      "2025-06-20 18:37:10,602 - src.preprocessing.centroid_batch_processor - INFO - Mask shape: (64, 1564, 1087)\n",
      "2025-06-20 18:37:11,734 - src.preprocessing.centroid_batch_processor - INFO - Number of objects: 8\n",
      "2025-06-20 18:37:12,186 - src.preprocessing.centroid_batch_processor - INFO - Volume shape: (64, 1564, 1087)\n",
      "2025-06-20 18:37:12,187 - src.preprocessing.centroid_batch_processor - INFO - Mask shape: (64, 1564, 1087)\n",
      "2025-06-20 18:37:12,292 - src.preprocessing.centroid_batch_processor - INFO - Volume shape: (64, 1564, 1087)\n",
      "2025-06-20 18:37:12,293 - src.preprocessing.centroid_batch_processor - INFO - Mask shape: (64, 1564, 1087)\n",
      "2025-06-20 18:37:12,355 - src.preprocessing.centroid_batch_processor - INFO - Volume shape: (71, 1564, 1087)\n",
      "2025-06-20 18:37:12,360 - src.preprocessing.centroid_batch_processor - INFO - Mask shape: (71, 1564, 1087)\n",
      "2025-06-20 18:37:12,651 - src.preprocessing.centroid_batch_processor - INFO - Volume shape: (71, 1564, 1087)\n",
      "2025-06-20 18:37:12,655 - src.preprocessing.centroid_batch_processor - INFO - Mask shape: (71, 1564, 1087)\n",
      "2025-06-20 18:37:13,165 - src.preprocessing.centroid_batch_processor - INFO - Volume shape: (64, 1564, 1087)\n",
      "2025-06-20 18:37:13,172 - src.preprocessing.centroid_batch_processor - INFO - Mask shape: (64, 1564, 1087)\n",
      "2025-06-20 18:37:13,532 - src.preprocessing.centroid_batch_processor - INFO - Volume shape: (71, 1564, 1087)\n",
      "2025-06-20 18:37:13,544 - src.preprocessing.centroid_batch_processor - INFO - Mask shape: (71, 1564, 1087)\n",
      "2025-06-20 18:37:14,379 - src.preprocessing.centroid_batch_processor - INFO - Volume shape: (71, 1564, 1087)\n",
      "2025-06-20 18:37:14,387 - src.preprocessing.centroid_batch_processor - INFO - Mask shape: (71, 1564, 1087)\n",
      "2025-06-20 18:37:14,813 - src.preprocessing.centroid_batch_processor - INFO - Number of objects: 8\n",
      "2025-06-20 18:37:14,814 - src.preprocessing.centroid_batch_processor - INFO - Number of objects: 8\n",
      "2025-06-20 18:37:15,005 - src.preprocessing.centroid_batch_processor - INFO - Number of objects: 8\n",
      "2025-06-20 18:37:15,009 - src.preprocessing.centroid_batch_processor - INFO - Saved label data to: /mnt/home/dchhantyal/centroid_model_blastospim/data/labels/Blast/label_H6_21/data/label.npz\n",
      "2025-06-20 18:37:15,489 - src.preprocessing.centroid_batch_processor - INFO - Number of objects: 8\n",
      "2025-06-20 18:37:16,236 - src.preprocessing.centroid_batch_processor - INFO - Number of objects: 8\n",
      "2025-06-20 18:37:16,277 - src.preprocessing.centroid_batch_processor - INFO - Number of objects: 8\n",
      "2025-06-20 18:37:17,033 - src.preprocessing.centroid_batch_processor - INFO - Number of objects: 8\n",
      "2025-06-20 18:37:18,171 - src.preprocessing.centroid_batch_processor - INFO - Successfully processed H6_21\n"
     ]
    },
    {
     "name": "stdout",
     "output_type": "stream",
     "text": [
      "18:37:18 - [Worker-23454954104576] - INFO - ✅ [Worker-23454954104576] Completed: H6_21\n"
     ]
    },
    {
     "name": "stderr",
     "output_type": "stream",
     "text": [
      "2025-06-20 18:37:18,175 - worker_processor - INFO - ✅ [Worker-23454954104576] Completed: H6_21\n"
     ]
    },
    {
     "name": "stdout",
     "output_type": "stream",
     "text": [
      "18:37:18 - [Worker-23454954104576] - INFO - 📁 [Worker-23454954104576] Output: /mnt/home/dchhantyal/centroid_model_blastospim/data/labels/Blast/label_H6_21\n"
     ]
    },
    {
     "name": "stderr",
     "output_type": "stream",
     "text": [
      "2025-06-20 18:37:18,178 - worker_processor - INFO - 📁 [Worker-23454954104576] Output: /mnt/home/dchhantyal/centroid_model_blastospim/data/labels/Blast/label_H6_21\n"
     ]
    },
    {
     "name": "stdout",
     "output_type": "stream",
     "text": [
      "18:37:18 - [Worker-23454954104576] - WARNING - ⚠️  [Worker-23454954104576] Visualization not found: /mnt/home/dchhantyal/centroid_model_blastospim/data/labels/Blast/label_H6_21/visualizations/comprehensive_analysis.png\n"
     ]
    },
    {
     "name": "stderr",
     "output_type": "stream",
     "text": [
      "2025-06-20 18:37:18,181 - worker_processor - WARNING - ⚠️  [Worker-23454954104576] Visualization not found: /mnt/home/dchhantyal/centroid_model_blastospim/data/labels/Blast/label_H6_21/visualizations/comprehensive_analysis.png\n",
      "2025-06-20 18:37:18,192 - src.preprocessing.centroid_batch_processor - INFO - Using voxel spacing from config: Z=2.0µm, Y=0.208µm, X=0.208µm\n"
     ]
    },
    {
     "name": "stdout",
     "output_type": "stream",
     "text": [
      "✅ [ 9/1051] (  0.9%) | ETA: 2546.8s | H6_21.npz\n",
      "18:37:18 - [Worker-23454954104576] - INFO - 🔄 [Worker-23454954104576] Starting: H6_014\n"
     ]
    },
    {
     "name": "stderr",
     "output_type": "stream",
     "text": [
      "2025-06-20 18:37:18,210 - worker_processor - INFO - 🔄 [Worker-23454954104576] Starting: H6_014\n",
      "2025-06-20 18:37:18,213 - src.preprocessing.centroid_batch_processor - INFO - Processing file: H6_014\n",
      "2025-06-20 18:37:18,220 - src.preprocessing.centroid_batch_processor - INFO - Loading data from: /mnt/home/dchhantyal/centroid_model_blastospim/data/raw/H6/H6_014.npz\n"
     ]
    }
   ],
   "source": [
    "# Execute batch processing - Part 3: Run Parallel or Sequential Processing\n",
    "if len(npz_files) > 0:\n",
    "    import threading\n",
    "    import sys\n",
    "    from io import StringIO\n",
    "    \n",
    "    # Create a thread-safe logger for worker processes\n",
    "    worker_logger = logging.getLogger('worker_processor')\n",
    "    worker_logger.setLevel(logging.INFO)\n",
    "    \n",
    "    # Clear any existing handlers for worker logger\n",
    "    worker_logger.handlers.clear()\n",
    "    \n",
    "    # Create a custom formatter for worker logs with thread identification\n",
    "    worker_formatter = logging.Formatter(\n",
    "        '%(asctime)s - [Worker-%(thread)d] - %(levelname)s - %(message)s',\n",
    "        datefmt='%H:%M:%S'\n",
    "    )\n",
    "    \n",
    "    # Console handler for worker progress with minimal format\n",
    "    worker_console_handler = logging.StreamHandler(sys.stdout)\n",
    "    worker_console_handler.setLevel(logging.INFO)\n",
    "    worker_console_handler.setFormatter(worker_formatter)\n",
    "    worker_logger.addHandler(worker_console_handler)\n",
    "    \n",
    "    try:\n",
    "        # Execute parallel processing if max_workers > 1, otherwise sequential\n",
    "        results = []\n",
    "        processing_start_time = time.time()\n",
    "        \n",
    "        if processing_params['max_workers'] > 1:\n",
    "            print(f\"🔄 Starting parallel processing with {processing_params['max_workers']} workers...\")\n",
    "            print(f\"📊 Progress tracking with thread identification enabled\")\n",
    "            print(\"-\" * 80)\n",
    "            \n",
    "            # Use ThreadPoolExecutor for I/O-bound operations (better for file processing)\n",
    "            # ProcessPoolExecutor can be used for CPU-intensive tasks, but ThreadPoolExecutor\n",
    "            # is often better for file I/O and works well with our processing pipeline\n",
    "            with ThreadPoolExecutor(max_workers=processing_params['max_workers']) as executor:\n",
    "                # Submit all files for processing\n",
    "                future_to_file = {\n",
    "                    executor.submit(process_single_npz_file, npz_file): npz_file \n",
    "                    for npz_file in npz_files\n",
    "                }\n",
    "                \n",
    "                # Collect results as they complete\n",
    "                completed_count = 0\n",
    "                for future in as_completed(future_to_file):\n",
    "                    npz_file = future_to_file[future]\n",
    "                    try:\n",
    "                        result = future.result()\n",
    "                        results.append(result)\n",
    "                        completed_count += 1\n",
    "                        \n",
    "                        # Progress reporting with cleaner formatting\n",
    "                        progress_percent = (completed_count / len(npz_files)) * 100\n",
    "                        elapsed_time = time.time() - processing_start_time\n",
    "                        avg_time_per_file = elapsed_time / completed_count\n",
    "                        estimated_remaining = avg_time_per_file * (len(npz_files) - completed_count)\n",
    "                        \n",
    "                        # Clean progress output with consistent formatting\n",
    "                        filename_display = Path(npz_file).name[:30] + \"...\" if len(Path(npz_file).name) > 30 else Path(npz_file).name\n",
    "                        status_icon = \"✅\" if result.get('status') == 'success' else \"❌\"\n",
    "                        \n",
    "                        print(f\"{status_icon} [{completed_count:2d}/{len(npz_files)}] ({progress_percent:5.1f}%) \"\n",
    "                              f\"| ETA: {estimated_remaining:5.1f}s | {filename_display}\")\n",
    "                        \n",
    "                    except Exception as e:\n",
    "                        batch_logger.error(f\"❌ Worker failed for {Path(npz_file).name}: {str(e)}\")\n",
    "                        results.append({\n",
    "                            'filename': Path(npz_file).stem,\n",
    "                            'status': 'error',\n",
    "                            'error': str(e)\n",
    "                        })\n",
    "                        completed_count += 1\n",
    "                        \n",
    "                        # Error progress display\n",
    "                        progress_percent = (completed_count / len(npz_files)) * 100\n",
    "                        filename_display = Path(npz_file).name[:30] + \"...\" if len(Path(npz_file).name) > 30 else Path(npz_file).name\n",
    "                        print(f\"❌ [{completed_count:2d}/{len(npz_files)}] ({progress_percent:5.1f}%) \"\n",
    "                              f\"| ERROR     | {filename_display}\")\n",
    "            \n",
    "            print(\"-\" * 80)\n",
    "            print(f\"✅ Parallel processing completed with {processing_params['max_workers']} workers!\")\n",
    "            \n",
    "        else:\n",
    "            print(f\"🔄 Starting sequential processing...\")\n",
    "            print(\"-\" * 80)\n",
    "            \n",
    "            # Sequential processing with better progress display\n",
    "            for i, npz_file in enumerate(npz_files, 1):\n",
    "                filename_display = Path(npz_file).name[:30] + \"...\" if len(Path(npz_file).name) > 30 else Path(npz_file).name\n",
    "                print(f\"🔄 [{i:2d}/{len(npz_files)}] Processing: {filename_display}\")\n",
    "                \n",
    "                result = process_single_npz_file(npz_file)\n",
    "                results.append(result)\n",
    "                \n",
    "                # Status update\n",
    "                status_icon = \"✅\" if result.get('status') == 'success' else \"❌\"\n",
    "                print(f\"{status_icon} [{i:2d}/{len(npz_files)}] Completed: {filename_display}\")\n",
    "            \n",
    "            print(\"-\" * 80)\n",
    "        \n",
    "        # Restore original visualization setting if changed\n",
    "        if not processing_params['save_visualizations']:\n",
    "            batch_processor.config_manager.set(\"visualization.enabled\", original_viz_setting)\n",
    "        \n",
    "        # Clean up worker logger\n",
    "        worker_logger.handlers.clear()\n",
    "        \n",
    "        print(\"✅ Core processing completed successfully!\")\n",
    "        print(f\"📊 Processed {len(results)} files with clean output formatting\")\n",
    "        \n",
    "    except Exception as e:\n",
    "        # Clean up worker logger on error\n",
    "        worker_logger.handlers.clear()\n",
    "        \n",
    "        batch_logger.error(f\"❌ Batch processing failed: {str(e)}\")\n",
    "        print(f\"\\n❌ ERROR during batch processing: {str(e)}\")\n",
    "        print(f\"💡 Check processing parameters: {processing_params}\")\n",
    "        raise e\n",
    "        \n",
    "else:\n",
    "    print(\"⏭️  Skipping core processing - no NPZ files found\")\n",
    "    results = []"
   ]
  },
  {
   "cell_type": "markdown",
   "id": "6a1de3ed",
   "metadata": {},
   "source": [
    "## 6. Analyze Batch Processing Results\n",
    "\n",
    "Examine the results from batch processing, including success rates, processing statistics, and any errors encountered.\n",
    "\n",
    "### Analysis Features:\n",
    "- **Success/Failure Summary**: Overall batch processing statistics\n",
    "- **Processing Time Analysis**: Time distribution across files\n",
    "- **Error Analysis**: Detailed examination of any failed files\n",
    "- **Output Organization**: Review of generated file structure\n",
    "- **Quality Metrics**: Distribution of extracted centroids and volumes"
   ]
  },
  {
   "cell_type": "markdown",
   "id": "5b632bf4",
   "metadata": {},
   "source": [
    "## 7. Explore Individual Results\n",
    "\n",
    "Examine specific results from individual files, including generated visualizations and detailed statistics.\n",
    "\n",
    "### Exploration Options:\n",
    "- **File Selection**: Choose specific files to examine in detail\n",
    "- **Visualization Review**: Display generated plots and analysis\n",
    "- **Statistics Deep Dive**: Detailed metrics for individual samples\n",
    "- **Output File Inspection**: Examine saved JSON results and logs"
   ]
  },
  {
   "cell_type": "markdown",
   "id": "31dc79ef",
   "metadata": {},
   "source": [
    "## 8. Summary and Next Steps\n",
    "\n",
    "### Batch Processing Complete! 🎉\n",
    "\n",
    "This notebook has successfully demonstrated batch processing of BlastoSpim NPZ files using the **CentroidBatchProcessor** with the following achievements:\n",
    "\n",
    "#### ✅ **What Was Accomplished:**\n",
    "- **Comprehensive Batch Processing**: Processed multiple NPZ files in parallel\n",
    "- **Robust Error Handling**: Continued processing even when individual files failed\n",
    "- **Detailed Logging**: Tracked all operations with timestamps and progress\n",
    "- **Organized Output Structure**: Created structured directories for each processed file\n",
    "- **Physical Coordinate Calculations**: Used correct voxel spacing (Z=2.0µm, Y/X=0.208µm)\n",
    "- **Professional Visualizations**: Generated multi-slice, 3D, and statistical plots\n",
    "- **Comprehensive Statistics**: Calculated centroids, volumes, and bounding boxes\n",
    "- **Batch Analysis**: Summarized results across all processed files\n",
    "\n",
    "#### 📊 **Generated Outputs:**\n",
    "- **Individual Results**: Separate directory for each processed file\n",
    "- **Visualizations**: PNG files with comprehensive plots\n",
    "- **Statistics**: JSON files with detailed metrics\n",
    "- **Summary Reports**: Batch-level analysis and statistics\n",
    "- **Detailed Logs**: Complete processing history with timestamps\n",
    "\n",
    "#### 🔧 **Key Features Used:**\n",
    "- **CentroidBatchProcessor**: Main batch processing engine\n",
    "- **ConfigManager**: YAML-based configuration management\n",
    "- **Progress Tracking**: Real-time progress bars and time estimates\n",
    "- **Parallel Processing**: Multi-threaded processing for efficiency\n",
    "- **Physical Units**: Proper handling of anisotropic voxel spacing\n",
    "\n",
    "#### 🚀 **Next Steps:**\n",
    "1. **Review Generated Results**: Examine the output directories and visualizations\n",
    "2. **Analyze Statistics**: Use the batch summary for scientific analysis\n",
    "3. **Customize Processing**: Modify configuration parameters as needed\n",
    "4. **Scale Up**: Process larger datasets with the same pipeline\n",
    "5. **Integration**: Incorporate results into downstream analysis workflows\n",
    "\n",
    "#### 💡 **Tips for Production Use:**\n",
    "- Adjust `max_workers` based on your system's capabilities\n",
    "- Monitor memory usage for large datasets\n",
    "- Use the logging files to troubleshoot any processing issues\n",
    "- Customize visualization parameters in the configuration file\n",
    "- Consider implementing additional quality control checks\n",
    "\n",
    "**The batch processing pipeline is now ready for production use with your BlastoSpim data!**"
   ]
  },
  {
   "cell_type": "markdown",
   "id": "900f2ebb",
   "metadata": {},
   "source": []
  }
 ],
 "metadata": {
  "kernelspec": {
   "display_name": "Python 3 (ipykernel)",
   "language": "python",
   "name": "python3"
  },
  "language_info": {
   "codemirror_mode": {
    "name": "ipython",
    "version": 3
   },
   "file_extension": ".py",
   "mimetype": "text/x-python",
   "name": "python",
   "nbconvert_exporter": "python",
   "pygments_lexer": "ipython3",
   "version": "3.10.13"
  }
 },
 "nbformat": 4,
 "nbformat_minor": 5
}
