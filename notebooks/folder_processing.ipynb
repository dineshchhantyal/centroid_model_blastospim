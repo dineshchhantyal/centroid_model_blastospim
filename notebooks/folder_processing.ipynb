{
 "cells": [
  {
   "cell_type": "markdown",
   "id": "330440db",
   "metadata": {},
   "source": [
    "# Folder Processing - Batch 3D Centroid Extraction\n",
    "\n",
    "This notebook demonstrates how to process multiple BlastoSpim NPZ files in a folder to extract geometric centers (centroids) from 3D volume labels using the correct voxel spacing from the research paper.\n",
    "\n",
    "## Overview\n",
    "- **Dataset**: BlastoSpim 3D microscopy data\n",
    "- **Voxel Spacing**: Z=2.0µm, Y/X=0.208µm (from research paper)\n",
    "- **Method**: Batch processing with center of mass calculation\n",
    "- **Output**: Organized results with comprehensive visualizations and analysis\n",
    "\n",
    "## Features\n",
    "- ✅ Batch processing of entire directories\n",
    "- ✅ Comprehensive logging for all files\n",
    "- ✅ Detailed progress tracking with statistics\n",
    "- ✅ Robust error handling per file\n",
    "- ✅ Research paper compliant voxel spacing\n",
    "- ✅ Professional visualizations for each file\n",
    "- ✅ Organized output structure\n",
    "- ✅ Batch summary reports\n",
    "- ✅ Parallel processing capabilities"
   ]
  },
  {
   "cell_type": "markdown",
   "id": "ac32d306",
   "metadata": {},
   "source": [
    "## 1. Import Required Libraries\n",
    "\n",
    "Import all necessary libraries for batch processing, including file handling, progress tracking, and parallel processing capabilities."
   ]
  },
  {
   "cell_type": "code",
   "execution_count": 1,
   "id": "44abf126",
   "metadata": {},
   "outputs": [
    {
     "name": "stdout",
     "output_type": "stream",
     "text": [
      "✅ All libraries imported successfully!\n",
      "✅ Project root: /mnt/home/dchhantyal/centroid_model_blastospim\n",
      "✅ Python version: 3.13.5 | packaged by conda-forge | (main, Jun 16 2025, 08:27:50) [GCC 13.3.0]\n",
      "✅ Key libraries:\n",
      "   - NumPy: 2.3.0\n",
      "   - Pandas: 2.3.0\n",
      "   - Matplotlib: 3.10.3\n"
     ]
    }
   ],
   "source": [
    "# Standard library imports for file and folder operations\n",
    "import sys\n",
    "import glob\n",
    "import logging\n",
    "from pathlib import Path\n",
    "from datetime import datetime\n",
    "import time\n",
    "\n",
    "# Scientific computing and progress tracking\n",
    "import numpy as np\n",
    "import pandas as pd\n",
    "import matplotlib.pyplot as plt\n",
    "\n",
    "# Add project root to Python path\n",
    "project_root = '/mnt/home/dchhantyal/centroid_model_blastospim'\n",
    "if project_root not in sys.path:\n",
    "    sys.path.append(project_root)\n",
    "\n",
    "# Import our custom batch processing modules\n",
    "from src.preprocessing.centroid_batch_processor import CentroidBatchProcessor\n",
    "from src.utils.config import ConfigManager\n",
    "\n",
    "print(\"✅ All libraries imported successfully!\")\n",
    "print(f\"✅ Project root: {project_root}\")\n",
    "print(f\"✅ Python version: {sys.version}\")\n",
    "print(f\"✅ Key libraries:\")\n",
    "print(f\"   - NumPy: {np.__version__}\")\n",
    "print(f\"   - Pandas: {pd.__version__}\")\n",
    "print(f\"   - Matplotlib: {plt.matplotlib.__version__}\")"
   ]
  },
  {
   "cell_type": "markdown",
   "id": "17b921cf",
   "metadata": {},
   "source": [
    "## 2. Setup Comprehensive Logging\n",
    "\n",
    "Configure detailed logging for batch processing with separate logs for overall batch operations and individual file processing."
   ]
  },
  {
   "cell_type": "code",
   "execution_count": 2,
   "id": "0a1b14c9",
   "metadata": {},
   "outputs": [
    {
     "name": "stderr",
     "output_type": "stream",
     "text": [
      "INFO: 🚀 Batch processing logging system initialized\n",
      "INFO: 📁 Batch log file: notebook_logs/batch_processing/batch_processing_20250619_154702.log\n",
      "INFO: 📁 Batch log file: notebook_logs/batch_processing/batch_processing_20250619_154702.log\n"
     ]
    },
    {
     "name": "stdout",
     "output_type": "stream",
     "text": [
      "✅ Batch logging configured successfully\n",
      "📋 Batch log file: notebook_logs/batch_processing/batch_processing_20250619_154702.log\n",
      "📊 Log level: 10 (DEBUG)\n",
      "🔧 Handlers: 2 (file + console)\n",
      "📂 Log directory: notebook_logs/batch_processing\n",
      "📁 Individual file logs will be saved to: notebook_logs/batch_processing/individual_files\n",
      "📝 This setup allows tracking both batch overview and individual file details\n"
     ]
    }
   ],
   "source": [
    "# Create logs directory for batch processing\n",
    "logs_dir = Path(\"notebook_logs/batch_processing\")\n",
    "logs_dir.mkdir(parents=True, exist_ok=True)\n",
    "\n",
    "# Configure comprehensive logging for batch operations\n",
    "batch_log_filename = logs_dir / f\"batch_processing_{datetime.now().strftime('%Y%m%d_%H%M%S')}.log\"\n",
    "\n",
    "# Create batch logger\n",
    "batch_logger = logging.getLogger('batch_processor')\n",
    "batch_logger.setLevel(logging.DEBUG)\n",
    "\n",
    "# Clear any existing handlers\n",
    "batch_logger.handlers.clear()\n",
    "\n",
    "# Create formatters for different log levels\n",
    "detailed_formatter = logging.Formatter(\n",
    "    '%(asctime)s - %(name)s - %(levelname)s - [%(filename)s:%(lineno)d] - %(message)s'\n",
    ")\n",
    "console_formatter = logging.Formatter(\n",
    "    '%(levelname)s: %(message)s'\n",
    ")\n",
    "\n",
    "# File handler for detailed batch logs\n",
    "batch_file_handler = logging.FileHandler(batch_log_filename)\n",
    "batch_file_handler.setLevel(logging.DEBUG)\n",
    "batch_file_handler.setFormatter(detailed_formatter)\n",
    "\n",
    "# Console handler for progress information\n",
    "batch_console_handler = logging.StreamHandler()\n",
    "batch_console_handler.setLevel(logging.INFO)\n",
    "batch_console_handler.setFormatter(console_formatter)\n",
    "\n",
    "# Add handlers to batch logger\n",
    "batch_logger.addHandler(batch_file_handler)\n",
    "batch_logger.addHandler(batch_console_handler)\n",
    "\n",
    "# Test logging system\n",
    "batch_logger.info(\"🚀 Batch processing logging system initialized\")\n",
    "batch_logger.info(f\"📁 Batch log file: {batch_log_filename}\")\n",
    "batch_logger.debug(\"Debug logging is working for batch operations\")\n",
    "\n",
    "print(f\"✅ Batch logging configured successfully\")\n",
    "print(f\"📋 Batch log file: {batch_log_filename}\")\n",
    "print(f\"📊 Log level: {batch_logger.level} (DEBUG)\")\n",
    "print(f\"🔧 Handlers: {len(batch_logger.handlers)} (file + console)\")\n",
    "print(f\"📂 Log directory: {logs_dir}\")\n",
    "\n",
    "# Additional logging for individual file processing\n",
    "individual_logs_dir = logs_dir / \"individual_files\"\n",
    "individual_logs_dir.mkdir(exist_ok=True)\n",
    "\n",
    "print(f\"📁 Individual file logs will be saved to: {individual_logs_dir}\")\n",
    "print(\"📝 This setup allows tracking both batch overview and individual file details\")"
   ]
  },
  {
   "cell_type": "markdown",
   "id": "1b063f7b",
   "metadata": {},
   "source": [
    "## 3. Initialize Batch Processor\n",
    "\n",
    "Set up the CentroidBatchProcessor with proper configuration for BlastoSpim data processing."
   ]
  },
  {
   "cell_type": "code",
   "execution_count": 3,
   "id": "49b36d3c",
   "metadata": {},
   "outputs": [
    {
     "name": "stderr",
     "output_type": "stream",
     "text": [
      "INFO: 📋 Loading configuration from: /mnt/home/dchhantyal/centroid_model_blastospim/configs/base_config.yaml\n",
      "INFO: ✅ Configuration loaded successfully\n",
      "INFO: 📐 Voxel spacing: Z=2.0µm, Y/X=0.208µm\n",
      "INFO: ✅ Configuration loaded successfully\n",
      "INFO: 📐 Voxel spacing: Z=2.0µm, Y/X=0.208µm\n",
      "INFO: 🔄 Initializing CentroidBatchProcessor...\n",
      "INFO: 🔄 Initializing CentroidBatchProcessor...\n",
      "2025-06-19 15:47:11,250 - src.preprocessing.centroid_batch_processor - INFO - Using voxel spacing from config: Z=2.0µm, Y=0.208µm, X=0.208µm\n",
      "INFO: ✅ CentroidBatchProcessor initialized successfully\n",
      "2025-06-19 15:47:11,251 - batch_processor - INFO - ✅ CentroidBatchProcessor initialized successfully\n",
      "2025-06-19 15:47:11,250 - src.preprocessing.centroid_batch_processor - INFO - Using voxel spacing from config: Z=2.0µm, Y=0.208µm, X=0.208µm\n",
      "INFO: ✅ CentroidBatchProcessor initialized successfully\n",
      "2025-06-19 15:47:11,251 - batch_processor - INFO - ✅ CentroidBatchProcessor initialized successfully\n"
     ]
    },
    {
     "name": "stdout",
     "output_type": "stream",
     "text": [
      "✅ Batch processor ready for processing multiple files\n",
      "📋 Configuration: /mnt/home/dchhantyal/centroid_model_blastospim/configs/base_config.yaml\n",
      "📐 Voxel spacing: Z=2.0µm, Y/X=0.208µm\n",
      "🔧 Output will be organized in structured directories\n",
      "📊 Comprehensive logging enabled for all operations\n"
     ]
    }
   ],
   "source": [
    "# Load configuration for BlastoSpim data processing\n",
    "config_path = Path(project_root) / \"configs\" / \"base_config.yaml\"\n",
    "batch_logger.info(f\"📋 Loading configuration from: {config_path}\")\n",
    "\n",
    "# Verify config file exists\n",
    "if not config_path.exists():\n",
    "    batch_logger.error(f\"❌ Configuration file not found: {config_path}\")\n",
    "    raise FileNotFoundError(f\"Configuration file not found: {config_path}\")\n",
    "\n",
    "# Initialize configuration manager\n",
    "config_manager = ConfigManager(config_path)\n",
    "config = config_manager.to_dict()\n",
    "\n",
    "batch_logger.info(\"✅ Configuration loaded successfully\")\n",
    "batch_logger.info(f\"📐 Voxel spacing: Z={config['centroid_extraction']['voxel_size']['z']:.1f}µm, \"\n",
    "                  f\"Y/X={config['centroid_extraction']['voxel_size']['y']:.3f}µm\")\n",
    "batch_logger.debug(f\"🔧 Full config: {config}\")\n",
    "\n",
    "# Initialize the CentroidBatchProcessor\n",
    "try:\n",
    "    batch_logger.info(\"🔄 Initializing CentroidBatchProcessor...\")\n",
    "    batch_processor = CentroidBatchProcessor(\n",
    "        config_path=str(config_path), output_base_dir=\"data/labels\"\n",
    "    )\n",
    "    batch_logger.info(\"✅ CentroidBatchProcessor initialized successfully\")\n",
    "\n",
    "except Exception as e:\n",
    "    batch_logger.error(f\"❌ Failed to initialize batch processor: {str(e)}\")\n",
    "    raise e\n",
    "\n",
    "# Display initialization summary\n",
    "print(\"✅ Batch processor ready for processing multiple files\")\n",
    "print(f\"📋 Configuration: {config_path}\")\n",
    "print(f\"📐 Voxel spacing: Z={config['centroid_extraction']['voxel_size']['z']:.1f}µm, Y/X={config['centroid_extraction']['voxel_size']['y']:.3f}µm\")\n",
    "print(f\"🔧 Output will be organized in structured directories\")\n",
    "print(f\"📊 Comprehensive logging enabled for all operations\")"
   ]
  },
  {
   "cell_type": "markdown",
   "id": "d70e3efb",
   "metadata": {},
   "source": [
    "## 4. Specify Input Folder and Processing Parameters\n",
    "\n",
    "Define the folder containing NPZ files to process and set up batch processing parameters.\n",
    "\n",
    "### Key Parameters:\n",
    "- **Input Folder**: Directory containing BlastoSpim NPZ files\n",
    "- **Output Root**: Base directory for organized results\n",
    "- **Processing Options**: Parallel processing, error handling, visualization settings\n",
    "- **File Filtering**: Pattern matching for NPZ files"
   ]
  },
  {
   "cell_type": "code",
   "execution_count": 5,
   "id": "e71748e4",
   "metadata": {},
   "outputs": [
    {
     "name": "stderr",
     "output_type": "stream",
     "text": [
      "INFO: 📂 Input folder: /mnt/home/dchhantyal/centroid_model_blastospim/data/raw/Blast\n",
      "2025-06-19 15:47:39,191 - batch_processor - INFO - 📂 Input folder: /mnt/home/dchhantyal/centroid_model_blastospim/data/raw/Blast\n",
      "INFO: 📁 Output root: /mnt/home/dchhantyal/centroid_model_blastospim/data/labels/Blast\n",
      "2025-06-19 15:47:39,192 - batch_processor - INFO - 📁 Output root: /mnt/home/dchhantyal/centroid_model_blastospim/data/labels/Blast\n",
      "INFO: 🔍 Searching for NPZ files with pattern: /mnt/home/dchhantyal/centroid_model_blastospim/data/raw/Blast/*.npz\n",
      "2025-06-19 15:47:39,196 - batch_processor - INFO - 🔍 Searching for NPZ files with pattern: /mnt/home/dchhantyal/centroid_model_blastospim/data/raw/Blast/*.npz\n",
      "INFO: 📊 Found 80 NPZ files\n",
      "2025-06-19 15:47:39,196 - batch_processor - INFO - 📊 Found 80 NPZ files\n",
      "INFO: ⚙️  Processing parameters: {'max_workers': 8, 'save_visualizations': False, 'save_detailed_stats': True, 'create_summary_report': True, 'log_individual_files': True}\n",
      "2025-06-19 15:47:39,197 - batch_processor - INFO - ⚙️  Processing parameters: {'max_workers': 8, 'save_visualizations': False, 'save_detailed_stats': True, 'create_summary_report': True, 'log_individual_files': True}\n",
      "2025-06-19 15:47:39,191 - batch_processor - INFO - 📂 Input folder: /mnt/home/dchhantyal/centroid_model_blastospim/data/raw/Blast\n",
      "INFO: 📁 Output root: /mnt/home/dchhantyal/centroid_model_blastospim/data/labels/Blast\n",
      "2025-06-19 15:47:39,192 - batch_processor - INFO - 📁 Output root: /mnt/home/dchhantyal/centroid_model_blastospim/data/labels/Blast\n",
      "INFO: 🔍 Searching for NPZ files with pattern: /mnt/home/dchhantyal/centroid_model_blastospim/data/raw/Blast/*.npz\n",
      "2025-06-19 15:47:39,196 - batch_processor - INFO - 🔍 Searching for NPZ files with pattern: /mnt/home/dchhantyal/centroid_model_blastospim/data/raw/Blast/*.npz\n",
      "INFO: 📊 Found 80 NPZ files\n",
      "2025-06-19 15:47:39,196 - batch_processor - INFO - 📊 Found 80 NPZ files\n",
      "INFO: ⚙️  Processing parameters: {'max_workers': 8, 'save_visualizations': False, 'save_detailed_stats': True, 'create_summary_report': True, 'log_individual_files': True}\n",
      "2025-06-19 15:47:39,197 - batch_processor - INFO - ⚙️  Processing parameters: {'max_workers': 8, 'save_visualizations': False, 'save_detailed_stats': True, 'create_summary_report': True, 'log_individual_files': True}\n"
     ]
    },
    {
     "name": "stdout",
     "output_type": "stream",
     "text": [
      "✅ Found 80 NPZ files ready for processing\n",
      "   1. Blast_035.npz\n",
      "   2. Blast_005.npz\n",
      "   3. Blast_049.npz\n",
      "   4. Blast_028.npz\n",
      "   5. Blast_084.npz\n",
      "   ... and 75 more files\n",
      "\n",
      "⚙️  Processing Parameters:\n",
      "   - max_workers: 8\n",
      "   - save_visualizations: False\n",
      "   - save_detailed_stats: True\n",
      "   - create_summary_report: True\n",
      "   - log_individual_files: True\n"
     ]
    }
   ],
   "source": [
    "# Define input and output directories\n",
    "input_folder = Path(project_root) / Path(\"data/raw/Blast\") \n",
    "output_root = Path(project_root) / Path(\"data/labels/Blast\")\n",
    "\n",
    "batch_logger.info(f\"📂 Input folder: {input_folder}\")\n",
    "batch_logger.info(f\"📁 Output root: {output_root}\")\n",
    "\n",
    "# Create directories if they don't exist\n",
    "if not input_folder.exists():\n",
    "    raise FileNotFoundError(f\"❌ Input folder does not exist: {input_folder}\")\n",
    "output_root.mkdir(parents=True, exist_ok=True)\n",
    "\n",
    "# Search for NPZ files in the input directory\n",
    "npz_pattern = str(input_folder / \"*.npz\")\n",
    "npz_files = glob.glob(npz_pattern)\n",
    "npz_files = npz_files # Limit to first 5 files for demonstration\n",
    "\n",
    "batch_logger.info(f\"🔍 Searching for NPZ files with pattern: {npz_pattern}\")\n",
    "batch_logger.info(f\"📊 Found {len(npz_files)} NPZ files\")\n",
    "\n",
    "if len(npz_files) == 0:\n",
    "    batch_logger.warning(\"⚠️  No NPZ files found in the specified directory\")\n",
    "    print(\"⚠️  WARNING: No NPZ files found!\")\n",
    "    print(f\"📂 Searched in: {input_folder}\")\n",
    "    print(f\"🔍 Pattern used: {npz_pattern}\")\n",
    "    print(\"\\n💡 To proceed with this example:\")\n",
    "    print(\"   1. Place your BlastoSpim NPZ files in the 'data/raw' directory\")\n",
    "    print(\"   2. Or modify 'input_folder' path above to point to your data\")\n",
    "    print(\"   3. Re-run this cell\")\n",
    "else:\n",
    "    print(f\"✅ Found {len(npz_files)} NPZ files ready for processing\")\n",
    "    for i, file_path in enumerate(npz_files[:5], 1):  # Show first 5 files\n",
    "        print(f\"   {i}. {Path(file_path).name}\")\n",
    "    if len(npz_files) > 5:\n",
    "        print(f\"   ... and {len(npz_files) - 5} more files\")\n",
    "\n",
    "# Processing parameters\n",
    "processing_params = {\n",
    "    'max_workers': 8,  # Number of parallel processes (adjust based on your system)\n",
    "    'save_visualizations': False,\n",
    "    'save_detailed_stats': True,\n",
    "    'create_summary_report': True,\n",
    "    'log_individual_files': True\n",
    "}\n",
    "\n",
    "batch_logger.info(f\"⚙️  Processing parameters: {processing_params}\")\n",
    "print(f\"\\n⚙️  Processing Parameters:\")\n",
    "for key, value in processing_params.items():\n",
    "    print(f\"   - {key}: {value}\")"
   ]
  },
  {
   "cell_type": "markdown",
   "id": "e7d5c0f4",
   "metadata": {},
   "source": [
    "## 5. Execute Batch Processing\n",
    "\n",
    "Run the batch processor on all NPZ files with comprehensive progress tracking and error handling.\n",
    "\n",
    "### Processing Features:\n",
    "- **Progress Tracking**: Real-time progress bars and time estimates\n",
    "- **Error Handling**: Continue processing even if individual files fail\n",
    "- **Parallel Processing**: Process multiple files simultaneously (if enabled)\n",
    "- **Detailed Logging**: Track all operations and results\n",
    "- **Organized Output**: Structured directory hierarchy for results"
   ]
  },
  {
   "cell_type": "code",
   "execution_count": 6,
   "id": "abaf697d",
   "metadata": {},
   "outputs": [
    {
     "name": "stderr",
     "output_type": "stream",
     "text": [
      "INFO: 🚀 Starting batch processing of 80 files\n",
      "2025-06-19 15:47:56,276 - batch_processor - INFO - 🚀 Starting batch processing of 80 files\n",
      "INFO: ⚙️  Processing parameters: {'max_workers': 8, 'save_visualizations': False, 'save_detailed_stats': True, 'create_summary_report': True, 'log_individual_files': True}\n",
      "2025-06-19 15:47:56,277 - batch_processor - INFO - ⚙️  Processing parameters: {'max_workers': 8, 'save_visualizations': False, 'save_detailed_stats': True, 'create_summary_report': True, 'log_individual_files': True}\n",
      "2025-06-19 15:47:56,276 - batch_processor - INFO - 🚀 Starting batch processing of 80 files\n",
      "INFO: ⚙️  Processing parameters: {'max_workers': 8, 'save_visualizations': False, 'save_detailed_stats': True, 'create_summary_report': True, 'log_individual_files': True}\n",
      "2025-06-19 15:47:56,277 - batch_processor - INFO - ⚙️  Processing parameters: {'max_workers': 8, 'save_visualizations': False, 'save_detailed_stats': True, 'create_summary_report': True, 'log_individual_files': True}\n"
     ]
    },
    {
     "name": "stdout",
     "output_type": "stream",
     "text": [
      "\n",
      "🚀 Processing 80 NPZ files...\n",
      "📂 Input: /mnt/home/dchhantyal/centroid_model_blastospim/data/raw/Blast\n",
      "📁 Output: /mnt/home/dchhantyal/centroid_model_blastospim/data/labels/Blast\n",
      "⚙️  Max workers: 8\n",
      "🎨 Visualizations: Disabled\n",
      "📊 Detailed stats: Enabled\n",
      "📋 Summary report: Enabled\n",
      "🔄 Parallel processing: Enabled\n",
      "\n",
      "============================================================\n",
      "✅ Batch processing initialized successfully!\n",
      "🔧 Configuration applied based on processing parameters\n"
     ]
    }
   ],
   "source": [
    "# Execute batch processing - Part 1: Initialization and Setup\n",
    "if len(npz_files) > 0:\n",
    "    batch_logger.info(f\"🚀 Starting batch processing of {len(npz_files)} files\")\n",
    "    batch_logger.info(f\"⚙️  Processing parameters: {processing_params}\")\n",
    "    start_time = time.time()\n",
    "    \n",
    "    # Import for parallel processing\n",
    "    from concurrent.futures import ThreadPoolExecutor, as_completed\n",
    "    \n",
    "    # Run batch processing with efficient parallel processing\n",
    "    print(f\"\\n🚀 Processing {len(npz_files)} NPZ files...\")\n",
    "    print(f\"📂 Input: {input_folder}\")\n",
    "    print(f\"📁 Output: {output_root}\")\n",
    "    print(f\"⚙️  Max workers: {processing_params['max_workers']}\")\n",
    "    print(f\"🎨 Visualizations: {'Enabled' if processing_params['save_visualizations'] else 'Disabled'}\")\n",
    "    print(f\"📊 Detailed stats: {'Enabled' if processing_params['save_detailed_stats'] else 'Disabled'}\")\n",
    "    print(f\"📋 Summary report: {'Enabled' if processing_params['create_summary_report'] else 'Disabled'}\")\n",
    "    print(f\"🔄 Parallel processing: {'Enabled' if processing_params['max_workers'] > 1 else 'Sequential'}\")\n",
    "    print(\"\\n\" + \"=\"*60)\n",
    "    \n",
    "    # Configure batch processor based on processing_params before processing\n",
    "    if not processing_params['save_visualizations']:\n",
    "        # Temporarily disable visualization in config if not wanted\n",
    "        original_viz_setting = batch_processor.config_manager.get(\"visualization.enabled\", True)\n",
    "        batch_processor.config_manager.set(\"visualization.enabled\", False)\n",
    "    \n",
    "    print(\"✅ Batch processing initialized successfully!\")\n",
    "    print(\"🔧 Configuration applied based on processing parameters\")\n",
    "    \n",
    "else:\n",
    "    print(\"⏭️  Skipping batch processing - no NPZ files found\")\n",
    "    print(\"💡 Add NPZ files to the input directory and re-run this cell\")\n",
    "    print(f\"🔧 Current processing parameters: {processing_params}\")\n",
    "    batch_results = None\n",
    "    batch_processing_summary = None"
   ]
  },
  {
   "cell_type": "code",
   "execution_count": 7,
   "id": "d379091e",
   "metadata": {},
   "outputs": [
    {
     "name": "stdout",
     "output_type": "stream",
     "text": [
      "✅ Worker function defined with improved visualization handling\n",
      "🔧 Each worker will create its own processor instance with proper configuration\n",
      "📊 Thread identification enabled for better progress tracking\n",
      "🎨 Visualization saving fixed - using config defaults instead of custom output directory\n",
      "🖼️  Matplotlib backend set to 'Agg' for thread-safe visualization\n",
      "🧹 Added automatic cleanup of matplotlib figures to prevent memory leaks\n"
     ]
    }
   ],
   "source": [
    "# Execute batch processing - Part 2: Define Worker Function\n",
    "if len(npz_files) > 0:\n",
    "    import threading\n",
    "    import matplotlib\n",
    "    import matplotlib.pyplot as plt\n",
    "    import warnings\n",
    "\n",
    "    # Define the worker function for parallel processing\n",
    "    def process_single_npz_file(npz_file_path):\n",
    "        \"\"\"Process a single NPZ file - designed for parallel execution with thread identification\"\"\"\n",
    "        thread_id = threading.current_thread().ident\n",
    "        worker_name = f\"Worker-{thread_id}\"\n",
    "\n",
    "        try:\n",
    "            # Set matplotlib backend for thread safety - CRITICAL for parallel processing\n",
    "            matplotlib.use('Agg', force=True)  # Use non-interactive backend\n",
    "            plt.ioff()  # Turn off interactive mode\n",
    "            warnings.filterwarnings('ignore', category=UserWarning, module='matplotlib')\n",
    "\n",
    "            # Use the shared batch processor configuration but let it handle output directories automatically\n",
    "            # This ensures proper visualization saving without directory conflicts\n",
    "            local_processor = CentroidBatchProcessor(\n",
    "                config_path=str(config_path), \n",
    "                # output_base_dir=output_root,\n",
    "            )\n",
    "\n",
    "            file_path = Path(npz_file_path)\n",
    "            filename = file_path.stem\n",
    "\n",
    "\n",
    "            # Use thread-safe logging with worker identification\n",
    "            if 'worker_logger' in globals():\n",
    "                worker_logger.info(f\"🔄 [{worker_name}] Starting: {filename}\")\n",
    "            else:\n",
    "                # Fallback to batch logger if worker logger not available\n",
    "                batch_logger.info(f\"🔄 Processing {filename} on {worker_name}...\")\n",
    "\n",
    "            # Process the single file with explicit visualization setting\n",
    "            result = local_processor.process_single_file(\n",
    "                input_file=str(file_path),\n",
    "                create_visualization=processing_params[\"save_visualizations\"],\n",
    "            )\n",
    "\n",
    "            # Force cleanup of matplotlib figures to prevent memory leaks\n",
    "            plt.close('all')\n",
    "\n",
    "            # Success logging with additional file info\n",
    "            if 'worker_logger' in globals():\n",
    "                worker_logger.info(f\"✅ [{worker_name}] Completed: {filename}\")\n",
    "                if 'output_paths' in result:\n",
    "                    worker_logger.info(f\"📁 [{worker_name}] Output: {result['output_paths']['main_dir']}\")\n",
    "                    # Check if visualization was actually created\n",
    "                    viz_path = result['output_paths']['visualization_dir'] / 'comprehensive_analysis.png'\n",
    "                    if viz_path.exists():\n",
    "                        worker_logger.info(f\"🎨 [{worker_name}] Visualization saved: {viz_path}\")\n",
    "                    else:\n",
    "                        worker_logger.warning(f\"⚠️  [{worker_name}] Visualization not found: {viz_path}\")\n",
    "            else:\n",
    "                batch_logger.info(f\"✅ Completed {filename}\")\n",
    "\n",
    "            return result\n",
    "\n",
    "        except Exception as e:\n",
    "            # Clean up matplotlib on error\n",
    "            plt.close('all')\n",
    "\n",
    "            # Error logging with thread identification\n",
    "            error_msg = f\"❌ [{worker_name}] Failed {Path(npz_file_path).name}: {str(e)}\"\n",
    "\n",
    "            if 'worker_logger' in globals():\n",
    "                worker_logger.error(error_msg)\n",
    "            else:\n",
    "                batch_logger.error(error_msg)\n",
    "\n",
    "            return {\n",
    "                'filename': Path(npz_file_path).stem,\n",
    "                'status': 'error',\n",
    "                'error': str(e),\n",
    "                'worker': worker_name\n",
    "            }\n",
    "\n",
    "    print(\"✅ Worker function defined with improved visualization handling\")\n",
    "    print(\"🔧 Each worker will create its own processor instance with proper configuration\")\n",
    "    print(\"📊 Thread identification enabled for better progress tracking\")\n",
    "    print(\"🎨 Visualization saving fixed - using config defaults instead of custom output directory\")\n",
    "    print(\"🖼️  Matplotlib backend set to 'Agg' for thread-safe visualization\")\n",
    "    print(\"🧹 Added automatic cleanup of matplotlib figures to prevent memory leaks\")\n",
    "\n",
    "else:\n",
    "    print(\"⏭️  Skipping worker function definition - no NPZ files found\")"
   ]
  },
  {
   "cell_type": "code",
   "execution_count": 8,
   "id": "539ca667",
   "metadata": {},
   "outputs": [
    {
     "name": "stderr",
     "output_type": "stream",
     "text": [
      "2025-06-19 15:48:20,853 - src.preprocessing.centroid_batch_processor - INFO - Using voxel spacing from config: Z=2.0µm, Y=0.208µm, X=0.208µm\n"
     ]
    },
    {
     "name": "stdout",
     "output_type": "stream",
     "text": [
      "🔄 Starting parallel processing with 8 workers...\n",
      "📊 Progress tracking with thread identification enabled\n",
      "--------------------------------------------------------------------------------\n",
      "15:48:20 - [Worker-23454127777536] - INFO - 🔄 [Worker-23454127777536] Starting: Blast_035\n"
     ]
    },
    {
     "name": "stderr",
     "output_type": "stream",
     "text": [
      "2025-06-19 15:48:20,860 - src.preprocessing.centroid_batch_processor - INFO - Using voxel spacing from config: Z=2.0µm, Y=0.208µm, X=0.208µm\n",
      "2025-06-19 15:48:20,861 - src.preprocessing.centroid_batch_processor - INFO - Using voxel spacing from config: Z=2.0µm, Y=0.208µm, X=0.208µm\n",
      "2025-06-19 15:48:20,865 - src.preprocessing.centroid_batch_processor - INFO - Using voxel spacing from config: Z=2.0µm, Y=0.208µm, X=0.208µm\n",
      "2025-06-19 15:48:20,861 - src.preprocessing.centroid_batch_processor - INFO - Using voxel spacing from config: Z=2.0µm, Y=0.208µm, X=0.208µm\n",
      "2025-06-19 15:48:20,865 - src.preprocessing.centroid_batch_processor - INFO - Using voxel spacing from config: Z=2.0µm, Y=0.208µm, X=0.208µm\n"
     ]
    },
    {
     "name": "stdout",
     "output_type": "stream",
     "text": [
      "15:48:20 - [Worker-23454147065600] - INFO - 🔄 [Worker-23454147065600] Starting: Blast_005\n"
     ]
    },
    {
     "name": "stderr",
     "output_type": "stream",
     "text": [
      "2025-06-19 15:48:20,866 - src.preprocessing.centroid_batch_processor - INFO - Using voxel spacing from config: Z=2.0µm, Y=0.208µm, X=0.208µm\n"
     ]
    },
    {
     "name": "stdout",
     "output_type": "stream",
     "text": [
      "15:48:20 - [Worker-23454138283776] - INFO - 🔄 [Worker-23454138283776] Starting: Blast_049\n",
      "15:48:20 - [Worker-23454136182528] - INFO - 🔄 [Worker-23454136182528] Starting: Blast_028\n",
      "15:48:20 - [Worker-23454134081280] - INFO - 🔄 [Worker-23454134081280] Starting: Blast_084\n",
      "15:48:20 - [Worker-23454136182528] - INFO - 🔄 [Worker-23454136182528] Starting: Blast_028\n",
      "15:48:20 - [Worker-23454134081280] - INFO - 🔄 [Worker-23454134081280] Starting: Blast_084\n"
     ]
    },
    {
     "name": "stderr",
     "output_type": "stream",
     "text": [
      "2025-06-19 15:48:20,867 - src.preprocessing.centroid_batch_processor - INFO - Using voxel spacing from config: Z=2.0µm, Y=0.208µm, X=0.208µm\n"
     ]
    },
    {
     "name": "stdout",
     "output_type": "stream",
     "text": [
      "15:48:20 - [Worker-23454129878784] - INFO - 🔄 [Worker-23454129878784] Starting: Blast_085\n"
     ]
    },
    {
     "name": "stderr",
     "output_type": "stream",
     "text": [
      "2025-06-19 15:48:20,860 - worker_processor - INFO - 🔄 [Worker-23454127777536] Starting: Blast_035\n",
      "2025-06-19 15:48:20,868 - src.preprocessing.centroid_batch_processor - INFO - Using voxel spacing from config: Z=2.0µm, Y=0.208µm, X=0.208µm\n",
      "2025-06-19 15:48:20,868 - src.preprocessing.centroid_batch_processor - INFO - Using voxel spacing from config: Z=2.0µm, Y=0.208µm, X=0.208µm\n"
     ]
    },
    {
     "name": "stdout",
     "output_type": "stream",
     "text": [
      "15:48:20 - [Worker-23454131980032] - INFO - 🔄 [Worker-23454131980032] Starting: Blast_051\n"
     ]
    },
    {
     "name": "stderr",
     "output_type": "stream",
     "text": [
      "2025-06-19 15:48:20,868 - src.preprocessing.centroid_batch_processor - INFO - Using voxel spacing from config: Z=2.0µm, Y=0.208µm, X=0.208µm\n"
     ]
    },
    {
     "name": "stdout",
     "output_type": "stream",
     "text": [
      "15:48:20 - [Worker-23454125577984] - INFO - 🔄 [Worker-23454125577984] Starting: Blast_111\n"
     ]
    },
    {
     "name": "stderr",
     "output_type": "stream",
     "text": [
      "2025-06-19 15:48:20,866 - worker_processor - INFO - 🔄 [Worker-23454147065600] Starting: Blast_005\n",
      "2025-06-19 15:48:20,871 - src.preprocessing.centroid_batch_processor - INFO - Processing file: Blast_005\n",
      "2025-06-19 15:48:20,868 - worker_processor - INFO - 🔄 [Worker-23454136182528] Starting: Blast_028\n",
      "2025-06-19 15:48:20,869 - worker_processor - INFO - 🔄 [Worker-23454134081280] Starting: Blast_084\n",
      "2025-06-19 15:48:20,869 - worker_processor - INFO - 🔄 [Worker-23454129878784] Starting: Blast_085\n",
      "2025-06-19 15:48:20,870 - src.preprocessing.centroid_batch_processor - INFO - Processing file: Blast_035\n",
      "2025-06-19 15:48:20,871 - worker_processor - INFO - 🔄 [Worker-23454131980032] Starting: Blast_051\n",
      "2025-06-19 15:48:20,871 - worker_processor - INFO - 🔄 [Worker-23454125577984] Starting: Blast_111\n",
      "2025-06-19 15:48:20,868 - worker_processor - INFO - 🔄 [Worker-23454138283776] Starting: Blast_049\n",
      "2025-06-19 15:48:20,872 - src.preprocessing.centroid_batch_processor - INFO - Processing file: Blast_028\n",
      "2025-06-19 15:48:20,872 - src.preprocessing.centroid_batch_processor - INFO - Processing file: Blast_084\n",
      "2025-06-19 15:48:20,873 - src.preprocessing.centroid_batch_processor - INFO - Processing file: Blast_085\n",
      "2025-06-19 15:48:20,873 - src.preprocessing.centroid_batch_processor - INFO - Processing file: Blast_051\n",
      "2025-06-19 15:48:20,873 - src.preprocessing.centroid_batch_processor - INFO - Processing file: Blast_111\n",
      "2025-06-19 15:48:20,874 - src.preprocessing.centroid_batch_processor - INFO - Processing file: Blast_049\n",
      "2025-06-19 15:48:20,871 - src.preprocessing.centroid_batch_processor - INFO - Processing file: Blast_005\n",
      "2025-06-19 15:48:20,868 - worker_processor - INFO - 🔄 [Worker-23454136182528] Starting: Blast_028\n",
      "2025-06-19 15:48:20,869 - worker_processor - INFO - 🔄 [Worker-23454134081280] Starting: Blast_084\n",
      "2025-06-19 15:48:20,869 - worker_processor - INFO - 🔄 [Worker-23454129878784] Starting: Blast_085\n",
      "2025-06-19 15:48:20,870 - src.preprocessing.centroid_batch_processor - INFO - Processing file: Blast_035\n",
      "2025-06-19 15:48:20,871 - worker_processor - INFO - 🔄 [Worker-23454131980032] Starting: Blast_051\n",
      "2025-06-19 15:48:20,871 - worker_processor - INFO - 🔄 [Worker-23454125577984] Starting: Blast_111\n",
      "2025-06-19 15:48:20,868 - worker_processor - INFO - 🔄 [Worker-23454138283776] Starting: Blast_049\n",
      "2025-06-19 15:48:20,872 - src.preprocessing.centroid_batch_processor - INFO - Processing file: Blast_028\n",
      "2025-06-19 15:48:20,872 - src.preprocessing.centroid_batch_processor - INFO - Processing file: Blast_084\n",
      "2025-06-19 15:48:20,873 - src.preprocessing.centroid_batch_processor - INFO - Processing file: Blast_085\n",
      "2025-06-19 15:48:20,873 - src.preprocessing.centroid_batch_processor - INFO - Processing file: Blast_051\n",
      "2025-06-19 15:48:20,873 - src.preprocessing.centroid_batch_processor - INFO - Processing file: Blast_111\n",
      "2025-06-19 15:48:20,874 - src.preprocessing.centroid_batch_processor - INFO - Processing file: Blast_049\n",
      "2025-06-19 15:48:20,877 - src.preprocessing.centroid_batch_processor - INFO - Loading data from: /mnt/home/dchhantyal/centroid_model_blastospim/data/raw/Blast/Blast_005.npz\n",
      "2025-06-19 15:48:20,878 - src.preprocessing.centroid_batch_processor - INFO - Loading data from: /mnt/home/dchhantyal/centroid_model_blastospim/data/raw/Blast/Blast_035.npz\n",
      "2025-06-19 15:48:20,879 - src.preprocessing.centroid_batch_processor - INFO - Loading data from: /mnt/home/dchhantyal/centroid_model_blastospim/data/raw/Blast/Blast_028.npz\n",
      "2025-06-19 15:48:20,880 - src.preprocessing.centroid_batch_processor - INFO - Loading data from: /mnt/home/dchhantyal/centroid_model_blastospim/data/raw/Blast/Blast_084.npz\n",
      "2025-06-19 15:48:20,881 - src.preprocessing.centroid_batch_processor - INFO - Loading data from: /mnt/home/dchhantyal/centroid_model_blastospim/data/raw/Blast/Blast_051.npz\n",
      "2025-06-19 15:48:20,882 - src.preprocessing.centroid_batch_processor - INFO - Loading data from: /mnt/home/dchhantyal/centroid_model_blastospim/data/raw/Blast/Blast_049.npz\n",
      "2025-06-19 15:48:20,877 - src.preprocessing.centroid_batch_processor - INFO - Loading data from: /mnt/home/dchhantyal/centroid_model_blastospim/data/raw/Blast/Blast_005.npz\n",
      "2025-06-19 15:48:20,878 - src.preprocessing.centroid_batch_processor - INFO - Loading data from: /mnt/home/dchhantyal/centroid_model_blastospim/data/raw/Blast/Blast_035.npz\n",
      "2025-06-19 15:48:20,879 - src.preprocessing.centroid_batch_processor - INFO - Loading data from: /mnt/home/dchhantyal/centroid_model_blastospim/data/raw/Blast/Blast_028.npz\n",
      "2025-06-19 15:48:20,880 - src.preprocessing.centroid_batch_processor - INFO - Loading data from: /mnt/home/dchhantyal/centroid_model_blastospim/data/raw/Blast/Blast_084.npz\n",
      "2025-06-19 15:48:20,881 - src.preprocessing.centroid_batch_processor - INFO - Loading data from: /mnt/home/dchhantyal/centroid_model_blastospim/data/raw/Blast/Blast_051.npz\n",
      "2025-06-19 15:48:20,882 - src.preprocessing.centroid_batch_processor - INFO - Loading data from: /mnt/home/dchhantyal/centroid_model_blastospim/data/raw/Blast/Blast_049.npz\n",
      "2025-06-19 15:48:20,944 - src.preprocessing.centroid_batch_processor - INFO - Loading data from: /mnt/home/dchhantyal/centroid_model_blastospim/data/raw/Blast/Blast_111.npz\n",
      "2025-06-19 15:48:20,944 - src.preprocessing.centroid_batch_processor - INFO - Loading data from: /mnt/home/dchhantyal/centroid_model_blastospim/data/raw/Blast/Blast_111.npz\n",
      "2025-06-19 15:48:20,978 - src.preprocessing.centroid_batch_processor - INFO - Loading data from: /mnt/home/dchhantyal/centroid_model_blastospim/data/raw/Blast/Blast_085.npz\n",
      "2025-06-19 15:48:20,978 - src.preprocessing.centroid_batch_processor - INFO - Loading data from: /mnt/home/dchhantyal/centroid_model_blastospim/data/raw/Blast/Blast_085.npz\n",
      "2025-06-19 15:48:22,918 - src.preprocessing.centroid_batch_processor - INFO - Volume shape: (101, 960, 1568)\n",
      "2025-06-19 15:48:22,919 - src.preprocessing.centroid_batch_processor - INFO - Mask shape: (101, 960, 1568)\n",
      "2025-06-19 15:48:22,918 - src.preprocessing.centroid_batch_processor - INFO - Volume shape: (101, 960, 1568)\n",
      "2025-06-19 15:48:22,919 - src.preprocessing.centroid_batch_processor - INFO - Mask shape: (101, 960, 1568)\n",
      "2025-06-19 15:48:23,522 - src.preprocessing.centroid_batch_processor - INFO - Number of objects: 86\n",
      "2025-06-19 15:48:23,522 - src.preprocessing.centroid_batch_processor - INFO - Number of objects: 86\n",
      "2025-06-19 15:48:23,880 - src.preprocessing.centroid_batch_processor - INFO - Volume shape: (101, 960, 1568)\n",
      "2025-06-19 15:48:23,881 - src.preprocessing.centroid_batch_processor - INFO - Mask shape: (101, 960, 1568)\n",
      "2025-06-19 15:48:23,880 - src.preprocessing.centroid_batch_processor - INFO - Volume shape: (101, 960, 1568)\n",
      "2025-06-19 15:48:23,881 - src.preprocessing.centroid_batch_processor - INFO - Mask shape: (101, 960, 1568)\n",
      "2025-06-19 15:48:24,092 - src.preprocessing.centroid_batch_processor - INFO - Saved label data to: /mnt/home/dchhantyal/centroid_model_blastospim/data/labels/Blast/label_Blast_084/data/label.npz\n",
      "2025-06-19 15:48:24,092 - src.preprocessing.centroid_batch_processor - INFO - Saved label data to: /mnt/home/dchhantyal/centroid_model_blastospim/data/labels/Blast/label_Blast_084/data/label.npz\n",
      "2025-06-19 15:48:24,487 - src.preprocessing.centroid_batch_processor - INFO - Number of objects: 87\n",
      "2025-06-19 15:48:24,487 - src.preprocessing.centroid_batch_processor - INFO - Number of objects: 87\n",
      "2025-06-19 15:48:25,040 - src.preprocessing.centroid_batch_processor - INFO - Successfully processed Blast_084\n",
      "2025-06-19 15:48:25,040 - src.preprocessing.centroid_batch_processor - INFO - Successfully processed Blast_084\n"
     ]
    },
    {
     "name": "stdout",
     "output_type": "stream",
     "text": [
      "15:48:25 - [Worker-23454134081280] - INFO - ✅ [Worker-23454134081280] Completed: Blast_084\n"
     ]
    },
    {
     "name": "stderr",
     "output_type": "stream",
     "text": [
      "2025-06-19 15:48:25,042 - worker_processor - INFO - ✅ [Worker-23454134081280] Completed: Blast_084\n"
     ]
    },
    {
     "name": "stdout",
     "output_type": "stream",
     "text": [
      "15:48:25 - [Worker-23454134081280] - INFO - 📁 [Worker-23454134081280] Output: /mnt/home/dchhantyal/centroid_model_blastospim/data/labels/Blast/label_Blast_084\n"
     ]
    },
    {
     "name": "stderr",
     "output_type": "stream",
     "text": [
      "2025-06-19 15:48:25,043 - worker_processor - INFO - 📁 [Worker-23454134081280] Output: /mnt/home/dchhantyal/centroid_model_blastospim/data/labels/Blast/label_Blast_084\n"
     ]
    },
    {
     "name": "stdout",
     "output_type": "stream",
     "text": [
      "15:48:25 - [Worker-23454134081280] - WARNING - ⚠️  [Worker-23454134081280] Visualization not found: /mnt/home/dchhantyal/centroid_model_blastospim/data/labels/Blast/label_Blast_084/visualizations/comprehensive_analysis.png\n"
     ]
    },
    {
     "name": "stderr",
     "output_type": "stream",
     "text": [
      "2025-06-19 15:48:25,043 - worker_processor - WARNING - ⚠️  [Worker-23454134081280] Visualization not found: /mnt/home/dchhantyal/centroid_model_blastospim/data/labels/Blast/label_Blast_084/visualizations/comprehensive_analysis.png\n",
      "2025-06-19 15:48:25,052 - src.preprocessing.centroid_batch_processor - INFO - Using voxel spacing from config: Z=2.0µm, Y=0.208µm, X=0.208µm\n",
      "2025-06-19 15:48:25,052 - src.preprocessing.centroid_batch_processor - INFO - Using voxel spacing from config: Z=2.0µm, Y=0.208µm, X=0.208µm\n"
     ]
    },
    {
     "name": "stdout",
     "output_type": "stream",
     "text": [
      "✅ [ 1/80] (  1.2%) | ETA: 335.9s | Blast_084.npz\n",
      "15:48:25 - [Worker-23454134081280] - INFO - 🔄 [Worker-23454134081280] Starting: Blast_060\n"
     ]
    },
    {
     "name": "stderr",
     "output_type": "stream",
     "text": [
      "2025-06-19 15:48:25,053 - worker_processor - INFO - 🔄 [Worker-23454134081280] Starting: Blast_060\n",
      "2025-06-19 15:48:25,053 - src.preprocessing.centroid_batch_processor - INFO - Processing file: Blast_060\n",
      "2025-06-19 15:48:25,054 - src.preprocessing.centroid_batch_processor - INFO - Saved label data to: /mnt/home/dchhantyal/centroid_model_blastospim/data/labels/Blast/label_Blast_085/data/label.npz\n",
      "2025-06-19 15:48:25,058 - src.preprocessing.centroid_batch_processor - INFO - Loading data from: /mnt/home/dchhantyal/centroid_model_blastospim/data/raw/Blast/Blast_060.npz\n",
      "2025-06-19 15:48:25,053 - src.preprocessing.centroid_batch_processor - INFO - Processing file: Blast_060\n",
      "2025-06-19 15:48:25,054 - src.preprocessing.centroid_batch_processor - INFO - Saved label data to: /mnt/home/dchhantyal/centroid_model_blastospim/data/labels/Blast/label_Blast_085/data/label.npz\n",
      "2025-06-19 15:48:25,058 - src.preprocessing.centroid_batch_processor - INFO - Loading data from: /mnt/home/dchhantyal/centroid_model_blastospim/data/raw/Blast/Blast_060.npz\n",
      "2025-06-19 15:48:25,390 - src.preprocessing.centroid_batch_processor - INFO - Volume shape: (86, 2048, 2048)\n",
      "2025-06-19 15:48:25,391 - src.preprocessing.centroid_batch_processor - INFO - Mask shape: (86, 2048, 2048)\n",
      "2025-06-19 15:48:25,390 - src.preprocessing.centroid_batch_processor - INFO - Volume shape: (86, 2048, 2048)\n",
      "2025-06-19 15:48:25,391 - src.preprocessing.centroid_batch_processor - INFO - Mask shape: (86, 2048, 2048)\n",
      "2025-06-19 15:48:26,026 - src.preprocessing.centroid_batch_processor - INFO - Successfully processed Blast_085\n",
      "2025-06-19 15:48:26,026 - src.preprocessing.centroid_batch_processor - INFO - Successfully processed Blast_085\n"
     ]
    },
    {
     "name": "stdout",
     "output_type": "stream",
     "text": [
      "15:48:26 - [Worker-23454129878784] - INFO - ✅ [Worker-23454129878784] Completed: Blast_085\n"
     ]
    },
    {
     "name": "stderr",
     "output_type": "stream",
     "text": [
      "2025-06-19 15:48:26,027 - worker_processor - INFO - ✅ [Worker-23454129878784] Completed: Blast_085\n"
     ]
    },
    {
     "name": "stdout",
     "output_type": "stream",
     "text": [
      "15:48:26 - [Worker-23454129878784] - INFO - 📁 [Worker-23454129878784] Output: /mnt/home/dchhantyal/centroid_model_blastospim/data/labels/Blast/label_Blast_085\n"
     ]
    },
    {
     "name": "stderr",
     "output_type": "stream",
     "text": [
      "2025-06-19 15:48:26,028 - worker_processor - INFO - 📁 [Worker-23454129878784] Output: /mnt/home/dchhantyal/centroid_model_blastospim/data/labels/Blast/label_Blast_085\n"
     ]
    },
    {
     "name": "stdout",
     "output_type": "stream",
     "text": [
      "15:48:26 - [Worker-23454129878784] - WARNING - ⚠️  [Worker-23454129878784] Visualization not found: /mnt/home/dchhantyal/centroid_model_blastospim/data/labels/Blast/label_Blast_085/visualizations/comprehensive_analysis.png\n"
     ]
    },
    {
     "name": "stderr",
     "output_type": "stream",
     "text": [
      "2025-06-19 15:48:26,029 - worker_processor - WARNING - ⚠️  [Worker-23454129878784] Visualization not found: /mnt/home/dchhantyal/centroid_model_blastospim/data/labels/Blast/label_Blast_085/visualizations/comprehensive_analysis.png\n",
      "2025-06-19 15:48:26,037 - src.preprocessing.centroid_batch_processor - INFO - Using voxel spacing from config: Z=2.0µm, Y=0.208µm, X=0.208µm\n",
      "2025-06-19 15:48:26,037 - src.preprocessing.centroid_batch_processor - INFO - Using voxel spacing from config: Z=2.0µm, Y=0.208µm, X=0.208µm\n"
     ]
    },
    {
     "name": "stdout",
     "output_type": "stream",
     "text": [
      "✅ [ 2/80] (  2.5%) | ETA: 204.3s | Blast_085.npz\n",
      "15:48:26 - [Worker-23454129878784] - INFO - 🔄 [Worker-23454129878784] Starting: Blast_078\n"
     ]
    },
    {
     "name": "stderr",
     "output_type": "stream",
     "text": [
      "2025-06-19 15:48:26,038 - worker_processor - INFO - 🔄 [Worker-23454129878784] Starting: Blast_078\n",
      "2025-06-19 15:48:26,038 - src.preprocessing.centroid_batch_processor - INFO - Processing file: Blast_078\n",
      "2025-06-19 15:48:26,038 - src.preprocessing.centroid_batch_processor - INFO - Processing file: Blast_078\n",
      "2025-06-19 15:48:26,074 - src.preprocessing.centroid_batch_processor - INFO - Loading data from: /mnt/home/dchhantyal/centroid_model_blastospim/data/raw/Blast/Blast_078.npz\n",
      "2025-06-19 15:48:26,074 - src.preprocessing.centroid_batch_processor - INFO - Loading data from: /mnt/home/dchhantyal/centroid_model_blastospim/data/raw/Blast/Blast_078.npz\n",
      "2025-06-19 15:48:26,127 - src.preprocessing.centroid_batch_processor - INFO - Volume shape: (101, 2048, 2048)\n",
      "2025-06-19 15:48:26,127 - src.preprocessing.centroid_batch_processor - INFO - Mask shape: (101, 2048, 2048)\n",
      "2025-06-19 15:48:26,127 - src.preprocessing.centroid_batch_processor - INFO - Volume shape: (101, 2048, 2048)\n",
      "2025-06-19 15:48:26,127 - src.preprocessing.centroid_batch_processor - INFO - Mask shape: (101, 2048, 2048)\n",
      "2025-06-19 15:48:26,551 - src.preprocessing.centroid_batch_processor - INFO - Volume shape: (101, 2048, 2048)\n",
      "2025-06-19 15:48:26,552 - src.preprocessing.centroid_batch_processor - INFO - Mask shape: (101, 2048, 2048)\n",
      "2025-06-19 15:48:26,551 - src.preprocessing.centroid_batch_processor - INFO - Volume shape: (101, 2048, 2048)\n",
      "2025-06-19 15:48:26,552 - src.preprocessing.centroid_batch_processor - INFO - Mask shape: (101, 2048, 2048)\n",
      "2025-06-19 15:48:26,831 - src.preprocessing.centroid_batch_processor - INFO - Number of objects: 86\n",
      "2025-06-19 15:48:26,831 - src.preprocessing.centroid_batch_processor - INFO - Number of objects: 86\n",
      "2025-06-19 15:48:27,770 - src.preprocessing.centroid_batch_processor - INFO - Number of objects: 88\n",
      "2025-06-19 15:48:27,770 - src.preprocessing.centroid_batch_processor - INFO - Number of objects: 88\n",
      "2025-06-19 15:48:28,057 - src.preprocessing.centroid_batch_processor - INFO - Volume shape: (101, 2048, 2048)\n",
      "2025-06-19 15:48:28,057 - src.preprocessing.centroid_batch_processor - INFO - Mask shape: (101, 2048, 2048)\n",
      "2025-06-19 15:48:28,057 - src.preprocessing.centroid_batch_processor - INFO - Volume shape: (101, 2048, 2048)\n",
      "2025-06-19 15:48:28,057 - src.preprocessing.centroid_batch_processor - INFO - Mask shape: (101, 2048, 2048)\n",
      "2025-06-19 15:48:28,139 - src.preprocessing.centroid_batch_processor - INFO - Saved label data to: /mnt/home/dchhantyal/centroid_model_blastospim/data/labels/Blast/label_Blast_111/data/label.npz\n",
      "2025-06-19 15:48:28,139 - src.preprocessing.centroid_batch_processor - INFO - Saved label data to: /mnt/home/dchhantyal/centroid_model_blastospim/data/labels/Blast/label_Blast_111/data/label.npz\n",
      "2025-06-19 15:48:28,193 - src.preprocessing.centroid_batch_processor - INFO - Number of objects: 98\n",
      "2025-06-19 15:48:28,193 - src.preprocessing.centroid_batch_processor - INFO - Number of objects: 98\n",
      "2025-06-19 15:48:28,225 - src.preprocessing.centroid_batch_processor - INFO - Volume shape: (101, 2048, 2048)\n",
      "2025-06-19 15:48:28,226 - src.preprocessing.centroid_batch_processor - INFO - Mask shape: (101, 2048, 2048)\n",
      "2025-06-19 15:48:28,225 - src.preprocessing.centroid_batch_processor - INFO - Volume shape: (101, 2048, 2048)\n",
      "2025-06-19 15:48:28,226 - src.preprocessing.centroid_batch_processor - INFO - Mask shape: (101, 2048, 2048)\n",
      "2025-06-19 15:48:28,500 - src.preprocessing.centroid_batch_processor - INFO - Volume shape: (101, 2048, 2048)\n",
      "2025-06-19 15:48:28,501 - src.preprocessing.centroid_batch_processor - INFO - Mask shape: (101, 2048, 2048)\n",
      "2025-06-19 15:48:28,500 - src.preprocessing.centroid_batch_processor - INFO - Volume shape: (101, 2048, 2048)\n",
      "2025-06-19 15:48:28,501 - src.preprocessing.centroid_batch_processor - INFO - Mask shape: (101, 2048, 2048)\n",
      "2025-06-19 15:48:29,312 - src.preprocessing.centroid_batch_processor - INFO - Saved label data to: /mnt/home/dchhantyal/centroid_model_blastospim/data/labels/Blast/label_Blast_051/data/label.npz\n",
      "2025-06-19 15:48:29,312 - src.preprocessing.centroid_batch_processor - INFO - Saved label data to: /mnt/home/dchhantyal/centroid_model_blastospim/data/labels/Blast/label_Blast_051/data/label.npz\n",
      "2025-06-19 15:48:29,693 - src.preprocessing.centroid_batch_processor - INFO - Number of objects: 90\n",
      "2025-06-19 15:48:29,693 - src.preprocessing.centroid_batch_processor - INFO - Number of objects: 90\n",
      "2025-06-19 15:48:29,730 - src.preprocessing.centroid_batch_processor - INFO - Saved label data to: /mnt/home/dchhantyal/centroid_model_blastospim/data/labels/Blast/label_Blast_028/data/label.npz\n",
      "2025-06-19 15:48:29,730 - src.preprocessing.centroid_batch_processor - INFO - Saved label data to: /mnt/home/dchhantyal/centroid_model_blastospim/data/labels/Blast/label_Blast_028/data/label.npz\n",
      "2025-06-19 15:48:29,865 - src.preprocessing.centroid_batch_processor - INFO - Number of objects: 97\n",
      "2025-06-19 15:48:29,865 - src.preprocessing.centroid_batch_processor - INFO - Number of objects: 97\n",
      "2025-06-19 15:48:30,142 - src.preprocessing.centroid_batch_processor - INFO - Number of objects: 57\n",
      "2025-06-19 15:48:30,142 - src.preprocessing.centroid_batch_processor - INFO - Number of objects: 57\n",
      "2025-06-19 15:48:30,393 - src.preprocessing.centroid_batch_processor - INFO - Successfully processed Blast_111\n",
      "2025-06-19 15:48:30,393 - src.preprocessing.centroid_batch_processor - INFO - Successfully processed Blast_111\n"
     ]
    },
    {
     "name": "stdout",
     "output_type": "stream",
     "text": [
      "15:48:30 - [Worker-23454125577984] - INFO - ✅ [Worker-23454125577984] Completed: Blast_111\n"
     ]
    },
    {
     "name": "stderr",
     "output_type": "stream",
     "text": [
      "2025-06-19 15:48:30,395 - worker_processor - INFO - ✅ [Worker-23454125577984] Completed: Blast_111\n"
     ]
    },
    {
     "name": "stdout",
     "output_type": "stream",
     "text": [
      "15:48:30 - [Worker-23454125577984] - INFO - 📁 [Worker-23454125577984] Output: /mnt/home/dchhantyal/centroid_model_blastospim/data/labels/Blast/label_Blast_111\n"
     ]
    },
    {
     "name": "stderr",
     "output_type": "stream",
     "text": [
      "2025-06-19 15:48:30,396 - worker_processor - INFO - 📁 [Worker-23454125577984] Output: /mnt/home/dchhantyal/centroid_model_blastospim/data/labels/Blast/label_Blast_111\n"
     ]
    },
    {
     "name": "stdout",
     "output_type": "stream",
     "text": [
      "15:48:30 - [Worker-23454125577984] - WARNING - ⚠️  [Worker-23454125577984] Visualization not found: /mnt/home/dchhantyal/centroid_model_blastospim/data/labels/Blast/label_Blast_111/visualizations/comprehensive_analysis.png\n"
     ]
    },
    {
     "name": "stderr",
     "output_type": "stream",
     "text": [
      "2025-06-19 15:48:30,397 - worker_processor - WARNING - ⚠️  [Worker-23454125577984] Visualization not found: /mnt/home/dchhantyal/centroid_model_blastospim/data/labels/Blast/label_Blast_111/visualizations/comprehensive_analysis.png\n",
      "2025-06-19 15:48:30,405 - src.preprocessing.centroid_batch_processor - INFO - Using voxel spacing from config: Z=2.0µm, Y=0.208µm, X=0.208µm\n",
      "2025-06-19 15:48:30,405 - src.preprocessing.centroid_batch_processor - INFO - Using voxel spacing from config: Z=2.0µm, Y=0.208µm, X=0.208µm\n"
     ]
    },
    {
     "name": "stdout",
     "output_type": "stream",
     "text": [
      "✅ [ 3/80] (  3.8%) | ETA: 246.5s | Blast_111.npz\n",
      "15:48:30 - [Worker-23454125577984] - INFO - 🔄 [Worker-23454125577984] Starting: Blast_023\n"
     ]
    },
    {
     "name": "stderr",
     "output_type": "stream",
     "text": [
      "2025-06-19 15:48:30,405 - worker_processor - INFO - 🔄 [Worker-23454125577984] Starting: Blast_023\n",
      "2025-06-19 15:48:30,406 - src.preprocessing.centroid_batch_processor - INFO - Processing file: Blast_023\n",
      "2025-06-19 15:48:30,411 - src.preprocessing.centroid_batch_processor - INFO - Loading data from: /mnt/home/dchhantyal/centroid_model_blastospim/data/raw/Blast/Blast_023.npz\n",
      "2025-06-19 15:48:30,406 - src.preprocessing.centroid_batch_processor - INFO - Processing file: Blast_023\n",
      "2025-06-19 15:48:30,411 - src.preprocessing.centroid_batch_processor - INFO - Loading data from: /mnt/home/dchhantyal/centroid_model_blastospim/data/raw/Blast/Blast_023.npz\n",
      "2025-06-19 15:48:31,212 - src.preprocessing.centroid_batch_processor - INFO - Saved label data to: /mnt/home/dchhantyal/centroid_model_blastospim/data/labels/Blast/label_Blast_049/data/label.npz\n",
      "2025-06-19 15:48:31,212 - src.preprocessing.centroid_batch_processor - INFO - Saved label data to: /mnt/home/dchhantyal/centroid_model_blastospim/data/labels/Blast/label_Blast_049/data/label.npz\n",
      "2025-06-19 15:48:31,382 - src.preprocessing.centroid_batch_processor - INFO - Saved label data to: /mnt/home/dchhantyal/centroid_model_blastospim/data/labels/Blast/label_Blast_035/data/label.npz\n",
      "2025-06-19 15:48:31,382 - src.preprocessing.centroid_batch_processor - INFO - Saved label data to: /mnt/home/dchhantyal/centroid_model_blastospim/data/labels/Blast/label_Blast_035/data/label.npz\n",
      "2025-06-19 15:48:31,625 - src.preprocessing.centroid_batch_processor - INFO - Volume shape: (101, 2048, 2048)\n",
      "2025-06-19 15:48:31,625 - src.preprocessing.centroid_batch_processor - INFO - Mask shape: (101, 2048, 2048)\n",
      "2025-06-19 15:48:31,625 - src.preprocessing.centroid_batch_processor - INFO - Volume shape: (101, 2048, 2048)\n",
      "2025-06-19 15:48:31,625 - src.preprocessing.centroid_batch_processor - INFO - Mask shape: (101, 2048, 2048)\n",
      "2025-06-19 15:48:31,691 - src.preprocessing.centroid_batch_processor - INFO - Saved label data to: /mnt/home/dchhantyal/centroid_model_blastospim/data/labels/Blast/label_Blast_005/data/label.npz\n",
      "2025-06-19 15:48:31,691 - src.preprocessing.centroid_batch_processor - INFO - Saved label data to: /mnt/home/dchhantyal/centroid_model_blastospim/data/labels/Blast/label_Blast_005/data/label.npz\n",
      "2025-06-19 15:48:31,876 - src.preprocessing.centroid_batch_processor - INFO - Successfully processed Blast_051\n",
      "2025-06-19 15:48:31,876 - src.preprocessing.centroid_batch_processor - INFO - Successfully processed Blast_051\n"
     ]
    },
    {
     "name": "stdout",
     "output_type": "stream",
     "text": [
      "15:48:31 - [Worker-23454131980032] - INFO - ✅ [Worker-23454131980032] Completed: Blast_051\n"
     ]
    },
    {
     "name": "stderr",
     "output_type": "stream",
     "text": [
      "2025-06-19 15:48:31,879 - worker_processor - INFO - ✅ [Worker-23454131980032] Completed: Blast_051\n"
     ]
    },
    {
     "name": "stdout",
     "output_type": "stream",
     "text": [
      "15:48:31 - [Worker-23454131980032] - INFO - 📁 [Worker-23454131980032] Output: /mnt/home/dchhantyal/centroid_model_blastospim/data/labels/Blast/label_Blast_051\n"
     ]
    },
    {
     "name": "stderr",
     "output_type": "stream",
     "text": [
      "2025-06-19 15:48:31,880 - worker_processor - INFO - 📁 [Worker-23454131980032] Output: /mnt/home/dchhantyal/centroid_model_blastospim/data/labels/Blast/label_Blast_051\n"
     ]
    },
    {
     "name": "stdout",
     "output_type": "stream",
     "text": [
      "15:48:31 - [Worker-23454131980032] - WARNING - ⚠️  [Worker-23454131980032] Visualization not found: /mnt/home/dchhantyal/centroid_model_blastospim/data/labels/Blast/label_Blast_051/visualizations/comprehensive_analysis.png\n"
     ]
    },
    {
     "name": "stderr",
     "output_type": "stream",
     "text": [
      "2025-06-19 15:48:31,881 - worker_processor - WARNING - ⚠️  [Worker-23454131980032] Visualization not found: /mnt/home/dchhantyal/centroid_model_blastospim/data/labels/Blast/label_Blast_051/visualizations/comprehensive_analysis.png\n",
      "2025-06-19 15:48:31,890 - src.preprocessing.centroid_batch_processor - INFO - Using voxel spacing from config: Z=2.0µm, Y=0.208µm, X=0.208µm\n",
      "2025-06-19 15:48:31,890 - src.preprocessing.centroid_batch_processor - INFO - Using voxel spacing from config: Z=2.0µm, Y=0.208µm, X=0.208µm\n"
     ]
    },
    {
     "name": "stdout",
     "output_type": "stream",
     "text": [
      "✅ [ 4/80] (  5.0%) | ETA: 210.7s | Blast_051.npz\n",
      "15:48:31 - [Worker-23454131980032] - INFO - 🔄 [Worker-23454131980032] Starting: Blast_037\n"
     ]
    },
    {
     "name": "stderr",
     "output_type": "stream",
     "text": [
      "2025-06-19 15:48:31,890 - worker_processor - INFO - 🔄 [Worker-23454131980032] Starting: Blast_037\n",
      "2025-06-19 15:48:31,891 - src.preprocessing.centroid_batch_processor - INFO - Processing file: Blast_037\n",
      "2025-06-19 15:48:31,895 - src.preprocessing.centroid_batch_processor - INFO - Loading data from: /mnt/home/dchhantyal/centroid_model_blastospim/data/raw/Blast/Blast_037.npz\n",
      "2025-06-19 15:48:31,891 - src.preprocessing.centroid_batch_processor - INFO - Processing file: Blast_037\n",
      "2025-06-19 15:48:31,895 - src.preprocessing.centroid_batch_processor - INFO - Loading data from: /mnt/home/dchhantyal/centroid_model_blastospim/data/raw/Blast/Blast_037.npz\n",
      "2025-06-19 15:48:32,325 - src.preprocessing.centroid_batch_processor - INFO - Successfully processed Blast_028\n",
      "2025-06-19 15:48:32,325 - src.preprocessing.centroid_batch_processor - INFO - Successfully processed Blast_028\n"
     ]
    },
    {
     "name": "stdout",
     "output_type": "stream",
     "text": [
      "15:48:32 - [Worker-23454136182528] - INFO - ✅ [Worker-23454136182528] Completed: Blast_028\n"
     ]
    },
    {
     "name": "stderr",
     "output_type": "stream",
     "text": [
      "2025-06-19 15:48:32,328 - worker_processor - INFO - ✅ [Worker-23454136182528] Completed: Blast_028\n"
     ]
    },
    {
     "name": "stdout",
     "output_type": "stream",
     "text": [
      "15:48:32 - [Worker-23454136182528] - INFO - 📁 [Worker-23454136182528] Output: /mnt/home/dchhantyal/centroid_model_blastospim/data/labels/Blast/label_Blast_028\n"
     ]
    },
    {
     "name": "stderr",
     "output_type": "stream",
     "text": [
      "2025-06-19 15:48:32,328 - worker_processor - INFO - 📁 [Worker-23454136182528] Output: /mnt/home/dchhantyal/centroid_model_blastospim/data/labels/Blast/label_Blast_028\n"
     ]
    },
    {
     "name": "stdout",
     "output_type": "stream",
     "text": [
      "15:48:32 - [Worker-23454136182528] - WARNING - ⚠️  [Worker-23454136182528] Visualization not found: /mnt/home/dchhantyal/centroid_model_blastospim/data/labels/Blast/label_Blast_028/visualizations/comprehensive_analysis.png\n"
     ]
    },
    {
     "name": "stderr",
     "output_type": "stream",
     "text": [
      "2025-06-19 15:48:32,329 - worker_processor - WARNING - ⚠️  [Worker-23454136182528] Visualization not found: /mnt/home/dchhantyal/centroid_model_blastospim/data/labels/Blast/label_Blast_028/visualizations/comprehensive_analysis.png\n",
      "2025-06-19 15:48:32,338 - src.preprocessing.centroid_batch_processor - INFO - Using voxel spacing from config: Z=2.0µm, Y=0.208µm, X=0.208µm\n",
      "2025-06-19 15:48:32,338 - src.preprocessing.centroid_batch_processor - INFO - Using voxel spacing from config: Z=2.0µm, Y=0.208µm, X=0.208µm\n"
     ]
    },
    {
     "name": "stdout",
     "output_type": "stream",
     "text": [
      "✅ [ 5/80] (  6.2%) | ETA: 173.1s | Blast_028.npz\n",
      "15:48:32 - [Worker-23454136182528] - INFO - 🔄 [Worker-23454136182528] Starting: Blast_076\n"
     ]
    },
    {
     "name": "stderr",
     "output_type": "stream",
     "text": [
      "2025-06-19 15:48:32,338 - worker_processor - INFO - 🔄 [Worker-23454136182528] Starting: Blast_076\n",
      "2025-06-19 15:48:32,339 - src.preprocessing.centroid_batch_processor - INFO - Processing file: Blast_076\n",
      "2025-06-19 15:48:32,344 - src.preprocessing.centroid_batch_processor - INFO - Loading data from: /mnt/home/dchhantyal/centroid_model_blastospim/data/raw/Blast/Blast_076.npz\n",
      "2025-06-19 15:48:32,339 - src.preprocessing.centroid_batch_processor - INFO - Processing file: Blast_076\n",
      "2025-06-19 15:48:32,344 - src.preprocessing.centroid_batch_processor - INFO - Loading data from: /mnt/home/dchhantyal/centroid_model_blastospim/data/raw/Blast/Blast_076.npz\n",
      "2025-06-19 15:48:32,664 - src.preprocessing.centroid_batch_processor - INFO - Volume shape: (101, 2048, 2048)\n",
      "2025-06-19 15:48:32,664 - src.preprocessing.centroid_batch_processor - INFO - Mask shape: (101, 2048, 2048)\n",
      "2025-06-19 15:48:32,664 - src.preprocessing.centroid_batch_processor - INFO - Volume shape: (101, 2048, 2048)\n",
      "2025-06-19 15:48:32,664 - src.preprocessing.centroid_batch_processor - INFO - Mask shape: (101, 2048, 2048)\n",
      "2025-06-19 15:48:33,270 - src.preprocessing.centroid_batch_processor - INFO - Number of objects: 92\n",
      "2025-06-19 15:48:33,270 - src.preprocessing.centroid_batch_processor - INFO - Number of objects: 92\n",
      "2025-06-19 15:48:33,796 - src.preprocessing.centroid_batch_processor - INFO - Successfully processed Blast_049\n",
      "2025-06-19 15:48:33,796 - src.preprocessing.centroid_batch_processor - INFO - Successfully processed Blast_049\n"
     ]
    },
    {
     "name": "stdout",
     "output_type": "stream",
     "text": [
      "15:48:33 - [Worker-23454138283776] - INFO - ✅ [Worker-23454138283776] Completed: Blast_049\n"
     ]
    },
    {
     "name": "stderr",
     "output_type": "stream",
     "text": [
      "2025-06-19 15:48:33,800 - worker_processor - INFO - ✅ [Worker-23454138283776] Completed: Blast_049\n"
     ]
    },
    {
     "name": "stdout",
     "output_type": "stream",
     "text": [
      "15:48:33 - [Worker-23454138283776] - INFO - 📁 [Worker-23454138283776] Output: /mnt/home/dchhantyal/centroid_model_blastospim/data/labels/Blast/label_Blast_049\n"
     ]
    },
    {
     "name": "stderr",
     "output_type": "stream",
     "text": [
      "2025-06-19 15:48:33,800 - worker_processor - INFO - 📁 [Worker-23454138283776] Output: /mnt/home/dchhantyal/centroid_model_blastospim/data/labels/Blast/label_Blast_049\n"
     ]
    },
    {
     "name": "stdout",
     "output_type": "stream",
     "text": [
      "15:48:33 - [Worker-23454138283776] - WARNING - ⚠️  [Worker-23454138283776] Visualization not found: /mnt/home/dchhantyal/centroid_model_blastospim/data/labels/Blast/label_Blast_049/visualizations/comprehensive_analysis.png\n"
     ]
    },
    {
     "name": "stderr",
     "output_type": "stream",
     "text": [
      "2025-06-19 15:48:33,801 - worker_processor - WARNING - ⚠️  [Worker-23454138283776] Visualization not found: /mnt/home/dchhantyal/centroid_model_blastospim/data/labels/Blast/label_Blast_049/visualizations/comprehensive_analysis.png\n",
      "2025-06-19 15:48:33,809 - src.preprocessing.centroid_batch_processor - INFO - Using voxel spacing from config: Z=2.0µm, Y=0.208µm, X=0.208µm\n",
      "2025-06-19 15:48:33,809 - src.preprocessing.centroid_batch_processor - INFO - Using voxel spacing from config: Z=2.0µm, Y=0.208µm, X=0.208µm\n"
     ]
    },
    {
     "name": "stdout",
     "output_type": "stream",
     "text": [
      "✅ [ 6/80] (  7.5%) | ETA: 160.5s | Blast_049.npz\n",
      "15:48:33 - [Worker-23454138283776] - INFO - 🔄 [Worker-23454138283776] Starting: Blast_006\n"
     ]
    },
    {
     "name": "stderr",
     "output_type": "stream",
     "text": [
      "2025-06-19 15:48:33,810 - worker_processor - INFO - 🔄 [Worker-23454138283776] Starting: Blast_006\n",
      "2025-06-19 15:48:33,810 - src.preprocessing.centroid_batch_processor - INFO - Processing file: Blast_006\n",
      "2025-06-19 15:48:33,815 - src.preprocessing.centroid_batch_processor - INFO - Loading data from: /mnt/home/dchhantyal/centroid_model_blastospim/data/raw/Blast/Blast_006.npz\n",
      "2025-06-19 15:48:33,810 - src.preprocessing.centroid_batch_processor - INFO - Processing file: Blast_006\n",
      "2025-06-19 15:48:33,815 - src.preprocessing.centroid_batch_processor - INFO - Loading data from: /mnt/home/dchhantyal/centroid_model_blastospim/data/raw/Blast/Blast_006.npz\n",
      "2025-06-19 15:48:33,951 - src.preprocessing.centroid_batch_processor - INFO - Successfully processed Blast_035\n",
      "2025-06-19 15:48:33,951 - src.preprocessing.centroid_batch_processor - INFO - Successfully processed Blast_035\n"
     ]
    },
    {
     "name": "stdout",
     "output_type": "stream",
     "text": [
      "15:48:33 - [Worker-23454127777536] - INFO - ✅ [Worker-23454127777536] Completed: Blast_035\n"
     ]
    },
    {
     "name": "stderr",
     "output_type": "stream",
     "text": [
      "2025-06-19 15:48:33,955 - worker_processor - INFO - ✅ [Worker-23454127777536] Completed: Blast_035\n"
     ]
    },
    {
     "name": "stdout",
     "output_type": "stream",
     "text": [
      "15:48:33 - [Worker-23454127777536] - INFO - 📁 [Worker-23454127777536] Output: /mnt/home/dchhantyal/centroid_model_blastospim/data/labels/Blast/label_Blast_035\n"
     ]
    },
    {
     "name": "stderr",
     "output_type": "stream",
     "text": [
      "2025-06-19 15:48:33,955 - worker_processor - INFO - 📁 [Worker-23454127777536] Output: /mnt/home/dchhantyal/centroid_model_blastospim/data/labels/Blast/label_Blast_035\n"
     ]
    },
    {
     "name": "stdout",
     "output_type": "stream",
     "text": [
      "15:48:33 - [Worker-23454127777536] - WARNING - ⚠️  [Worker-23454127777536] Visualization not found: /mnt/home/dchhantyal/centroid_model_blastospim/data/labels/Blast/label_Blast_035/visualizations/comprehensive_analysis.png\n"
     ]
    },
    {
     "name": "stderr",
     "output_type": "stream",
     "text": [
      "2025-06-19 15:48:33,956 - worker_processor - WARNING - ⚠️  [Worker-23454127777536] Visualization not found: /mnt/home/dchhantyal/centroid_model_blastospim/data/labels/Blast/label_Blast_035/visualizations/comprehensive_analysis.png\n",
      "2025-06-19 15:48:33,964 - src.preprocessing.centroid_batch_processor - INFO - Using voxel spacing from config: Z=2.0µm, Y=0.208µm, X=0.208µm\n",
      "2025-06-19 15:48:33,964 - src.preprocessing.centroid_batch_processor - INFO - Using voxel spacing from config: Z=2.0µm, Y=0.208µm, X=0.208µm\n"
     ]
    },
    {
     "name": "stdout",
     "output_type": "stream",
     "text": [
      "✅ [ 7/80] (  8.8%) | ETA: 137.3s | Blast_035.npz\n",
      "15:48:33 - [Worker-23454127777536] - INFO - 🔄 [Worker-23454127777536] Starting: Blast_062\n"
     ]
    },
    {
     "name": "stderr",
     "output_type": "stream",
     "text": [
      "2025-06-19 15:48:33,965 - worker_processor - INFO - 🔄 [Worker-23454127777536] Starting: Blast_062\n",
      "2025-06-19 15:48:33,965 - src.preprocessing.centroid_batch_processor - INFO - Processing file: Blast_062\n",
      "2025-06-19 15:48:33,970 - src.preprocessing.centroid_batch_processor - INFO - Loading data from: /mnt/home/dchhantyal/centroid_model_blastospim/data/raw/Blast/Blast_062.npz\n",
      "2025-06-19 15:48:33,965 - src.preprocessing.centroid_batch_processor - INFO - Processing file: Blast_062\n",
      "2025-06-19 15:48:33,970 - src.preprocessing.centroid_batch_processor - INFO - Loading data from: /mnt/home/dchhantyal/centroid_model_blastospim/data/raw/Blast/Blast_062.npz\n",
      "2025-06-19 15:48:34,294 - src.preprocessing.centroid_batch_processor - INFO - Successfully processed Blast_005\n",
      "2025-06-19 15:48:34,294 - src.preprocessing.centroid_batch_processor - INFO - Successfully processed Blast_005\n"
     ]
    },
    {
     "name": "stdout",
     "output_type": "stream",
     "text": [
      "15:48:34 - [Worker-23454147065600] - INFO - ✅ [Worker-23454147065600] Completed: Blast_005\n"
     ]
    },
    {
     "name": "stderr",
     "output_type": "stream",
     "text": [
      "2025-06-19 15:48:34,297 - worker_processor - INFO - ✅ [Worker-23454147065600] Completed: Blast_005\n"
     ]
    },
    {
     "name": "stdout",
     "output_type": "stream",
     "text": [
      "15:48:34 - [Worker-23454147065600] - INFO - 📁 [Worker-23454147065600] Output: /mnt/home/dchhantyal/centroid_model_blastospim/data/labels/Blast/label_Blast_005\n"
     ]
    },
    {
     "name": "stderr",
     "output_type": "stream",
     "text": [
      "2025-06-19 15:48:34,298 - worker_processor - INFO - 📁 [Worker-23454147065600] Output: /mnt/home/dchhantyal/centroid_model_blastospim/data/labels/Blast/label_Blast_005\n"
     ]
    },
    {
     "name": "stdout",
     "output_type": "stream",
     "text": [
      "15:48:34 - [Worker-23454147065600] - WARNING - ⚠️  [Worker-23454147065600] Visualization not found: /mnt/home/dchhantyal/centroid_model_blastospim/data/labels/Blast/label_Blast_005/visualizations/comprehensive_analysis.png\n"
     ]
    },
    {
     "name": "stderr",
     "output_type": "stream",
     "text": [
      "2025-06-19 15:48:34,299 - worker_processor - WARNING - ⚠️  [Worker-23454147065600] Visualization not found: /mnt/home/dchhantyal/centroid_model_blastospim/data/labels/Blast/label_Blast_005/visualizations/comprehensive_analysis.png\n",
      "2025-06-19 15:48:34,308 - src.preprocessing.centroid_batch_processor - INFO - Number of objects: 84\n",
      "2025-06-19 15:48:34,309 - src.preprocessing.centroid_batch_processor - INFO - Using voxel spacing from config: Z=2.0µm, Y=0.208µm, X=0.208µm\n",
      "2025-06-19 15:48:34,308 - src.preprocessing.centroid_batch_processor - INFO - Number of objects: 84\n",
      "2025-06-19 15:48:34,309 - src.preprocessing.centroid_batch_processor - INFO - Using voxel spacing from config: Z=2.0µm, Y=0.208µm, X=0.208µm\n"
     ]
    },
    {
     "name": "stdout",
     "output_type": "stream",
     "text": [
      "✅ [ 8/80] ( 10.0%) | ETA: 121.6s | Blast_005.npz\n",
      "15:48:34 - [Worker-23454147065600] - INFO - 🔄 [Worker-23454147065600] Starting: Blast_053\n"
     ]
    },
    {
     "name": "stderr",
     "output_type": "stream",
     "text": [
      "2025-06-19 15:48:34,309 - worker_processor - INFO - 🔄 [Worker-23454147065600] Starting: Blast_053\n",
      "2025-06-19 15:48:34,310 - src.preprocessing.centroid_batch_processor - INFO - Processing file: Blast_053\n",
      "2025-06-19 15:48:34,313 - src.preprocessing.centroid_batch_processor - INFO - Loading data from: /mnt/home/dchhantyal/centroid_model_blastospim/data/raw/Blast/Blast_053.npz\n",
      "2025-06-19 15:48:34,310 - src.preprocessing.centroid_batch_processor - INFO - Processing file: Blast_053\n",
      "2025-06-19 15:48:34,313 - src.preprocessing.centroid_batch_processor - INFO - Loading data from: /mnt/home/dchhantyal/centroid_model_blastospim/data/raw/Blast/Blast_053.npz\n",
      "2025-06-19 15:48:34,793 - src.preprocessing.centroid_batch_processor - INFO - Saved label data to: /mnt/home/dchhantyal/centroid_model_blastospim/data/labels/Blast/label_Blast_060/data/label.npz\n",
      "2025-06-19 15:48:34,793 - src.preprocessing.centroid_batch_processor - INFO - Saved label data to: /mnt/home/dchhantyal/centroid_model_blastospim/data/labels/Blast/label_Blast_060/data/label.npz\n",
      "2025-06-19 15:48:35,838 - src.preprocessing.centroid_batch_processor - INFO - Saved label data to: /mnt/home/dchhantyal/centroid_model_blastospim/data/labels/Blast/label_Blast_078/data/label.npz\n",
      "2025-06-19 15:48:35,838 - src.preprocessing.centroid_batch_processor - INFO - Saved label data to: /mnt/home/dchhantyal/centroid_model_blastospim/data/labels/Blast/label_Blast_078/data/label.npz\n",
      "2025-06-19 15:48:36,561 - src.preprocessing.centroid_batch_processor - INFO - Volume shape: (101, 2048, 2048)\n",
      "2025-06-19 15:48:36,562 - src.preprocessing.centroid_batch_processor - INFO - Mask shape: (101, 2048, 2048)\n",
      "2025-06-19 15:48:36,561 - src.preprocessing.centroid_batch_processor - INFO - Volume shape: (101, 2048, 2048)\n",
      "2025-06-19 15:48:36,562 - src.preprocessing.centroid_batch_processor - INFO - Mask shape: (101, 2048, 2048)\n",
      "2025-06-19 15:48:37,370 - src.preprocessing.centroid_batch_processor - INFO - Successfully processed Blast_060\n",
      "2025-06-19 15:48:37,370 - src.preprocessing.centroid_batch_processor - INFO - Successfully processed Blast_060\n"
     ]
    },
    {
     "name": "stdout",
     "output_type": "stream",
     "text": [
      "15:48:37 - [Worker-23454134081280] - INFO - ✅ [Worker-23454134081280] Completed: Blast_060\n"
     ]
    },
    {
     "name": "stderr",
     "output_type": "stream",
     "text": [
      "2025-06-19 15:48:37,373 - worker_processor - INFO - ✅ [Worker-23454134081280] Completed: Blast_060\n"
     ]
    },
    {
     "name": "stdout",
     "output_type": "stream",
     "text": [
      "15:48:37 - [Worker-23454134081280] - INFO - 📁 [Worker-23454134081280] Output: /mnt/home/dchhantyal/centroid_model_blastospim/data/labels/Blast/label_Blast_060\n"
     ]
    },
    {
     "name": "stderr",
     "output_type": "stream",
     "text": [
      "2025-06-19 15:48:37,374 - worker_processor - INFO - 📁 [Worker-23454134081280] Output: /mnt/home/dchhantyal/centroid_model_blastospim/data/labels/Blast/label_Blast_060\n"
     ]
    },
    {
     "name": "stdout",
     "output_type": "stream",
     "text": [
      "15:48:37 - [Worker-23454134081280] - WARNING - ⚠️  [Worker-23454134081280] Visualization not found: /mnt/home/dchhantyal/centroid_model_blastospim/data/labels/Blast/label_Blast_060/visualizations/comprehensive_analysis.png\n"
     ]
    },
    {
     "name": "stderr",
     "output_type": "stream",
     "text": [
      "2025-06-19 15:48:37,374 - worker_processor - WARNING - ⚠️  [Worker-23454134081280] Visualization not found: /mnt/home/dchhantyal/centroid_model_blastospim/data/labels/Blast/label_Blast_060/visualizations/comprehensive_analysis.png\n",
      "2025-06-19 15:48:37,383 - src.preprocessing.centroid_batch_processor - INFO - Using voxel spacing from config: Z=2.0µm, Y=0.208µm, X=0.208µm\n",
      "2025-06-19 15:48:37,383 - src.preprocessing.centroid_batch_processor - INFO - Using voxel spacing from config: Z=2.0µm, Y=0.208µm, X=0.208µm\n"
     ]
    },
    {
     "name": "stdout",
     "output_type": "stream",
     "text": [
      "✅ [ 9/80] ( 11.2%) | ETA: 130.9s | Blast_060.npz\n",
      "15:48:37 - [Worker-23454134081280] - INFO - 🔄 [Worker-23454134081280] Starting: Blast_063\n"
     ]
    },
    {
     "name": "stderr",
     "output_type": "stream",
     "text": [
      "2025-06-19 15:48:37,383 - worker_processor - INFO - 🔄 [Worker-23454134081280] Starting: Blast_063\n",
      "2025-06-19 15:48:37,384 - src.preprocessing.centroid_batch_processor - INFO - Processing file: Blast_063\n",
      "2025-06-19 15:48:37,387 - src.preprocessing.centroid_batch_processor - INFO - Loading data from: /mnt/home/dchhantyal/centroid_model_blastospim/data/raw/Blast/Blast_063.npz\n",
      "2025-06-19 15:48:37,384 - src.preprocessing.centroid_batch_processor - INFO - Processing file: Blast_063\n",
      "2025-06-19 15:48:37,387 - src.preprocessing.centroid_batch_processor - INFO - Loading data from: /mnt/home/dchhantyal/centroid_model_blastospim/data/raw/Blast/Blast_063.npz\n",
      "2025-06-19 15:48:38,207 - src.preprocessing.centroid_batch_processor - INFO - Number of objects: 72\n",
      "2025-06-19 15:48:38,207 - src.preprocessing.centroid_batch_processor - INFO - Number of objects: 72\n",
      "2025-06-19 15:48:38,438 - src.preprocessing.centroid_batch_processor - INFO - Successfully processed Blast_078\n",
      "2025-06-19 15:48:38,438 - src.preprocessing.centroid_batch_processor - INFO - Successfully processed Blast_078\n"
     ]
    },
    {
     "name": "stdout",
     "output_type": "stream",
     "text": [
      "15:48:38 - [Worker-23454129878784] - INFO - ✅ [Worker-23454129878784] Completed: Blast_078\n"
     ]
    },
    {
     "name": "stderr",
     "output_type": "stream",
     "text": [
      "2025-06-19 15:48:38,441 - worker_processor - INFO - ✅ [Worker-23454129878784] Completed: Blast_078\n"
     ]
    },
    {
     "name": "stdout",
     "output_type": "stream",
     "text": [
      "15:48:38 - [Worker-23454129878784] - INFO - 📁 [Worker-23454129878784] Output: /mnt/home/dchhantyal/centroid_model_blastospim/data/labels/Blast/label_Blast_078\n"
     ]
    },
    {
     "name": "stderr",
     "output_type": "stream",
     "text": [
      "2025-06-19 15:48:38,442 - worker_processor - INFO - 📁 [Worker-23454129878784] Output: /mnt/home/dchhantyal/centroid_model_blastospim/data/labels/Blast/label_Blast_078\n"
     ]
    },
    {
     "name": "stdout",
     "output_type": "stream",
     "text": [
      "15:48:38 - [Worker-23454129878784] - WARNING - ⚠️  [Worker-23454129878784] Visualization not found: /mnt/home/dchhantyal/centroid_model_blastospim/data/labels/Blast/label_Blast_078/visualizations/comprehensive_analysis.png\n"
     ]
    },
    {
     "name": "stderr",
     "output_type": "stream",
     "text": [
      "2025-06-19 15:48:38,443 - worker_processor - WARNING - ⚠️  [Worker-23454129878784] Visualization not found: /mnt/home/dchhantyal/centroid_model_blastospim/data/labels/Blast/label_Blast_078/visualizations/comprehensive_analysis.png\n",
      "2025-06-19 15:48:38,452 - src.preprocessing.centroid_batch_processor - INFO - Using voxel spacing from config: Z=2.0µm, Y=0.208µm, X=0.208µm\n",
      "2025-06-19 15:48:38,452 - src.preprocessing.centroid_batch_processor - INFO - Using voxel spacing from config: Z=2.0µm, Y=0.208µm, X=0.208µm\n"
     ]
    },
    {
     "name": "stdout",
     "output_type": "stream",
     "text": [
      "✅ [10/80] ( 12.5%) | ETA: 123.6s | Blast_078.npz\n",
      "15:48:38 - [Worker-23454129878784] - INFO - 🔄 [Worker-23454129878784] Starting: Blast_031\n"
     ]
    },
    {
     "name": "stderr",
     "output_type": "stream",
     "text": [
      "2025-06-19 15:48:38,453 - worker_processor - INFO - 🔄 [Worker-23454129878784] Starting: Blast_031\n",
      "2025-06-19 15:48:38,453 - src.preprocessing.centroid_batch_processor - INFO - Processing file: Blast_031\n",
      "2025-06-19 15:48:38,457 - src.preprocessing.centroid_batch_processor - INFO - Loading data from: /mnt/home/dchhantyal/centroid_model_blastospim/data/raw/Blast/Blast_031.npz\n",
      "2025-06-19 15:48:38,462 - src.preprocessing.centroid_batch_processor - INFO - Volume shape: (101, 2048, 2048)\n",
      "2025-06-19 15:48:38,453 - src.preprocessing.centroid_batch_processor - INFO - Processing file: Blast_031\n",
      "2025-06-19 15:48:38,457 - src.preprocessing.centroid_batch_processor - INFO - Loading data from: /mnt/home/dchhantyal/centroid_model_blastospim/data/raw/Blast/Blast_031.npz\n",
      "2025-06-19 15:48:38,462 - src.preprocessing.centroid_batch_processor - INFO - Volume shape: (101, 2048, 2048)\n",
      "2025-06-19 15:48:38,462 - src.preprocessing.centroid_batch_processor - INFO - Mask shape: (101, 2048, 2048)\n",
      "2025-06-19 15:48:38,462 - src.preprocessing.centroid_batch_processor - INFO - Mask shape: (101, 2048, 2048)\n",
      "2025-06-19 15:48:38,570 - src.preprocessing.centroid_batch_processor - INFO - Volume shape: (101, 2048, 2048)\n",
      "2025-06-19 15:48:38,571 - src.preprocessing.centroid_batch_processor - INFO - Mask shape: (101, 2048, 2048)\n",
      "2025-06-19 15:48:38,570 - src.preprocessing.centroid_batch_processor - INFO - Volume shape: (101, 2048, 2048)\n",
      "2025-06-19 15:48:38,571 - src.preprocessing.centroid_batch_processor - INFO - Mask shape: (101, 2048, 2048)\n",
      "2025-06-19 15:48:39,611 - src.preprocessing.centroid_batch_processor - INFO - Volume shape: (101, 2048, 2048)\n",
      "2025-06-19 15:48:39,611 - src.preprocessing.centroid_batch_processor - INFO - Mask shape: (101, 2048, 2048)\n",
      "2025-06-19 15:48:39,611 - src.preprocessing.centroid_batch_processor - INFO - Volume shape: (101, 2048, 2048)\n",
      "2025-06-19 15:48:39,611 - src.preprocessing.centroid_batch_processor - INFO - Mask shape: (101, 2048, 2048)\n",
      "2025-06-19 15:48:39,737 - src.preprocessing.centroid_batch_processor - INFO - Saved label data to: /mnt/home/dchhantyal/centroid_model_blastospim/data/labels/Blast/label_Blast_023/data/label.npz\n",
      "2025-06-19 15:48:39,737 - src.preprocessing.centroid_batch_processor - INFO - Saved label data to: /mnt/home/dchhantyal/centroid_model_blastospim/data/labels/Blast/label_Blast_023/data/label.npz\n",
      "2025-06-19 15:48:40,101 - src.preprocessing.centroid_batch_processor - INFO - Number of objects: 87\n",
      "2025-06-19 15:48:40,101 - src.preprocessing.centroid_batch_processor - INFO - Number of objects: 87\n",
      "2025-06-19 15:48:40,213 - src.preprocessing.centroid_batch_processor - INFO - Number of objects: 84\n",
      "2025-06-19 15:48:40,213 - src.preprocessing.centroid_batch_processor - INFO - Number of objects: 84\n",
      "2025-06-19 15:48:41,255 - src.preprocessing.centroid_batch_processor - INFO - Number of objects: 81\n",
      "2025-06-19 15:48:41,255 - src.preprocessing.centroid_batch_processor - INFO - Number of objects: 81\n",
      "2025-06-19 15:48:41,653 - src.preprocessing.centroid_batch_processor - INFO - Saved label data to: /mnt/home/dchhantyal/centroid_model_blastospim/data/labels/Blast/label_Blast_076/data/label.npz\n",
      "2025-06-19 15:48:41,653 - src.preprocessing.centroid_batch_processor - INFO - Saved label data to: /mnt/home/dchhantyal/centroid_model_blastospim/data/labels/Blast/label_Blast_076/data/label.npz\n",
      "2025-06-19 15:48:41,739 - src.preprocessing.centroid_batch_processor - INFO - Saved label data to: /mnt/home/dchhantyal/centroid_model_blastospim/data/labels/Blast/label_Blast_037/data/label.npz\n",
      "2025-06-19 15:48:41,739 - src.preprocessing.centroid_batch_processor - INFO - Saved label data to: /mnt/home/dchhantyal/centroid_model_blastospim/data/labels/Blast/label_Blast_037/data/label.npz\n",
      "2025-06-19 15:48:41,919 - src.preprocessing.centroid_batch_processor - INFO - Volume shape: (101, 2048, 2048)\n",
      "2025-06-19 15:48:41,920 - src.preprocessing.centroid_batch_processor - INFO - Mask shape: (101, 2048, 2048)\n",
      "2025-06-19 15:48:41,919 - src.preprocessing.centroid_batch_processor - INFO - Volume shape: (101, 2048, 2048)\n",
      "2025-06-19 15:48:41,920 - src.preprocessing.centroid_batch_processor - INFO - Mask shape: (101, 2048, 2048)\n",
      "2025-06-19 15:48:42,322 - src.preprocessing.centroid_batch_processor - INFO - Successfully processed Blast_023\n",
      "2025-06-19 15:48:42,322 - src.preprocessing.centroid_batch_processor - INFO - Successfully processed Blast_023\n"
     ]
    },
    {
     "name": "stdout",
     "output_type": "stream",
     "text": [
      "15:48:42 - [Worker-23454125577984] - INFO - ✅ [Worker-23454125577984] Completed: Blast_023\n"
     ]
    },
    {
     "name": "stderr",
     "output_type": "stream",
     "text": [
      "2025-06-19 15:48:42,325 - worker_processor - INFO - ✅ [Worker-23454125577984] Completed: Blast_023\n"
     ]
    },
    {
     "name": "stdout",
     "output_type": "stream",
     "text": [
      "15:48:42 - [Worker-23454125577984] - INFO - 📁 [Worker-23454125577984] Output: /mnt/home/dchhantyal/centroid_model_blastospim/data/labels/Blast/label_Blast_023\n"
     ]
    },
    {
     "name": "stderr",
     "output_type": "stream",
     "text": [
      "2025-06-19 15:48:42,325 - worker_processor - INFO - 📁 [Worker-23454125577984] Output: /mnt/home/dchhantyal/centroid_model_blastospim/data/labels/Blast/label_Blast_023\n"
     ]
    },
    {
     "name": "stdout",
     "output_type": "stream",
     "text": [
      "15:48:42 - [Worker-23454125577984] - WARNING - ⚠️  [Worker-23454125577984] Visualization not found: /mnt/home/dchhantyal/centroid_model_blastospim/data/labels/Blast/label_Blast_023/visualizations/comprehensive_analysis.png\n"
     ]
    },
    {
     "name": "stderr",
     "output_type": "stream",
     "text": [
      "2025-06-19 15:48:42,327 - worker_processor - WARNING - ⚠️  [Worker-23454125577984] Visualization not found: /mnt/home/dchhantyal/centroid_model_blastospim/data/labels/Blast/label_Blast_023/visualizations/comprehensive_analysis.png\n",
      "2025-06-19 15:48:42,336 - src.preprocessing.centroid_batch_processor - INFO - Using voxel spacing from config: Z=2.0µm, Y=0.208µm, X=0.208µm\n",
      "2025-06-19 15:48:42,336 - src.preprocessing.centroid_batch_processor - INFO - Using voxel spacing from config: Z=2.0µm, Y=0.208µm, X=0.208µm\n"
     ]
    },
    {
     "name": "stdout",
     "output_type": "stream",
     "text": [
      "✅ [11/80] ( 13.8%) | ETA: 135.1s | Blast_023.npz\n",
      "15:48:42 - [Worker-23454125577984] - INFO - 🔄 [Worker-23454125577984] Starting: Blast_034\n"
     ]
    },
    {
     "name": "stderr",
     "output_type": "stream",
     "text": [
      "2025-06-19 15:48:42,336 - worker_processor - INFO - 🔄 [Worker-23454125577984] Starting: Blast_034\n",
      "2025-06-19 15:48:42,337 - src.preprocessing.centroid_batch_processor - INFO - Processing file: Blast_034\n",
      "2025-06-19 15:48:42,341 - src.preprocessing.centroid_batch_processor - INFO - Loading data from: /mnt/home/dchhantyal/centroid_model_blastospim/data/raw/Blast/Blast_034.npz\n",
      "2025-06-19 15:48:42,337 - src.preprocessing.centroid_batch_processor - INFO - Processing file: Blast_034\n",
      "2025-06-19 15:48:42,341 - src.preprocessing.centroid_batch_processor - INFO - Loading data from: /mnt/home/dchhantyal/centroid_model_blastospim/data/raw/Blast/Blast_034.npz\n",
      "2025-06-19 15:48:42,768 - src.preprocessing.centroid_batch_processor - INFO - Saved label data to: /mnt/home/dchhantyal/centroid_model_blastospim/data/labels/Blast/label_Blast_062/data/label.npz\n",
      "2025-06-19 15:48:42,768 - src.preprocessing.centroid_batch_processor - INFO - Saved label data to: /mnt/home/dchhantyal/centroid_model_blastospim/data/labels/Blast/label_Blast_062/data/label.npz\n",
      "2025-06-19 15:48:42,870 - src.preprocessing.centroid_batch_processor - INFO - Volume shape: (101, 2048, 2048)\n",
      "2025-06-19 15:48:42,870 - src.preprocessing.centroid_batch_processor - INFO - Mask shape: (101, 2048, 2048)\n",
      "2025-06-19 15:48:42,870 - src.preprocessing.centroid_batch_processor - INFO - Volume shape: (101, 2048, 2048)\n",
      "2025-06-19 15:48:42,870 - src.preprocessing.centroid_batch_processor - INFO - Mask shape: (101, 2048, 2048)\n",
      "2025-06-19 15:48:43,076 - src.preprocessing.centroid_batch_processor - INFO - Volume shape: (101, 2048, 2048)\n",
      "2025-06-19 15:48:43,076 - src.preprocessing.centroid_batch_processor - INFO - Mask shape: (101, 2048, 2048)\n",
      "2025-06-19 15:48:43,076 - src.preprocessing.centroid_batch_processor - INFO - Volume shape: (101, 2048, 2048)\n",
      "2025-06-19 15:48:43,076 - src.preprocessing.centroid_batch_processor - INFO - Mask shape: (101, 2048, 2048)\n",
      "2025-06-19 15:48:43,562 - src.preprocessing.centroid_batch_processor - INFO - Number of objects: 83\n",
      "2025-06-19 15:48:43,562 - src.preprocessing.centroid_batch_processor - INFO - Number of objects: 83\n",
      "2025-06-19 15:48:44,234 - src.preprocessing.centroid_batch_processor - INFO - Successfully processed Blast_076\n",
      "2025-06-19 15:48:44,234 - src.preprocessing.centroid_batch_processor - INFO - Successfully processed Blast_076\n"
     ]
    },
    {
     "name": "stdout",
     "output_type": "stream",
     "text": [
      "15:48:44 - [Worker-23454136182528] - INFO - ✅ [Worker-23454136182528] Completed: Blast_076\n"
     ]
    },
    {
     "name": "stderr",
     "output_type": "stream",
     "text": [
      "2025-06-19 15:48:44,237 - worker_processor - INFO - ✅ [Worker-23454136182528] Completed: Blast_076\n"
     ]
    },
    {
     "name": "stdout",
     "output_type": "stream",
     "text": [
      "15:48:44 - [Worker-23454136182528] - INFO - 📁 [Worker-23454136182528] Output: /mnt/home/dchhantyal/centroid_model_blastospim/data/labels/Blast/label_Blast_076\n"
     ]
    },
    {
     "name": "stderr",
     "output_type": "stream",
     "text": [
      "2025-06-19 15:48:44,238 - worker_processor - INFO - 📁 [Worker-23454136182528] Output: /mnt/home/dchhantyal/centroid_model_blastospim/data/labels/Blast/label_Blast_076\n"
     ]
    },
    {
     "name": "stdout",
     "output_type": "stream",
     "text": [
      "15:48:44 - [Worker-23454136182528] - WARNING - ⚠️  [Worker-23454136182528] Visualization not found: /mnt/home/dchhantyal/centroid_model_blastospim/data/labels/Blast/label_Blast_076/visualizations/comprehensive_analysis.png\n"
     ]
    },
    {
     "name": "stderr",
     "output_type": "stream",
     "text": [
      "2025-06-19 15:48:44,238 - worker_processor - WARNING - ⚠️  [Worker-23454136182528] Visualization not found: /mnt/home/dchhantyal/centroid_model_blastospim/data/labels/Blast/label_Blast_076/visualizations/comprehensive_analysis.png\n",
      "2025-06-19 15:48:44,247 - src.preprocessing.centroid_batch_processor - INFO - Using voxel spacing from config: Z=2.0µm, Y=0.208µm, X=0.208µm\n",
      "2025-06-19 15:48:44,247 - src.preprocessing.centroid_batch_processor - INFO - Using voxel spacing from config: Z=2.0µm, Y=0.208µm, X=0.208µm\n"
     ]
    },
    {
     "name": "stdout",
     "output_type": "stream",
     "text": [
      "✅ [12/80] ( 15.0%) | ETA: 132.9s | Blast_076.npz\n",
      "15:48:44 - [Worker-23454136182528] - INFO - 🔄 [Worker-23454136182528] Starting: Blast_065\n"
     ]
    },
    {
     "name": "stderr",
     "output_type": "stream",
     "text": [
      "2025-06-19 15:48:44,247 - worker_processor - INFO - 🔄 [Worker-23454136182528] Starting: Blast_065\n",
      "2025-06-19 15:48:44,247 - src.preprocessing.centroid_batch_processor - INFO - Processing file: Blast_065\n",
      "2025-06-19 15:48:44,253 - src.preprocessing.centroid_batch_processor - INFO - Loading data from: /mnt/home/dchhantyal/centroid_model_blastospim/data/raw/Blast/Blast_065.npz\n",
      "2025-06-19 15:48:44,247 - src.preprocessing.centroid_batch_processor - INFO - Processing file: Blast_065\n",
      "2025-06-19 15:48:44,253 - src.preprocessing.centroid_batch_processor - INFO - Loading data from: /mnt/home/dchhantyal/centroid_model_blastospim/data/raw/Blast/Blast_065.npz\n",
      "2025-06-19 15:48:44,330 - src.preprocessing.centroid_batch_processor - INFO - Successfully processed Blast_037\n",
      "2025-06-19 15:48:44,330 - src.preprocessing.centroid_batch_processor - INFO - Successfully processed Blast_037\n"
     ]
    },
    {
     "name": "stdout",
     "output_type": "stream",
     "text": [
      "15:48:44 - [Worker-23454131980032] - INFO - ✅ [Worker-23454131980032] Completed: Blast_037\n"
     ]
    },
    {
     "name": "stderr",
     "output_type": "stream",
     "text": [
      "2025-06-19 15:48:44,333 - worker_processor - INFO - ✅ [Worker-23454131980032] Completed: Blast_037\n"
     ]
    },
    {
     "name": "stdout",
     "output_type": "stream",
     "text": [
      "15:48:44 - [Worker-23454131980032] - INFO - 📁 [Worker-23454131980032] Output: /mnt/home/dchhantyal/centroid_model_blastospim/data/labels/Blast/label_Blast_037\n"
     ]
    },
    {
     "name": "stderr",
     "output_type": "stream",
     "text": [
      "2025-06-19 15:48:44,333 - worker_processor - INFO - 📁 [Worker-23454131980032] Output: /mnt/home/dchhantyal/centroid_model_blastospim/data/labels/Blast/label_Blast_037\n"
     ]
    },
    {
     "name": "stdout",
     "output_type": "stream",
     "text": [
      "15:48:44 - [Worker-23454131980032] - WARNING - ⚠️  [Worker-23454131980032] Visualization not found: /mnt/home/dchhantyal/centroid_model_blastospim/data/labels/Blast/label_Blast_037/visualizations/comprehensive_analysis.png\n"
     ]
    },
    {
     "name": "stderr",
     "output_type": "stream",
     "text": [
      "2025-06-19 15:48:44,334 - worker_processor - WARNING - ⚠️  [Worker-23454131980032] Visualization not found: /mnt/home/dchhantyal/centroid_model_blastospim/data/labels/Blast/label_Blast_037/visualizations/comprehensive_analysis.png\n",
      "2025-06-19 15:48:44,342 - src.preprocessing.centroid_batch_processor - INFO - Using voxel spacing from config: Z=2.0µm, Y=0.208µm, X=0.208µm\n",
      "2025-06-19 15:48:44,342 - src.preprocessing.centroid_batch_processor - INFO - Using voxel spacing from config: Z=2.0µm, Y=0.208µm, X=0.208µm\n"
     ]
    },
    {
     "name": "stdout",
     "output_type": "stream",
     "text": [
      "✅ [13/80] ( 16.2%) | ETA: 121.3s | Blast_037.npz\n",
      "15:48:44 - [Worker-23454131980032] - INFO - 🔄 [Worker-23454131980032] Starting: Blast_048\n"
     ]
    },
    {
     "name": "stderr",
     "output_type": "stream",
     "text": [
      "2025-06-19 15:48:44,342 - worker_processor - INFO - 🔄 [Worker-23454131980032] Starting: Blast_048\n",
      "2025-06-19 15:48:44,343 - src.preprocessing.centroid_batch_processor - INFO - Processing file: Blast_048\n",
      "2025-06-19 15:48:44,347 - src.preprocessing.centroid_batch_processor - INFO - Loading data from: /mnt/home/dchhantyal/centroid_model_blastospim/data/raw/Blast/Blast_048.npz\n",
      "2025-06-19 15:48:44,343 - src.preprocessing.centroid_batch_processor - INFO - Processing file: Blast_048\n",
      "2025-06-19 15:48:44,347 - src.preprocessing.centroid_batch_processor - INFO - Loading data from: /mnt/home/dchhantyal/centroid_model_blastospim/data/raw/Blast/Blast_048.npz\n",
      "2025-06-19 15:48:44,579 - src.preprocessing.centroid_batch_processor - INFO - Number of objects: 65\n",
      "2025-06-19 15:48:44,579 - src.preprocessing.centroid_batch_processor - INFO - Number of objects: 65\n",
      "2025-06-19 15:48:44,721 - src.preprocessing.centroid_batch_processor - INFO - Number of objects: 85\n",
      "2025-06-19 15:48:44,721 - src.preprocessing.centroid_batch_processor - INFO - Number of objects: 85\n",
      "2025-06-19 15:48:45,111 - src.preprocessing.centroid_batch_processor - INFO - Saved label data to: /mnt/home/dchhantyal/centroid_model_blastospim/data/labels/Blast/label_Blast_053/data/label.npz\n",
      "2025-06-19 15:48:45,111 - src.preprocessing.centroid_batch_processor - INFO - Saved label data to: /mnt/home/dchhantyal/centroid_model_blastospim/data/labels/Blast/label_Blast_053/data/label.npz\n",
      "2025-06-19 15:48:45,354 - src.preprocessing.centroid_batch_processor - INFO - Successfully processed Blast_062\n",
      "2025-06-19 15:48:45,354 - src.preprocessing.centroid_batch_processor - INFO - Successfully processed Blast_062\n"
     ]
    },
    {
     "name": "stdout",
     "output_type": "stream",
     "text": [
      "15:48:45 - [Worker-23454127777536] - INFO - ✅ [Worker-23454127777536] Completed: Blast_062\n"
     ]
    },
    {
     "name": "stderr",
     "output_type": "stream",
     "text": [
      "2025-06-19 15:48:45,357 - worker_processor - INFO - ✅ [Worker-23454127777536] Completed: Blast_062\n"
     ]
    },
    {
     "name": "stdout",
     "output_type": "stream",
     "text": [
      "15:48:45 - [Worker-23454127777536] - INFO - 📁 [Worker-23454127777536] Output: /mnt/home/dchhantyal/centroid_model_blastospim/data/labels/Blast/label_Blast_062\n"
     ]
    },
    {
     "name": "stderr",
     "output_type": "stream",
     "text": [
      "2025-06-19 15:48:45,357 - worker_processor - INFO - 📁 [Worker-23454127777536] Output: /mnt/home/dchhantyal/centroid_model_blastospim/data/labels/Blast/label_Blast_062\n"
     ]
    },
    {
     "name": "stdout",
     "output_type": "stream",
     "text": [
      "15:48:45 - [Worker-23454127777536] - WARNING - ⚠️  [Worker-23454127777536] Visualization not found: /mnt/home/dchhantyal/centroid_model_blastospim/data/labels/Blast/label_Blast_062/visualizations/comprehensive_analysis.png\n"
     ]
    },
    {
     "name": "stderr",
     "output_type": "stream",
     "text": [
      "2025-06-19 15:48:45,358 - worker_processor - WARNING - ⚠️  [Worker-23454127777536] Visualization not found: /mnt/home/dchhantyal/centroid_model_blastospim/data/labels/Blast/label_Blast_062/visualizations/comprehensive_analysis.png\n",
      "2025-06-19 15:48:45,367 - src.preprocessing.centroid_batch_processor - INFO - Using voxel spacing from config: Z=2.0µm, Y=0.208µm, X=0.208µm\n",
      "2025-06-19 15:48:45,367 - src.preprocessing.centroid_batch_processor - INFO - Using voxel spacing from config: Z=2.0µm, Y=0.208µm, X=0.208µm\n"
     ]
    },
    {
     "name": "stdout",
     "output_type": "stream",
     "text": [
      "✅ [14/80] ( 17.5%) | ETA: 115.8s | Blast_062.npz\n",
      "15:48:45 - [Worker-23454127777536] - INFO - 🔄 [Worker-23454127777536] Starting: Blast_050\n"
     ]
    },
    {
     "name": "stderr",
     "output_type": "stream",
     "text": [
      "2025-06-19 15:48:45,368 - worker_processor - INFO - 🔄 [Worker-23454127777536] Starting: Blast_050\n",
      "2025-06-19 15:48:45,368 - src.preprocessing.centroid_batch_processor - INFO - Processing file: Blast_050\n",
      "2025-06-19 15:48:45,370 - src.preprocessing.centroid_batch_processor - INFO - Loading data from: /mnt/home/dchhantyal/centroid_model_blastospim/data/raw/Blast/Blast_050.npz\n",
      "2025-06-19 15:48:45,368 - src.preprocessing.centroid_batch_processor - INFO - Processing file: Blast_050\n",
      "2025-06-19 15:48:45,370 - src.preprocessing.centroid_batch_processor - INFO - Loading data from: /mnt/home/dchhantyal/centroid_model_blastospim/data/raw/Blast/Blast_050.npz\n",
      "2025-06-19 15:48:45,452 - src.preprocessing.centroid_batch_processor - INFO - Volume shape: (101, 2048, 2048)\n",
      "2025-06-19 15:48:45,452 - src.preprocessing.centroid_batch_processor - INFO - Mask shape: (101, 2048, 2048)\n",
      "2025-06-19 15:48:45,452 - src.preprocessing.centroid_batch_processor - INFO - Volume shape: (101, 2048, 2048)\n",
      "2025-06-19 15:48:45,452 - src.preprocessing.centroid_batch_processor - INFO - Mask shape: (101, 2048, 2048)\n",
      "2025-06-19 15:48:46,116 - src.preprocessing.centroid_batch_processor - INFO - Saved label data to: /mnt/home/dchhantyal/centroid_model_blastospim/data/labels/Blast/label_Blast_006/data/label.npz\n",
      "2025-06-19 15:48:46,116 - src.preprocessing.centroid_batch_processor - INFO - Saved label data to: /mnt/home/dchhantyal/centroid_model_blastospim/data/labels/Blast/label_Blast_006/data/label.npz\n",
      "2025-06-19 15:48:46,255 - src.preprocessing.centroid_batch_processor - INFO - Saved label data to: /mnt/home/dchhantyal/centroid_model_blastospim/data/labels/Blast/label_Blast_063/data/label.npz\n",
      "2025-06-19 15:48:46,255 - src.preprocessing.centroid_batch_processor - INFO - Saved label data to: /mnt/home/dchhantyal/centroid_model_blastospim/data/labels/Blast/label_Blast_063/data/label.npz\n",
      "2025-06-19 15:48:47,095 - src.preprocessing.centroid_batch_processor - INFO - Number of objects: 87\n",
      "2025-06-19 15:48:47,095 - src.preprocessing.centroid_batch_processor - INFO - Number of objects: 87\n",
      "2025-06-19 15:48:47,708 - src.preprocessing.centroid_batch_processor - INFO - Successfully processed Blast_053\n",
      "2025-06-19 15:48:47,708 - src.preprocessing.centroid_batch_processor - INFO - Successfully processed Blast_053\n"
     ]
    },
    {
     "name": "stdout",
     "output_type": "stream",
     "text": [
      "15:48:47 - [Worker-23454147065600] - INFO - ✅ [Worker-23454147065600] Completed: Blast_053\n"
     ]
    },
    {
     "name": "stderr",
     "output_type": "stream",
     "text": [
      "2025-06-19 15:48:47,711 - worker_processor - INFO - ✅ [Worker-23454147065600] Completed: Blast_053\n"
     ]
    },
    {
     "name": "stdout",
     "output_type": "stream",
     "text": [
      "15:48:47 - [Worker-23454147065600] - INFO - 📁 [Worker-23454147065600] Output: /mnt/home/dchhantyal/centroid_model_blastospim/data/labels/Blast/label_Blast_053\n"
     ]
    },
    {
     "name": "stderr",
     "output_type": "stream",
     "text": [
      "2025-06-19 15:48:47,712 - worker_processor - INFO - 📁 [Worker-23454147065600] Output: /mnt/home/dchhantyal/centroid_model_blastospim/data/labels/Blast/label_Blast_053\n"
     ]
    },
    {
     "name": "stdout",
     "output_type": "stream",
     "text": [
      "15:48:47 - [Worker-23454147065600] - WARNING - ⚠️  [Worker-23454147065600] Visualization not found: /mnt/home/dchhantyal/centroid_model_blastospim/data/labels/Blast/label_Blast_053/visualizations/comprehensive_analysis.png\n"
     ]
    },
    {
     "name": "stderr",
     "output_type": "stream",
     "text": [
      "2025-06-19 15:48:47,712 - worker_processor - WARNING - ⚠️  [Worker-23454147065600] Visualization not found: /mnt/home/dchhantyal/centroid_model_blastospim/data/labels/Blast/label_Blast_053/visualizations/comprehensive_analysis.png\n",
      "2025-06-19 15:48:47,721 - src.preprocessing.centroid_batch_processor - INFO - Using voxel spacing from config: Z=2.0µm, Y=0.208µm, X=0.208µm\n",
      "2025-06-19 15:48:47,721 - src.preprocessing.centroid_batch_processor - INFO - Using voxel spacing from config: Z=2.0µm, Y=0.208µm, X=0.208µm\n"
     ]
    },
    {
     "name": "stdout",
     "output_type": "stream",
     "text": [
      "✅ [15/80] ( 18.8%) | ETA: 116.7s | Blast_053.npz\n",
      "15:48:47 - [Worker-23454147065600] - INFO - 🔄 [Worker-23454147065600] Starting: Blast_108\n"
     ]
    },
    {
     "name": "stderr",
     "output_type": "stream",
     "text": [
      "2025-06-19 15:48:47,722 - worker_processor - INFO - 🔄 [Worker-23454147065600] Starting: Blast_108\n",
      "2025-06-19 15:48:47,723 - src.preprocessing.centroid_batch_processor - INFO - Processing file: Blast_108\n",
      "2025-06-19 15:48:47,726 - src.preprocessing.centroid_batch_processor - INFO - Loading data from: /mnt/home/dchhantyal/centroid_model_blastospim/data/raw/Blast/Blast_108.npz\n",
      "2025-06-19 15:48:47,723 - src.preprocessing.centroid_batch_processor - INFO - Processing file: Blast_108\n",
      "2025-06-19 15:48:47,726 - src.preprocessing.centroid_batch_processor - INFO - Loading data from: /mnt/home/dchhantyal/centroid_model_blastospim/data/raw/Blast/Blast_108.npz\n",
      "2025-06-19 15:48:48,332 - src.preprocessing.centroid_batch_processor - INFO - Volume shape: (101, 2048, 2048)\n",
      "2025-06-19 15:48:48,332 - src.preprocessing.centroid_batch_processor - INFO - Mask shape: (101, 2048, 2048)\n",
      "2025-06-19 15:48:48,332 - src.preprocessing.centroid_batch_processor - INFO - Volume shape: (101, 2048, 2048)\n",
      "2025-06-19 15:48:48,332 - src.preprocessing.centroid_batch_processor - INFO - Mask shape: (101, 2048, 2048)\n",
      "2025-06-19 15:48:48,635 - src.preprocessing.centroid_batch_processor - INFO - Saved label data to: /mnt/home/dchhantyal/centroid_model_blastospim/data/labels/Blast/label_Blast_031/data/label.npz\n",
      "2025-06-19 15:48:48,635 - src.preprocessing.centroid_batch_processor - INFO - Saved label data to: /mnt/home/dchhantyal/centroid_model_blastospim/data/labels/Blast/label_Blast_031/data/label.npz\n",
      "2025-06-19 15:48:48,756 - src.preprocessing.centroid_batch_processor - INFO - Successfully processed Blast_006\n",
      "2025-06-19 15:48:48,756 - src.preprocessing.centroid_batch_processor - INFO - Successfully processed Blast_006\n"
     ]
    },
    {
     "name": "stdout",
     "output_type": "stream",
     "text": [
      "15:48:48 - [Worker-23454138283776] - INFO - ✅ [Worker-23454138283776] Completed: Blast_006\n"
     ]
    },
    {
     "name": "stderr",
     "output_type": "stream",
     "text": [
      "2025-06-19 15:48:48,759 - worker_processor - INFO - ✅ [Worker-23454138283776] Completed: Blast_006\n"
     ]
    },
    {
     "name": "stdout",
     "output_type": "stream",
     "text": [
      "15:48:48 - [Worker-23454138283776] - INFO - 📁 [Worker-23454138283776] Output: /mnt/home/dchhantyal/centroid_model_blastospim/data/labels/Blast/label_Blast_006\n"
     ]
    },
    {
     "name": "stderr",
     "output_type": "stream",
     "text": [
      "2025-06-19 15:48:48,760 - worker_processor - INFO - 📁 [Worker-23454138283776] Output: /mnt/home/dchhantyal/centroid_model_blastospim/data/labels/Blast/label_Blast_006\n"
     ]
    },
    {
     "name": "stdout",
     "output_type": "stream",
     "text": [
      "15:48:48 - [Worker-23454138283776] - WARNING - ⚠️  [Worker-23454138283776] Visualization not found: /mnt/home/dchhantyal/centroid_model_blastospim/data/labels/Blast/label_Blast_006/visualizations/comprehensive_analysis.png\n"
     ]
    },
    {
     "name": "stderr",
     "output_type": "stream",
     "text": [
      "2025-06-19 15:48:48,761 - worker_processor - WARNING - ⚠️  [Worker-23454138283776] Visualization not found: /mnt/home/dchhantyal/centroid_model_blastospim/data/labels/Blast/label_Blast_006/visualizations/comprehensive_analysis.png\n",
      "2025-06-19 15:48:48,770 - src.preprocessing.centroid_batch_processor - INFO - Using voxel spacing from config: Z=2.0µm, Y=0.208µm, X=0.208µm\n",
      "2025-06-19 15:48:48,770 - src.preprocessing.centroid_batch_processor - INFO - Using voxel spacing from config: Z=2.0µm, Y=0.208µm, X=0.208µm\n"
     ]
    },
    {
     "name": "stdout",
     "output_type": "stream",
     "text": [
      "✅ [16/80] ( 20.0%) | ETA: 111.9s | Blast_006.npz\n",
      "15:48:48 - [Worker-23454138283776] - INFO - 🔄 [Worker-23454138283776] Starting: Blast_013\n"
     ]
    },
    {
     "name": "stderr",
     "output_type": "stream",
     "text": [
      "2025-06-19 15:48:48,770 - worker_processor - INFO - 🔄 [Worker-23454138283776] Starting: Blast_013\n",
      "2025-06-19 15:48:48,771 - src.preprocessing.centroid_batch_processor - INFO - Processing file: Blast_013\n",
      "2025-06-19 15:48:48,773 - src.preprocessing.centroid_batch_processor - INFO - Loading data from: /mnt/home/dchhantyal/centroid_model_blastospim/data/raw/Blast/Blast_013.npz\n",
      "2025-06-19 15:48:48,771 - src.preprocessing.centroid_batch_processor - INFO - Processing file: Blast_013\n",
      "2025-06-19 15:48:48,773 - src.preprocessing.centroid_batch_processor - INFO - Loading data from: /mnt/home/dchhantyal/centroid_model_blastospim/data/raw/Blast/Blast_013.npz\n",
      "2025-06-19 15:48:48,839 - src.preprocessing.centroid_batch_processor - INFO - Successfully processed Blast_063\n",
      "2025-06-19 15:48:48,839 - src.preprocessing.centroid_batch_processor - INFO - Successfully processed Blast_063\n"
     ]
    },
    {
     "name": "stdout",
     "output_type": "stream",
     "text": [
      "15:48:48 - [Worker-23454134081280] - INFO - ✅ [Worker-23454134081280] Completed: Blast_063\n"
     ]
    },
    {
     "name": "stderr",
     "output_type": "stream",
     "text": [
      "2025-06-19 15:48:48,842 - worker_processor - INFO - ✅ [Worker-23454134081280] Completed: Blast_063\n"
     ]
    },
    {
     "name": "stdout",
     "output_type": "stream",
     "text": [
      "15:48:48 - [Worker-23454134081280] - INFO - 📁 [Worker-23454134081280] Output: /mnt/home/dchhantyal/centroid_model_blastospim/data/labels/Blast/label_Blast_063\n"
     ]
    },
    {
     "name": "stderr",
     "output_type": "stream",
     "text": [
      "2025-06-19 15:48:48,843 - worker_processor - INFO - 📁 [Worker-23454134081280] Output: /mnt/home/dchhantyal/centroid_model_blastospim/data/labels/Blast/label_Blast_063\n"
     ]
    },
    {
     "name": "stdout",
     "output_type": "stream",
     "text": [
      "15:48:48 - [Worker-23454134081280] - WARNING - ⚠️  [Worker-23454134081280] Visualization not found: /mnt/home/dchhantyal/centroid_model_blastospim/data/labels/Blast/label_Blast_063/visualizations/comprehensive_analysis.png\n"
     ]
    },
    {
     "name": "stderr",
     "output_type": "stream",
     "text": [
      "2025-06-19 15:48:48,843 - worker_processor - WARNING - ⚠️  [Worker-23454134081280] Visualization not found: /mnt/home/dchhantyal/centroid_model_blastospim/data/labels/Blast/label_Blast_063/visualizations/comprehensive_analysis.png\n",
      "2025-06-19 15:48:48,852 - src.preprocessing.centroid_batch_processor - INFO - Using voxel spacing from config: Z=2.0µm, Y=0.208µm, X=0.208µm\n",
      "2025-06-19 15:48:48,852 - src.preprocessing.centroid_batch_processor - INFO - Using voxel spacing from config: Z=2.0µm, Y=0.208µm, X=0.208µm\n"
     ]
    },
    {
     "name": "stdout",
     "output_type": "stream",
     "text": [
      "✅ [17/80] ( 21.2%) | ETA: 104.0s | Blast_063.npz\n",
      "15:48:48 - [Worker-23454134081280] - INFO - 🔄 [Worker-23454134081280] Starting: Blast_024\n"
     ]
    },
    {
     "name": "stderr",
     "output_type": "stream",
     "text": [
      "2025-06-19 15:48:48,852 - worker_processor - INFO - 🔄 [Worker-23454134081280] Starting: Blast_024\n",
      "2025-06-19 15:48:48,853 - src.preprocessing.centroid_batch_processor - INFO - Processing file: Blast_024\n",
      "2025-06-19 15:48:48,857 - src.preprocessing.centroid_batch_processor - INFO - Loading data from: /mnt/home/dchhantyal/centroid_model_blastospim/data/raw/Blast/Blast_024.npz\n",
      "2025-06-19 15:48:48,853 - src.preprocessing.centroid_batch_processor - INFO - Processing file: Blast_024\n",
      "2025-06-19 15:48:48,857 - src.preprocessing.centroid_batch_processor - INFO - Loading data from: /mnt/home/dchhantyal/centroid_model_blastospim/data/raw/Blast/Blast_024.npz\n",
      "2025-06-19 15:48:49,591 - src.preprocessing.centroid_batch_processor - INFO - Volume shape: (101, 2048, 2048)\n",
      "2025-06-19 15:48:49,592 - src.preprocessing.centroid_batch_processor - INFO - Mask shape: (101, 2048, 2048)\n",
      "2025-06-19 15:48:49,591 - src.preprocessing.centroid_batch_processor - INFO - Volume shape: (101, 2048, 2048)\n",
      "2025-06-19 15:48:49,592 - src.preprocessing.centroid_batch_processor - INFO - Mask shape: (101, 2048, 2048)\n",
      "2025-06-19 15:48:49,781 - src.preprocessing.centroid_batch_processor - INFO - Volume shape: (101, 960, 1568)\n",
      "2025-06-19 15:48:49,781 - src.preprocessing.centroid_batch_processor - INFO - Mask shape: (101, 960, 1568)\n",
      "2025-06-19 15:48:49,781 - src.preprocessing.centroid_batch_processor - INFO - Volume shape: (101, 960, 1568)\n",
      "2025-06-19 15:48:49,781 - src.preprocessing.centroid_batch_processor - INFO - Mask shape: (101, 960, 1568)\n",
      "2025-06-19 15:48:49,973 - src.preprocessing.centroid_batch_processor - INFO - Number of objects: 97\n",
      "2025-06-19 15:48:49,973 - src.preprocessing.centroid_batch_processor - INFO - Number of objects: 97\n",
      "2025-06-19 15:48:50,372 - src.preprocessing.centroid_batch_processor - INFO - Number of objects: 107\n",
      "2025-06-19 15:48:50,372 - src.preprocessing.centroid_batch_processor - INFO - Number of objects: 107\n",
      "2025-06-19 15:48:50,932 - src.preprocessing.centroid_batch_processor - INFO - Saved label data to: /mnt/home/dchhantyal/centroid_model_blastospim/data/labels/Blast/label_Blast_108/data/label.npz\n",
      "2025-06-19 15:48:50,932 - src.preprocessing.centroid_batch_processor - INFO - Saved label data to: /mnt/home/dchhantyal/centroid_model_blastospim/data/labels/Blast/label_Blast_108/data/label.npz\n",
      "2025-06-19 15:48:51,214 - src.preprocessing.centroid_batch_processor - INFO - Successfully processed Blast_031\n",
      "2025-06-19 15:48:51,214 - src.preprocessing.centroid_batch_processor - INFO - Successfully processed Blast_031\n"
     ]
    },
    {
     "name": "stdout",
     "output_type": "stream",
     "text": [
      "15:48:51 - [Worker-23454129878784] - INFO - ✅ [Worker-23454129878784] Completed: Blast_031\n"
     ]
    },
    {
     "name": "stderr",
     "output_type": "stream",
     "text": [
      "2025-06-19 15:48:51,217 - worker_processor - INFO - ✅ [Worker-23454129878784] Completed: Blast_031\n"
     ]
    },
    {
     "name": "stdout",
     "output_type": "stream",
     "text": [
      "15:48:51 - [Worker-23454129878784] - INFO - 📁 [Worker-23454129878784] Output: /mnt/home/dchhantyal/centroid_model_blastospim/data/labels/Blast/label_Blast_031\n"
     ]
    },
    {
     "name": "stderr",
     "output_type": "stream",
     "text": [
      "2025-06-19 15:48:51,218 - worker_processor - INFO - 📁 [Worker-23454129878784] Output: /mnt/home/dchhantyal/centroid_model_blastospim/data/labels/Blast/label_Blast_031\n"
     ]
    },
    {
     "name": "stdout",
     "output_type": "stream",
     "text": [
      "15:48:51 - [Worker-23454129878784] - WARNING - ⚠️  [Worker-23454129878784] Visualization not found: /mnt/home/dchhantyal/centroid_model_blastospim/data/labels/Blast/label_Blast_031/visualizations/comprehensive_analysis.png\n"
     ]
    },
    {
     "name": "stderr",
     "output_type": "stream",
     "text": [
      "2025-06-19 15:48:51,219 - worker_processor - WARNING - ⚠️  [Worker-23454129878784] Visualization not found: /mnt/home/dchhantyal/centroid_model_blastospim/data/labels/Blast/label_Blast_031/visualizations/comprehensive_analysis.png\n",
      "2025-06-19 15:48:51,228 - src.preprocessing.centroid_batch_processor - INFO - Using voxel spacing from config: Z=2.0µm, Y=0.208µm, X=0.208µm\n",
      "2025-06-19 15:48:51,228 - src.preprocessing.centroid_batch_processor - INFO - Using voxel spacing from config: Z=2.0µm, Y=0.208µm, X=0.208µm\n"
     ]
    },
    {
     "name": "stdout",
     "output_type": "stream",
     "text": [
      "✅ [18/80] ( 22.5%) | ETA: 104.8s | Blast_031.npz\n",
      "15:48:51 - [Worker-23454129878784] - INFO - 🔄 [Worker-23454129878784] Starting: Blast_014\n"
     ]
    },
    {
     "name": "stderr",
     "output_type": "stream",
     "text": [
      "2025-06-19 15:48:51,228 - worker_processor - INFO - 🔄 [Worker-23454129878784] Starting: Blast_014\n",
      "2025-06-19 15:48:51,228 - src.preprocessing.centroid_batch_processor - INFO - Processing file: Blast_014\n",
      "2025-06-19 15:48:51,228 - src.preprocessing.centroid_batch_processor - INFO - Processing file: Blast_014\n",
      "2025-06-19 15:48:51,232 - src.preprocessing.centroid_batch_processor - INFO - Number of objects: 87\n",
      "2025-06-19 15:48:51,232 - src.preprocessing.centroid_batch_processor - INFO - Loading data from: /mnt/home/dchhantyal/centroid_model_blastospim/data/raw/Blast/Blast_014.npz\n",
      "2025-06-19 15:48:51,232 - src.preprocessing.centroid_batch_processor - INFO - Number of objects: 87\n",
      "2025-06-19 15:48:51,232 - src.preprocessing.centroid_batch_processor - INFO - Loading data from: /mnt/home/dchhantyal/centroid_model_blastospim/data/raw/Blast/Blast_014.npz\n",
      "2025-06-19 15:48:51,489 - src.preprocessing.centroid_batch_processor - INFO - Saved label data to: /mnt/home/dchhantyal/centroid_model_blastospim/data/labels/Blast/label_Blast_034/data/label.npz\n",
      "2025-06-19 15:48:51,489 - src.preprocessing.centroid_batch_processor - INFO - Saved label data to: /mnt/home/dchhantyal/centroid_model_blastospim/data/labels/Blast/label_Blast_034/data/label.npz\n",
      "2025-06-19 15:48:51,866 - src.preprocessing.centroid_batch_processor - INFO - Successfully processed Blast_108\n",
      "2025-06-19 15:48:51,866 - src.preprocessing.centroid_batch_processor - INFO - Successfully processed Blast_108\n"
     ]
    },
    {
     "name": "stdout",
     "output_type": "stream",
     "text": [
      "15:48:51 - [Worker-23454147065600] - INFO - ✅ [Worker-23454147065600] Completed: Blast_108\n"
     ]
    },
    {
     "name": "stderr",
     "output_type": "stream",
     "text": [
      "2025-06-19 15:48:51,868 - worker_processor - INFO - ✅ [Worker-23454147065600] Completed: Blast_108\n"
     ]
    },
    {
     "name": "stdout",
     "output_type": "stream",
     "text": [
      "15:48:51 - [Worker-23454147065600] - INFO - 📁 [Worker-23454147065600] Output: /mnt/home/dchhantyal/centroid_model_blastospim/data/labels/Blast/label_Blast_108\n"
     ]
    },
    {
     "name": "stderr",
     "output_type": "stream",
     "text": [
      "2025-06-19 15:48:51,869 - worker_processor - INFO - 📁 [Worker-23454147065600] Output: /mnt/home/dchhantyal/centroid_model_blastospim/data/labels/Blast/label_Blast_108\n"
     ]
    },
    {
     "name": "stdout",
     "output_type": "stream",
     "text": [
      "15:48:51 - [Worker-23454147065600] - WARNING - ⚠️  [Worker-23454147065600] Visualization not found: /mnt/home/dchhantyal/centroid_model_blastospim/data/labels/Blast/label_Blast_108/visualizations/comprehensive_analysis.png\n"
     ]
    },
    {
     "name": "stderr",
     "output_type": "stream",
     "text": [
      "2025-06-19 15:48:51,870 - worker_processor - WARNING - ⚠️  [Worker-23454147065600] Visualization not found: /mnt/home/dchhantyal/centroid_model_blastospim/data/labels/Blast/label_Blast_108/visualizations/comprehensive_analysis.png\n",
      "2025-06-19 15:48:51,879 - src.preprocessing.centroid_batch_processor - INFO - Using voxel spacing from config: Z=2.0µm, Y=0.208µm, X=0.208µm\n",
      "2025-06-19 15:48:51,879 - src.preprocessing.centroid_batch_processor - INFO - Using voxel spacing from config: Z=2.0µm, Y=0.208µm, X=0.208µm\n"
     ]
    },
    {
     "name": "stdout",
     "output_type": "stream",
     "text": [
      "✅ [19/80] ( 23.8%) | ETA:  99.8s | Blast_108.npz\n",
      "15:48:51 - [Worker-23454147065600] - INFO - 🔄 [Worker-23454147065600] Starting: Blast_033\n"
     ]
    },
    {
     "name": "stderr",
     "output_type": "stream",
     "text": [
      "2025-06-19 15:48:51,879 - worker_processor - INFO - 🔄 [Worker-23454147065600] Starting: Blast_033\n",
      "2025-06-19 15:48:51,879 - src.preprocessing.centroid_batch_processor - INFO - Processing file: Blast_033\n",
      "2025-06-19 15:48:51,881 - src.preprocessing.centroid_batch_processor - INFO - Loading data from: /mnt/home/dchhantyal/centroid_model_blastospim/data/raw/Blast/Blast_033.npz\n",
      "2025-06-19 15:48:51,879 - src.preprocessing.centroid_batch_processor - INFO - Processing file: Blast_033\n",
      "2025-06-19 15:48:51,881 - src.preprocessing.centroid_batch_processor - INFO - Loading data from: /mnt/home/dchhantyal/centroid_model_blastospim/data/raw/Blast/Blast_033.npz\n",
      "2025-06-19 15:48:52,209 - src.preprocessing.centroid_batch_processor - INFO - Volume shape: (101, 2048, 2048)\n",
      "2025-06-19 15:48:52,209 - src.preprocessing.centroid_batch_processor - INFO - Mask shape: (101, 2048, 2048)\n",
      "2025-06-19 15:48:52,209 - src.preprocessing.centroid_batch_processor - INFO - Volume shape: (101, 2048, 2048)\n",
      "2025-06-19 15:48:52,209 - src.preprocessing.centroid_batch_processor - INFO - Mask shape: (101, 2048, 2048)\n",
      "2025-06-19 15:48:52,397 - src.preprocessing.centroid_batch_processor - INFO - Volume shape: (101, 2048, 2048)\n",
      "2025-06-19 15:48:52,398 - src.preprocessing.centroid_batch_processor - INFO - Mask shape: (101, 2048, 2048)\n",
      "2025-06-19 15:48:52,397 - src.preprocessing.centroid_batch_processor - INFO - Volume shape: (101, 2048, 2048)\n",
      "2025-06-19 15:48:52,398 - src.preprocessing.centroid_batch_processor - INFO - Mask shape: (101, 2048, 2048)\n",
      "2025-06-19 15:48:52,751 - src.preprocessing.centroid_batch_processor - INFO - Saved label data to: /mnt/home/dchhantyal/centroid_model_blastospim/data/labels/Blast/label_Blast_065/data/label.npz\n",
      "2025-06-19 15:48:52,751 - src.preprocessing.centroid_batch_processor - INFO - Saved label data to: /mnt/home/dchhantyal/centroid_model_blastospim/data/labels/Blast/label_Blast_065/data/label.npz\n",
      "2025-06-19 15:48:53,854 - src.preprocessing.centroid_batch_processor - INFO - Number of objects: 100\n",
      "2025-06-19 15:48:53,854 - src.preprocessing.centroid_batch_processor - INFO - Number of objects: 100\n",
      "2025-06-19 15:48:54,044 - src.preprocessing.centroid_batch_processor - INFO - Number of objects: 85\n",
      "2025-06-19 15:48:54,044 - src.preprocessing.centroid_batch_processor - INFO - Number of objects: 85\n",
      "2025-06-19 15:48:54,058 - src.preprocessing.centroid_batch_processor - INFO - Successfully processed Blast_034\n",
      "2025-06-19 15:48:54,058 - src.preprocessing.centroid_batch_processor - INFO - Successfully processed Blast_034\n"
     ]
    },
    {
     "name": "stdout",
     "output_type": "stream",
     "text": [
      "15:48:54 - [Worker-23454125577984] - INFO - ✅ [Worker-23454125577984] Completed: Blast_034\n"
     ]
    },
    {
     "name": "stderr",
     "output_type": "stream",
     "text": [
      "2025-06-19 15:48:54,062 - worker_processor - INFO - ✅ [Worker-23454125577984] Completed: Blast_034\n"
     ]
    },
    {
     "name": "stdout",
     "output_type": "stream",
     "text": [
      "15:48:54 - [Worker-23454125577984] - INFO - 📁 [Worker-23454125577984] Output: /mnt/home/dchhantyal/centroid_model_blastospim/data/labels/Blast/label_Blast_034\n"
     ]
    },
    {
     "name": "stderr",
     "output_type": "stream",
     "text": [
      "2025-06-19 15:48:54,062 - worker_processor - INFO - 📁 [Worker-23454125577984] Output: /mnt/home/dchhantyal/centroid_model_blastospim/data/labels/Blast/label_Blast_034\n"
     ]
    },
    {
     "name": "stdout",
     "output_type": "stream",
     "text": [
      "15:48:54 - [Worker-23454125577984] - WARNING - ⚠️  [Worker-23454125577984] Visualization not found: /mnt/home/dchhantyal/centroid_model_blastospim/data/labels/Blast/label_Blast_034/visualizations/comprehensive_analysis.png\n"
     ]
    },
    {
     "name": "stderr",
     "output_type": "stream",
     "text": [
      "2025-06-19 15:48:54,063 - worker_processor - WARNING - ⚠️  [Worker-23454125577984] Visualization not found: /mnt/home/dchhantyal/centroid_model_blastospim/data/labels/Blast/label_Blast_034/visualizations/comprehensive_analysis.png\n",
      "2025-06-19 15:48:54,072 - src.preprocessing.centroid_batch_processor - INFO - Using voxel spacing from config: Z=2.0µm, Y=0.208µm, X=0.208µm\n",
      "2025-06-19 15:48:54,072 - src.preprocessing.centroid_batch_processor - INFO - Using voxel spacing from config: Z=2.0µm, Y=0.208µm, X=0.208µm\n"
     ]
    },
    {
     "name": "stdout",
     "output_type": "stream",
     "text": [
      "✅ [20/80] ( 25.0%) | ETA:  99.8s | Blast_034.npz\n",
      "15:48:54 - [Worker-23454125577984] - INFO - 🔄 [Worker-23454125577984] Starting: Blast_011\n"
     ]
    },
    {
     "name": "stderr",
     "output_type": "stream",
     "text": [
      "2025-06-19 15:48:54,072 - worker_processor - INFO - 🔄 [Worker-23454125577984] Starting: Blast_011\n",
      "2025-06-19 15:48:54,072 - src.preprocessing.centroid_batch_processor - INFO - Processing file: Blast_011\n",
      "2025-06-19 15:48:54,073 - src.preprocessing.centroid_batch_processor - INFO - Loading data from: /mnt/home/dchhantyal/centroid_model_blastospim/data/raw/Blast/Blast_011.npz\n",
      "2025-06-19 15:48:54,072 - src.preprocessing.centroid_batch_processor - INFO - Processing file: Blast_011\n",
      "2025-06-19 15:48:54,073 - src.preprocessing.centroid_batch_processor - INFO - Loading data from: /mnt/home/dchhantyal/centroid_model_blastospim/data/raw/Blast/Blast_011.npz\n",
      "2025-06-19 15:48:55,312 - src.preprocessing.centroid_batch_processor - INFO - Successfully processed Blast_065\n",
      "2025-06-19 15:48:55,312 - src.preprocessing.centroid_batch_processor - INFO - Successfully processed Blast_065\n"
     ]
    },
    {
     "name": "stdout",
     "output_type": "stream",
     "text": [
      "15:48:55 - [Worker-23454136182528] - INFO - ✅ [Worker-23454136182528] Completed: Blast_065\n"
     ]
    },
    {
     "name": "stderr",
     "output_type": "stream",
     "text": [
      "2025-06-19 15:48:55,315 - worker_processor - INFO - ✅ [Worker-23454136182528] Completed: Blast_065\n"
     ]
    },
    {
     "name": "stdout",
     "output_type": "stream",
     "text": [
      "15:48:55 - [Worker-23454136182528] - INFO - 📁 [Worker-23454136182528] Output: /mnt/home/dchhantyal/centroid_model_blastospim/data/labels/Blast/label_Blast_065\n"
     ]
    },
    {
     "name": "stderr",
     "output_type": "stream",
     "text": [
      "2025-06-19 15:48:55,316 - worker_processor - INFO - 📁 [Worker-23454136182528] Output: /mnt/home/dchhantyal/centroid_model_blastospim/data/labels/Blast/label_Blast_065\n"
     ]
    },
    {
     "name": "stdout",
     "output_type": "stream",
     "text": [
      "15:48:55 - [Worker-23454136182528] - WARNING - ⚠️  [Worker-23454136182528] Visualization not found: /mnt/home/dchhantyal/centroid_model_blastospim/data/labels/Blast/label_Blast_065/visualizations/comprehensive_analysis.png\n"
     ]
    },
    {
     "name": "stderr",
     "output_type": "stream",
     "text": [
      "2025-06-19 15:48:55,316 - worker_processor - WARNING - ⚠️  [Worker-23454136182528] Visualization not found: /mnt/home/dchhantyal/centroid_model_blastospim/data/labels/Blast/label_Blast_065/visualizations/comprehensive_analysis.png\n",
      "2025-06-19 15:48:55,325 - src.preprocessing.centroid_batch_processor - INFO - Using voxel spacing from config: Z=2.0µm, Y=0.208µm, X=0.208µm\n",
      "2025-06-19 15:48:55,325 - src.preprocessing.centroid_batch_processor - INFO - Using voxel spacing from config: Z=2.0µm, Y=0.208µm, X=0.208µm\n"
     ]
    },
    {
     "name": "stdout",
     "output_type": "stream",
     "text": [
      "✅ [21/80] ( 26.2%) | ETA:  97.0s | Blast_065.npz\n",
      "15:48:55 - [Worker-23454136182528] - INFO - 🔄 [Worker-23454136182528] Starting: Blast_081\n"
     ]
    },
    {
     "name": "stderr",
     "output_type": "stream",
     "text": [
      "2025-06-19 15:48:55,326 - worker_processor - INFO - 🔄 [Worker-23454136182528] Starting: Blast_081\n",
      "2025-06-19 15:48:55,326 - src.preprocessing.centroid_batch_processor - INFO - Processing file: Blast_081\n",
      "2025-06-19 15:48:55,329 - src.preprocessing.centroid_batch_processor - INFO - Loading data from: /mnt/home/dchhantyal/centroid_model_blastospim/data/raw/Blast/Blast_081.npz\n",
      "2025-06-19 15:48:55,326 - src.preprocessing.centroid_batch_processor - INFO - Processing file: Blast_081\n",
      "2025-06-19 15:48:55,329 - src.preprocessing.centroid_batch_processor - INFO - Loading data from: /mnt/home/dchhantyal/centroid_model_blastospim/data/raw/Blast/Blast_081.npz\n",
      "2025-06-19 15:48:55,406 - src.preprocessing.centroid_batch_processor - INFO - Saved label data to: /mnt/home/dchhantyal/centroid_model_blastospim/data/labels/Blast/label_Blast_048/data/label.npz\n",
      "2025-06-19 15:48:55,406 - src.preprocessing.centroid_batch_processor - INFO - Saved label data to: /mnt/home/dchhantyal/centroid_model_blastospim/data/labels/Blast/label_Blast_048/data/label.npz\n",
      "2025-06-19 15:48:55,498 - src.preprocessing.centroid_batch_processor - INFO - Volume shape: (101, 2048, 2048)\n",
      "2025-06-19 15:48:55,499 - src.preprocessing.centroid_batch_processor - INFO - Mask shape: (101, 2048, 2048)\n",
      "2025-06-19 15:48:55,498 - src.preprocessing.centroid_batch_processor - INFO - Volume shape: (101, 2048, 2048)\n",
      "2025-06-19 15:48:55,499 - src.preprocessing.centroid_batch_processor - INFO - Mask shape: (101, 2048, 2048)\n",
      "2025-06-19 15:48:55,562 - src.preprocessing.centroid_batch_processor - INFO - Saved label data to: /mnt/home/dchhantyal/centroid_model_blastospim/data/labels/Blast/label_Blast_050/data/label.npz\n",
      "2025-06-19 15:48:55,562 - src.preprocessing.centroid_batch_processor - INFO - Saved label data to: /mnt/home/dchhantyal/centroid_model_blastospim/data/labels/Blast/label_Blast_050/data/label.npz\n",
      "2025-06-19 15:48:56,039 - src.preprocessing.centroid_batch_processor - INFO - Volume shape: (101, 2048, 2048)\n",
      "2025-06-19 15:48:56,040 - src.preprocessing.centroid_batch_processor - INFO - Mask shape: (101, 2048, 2048)\n",
      "2025-06-19 15:48:56,039 - src.preprocessing.centroid_batch_processor - INFO - Volume shape: (101, 2048, 2048)\n",
      "2025-06-19 15:48:56,040 - src.preprocessing.centroid_batch_processor - INFO - Mask shape: (101, 2048, 2048)\n",
      "2025-06-19 15:48:57,188 - src.preprocessing.centroid_batch_processor - INFO - Number of objects: 71\n",
      "2025-06-19 15:48:57,188 - src.preprocessing.centroid_batch_processor - INFO - Number of objects: 71\n",
      "2025-06-19 15:48:57,501 - src.preprocessing.centroid_batch_processor - INFO - Volume shape: (101, 2048, 2048)\n",
      "2025-06-19 15:48:57,501 - src.preprocessing.centroid_batch_processor - INFO - Mask shape: (101, 2048, 2048)\n",
      "2025-06-19 15:48:57,501 - src.preprocessing.centroid_batch_processor - INFO - Volume shape: (101, 2048, 2048)\n",
      "2025-06-19 15:48:57,501 - src.preprocessing.centroid_batch_processor - INFO - Mask shape: (101, 2048, 2048)\n",
      "2025-06-19 15:48:57,679 - src.preprocessing.centroid_batch_processor - INFO - Number of objects: 72\n",
      "2025-06-19 15:48:57,679 - src.preprocessing.centroid_batch_processor - INFO - Number of objects: 72\n",
      "2025-06-19 15:48:58,007 - src.preprocessing.centroid_batch_processor - INFO - Successfully processed Blast_048\n",
      "2025-06-19 15:48:58,007 - src.preprocessing.centroid_batch_processor - INFO - Successfully processed Blast_048\n"
     ]
    },
    {
     "name": "stdout",
     "output_type": "stream",
     "text": [
      "15:48:58 - [Worker-23454131980032] - INFO - ✅ [Worker-23454131980032] Completed: Blast_048\n"
     ]
    },
    {
     "name": "stderr",
     "output_type": "stream",
     "text": [
      "2025-06-19 15:48:58,010 - worker_processor - INFO - ✅ [Worker-23454131980032] Completed: Blast_048\n"
     ]
    },
    {
     "name": "stdout",
     "output_type": "stream",
     "text": [
      "15:48:58 - [Worker-23454131980032] - INFO - 📁 [Worker-23454131980032] Output: /mnt/home/dchhantyal/centroid_model_blastospim/data/labels/Blast/label_Blast_048\n"
     ]
    },
    {
     "name": "stderr",
     "output_type": "stream",
     "text": [
      "2025-06-19 15:48:58,011 - worker_processor - INFO - 📁 [Worker-23454131980032] Output: /mnt/home/dchhantyal/centroid_model_blastospim/data/labels/Blast/label_Blast_048\n"
     ]
    },
    {
     "name": "stdout",
     "output_type": "stream",
     "text": [
      "15:48:58 - [Worker-23454131980032] - WARNING - ⚠️  [Worker-23454131980032] Visualization not found: /mnt/home/dchhantyal/centroid_model_blastospim/data/labels/Blast/label_Blast_048/visualizations/comprehensive_analysis.png\n"
     ]
    },
    {
     "name": "stderr",
     "output_type": "stream",
     "text": [
      "2025-06-19 15:48:58,012 - worker_processor - WARNING - ⚠️  [Worker-23454131980032] Visualization not found: /mnt/home/dchhantyal/centroid_model_blastospim/data/labels/Blast/label_Blast_048/visualizations/comprehensive_analysis.png\n",
      "2025-06-19 15:48:58,020 - src.preprocessing.centroid_batch_processor - INFO - Using voxel spacing from config: Z=2.0µm, Y=0.208µm, X=0.208µm\n",
      "2025-06-19 15:48:58,020 - src.preprocessing.centroid_batch_processor - INFO - Using voxel spacing from config: Z=2.0µm, Y=0.208µm, X=0.208µm\n"
     ]
    },
    {
     "name": "stdout",
     "output_type": "stream",
     "text": [
      "✅ [22/80] ( 27.5%) | ETA:  98.1s | Blast_048.npz\n",
      "15:48:58 - [Worker-23454131980032] - INFO - 🔄 [Worker-23454131980032] Starting: Blast_003\n"
     ]
    },
    {
     "name": "stderr",
     "output_type": "stream",
     "text": [
      "2025-06-19 15:48:58,020 - worker_processor - INFO - 🔄 [Worker-23454131980032] Starting: Blast_003\n",
      "2025-06-19 15:48:58,021 - src.preprocessing.centroid_batch_processor - INFO - Processing file: Blast_003\n",
      "2025-06-19 15:48:58,021 - src.preprocessing.centroid_batch_processor - INFO - Processing file: Blast_003\n",
      "2025-06-19 15:48:58,081 - src.preprocessing.centroid_batch_processor - INFO - Volume shape: (101, 2048, 2048)\n",
      "2025-06-19 15:48:58,081 - src.preprocessing.centroid_batch_processor - INFO - Mask shape: (101, 2048, 2048)\n",
      "2025-06-19 15:48:58,081 - src.preprocessing.centroid_batch_processor - INFO - Volume shape: (101, 2048, 2048)\n",
      "2025-06-19 15:48:58,081 - src.preprocessing.centroid_batch_processor - INFO - Mask shape: (101, 2048, 2048)\n",
      "2025-06-19 15:48:58,133 - src.preprocessing.centroid_batch_processor - INFO - Loading data from: /mnt/home/dchhantyal/centroid_model_blastospim/data/raw/Blast/Blast_003.npz\n",
      "2025-06-19 15:48:58,140 - src.preprocessing.centroid_batch_processor - INFO - Successfully processed Blast_050\n",
      "2025-06-19 15:48:58,133 - src.preprocessing.centroid_batch_processor - INFO - Loading data from: /mnt/home/dchhantyal/centroid_model_blastospim/data/raw/Blast/Blast_003.npz\n",
      "2025-06-19 15:48:58,140 - src.preprocessing.centroid_batch_processor - INFO - Successfully processed Blast_050\n"
     ]
    },
    {
     "name": "stdout",
     "output_type": "stream",
     "text": [
      "15:48:58 - [Worker-23454127777536] - INFO - ✅ [Worker-23454127777536] Completed: Blast_050\n"
     ]
    },
    {
     "name": "stderr",
     "output_type": "stream",
     "text": [
      "2025-06-19 15:48:58,143 - worker_processor - INFO - ✅ [Worker-23454127777536] Completed: Blast_050\n"
     ]
    },
    {
     "name": "stdout",
     "output_type": "stream",
     "text": [
      "15:48:58 - [Worker-23454127777536] - INFO - 📁 [Worker-23454127777536] Output: /mnt/home/dchhantyal/centroid_model_blastospim/data/labels/Blast/label_Blast_050\n"
     ]
    },
    {
     "name": "stderr",
     "output_type": "stream",
     "text": [
      "2025-06-19 15:48:58,144 - worker_processor - INFO - 📁 [Worker-23454127777536] Output: /mnt/home/dchhantyal/centroid_model_blastospim/data/labels/Blast/label_Blast_050\n"
     ]
    },
    {
     "name": "stdout",
     "output_type": "stream",
     "text": [
      "15:48:58 - [Worker-23454127777536] - WARNING - ⚠️  [Worker-23454127777536] Visualization not found: /mnt/home/dchhantyal/centroid_model_blastospim/data/labels/Blast/label_Blast_050/visualizations/comprehensive_analysis.png\n"
     ]
    },
    {
     "name": "stderr",
     "output_type": "stream",
     "text": [
      "2025-06-19 15:48:58,144 - worker_processor - WARNING - ⚠️  [Worker-23454127777536] Visualization not found: /mnt/home/dchhantyal/centroid_model_blastospim/data/labels/Blast/label_Blast_050/visualizations/comprehensive_analysis.png\n",
      "2025-06-19 15:48:58,153 - src.preprocessing.centroid_batch_processor - INFO - Using voxel spacing from config: Z=2.0µm, Y=0.208µm, X=0.208µm\n",
      "2025-06-19 15:48:58,153 - src.preprocessing.centroid_batch_processor - INFO - Using voxel spacing from config: Z=2.0µm, Y=0.208µm, X=0.208µm\n"
     ]
    },
    {
     "name": "stdout",
     "output_type": "stream",
     "text": [
      "✅ [23/80] ( 28.7%) | ETA:  92.6s | Blast_050.npz\n",
      "15:48:58 - [Worker-23454127777536] - INFO - 🔄 [Worker-23454127777536] Starting: Blast_025\n"
     ]
    },
    {
     "name": "stderr",
     "output_type": "stream",
     "text": [
      "2025-06-19 15:48:58,153 - worker_processor - INFO - 🔄 [Worker-23454127777536] Starting: Blast_025\n",
      "2025-06-19 15:48:58,154 - src.preprocessing.centroid_batch_processor - INFO - Processing file: Blast_025\n",
      "2025-06-19 15:48:58,155 - src.preprocessing.centroid_batch_processor - INFO - Loading data from: /mnt/home/dchhantyal/centroid_model_blastospim/data/raw/Blast/Blast_025.npz\n",
      "2025-06-19 15:48:58,154 - src.preprocessing.centroid_batch_processor - INFO - Processing file: Blast_025\n",
      "2025-06-19 15:48:58,155 - src.preprocessing.centroid_batch_processor - INFO - Loading data from: /mnt/home/dchhantyal/centroid_model_blastospim/data/raw/Blast/Blast_025.npz\n",
      "2025-06-19 15:48:58,696 - src.preprocessing.centroid_batch_processor - INFO - Saved label data to: /mnt/home/dchhantyal/centroid_model_blastospim/data/labels/Blast/label_Blast_024/data/label.npz\n",
      "2025-06-19 15:48:58,696 - src.preprocessing.centroid_batch_processor - INFO - Saved label data to: /mnt/home/dchhantyal/centroid_model_blastospim/data/labels/Blast/label_Blast_024/data/label.npz\n",
      "2025-06-19 15:48:59,125 - src.preprocessing.centroid_batch_processor - INFO - Volume shape: (101, 1200, 1564)\n",
      "2025-06-19 15:48:59,126 - src.preprocessing.centroid_batch_processor - INFO - Mask shape: (101, 1200, 1564)\n",
      "2025-06-19 15:48:59,125 - src.preprocessing.centroid_batch_processor - INFO - Volume shape: (101, 1200, 1564)\n",
      "2025-06-19 15:48:59,126 - src.preprocessing.centroid_batch_processor - INFO - Mask shape: (101, 1200, 1564)\n",
      "2025-06-19 15:48:59,147 - src.preprocessing.centroid_batch_processor - INFO - Number of objects: 74\n",
      "2025-06-19 15:48:59,147 - src.preprocessing.centroid_batch_processor - INFO - Number of objects: 74\n",
      "2025-06-19 15:48:59,218 - src.preprocessing.centroid_batch_processor - INFO - Saved label data to: /mnt/home/dchhantyal/centroid_model_blastospim/data/labels/Blast/label_Blast_013/data/label.npz\n",
      "2025-06-19 15:48:59,218 - src.preprocessing.centroid_batch_processor - INFO - Saved label data to: /mnt/home/dchhantyal/centroid_model_blastospim/data/labels/Blast/label_Blast_013/data/label.npz\n",
      "2025-06-19 15:48:59,722 - src.preprocessing.centroid_batch_processor - INFO - Number of objects: 104\n",
      "2025-06-19 15:48:59,722 - src.preprocessing.centroid_batch_processor - INFO - Number of objects: 104\n",
      "2025-06-19 15:48:59,860 - src.preprocessing.centroid_batch_processor - INFO - Number of objects: 70\n",
      "2025-06-19 15:48:59,860 - src.preprocessing.centroid_batch_processor - INFO - Number of objects: 70\n",
      "2025-06-19 15:49:00,563 - src.preprocessing.centroid_batch_processor - INFO - Saved label data to: /mnt/home/dchhantyal/centroid_model_blastospim/data/labels/Blast/label_Blast_081/data/label.npz\n",
      "2025-06-19 15:49:00,563 - src.preprocessing.centroid_batch_processor - INFO - Saved label data to: /mnt/home/dchhantyal/centroid_model_blastospim/data/labels/Blast/label_Blast_081/data/label.npz\n",
      "2025-06-19 15:49:00,703 - src.preprocessing.centroid_batch_processor - INFO - Saved label data to: /mnt/home/dchhantyal/centroid_model_blastospim/data/labels/Blast/label_Blast_014/data/label.npz\n",
      "2025-06-19 15:49:00,703 - src.preprocessing.centroid_batch_processor - INFO - Saved label data to: /mnt/home/dchhantyal/centroid_model_blastospim/data/labels/Blast/label_Blast_014/data/label.npz\n",
      "2025-06-19 15:49:01,261 - src.preprocessing.centroid_batch_processor - INFO - Saved label data to: /mnt/home/dchhantyal/centroid_model_blastospim/data/labels/Blast/label_Blast_033/data/label.npz\n",
      "2025-06-19 15:49:01,261 - src.preprocessing.centroid_batch_processor - INFO - Saved label data to: /mnt/home/dchhantyal/centroid_model_blastospim/data/labels/Blast/label_Blast_033/data/label.npz\n",
      "2025-06-19 15:49:01,325 - src.preprocessing.centroid_batch_processor - INFO - Successfully processed Blast_024\n",
      "2025-06-19 15:49:01,325 - src.preprocessing.centroid_batch_processor - INFO - Successfully processed Blast_024\n"
     ]
    },
    {
     "name": "stdout",
     "output_type": "stream",
     "text": [
      "15:49:01 - [Worker-23454134081280] - INFO - ✅ [Worker-23454134081280] Completed: Blast_024\n"
     ]
    },
    {
     "name": "stderr",
     "output_type": "stream",
     "text": [
      "2025-06-19 15:49:01,328 - worker_processor - INFO - ✅ [Worker-23454134081280] Completed: Blast_024\n"
     ]
    },
    {
     "name": "stdout",
     "output_type": "stream",
     "text": [
      "15:49:01 - [Worker-23454134081280] - INFO - 📁 [Worker-23454134081280] Output: /mnt/home/dchhantyal/centroid_model_blastospim/data/labels/Blast/label_Blast_024\n"
     ]
    },
    {
     "name": "stderr",
     "output_type": "stream",
     "text": [
      "2025-06-19 15:49:01,328 - worker_processor - INFO - 📁 [Worker-23454134081280] Output: /mnt/home/dchhantyal/centroid_model_blastospim/data/labels/Blast/label_Blast_024\n"
     ]
    },
    {
     "name": "stdout",
     "output_type": "stream",
     "text": [
      "15:49:01 - [Worker-23454134081280] - WARNING - ⚠️  [Worker-23454134081280] Visualization not found: /mnt/home/dchhantyal/centroid_model_blastospim/data/labels/Blast/label_Blast_024/visualizations/comprehensive_analysis.png\n"
     ]
    },
    {
     "name": "stderr",
     "output_type": "stream",
     "text": [
      "2025-06-19 15:49:01,329 - worker_processor - WARNING - ⚠️  [Worker-23454134081280] Visualization not found: /mnt/home/dchhantyal/centroid_model_blastospim/data/labels/Blast/label_Blast_024/visualizations/comprehensive_analysis.png\n",
      "2025-06-19 15:49:01,338 - src.preprocessing.centroid_batch_processor - INFO - Using voxel spacing from config: Z=2.0µm, Y=0.208µm, X=0.208µm\n",
      "2025-06-19 15:49:01,338 - src.preprocessing.centroid_batch_processor - INFO - Using voxel spacing from config: Z=2.0µm, Y=0.208µm, X=0.208µm\n"
     ]
    },
    {
     "name": "stdout",
     "output_type": "stream",
     "text": [
      "✅ [24/80] ( 30.0%) | ETA:  94.6s | Blast_024.npz\n",
      "15:49:01 - [Worker-23454134081280] - INFO - 🔄 [Worker-23454134081280] Starting: Blast_020\n"
     ]
    },
    {
     "name": "stderr",
     "output_type": "stream",
     "text": [
      "2025-06-19 15:49:01,338 - worker_processor - INFO - 🔄 [Worker-23454134081280] Starting: Blast_020\n",
      "2025-06-19 15:49:01,338 - src.preprocessing.centroid_batch_processor - INFO - Processing file: Blast_020\n",
      "2025-06-19 15:49:01,338 - src.preprocessing.centroid_batch_processor - INFO - Processing file: Blast_020\n",
      "2025-06-19 15:49:01,368 - src.preprocessing.centroid_batch_processor - INFO - Loading data from: /mnt/home/dchhantyal/centroid_model_blastospim/data/raw/Blast/Blast_020.npz\n",
      "2025-06-19 15:49:01,368 - src.preprocessing.centroid_batch_processor - INFO - Loading data from: /mnt/home/dchhantyal/centroid_model_blastospim/data/raw/Blast/Blast_020.npz\n",
      "2025-06-19 15:49:01,604 - src.preprocessing.centroid_batch_processor - INFO - Volume shape: (101, 2048, 2048)\n",
      "2025-06-19 15:49:01,605 - src.preprocessing.centroid_batch_processor - INFO - Mask shape: (101, 2048, 2048)\n",
      "2025-06-19 15:49:01,604 - src.preprocessing.centroid_batch_processor - INFO - Volume shape: (101, 2048, 2048)\n",
      "2025-06-19 15:49:01,605 - src.preprocessing.centroid_batch_processor - INFO - Mask shape: (101, 2048, 2048)\n",
      "2025-06-19 15:49:01,728 - src.preprocessing.centroid_batch_processor - INFO - Successfully processed Blast_081\n",
      "2025-06-19 15:49:01,728 - src.preprocessing.centroid_batch_processor - INFO - Successfully processed Blast_081\n"
     ]
    },
    {
     "name": "stdout",
     "output_type": "stream",
     "text": [
      "15:49:01 - [Worker-23454136182528] - INFO - ✅ [Worker-23454136182528] Completed: Blast_081\n"
     ]
    },
    {
     "name": "stderr",
     "output_type": "stream",
     "text": [
      "2025-06-19 15:49:01,730 - worker_processor - INFO - ✅ [Worker-23454136182528] Completed: Blast_081\n"
     ]
    },
    {
     "name": "stdout",
     "output_type": "stream",
     "text": [
      "15:49:01 - [Worker-23454136182528] - INFO - 📁 [Worker-23454136182528] Output: /mnt/home/dchhantyal/centroid_model_blastospim/data/labels/Blast/label_Blast_081\n"
     ]
    },
    {
     "name": "stderr",
     "output_type": "stream",
     "text": [
      "2025-06-19 15:49:01,730 - worker_processor - INFO - 📁 [Worker-23454136182528] Output: /mnt/home/dchhantyal/centroid_model_blastospim/data/labels/Blast/label_Blast_081\n"
     ]
    },
    {
     "name": "stdout",
     "output_type": "stream",
     "text": [
      "15:49:01 - [Worker-23454136182528] - WARNING - ⚠️  [Worker-23454136182528] Visualization not found: /mnt/home/dchhantyal/centroid_model_blastospim/data/labels/Blast/label_Blast_081/visualizations/comprehensive_analysis.png\n"
     ]
    },
    {
     "name": "stderr",
     "output_type": "stream",
     "text": [
      "2025-06-19 15:49:01,731 - worker_processor - WARNING - ⚠️  [Worker-23454136182528] Visualization not found: /mnt/home/dchhantyal/centroid_model_blastospim/data/labels/Blast/label_Blast_081/visualizations/comprehensive_analysis.png\n",
      "2025-06-19 15:49:01,739 - src.preprocessing.centroid_batch_processor - INFO - Using voxel spacing from config: Z=2.0µm, Y=0.208µm, X=0.208µm\n",
      "2025-06-19 15:49:01,739 - src.preprocessing.centroid_batch_processor - INFO - Using voxel spacing from config: Z=2.0µm, Y=0.208µm, X=0.208µm\n"
     ]
    },
    {
     "name": "stdout",
     "output_type": "stream",
     "text": [
      "✅ [25/80] ( 31.2%) | ETA:  90.1s | Blast_081.npz\n",
      "15:49:01 - [Worker-23454136182528] - INFO - 🔄 [Worker-23454136182528] Starting: Blast_016\n"
     ]
    },
    {
     "name": "stderr",
     "output_type": "stream",
     "text": [
      "2025-06-19 15:49:01,740 - worker_processor - INFO - 🔄 [Worker-23454136182528] Starting: Blast_016\n",
      "2025-06-19 15:49:01,740 - src.preprocessing.centroid_batch_processor - INFO - Processing file: Blast_016\n",
      "2025-06-19 15:49:01,741 - src.preprocessing.centroid_batch_processor - INFO - Loading data from: /mnt/home/dchhantyal/centroid_model_blastospim/data/raw/Blast/Blast_016.npz\n",
      "2025-06-19 15:49:01,740 - src.preprocessing.centroid_batch_processor - INFO - Processing file: Blast_016\n",
      "2025-06-19 15:49:01,741 - src.preprocessing.centroid_batch_processor - INFO - Loading data from: /mnt/home/dchhantyal/centroid_model_blastospim/data/raw/Blast/Blast_016.npz\n",
      "2025-06-19 15:49:01,799 - src.preprocessing.centroid_batch_processor - INFO - Successfully processed Blast_013\n",
      "2025-06-19 15:49:01,799 - src.preprocessing.centroid_batch_processor - INFO - Successfully processed Blast_013\n"
     ]
    },
    {
     "name": "stdout",
     "output_type": "stream",
     "text": [
      "15:49:01 - [Worker-23454138283776] - INFO - ✅ [Worker-23454138283776] Completed: Blast_013\n"
     ]
    },
    {
     "name": "stderr",
     "output_type": "stream",
     "text": [
      "2025-06-19 15:49:01,801 - worker_processor - INFO - ✅ [Worker-23454138283776] Completed: Blast_013\n"
     ]
    },
    {
     "name": "stdout",
     "output_type": "stream",
     "text": [
      "15:49:01 - [Worker-23454138283776] - INFO - 📁 [Worker-23454138283776] Output: /mnt/home/dchhantyal/centroid_model_blastospim/data/labels/Blast/label_Blast_013\n"
     ]
    },
    {
     "name": "stderr",
     "output_type": "stream",
     "text": [
      "2025-06-19 15:49:01,802 - worker_processor - INFO - 📁 [Worker-23454138283776] Output: /mnt/home/dchhantyal/centroid_model_blastospim/data/labels/Blast/label_Blast_013\n"
     ]
    },
    {
     "name": "stdout",
     "output_type": "stream",
     "text": [
      "15:49:01 - [Worker-23454138283776] - WARNING - ⚠️  [Worker-23454138283776] Visualization not found: /mnt/home/dchhantyal/centroid_model_blastospim/data/labels/Blast/label_Blast_013/visualizations/comprehensive_analysis.png\n"
     ]
    },
    {
     "name": "stderr",
     "output_type": "stream",
     "text": [
      "2025-06-19 15:49:01,803 - worker_processor - WARNING - ⚠️  [Worker-23454138283776] Visualization not found: /mnt/home/dchhantyal/centroid_model_blastospim/data/labels/Blast/label_Blast_013/visualizations/comprehensive_analysis.png\n",
      "2025-06-19 15:49:01,811 - src.preprocessing.centroid_batch_processor - INFO - Using voxel spacing from config: Z=2.0µm, Y=0.208µm, X=0.208µm\n",
      "2025-06-19 15:49:01,811 - src.preprocessing.centroid_batch_processor - INFO - Using voxel spacing from config: Z=2.0µm, Y=0.208µm, X=0.208µm\n"
     ]
    },
    {
     "name": "stdout",
     "output_type": "stream",
     "text": [
      "✅ [26/80] ( 32.5%) | ETA:  85.2s | Blast_013.npz\n",
      "15:49:01 - [Worker-23454138283776] - INFO - 🔄 [Worker-23454138283776] Starting: Blast_055\n"
     ]
    },
    {
     "name": "stderr",
     "output_type": "stream",
     "text": [
      "2025-06-19 15:49:01,811 - worker_processor - INFO - 🔄 [Worker-23454138283776] Starting: Blast_055\n",
      "2025-06-19 15:49:01,812 - src.preprocessing.centroid_batch_processor - INFO - Processing file: Blast_055\n",
      "2025-06-19 15:49:01,812 - src.preprocessing.centroid_batch_processor - INFO - Processing file: Blast_055\n",
      "2025-06-19 15:49:01,813 - src.preprocessing.centroid_batch_processor - INFO - Loading data from: /mnt/home/dchhantyal/centroid_model_blastospim/data/raw/Blast/Blast_055.npz\n",
      "2025-06-19 15:49:01,813 - src.preprocessing.centroid_batch_processor - INFO - Loading data from: /mnt/home/dchhantyal/centroid_model_blastospim/data/raw/Blast/Blast_055.npz\n",
      "2025-06-19 15:49:03,250 - src.preprocessing.centroid_batch_processor - INFO - Number of objects: 53\n",
      "2025-06-19 15:49:03,250 - src.preprocessing.centroid_batch_processor - INFO - Number of objects: 53\n",
      "2025-06-19 15:49:03,298 - src.preprocessing.centroid_batch_processor - INFO - Successfully processed Blast_014\n",
      "2025-06-19 15:49:03,298 - src.preprocessing.centroid_batch_processor - INFO - Successfully processed Blast_014\n"
     ]
    },
    {
     "name": "stdout",
     "output_type": "stream",
     "text": [
      "15:49:03 - [Worker-23454129878784] - INFO - ✅ [Worker-23454129878784] Completed: Blast_014\n"
     ]
    },
    {
     "name": "stderr",
     "output_type": "stream",
     "text": [
      "2025-06-19 15:49:03,301 - worker_processor - INFO - ✅ [Worker-23454129878784] Completed: Blast_014\n"
     ]
    },
    {
     "name": "stdout",
     "output_type": "stream",
     "text": [
      "15:49:03 - [Worker-23454129878784] - INFO - 📁 [Worker-23454129878784] Output: /mnt/home/dchhantyal/centroid_model_blastospim/data/labels/Blast/label_Blast_014\n"
     ]
    },
    {
     "name": "stderr",
     "output_type": "stream",
     "text": [
      "2025-06-19 15:49:03,302 - worker_processor - INFO - 📁 [Worker-23454129878784] Output: /mnt/home/dchhantyal/centroid_model_blastospim/data/labels/Blast/label_Blast_014\n"
     ]
    },
    {
     "name": "stdout",
     "output_type": "stream",
     "text": [
      "15:49:03 - [Worker-23454129878784] - WARNING - ⚠️  [Worker-23454129878784] Visualization not found: /mnt/home/dchhantyal/centroid_model_blastospim/data/labels/Blast/label_Blast_014/visualizations/comprehensive_analysis.png\n"
     ]
    },
    {
     "name": "stderr",
     "output_type": "stream",
     "text": [
      "2025-06-19 15:49:03,302 - worker_processor - WARNING - ⚠️  [Worker-23454129878784] Visualization not found: /mnt/home/dchhantyal/centroid_model_blastospim/data/labels/Blast/label_Blast_014/visualizations/comprehensive_analysis.png\n",
      "2025-06-19 15:49:03,311 - src.preprocessing.centroid_batch_processor - INFO - Using voxel spacing from config: Z=2.0µm, Y=0.208µm, X=0.208µm\n",
      "2025-06-19 15:49:03,311 - src.preprocessing.centroid_batch_processor - INFO - Using voxel spacing from config: Z=2.0µm, Y=0.208µm, X=0.208µm\n"
     ]
    },
    {
     "name": "stdout",
     "output_type": "stream",
     "text": [
      "✅ [27/80] ( 33.8%) | ETA:  83.4s | Blast_014.npz\n",
      "15:49:03 - [Worker-23454129878784] - INFO - 🔄 [Worker-23454129878784] Starting: Blast_056\n"
     ]
    },
    {
     "name": "stderr",
     "output_type": "stream",
     "text": [
      "2025-06-19 15:49:03,312 - worker_processor - INFO - 🔄 [Worker-23454129878784] Starting: Blast_056\n",
      "2025-06-19 15:49:03,312 - src.preprocessing.centroid_batch_processor - INFO - Processing file: Blast_056\n",
      "2025-06-19 15:49:03,313 - src.preprocessing.centroid_batch_processor - INFO - Loading data from: /mnt/home/dchhantyal/centroid_model_blastospim/data/raw/Blast/Blast_056.npz\n",
      "2025-06-19 15:49:03,312 - src.preprocessing.centroid_batch_processor - INFO - Processing file: Blast_056\n",
      "2025-06-19 15:49:03,313 - src.preprocessing.centroid_batch_processor - INFO - Loading data from: /mnt/home/dchhantyal/centroid_model_blastospim/data/raw/Blast/Blast_056.npz\n",
      "2025-06-19 15:49:03,869 - src.preprocessing.centroid_batch_processor - INFO - Successfully processed Blast_033\n",
      "2025-06-19 15:49:03,869 - src.preprocessing.centroid_batch_processor - INFO - Successfully processed Blast_033\n"
     ]
    },
    {
     "name": "stdout",
     "output_type": "stream",
     "text": [
      "15:49:03 - [Worker-23454147065600] - INFO - ✅ [Worker-23454147065600] Completed: Blast_033\n"
     ]
    },
    {
     "name": "stderr",
     "output_type": "stream",
     "text": [
      "2025-06-19 15:49:03,872 - worker_processor - INFO - ✅ [Worker-23454147065600] Completed: Blast_033\n"
     ]
    },
    {
     "name": "stdout",
     "output_type": "stream",
     "text": [
      "15:49:03 - [Worker-23454147065600] - INFO - 📁 [Worker-23454147065600] Output: /mnt/home/dchhantyal/centroid_model_blastospim/data/labels/Blast/label_Blast_033\n"
     ]
    },
    {
     "name": "stderr",
     "output_type": "stream",
     "text": [
      "2025-06-19 15:49:03,873 - worker_processor - INFO - 📁 [Worker-23454147065600] Output: /mnt/home/dchhantyal/centroid_model_blastospim/data/labels/Blast/label_Blast_033\n"
     ]
    },
    {
     "name": "stdout",
     "output_type": "stream",
     "text": [
      "15:49:03 - [Worker-23454147065600] - WARNING - ⚠️  [Worker-23454147065600] Visualization not found: /mnt/home/dchhantyal/centroid_model_blastospim/data/labels/Blast/label_Blast_033/visualizations/comprehensive_analysis.png\n"
     ]
    },
    {
     "name": "stderr",
     "output_type": "stream",
     "text": [
      "2025-06-19 15:49:03,874 - worker_processor - WARNING - ⚠️  [Worker-23454147065600] Visualization not found: /mnt/home/dchhantyal/centroid_model_blastospim/data/labels/Blast/label_Blast_033/visualizations/comprehensive_analysis.png\n",
      "2025-06-19 15:49:03,883 - src.preprocessing.centroid_batch_processor - INFO - Using voxel spacing from config: Z=2.0µm, Y=0.208µm, X=0.208µm\n",
      "2025-06-19 15:49:03,883 - src.preprocessing.centroid_batch_processor - INFO - Using voxel spacing from config: Z=2.0µm, Y=0.208µm, X=0.208µm\n"
     ]
    },
    {
     "name": "stdout",
     "output_type": "stream",
     "text": [
      "✅ [28/80] ( 35.0%) | ETA:  80.0s | Blast_033.npz\n",
      "15:49:03 - [Worker-23454147065600] - INFO - 🔄 [Worker-23454147065600] Starting: Blast_067\n"
     ]
    },
    {
     "name": "stderr",
     "output_type": "stream",
     "text": [
      "2025-06-19 15:49:03,883 - worker_processor - INFO - 🔄 [Worker-23454147065600] Starting: Blast_067\n",
      "2025-06-19 15:49:03,884 - src.preprocessing.centroid_batch_processor - INFO - Processing file: Blast_067\n",
      "2025-06-19 15:49:03,886 - src.preprocessing.centroid_batch_processor - INFO - Loading data from: /mnt/home/dchhantyal/centroid_model_blastospim/data/raw/Blast/Blast_067.npz\n",
      "2025-06-19 15:49:03,884 - src.preprocessing.centroid_batch_processor - INFO - Processing file: Blast_067\n",
      "2025-06-19 15:49:03,886 - src.preprocessing.centroid_batch_processor - INFO - Loading data from: /mnt/home/dchhantyal/centroid_model_blastospim/data/raw/Blast/Blast_067.npz\n",
      "2025-06-19 15:49:04,501 - src.preprocessing.centroid_batch_processor - INFO - Volume shape: (101, 2048, 2048)\n",
      "2025-06-19 15:49:04,502 - src.preprocessing.centroid_batch_processor - INFO - Mask shape: (101, 2048, 2048)\n",
      "2025-06-19 15:49:04,501 - src.preprocessing.centroid_batch_processor - INFO - Volume shape: (101, 2048, 2048)\n",
      "2025-06-19 15:49:04,502 - src.preprocessing.centroid_batch_processor - INFO - Mask shape: (101, 2048, 2048)\n",
      "2025-06-19 15:49:04,776 - src.preprocessing.centroid_batch_processor - INFO - Saved label data to: /mnt/home/dchhantyal/centroid_model_blastospim/data/labels/Blast/label_Blast_011/data/label.npz\n",
      "2025-06-19 15:49:04,776 - src.preprocessing.centroid_batch_processor - INFO - Saved label data to: /mnt/home/dchhantyal/centroid_model_blastospim/data/labels/Blast/label_Blast_011/data/label.npz\n",
      "2025-06-19 15:49:04,937 - src.preprocessing.centroid_batch_processor - INFO - Volume shape: (96, 2048, 2048)\n",
      "2025-06-19 15:49:04,938 - src.preprocessing.centroid_batch_processor - INFO - Mask shape: (96, 2048, 2048)\n",
      "2025-06-19 15:49:04,937 - src.preprocessing.centroid_batch_processor - INFO - Volume shape: (96, 2048, 2048)\n",
      "2025-06-19 15:49:04,938 - src.preprocessing.centroid_batch_processor - INFO - Mask shape: (96, 2048, 2048)\n",
      "2025-06-19 15:49:06,147 - src.preprocessing.centroid_batch_processor - INFO - Number of objects: 66\n",
      "2025-06-19 15:49:06,147 - src.preprocessing.centroid_batch_processor - INFO - Number of objects: 66\n",
      "2025-06-19 15:49:06,635 - src.preprocessing.centroid_batch_processor - INFO - Number of objects: 118\n",
      "2025-06-19 15:49:06,635 - src.preprocessing.centroid_batch_processor - INFO - Number of objects: 118\n",
      "2025-06-19 15:49:07,360 - src.preprocessing.centroid_batch_processor - INFO - Successfully processed Blast_011\n",
      "2025-06-19 15:49:07,360 - src.preprocessing.centroid_batch_processor - INFO - Successfully processed Blast_011\n"
     ]
    },
    {
     "name": "stdout",
     "output_type": "stream",
     "text": [
      "15:49:07 - [Worker-23454125577984] - INFO - ✅ [Worker-23454125577984] Completed: Blast_011\n"
     ]
    },
    {
     "name": "stderr",
     "output_type": "stream",
     "text": [
      "2025-06-19 15:49:07,363 - worker_processor - INFO - ✅ [Worker-23454125577984] Completed: Blast_011\n"
     ]
    },
    {
     "name": "stdout",
     "output_type": "stream",
     "text": [
      "15:49:07 - [Worker-23454125577984] - INFO - 📁 [Worker-23454125577984] Output: /mnt/home/dchhantyal/centroid_model_blastospim/data/labels/Blast/label_Blast_011\n"
     ]
    },
    {
     "name": "stderr",
     "output_type": "stream",
     "text": [
      "2025-06-19 15:49:07,363 - worker_processor - INFO - 📁 [Worker-23454125577984] Output: /mnt/home/dchhantyal/centroid_model_blastospim/data/labels/Blast/label_Blast_011\n"
     ]
    },
    {
     "name": "stdout",
     "output_type": "stream",
     "text": [
      "15:49:07 - [Worker-23454125577984] - WARNING - ⚠️  [Worker-23454125577984] Visualization not found: /mnt/home/dchhantyal/centroid_model_blastospim/data/labels/Blast/label_Blast_011/visualizations/comprehensive_analysis.png\n"
     ]
    },
    {
     "name": "stderr",
     "output_type": "stream",
     "text": [
      "2025-06-19 15:49:07,364 - worker_processor - WARNING - ⚠️  [Worker-23454125577984] Visualization not found: /mnt/home/dchhantyal/centroid_model_blastospim/data/labels/Blast/label_Blast_011/visualizations/comprehensive_analysis.png\n",
      "2025-06-19 15:49:07,373 - src.preprocessing.centroid_batch_processor - INFO - Using voxel spacing from config: Z=2.0µm, Y=0.208µm, X=0.208µm\n",
      "2025-06-19 15:49:07,373 - src.preprocessing.centroid_batch_processor - INFO - Using voxel spacing from config: Z=2.0µm, Y=0.208µm, X=0.208µm\n"
     ]
    },
    {
     "name": "stdout",
     "output_type": "stream",
     "text": [
      "✅ [29/80] ( 36.2%) | ETA:  81.9s | Blast_011.npz\n",
      "15:49:07 - [Worker-23454125577984] - INFO - 🔄 [Worker-23454125577984] Starting: Blast_041\n"
     ]
    },
    {
     "name": "stderr",
     "output_type": "stream",
     "text": [
      "2025-06-19 15:49:07,373 - worker_processor - INFO - 🔄 [Worker-23454125577984] Starting: Blast_041\n",
      "2025-06-19 15:49:07,373 - src.preprocessing.centroid_batch_processor - INFO - Processing file: Blast_041\n",
      "2025-06-19 15:49:07,373 - src.preprocessing.centroid_batch_processor - INFO - Processing file: Blast_041\n",
      "2025-06-19 15:49:07,403 - src.preprocessing.centroid_batch_processor - INFO - Loading data from: /mnt/home/dchhantyal/centroid_model_blastospim/data/raw/Blast/Blast_041.npz\n",
      "2025-06-19 15:49:07,403 - src.preprocessing.centroid_batch_processor - INFO - Loading data from: /mnt/home/dchhantyal/centroid_model_blastospim/data/raw/Blast/Blast_041.npz\n",
      "2025-06-19 15:49:07,679 - src.preprocessing.centroid_batch_processor - INFO - Saved label data to: /mnt/home/dchhantyal/centroid_model_blastospim/data/labels/Blast/label_Blast_025/data/label.npz\n",
      "2025-06-19 15:49:07,679 - src.preprocessing.centroid_batch_processor - INFO - Saved label data to: /mnt/home/dchhantyal/centroid_model_blastospim/data/labels/Blast/label_Blast_025/data/label.npz\n",
      "2025-06-19 15:49:08,070 - src.preprocessing.centroid_batch_processor - INFO - Saved label data to: /mnt/home/dchhantyal/centroid_model_blastospim/data/labels/Blast/label_Blast_003/data/label.npz\n",
      "2025-06-19 15:49:08,070 - src.preprocessing.centroid_batch_processor - INFO - Saved label data to: /mnt/home/dchhantyal/centroid_model_blastospim/data/labels/Blast/label_Blast_003/data/label.npz\n",
      "2025-06-19 15:49:08,339 - src.preprocessing.centroid_batch_processor - INFO - Volume shape: (101, 2048, 2048)\n",
      "2025-06-19 15:49:08,340 - src.preprocessing.centroid_batch_processor - INFO - Mask shape: (101, 2048, 2048)\n",
      "2025-06-19 15:49:08,339 - src.preprocessing.centroid_batch_processor - INFO - Volume shape: (101, 2048, 2048)\n",
      "2025-06-19 15:49:08,340 - src.preprocessing.centroid_batch_processor - INFO - Mask shape: (101, 2048, 2048)\n",
      "2025-06-19 15:49:08,808 - src.preprocessing.centroid_batch_processor - INFO - Volume shape: (101, 2048, 2048)\n",
      "2025-06-19 15:49:08,809 - src.preprocessing.centroid_batch_processor - INFO - Mask shape: (101, 2048, 2048)\n",
      "2025-06-19 15:49:08,808 - src.preprocessing.centroid_batch_processor - INFO - Volume shape: (101, 2048, 2048)\n",
      "2025-06-19 15:49:08,809 - src.preprocessing.centroid_batch_processor - INFO - Mask shape: (101, 2048, 2048)\n",
      "2025-06-19 15:49:09,015 - src.preprocessing.centroid_batch_processor - INFO - Volume shape: (101, 2048, 2048)\n",
      "2025-06-19 15:49:09,016 - src.preprocessing.centroid_batch_processor - INFO - Mask shape: (101, 2048, 2048)\n",
      "2025-06-19 15:49:09,015 - src.preprocessing.centroid_batch_processor - INFO - Volume shape: (101, 2048, 2048)\n",
      "2025-06-19 15:49:09,016 - src.preprocessing.centroid_batch_processor - INFO - Mask shape: (101, 2048, 2048)\n",
      "2025-06-19 15:49:09,986 - src.preprocessing.centroid_batch_processor - INFO - Number of objects: 71\n",
      "2025-06-19 15:49:09,986 - src.preprocessing.centroid_batch_processor - INFO - Number of objects: 71\n",
      "2025-06-19 15:49:10,274 - src.preprocessing.centroid_batch_processor - INFO - Successfully processed Blast_025\n",
      "2025-06-19 15:49:10,274 - src.preprocessing.centroid_batch_processor - INFO - Successfully processed Blast_025\n"
     ]
    },
    {
     "name": "stdout",
     "output_type": "stream",
     "text": [
      "15:49:10 - [Worker-23454127777536] - INFO - ✅ [Worker-23454127777536] Completed: Blast_025\n"
     ]
    },
    {
     "name": "stderr",
     "output_type": "stream",
     "text": [
      "2025-06-19 15:49:10,277 - worker_processor - INFO - ✅ [Worker-23454127777536] Completed: Blast_025\n"
     ]
    },
    {
     "name": "stdout",
     "output_type": "stream",
     "text": [
      "15:49:10 - [Worker-23454127777536] - INFO - 📁 [Worker-23454127777536] Output: /mnt/home/dchhantyal/centroid_model_blastospim/data/labels/Blast/label_Blast_025\n"
     ]
    },
    {
     "name": "stderr",
     "output_type": "stream",
     "text": [
      "2025-06-19 15:49:10,277 - worker_processor - INFO - 📁 [Worker-23454127777536] Output: /mnt/home/dchhantyal/centroid_model_blastospim/data/labels/Blast/label_Blast_025\n"
     ]
    },
    {
     "name": "stdout",
     "output_type": "stream",
     "text": [
      "15:49:10 - [Worker-23454127777536] - WARNING - ⚠️  [Worker-23454127777536] Visualization not found: /mnt/home/dchhantyal/centroid_model_blastospim/data/labels/Blast/label_Blast_025/visualizations/comprehensive_analysis.png\n"
     ]
    },
    {
     "name": "stderr",
     "output_type": "stream",
     "text": [
      "2025-06-19 15:49:10,278 - worker_processor - WARNING - ⚠️  [Worker-23454127777536] Visualization not found: /mnt/home/dchhantyal/centroid_model_blastospim/data/labels/Blast/label_Blast_025/visualizations/comprehensive_analysis.png\n",
      "2025-06-19 15:49:10,286 - src.preprocessing.centroid_batch_processor - INFO - Using voxel spacing from config: Z=2.0µm, Y=0.208µm, X=0.208µm\n",
      "2025-06-19 15:49:10,286 - src.preprocessing.centroid_batch_processor - INFO - Using voxel spacing from config: Z=2.0µm, Y=0.208µm, X=0.208µm\n"
     ]
    },
    {
     "name": "stdout",
     "output_type": "stream",
     "text": [
      "✅ [30/80] ( 37.5%) | ETA:  82.5s | Blast_025.npz\n",
      "15:49:10 - [Worker-23454127777536] - INFO - 🔄 [Worker-23454127777536] Starting: Blast_071\n"
     ]
    },
    {
     "name": "stderr",
     "output_type": "stream",
     "text": [
      "2025-06-19 15:49:10,287 - worker_processor - INFO - 🔄 [Worker-23454127777536] Starting: Blast_071\n",
      "2025-06-19 15:49:10,287 - src.preprocessing.centroid_batch_processor - INFO - Processing file: Blast_071\n",
      "2025-06-19 15:49:10,289 - src.preprocessing.centroid_batch_processor - INFO - Loading data from: /mnt/home/dchhantyal/centroid_model_blastospim/data/raw/Blast/Blast_071.npz\n",
      "2025-06-19 15:49:10,287 - src.preprocessing.centroid_batch_processor - INFO - Processing file: Blast_071\n",
      "2025-06-19 15:49:10,289 - src.preprocessing.centroid_batch_processor - INFO - Loading data from: /mnt/home/dchhantyal/centroid_model_blastospim/data/raw/Blast/Blast_071.npz\n",
      "2025-06-19 15:49:10,337 - src.preprocessing.centroid_batch_processor - INFO - Volume shape: (101, 2048, 2048)\n",
      "2025-06-19 15:49:10,337 - src.preprocessing.centroid_batch_processor - INFO - Mask shape: (101, 2048, 2048)\n",
      "2025-06-19 15:49:10,337 - src.preprocessing.centroid_batch_processor - INFO - Volume shape: (101, 2048, 2048)\n",
      "2025-06-19 15:49:10,337 - src.preprocessing.centroid_batch_processor - INFO - Mask shape: (101, 2048, 2048)\n",
      "2025-06-19 15:49:10,447 - src.preprocessing.centroid_batch_processor - INFO - Number of objects: 97\n",
      "2025-06-19 15:49:10,447 - src.preprocessing.centroid_batch_processor - INFO - Number of objects: 97\n",
      "2025-06-19 15:49:10,583 - src.preprocessing.centroid_batch_processor - INFO - Volume shape: (101, 2048, 2048)\n",
      "2025-06-19 15:49:10,583 - src.preprocessing.centroid_batch_processor - INFO - Mask shape: (101, 2048, 2048)\n",
      "2025-06-19 15:49:10,583 - src.preprocessing.centroid_batch_processor - INFO - Volume shape: (101, 2048, 2048)\n",
      "2025-06-19 15:49:10,583 - src.preprocessing.centroid_batch_processor - INFO - Mask shape: (101, 2048, 2048)\n",
      "2025-06-19 15:49:10,652 - src.preprocessing.centroid_batch_processor - INFO - Number of objects: 55\n",
      "2025-06-19 15:49:10,652 - src.preprocessing.centroid_batch_processor - INFO - Number of objects: 55\n",
      "2025-06-19 15:49:10,681 - src.preprocessing.centroid_batch_processor - INFO - Successfully processed Blast_003\n",
      "2025-06-19 15:49:10,681 - src.preprocessing.centroid_batch_processor - INFO - Successfully processed Blast_003\n"
     ]
    },
    {
     "name": "stdout",
     "output_type": "stream",
     "text": [
      "15:49:10 - [Worker-23454131980032] - INFO - ✅ [Worker-23454131980032] Completed: Blast_003\n"
     ]
    },
    {
     "name": "stderr",
     "output_type": "stream",
     "text": [
      "2025-06-19 15:49:10,684 - worker_processor - INFO - ✅ [Worker-23454131980032] Completed: Blast_003\n"
     ]
    },
    {
     "name": "stdout",
     "output_type": "stream",
     "text": [
      "15:49:10 - [Worker-23454131980032] - INFO - 📁 [Worker-23454131980032] Output: /mnt/home/dchhantyal/centroid_model_blastospim/data/labels/Blast/label_Blast_003\n"
     ]
    },
    {
     "name": "stderr",
     "output_type": "stream",
     "text": [
      "2025-06-19 15:49:10,685 - worker_processor - INFO - 📁 [Worker-23454131980032] Output: /mnt/home/dchhantyal/centroid_model_blastospim/data/labels/Blast/label_Blast_003\n"
     ]
    },
    {
     "name": "stdout",
     "output_type": "stream",
     "text": [
      "15:49:10 - [Worker-23454131980032] - WARNING - ⚠️  [Worker-23454131980032] Visualization not found: /mnt/home/dchhantyal/centroid_model_blastospim/data/labels/Blast/label_Blast_003/visualizations/comprehensive_analysis.png\n"
     ]
    },
    {
     "name": "stderr",
     "output_type": "stream",
     "text": [
      "2025-06-19 15:49:10,686 - worker_processor - WARNING - ⚠️  [Worker-23454131980032] Visualization not found: /mnt/home/dchhantyal/centroid_model_blastospim/data/labels/Blast/label_Blast_003/visualizations/comprehensive_analysis.png\n",
      "2025-06-19 15:49:10,695 - src.preprocessing.centroid_batch_processor - INFO - Using voxel spacing from config: Z=2.0µm, Y=0.208µm, X=0.208µm\n",
      "2025-06-19 15:49:10,695 - src.preprocessing.centroid_batch_processor - INFO - Using voxel spacing from config: Z=2.0µm, Y=0.208µm, X=0.208µm\n"
     ]
    },
    {
     "name": "stdout",
     "output_type": "stream",
     "text": [
      "✅ [31/80] ( 38.8%) | ETA:  78.9s | Blast_003.npz\n",
      "15:49:10 - [Worker-23454131980032] - INFO - 🔄 [Worker-23454131980032] Starting: Blast_036\n"
     ]
    },
    {
     "name": "stderr",
     "output_type": "stream",
     "text": [
      "2025-06-19 15:49:10,695 - worker_processor - INFO - 🔄 [Worker-23454131980032] Starting: Blast_036\n",
      "2025-06-19 15:49:10,696 - src.preprocessing.centroid_batch_processor - INFO - Processing file: Blast_036\n",
      "2025-06-19 15:49:10,697 - src.preprocessing.centroid_batch_processor - INFO - Loading data from: /mnt/home/dchhantyal/centroid_model_blastospim/data/raw/Blast/Blast_036.npz\n",
      "2025-06-19 15:49:10,696 - src.preprocessing.centroid_batch_processor - INFO - Processing file: Blast_036\n",
      "2025-06-19 15:49:10,697 - src.preprocessing.centroid_batch_processor - INFO - Loading data from: /mnt/home/dchhantyal/centroid_model_blastospim/data/raw/Blast/Blast_036.npz\n",
      "2025-06-19 15:49:11,516 - src.preprocessing.centroid_batch_processor - INFO - Saved label data to: /mnt/home/dchhantyal/centroid_model_blastospim/data/labels/Blast/label_Blast_055/data/label.npz\n",
      "2025-06-19 15:49:11,516 - src.preprocessing.centroid_batch_processor - INFO - Saved label data to: /mnt/home/dchhantyal/centroid_model_blastospim/data/labels/Blast/label_Blast_055/data/label.npz\n",
      "2025-06-19 15:49:11,976 - src.preprocessing.centroid_batch_processor - INFO - Saved label data to: /mnt/home/dchhantyal/centroid_model_blastospim/data/labels/Blast/label_Blast_067/data/label.npz\n",
      "2025-06-19 15:49:11,980 - src.preprocessing.centroid_batch_processor - INFO - Number of objects: 68\n",
      "2025-06-19 15:49:11,976 - src.preprocessing.centroid_batch_processor - INFO - Saved label data to: /mnt/home/dchhantyal/centroid_model_blastospim/data/labels/Blast/label_Blast_067/data/label.npz\n",
      "2025-06-19 15:49:11,980 - src.preprocessing.centroid_batch_processor - INFO - Number of objects: 68\n",
      "2025-06-19 15:49:12,163 - src.preprocessing.centroid_batch_processor - INFO - Saved label data to: /mnt/home/dchhantyal/centroid_model_blastospim/data/labels/Blast/label_Blast_020/data/label.npz\n",
      "2025-06-19 15:49:12,163 - src.preprocessing.centroid_batch_processor - INFO - Saved label data to: /mnt/home/dchhantyal/centroid_model_blastospim/data/labels/Blast/label_Blast_020/data/label.npz\n",
      "2025-06-19 15:49:12,225 - src.preprocessing.centroid_batch_processor - INFO - Number of objects: 54\n",
      "2025-06-19 15:49:12,225 - src.preprocessing.centroid_batch_processor - INFO - Number of objects: 54\n",
      "2025-06-19 15:49:12,608 - src.preprocessing.centroid_batch_processor - INFO - Volume shape: (101, 2048, 2048)\n",
      "2025-06-19 15:49:12,609 - src.preprocessing.centroid_batch_processor - INFO - Mask shape: (101, 2048, 2048)\n",
      "2025-06-19 15:49:12,608 - src.preprocessing.centroid_batch_processor - INFO - Volume shape: (101, 2048, 2048)\n",
      "2025-06-19 15:49:12,609 - src.preprocessing.centroid_batch_processor - INFO - Mask shape: (101, 2048, 2048)\n",
      "2025-06-19 15:49:13,532 - src.preprocessing.centroid_batch_processor - INFO - Saved label data to: /mnt/home/dchhantyal/centroid_model_blastospim/data/labels/Blast/label_Blast_056/data/label.npz\n",
      "2025-06-19 15:49:13,532 - src.preprocessing.centroid_batch_processor - INFO - Saved label data to: /mnt/home/dchhantyal/centroid_model_blastospim/data/labels/Blast/label_Blast_056/data/label.npz\n",
      "2025-06-19 15:49:13,771 - src.preprocessing.centroid_batch_processor - INFO - Saved label data to: /mnt/home/dchhantyal/centroid_model_blastospim/data/labels/Blast/label_Blast_016/data/label.npz\n",
      "2025-06-19 15:49:13,771 - src.preprocessing.centroid_batch_processor - INFO - Saved label data to: /mnt/home/dchhantyal/centroid_model_blastospim/data/labels/Blast/label_Blast_016/data/label.npz\n",
      "2025-06-19 15:49:14,106 - src.preprocessing.centroid_batch_processor - INFO - Successfully processed Blast_055\n",
      "2025-06-19 15:49:14,106 - src.preprocessing.centroid_batch_processor - INFO - Successfully processed Blast_055\n"
     ]
    },
    {
     "name": "stdout",
     "output_type": "stream",
     "text": [
      "15:49:14 - [Worker-23454138283776] - INFO - ✅ [Worker-23454138283776] Completed: Blast_055\n"
     ]
    },
    {
     "name": "stderr",
     "output_type": "stream",
     "text": [
      "2025-06-19 15:49:14,110 - worker_processor - INFO - ✅ [Worker-23454138283776] Completed: Blast_055\n"
     ]
    },
    {
     "name": "stdout",
     "output_type": "stream",
     "text": [
      "15:49:14 - [Worker-23454138283776] - INFO - 📁 [Worker-23454138283776] Output: /mnt/home/dchhantyal/centroid_model_blastospim/data/labels/Blast/label_Blast_055\n"
     ]
    },
    {
     "name": "stderr",
     "output_type": "stream",
     "text": [
      "2025-06-19 15:49:14,110 - worker_processor - INFO - 📁 [Worker-23454138283776] Output: /mnt/home/dchhantyal/centroid_model_blastospim/data/labels/Blast/label_Blast_055\n"
     ]
    },
    {
     "name": "stdout",
     "output_type": "stream",
     "text": [
      "15:49:14 - [Worker-23454138283776] - WARNING - ⚠️  [Worker-23454138283776] Visualization not found: /mnt/home/dchhantyal/centroid_model_blastospim/data/labels/Blast/label_Blast_055/visualizations/comprehensive_analysis.png\n"
     ]
    },
    {
     "name": "stderr",
     "output_type": "stream",
     "text": [
      "2025-06-19 15:49:14,111 - worker_processor - WARNING - ⚠️  [Worker-23454138283776] Visualization not found: /mnt/home/dchhantyal/centroid_model_blastospim/data/labels/Blast/label_Blast_055/visualizations/comprehensive_analysis.png\n",
      "2025-06-19 15:49:14,120 - src.preprocessing.centroid_batch_processor - INFO - Using voxel spacing from config: Z=2.0µm, Y=0.208µm, X=0.208µm\n",
      "2025-06-19 15:49:14,120 - src.preprocessing.centroid_batch_processor - INFO - Using voxel spacing from config: Z=2.0µm, Y=0.208µm, X=0.208µm\n"
     ]
    },
    {
     "name": "stdout",
     "output_type": "stream",
     "text": [
      "✅ [32/80] ( 40.0%) | ETA:  80.0s | Blast_055.npz\n",
      "15:49:14 - [Worker-23454138283776] - INFO - 🔄 [Worker-23454138283776] Starting: Blast_064\n"
     ]
    },
    {
     "name": "stderr",
     "output_type": "stream",
     "text": [
      "2025-06-19 15:49:14,121 - worker_processor - INFO - 🔄 [Worker-23454138283776] Starting: Blast_064\n",
      "2025-06-19 15:49:14,121 - src.preprocessing.centroid_batch_processor - INFO - Processing file: Blast_064\n",
      "2025-06-19 15:49:14,123 - src.preprocessing.centroid_batch_processor - INFO - Loading data from: /mnt/home/dchhantyal/centroid_model_blastospim/data/raw/Blast/Blast_064.npz\n",
      "2025-06-19 15:49:14,121 - src.preprocessing.centroid_batch_processor - INFO - Processing file: Blast_064\n",
      "2025-06-19 15:49:14,123 - src.preprocessing.centroid_batch_processor - INFO - Loading data from: /mnt/home/dchhantyal/centroid_model_blastospim/data/raw/Blast/Blast_064.npz\n",
      "2025-06-19 15:49:14,243 - src.preprocessing.centroid_batch_processor - INFO - Number of objects: 74\n",
      "2025-06-19 15:49:14,243 - src.preprocessing.centroid_batch_processor - INFO - Number of objects: 74\n",
      "2025-06-19 15:49:14,572 - src.preprocessing.centroid_batch_processor - INFO - Successfully processed Blast_067\n",
      "2025-06-19 15:49:14,572 - src.preprocessing.centroid_batch_processor - INFO - Successfully processed Blast_067\n"
     ]
    },
    {
     "name": "stdout",
     "output_type": "stream",
     "text": [
      "15:49:14 - [Worker-23454147065600] - INFO - ✅ [Worker-23454147065600] Completed: Blast_067\n"
     ]
    },
    {
     "name": "stderr",
     "output_type": "stream",
     "text": [
      "2025-06-19 15:49:14,575 - worker_processor - INFO - ✅ [Worker-23454147065600] Completed: Blast_067\n"
     ]
    },
    {
     "name": "stdout",
     "output_type": "stream",
     "text": [
      "15:49:14 - [Worker-23454147065600] - INFO - 📁 [Worker-23454147065600] Output: /mnt/home/dchhantyal/centroid_model_blastospim/data/labels/Blast/label_Blast_067\n"
     ]
    },
    {
     "name": "stderr",
     "output_type": "stream",
     "text": [
      "2025-06-19 15:49:14,575 - worker_processor - INFO - 📁 [Worker-23454147065600] Output: /mnt/home/dchhantyal/centroid_model_blastospim/data/labels/Blast/label_Blast_067\n"
     ]
    },
    {
     "name": "stdout",
     "output_type": "stream",
     "text": [
      "15:49:14 - [Worker-23454147065600] - WARNING - ⚠️  [Worker-23454147065600] Visualization not found: /mnt/home/dchhantyal/centroid_model_blastospim/data/labels/Blast/label_Blast_067/visualizations/comprehensive_analysis.png\n"
     ]
    },
    {
     "name": "stderr",
     "output_type": "stream",
     "text": [
      "2025-06-19 15:49:14,576 - worker_processor - WARNING - ⚠️  [Worker-23454147065600] Visualization not found: /mnt/home/dchhantyal/centroid_model_blastospim/data/labels/Blast/label_Blast_067/visualizations/comprehensive_analysis.png\n",
      "2025-06-19 15:49:14,584 - src.preprocessing.centroid_batch_processor - INFO - Using voxel spacing from config: Z=2.0µm, Y=0.208µm, X=0.208µm\n",
      "2025-06-19 15:49:14,584 - src.preprocessing.centroid_batch_processor - INFO - Using voxel spacing from config: Z=2.0µm, Y=0.208µm, X=0.208µm\n"
     ]
    },
    {
     "name": "stdout",
     "output_type": "stream",
     "text": [
      "✅ [33/80] ( 41.2%) | ETA:  76.6s | Blast_067.npz\n",
      "15:49:14 - [Worker-23454147065600] - INFO - 🔄 [Worker-23454147065600] Starting: Blast_029\n"
     ]
    },
    {
     "name": "stderr",
     "output_type": "stream",
     "text": [
      "2025-06-19 15:49:14,585 - worker_processor - INFO - 🔄 [Worker-23454147065600] Starting: Blast_029\n",
      "2025-06-19 15:49:14,585 - src.preprocessing.centroid_batch_processor - INFO - Processing file: Blast_029\n",
      "2025-06-19 15:49:14,586 - src.preprocessing.centroid_batch_processor - INFO - Loading data from: /mnt/home/dchhantyal/centroid_model_blastospim/data/raw/Blast/Blast_029.npz\n",
      "2025-06-19 15:49:14,585 - src.preprocessing.centroid_batch_processor - INFO - Processing file: Blast_029\n",
      "2025-06-19 15:49:14,586 - src.preprocessing.centroid_batch_processor - INFO - Loading data from: /mnt/home/dchhantyal/centroid_model_blastospim/data/raw/Blast/Blast_029.npz\n",
      "2025-06-19 15:49:14,750 - src.preprocessing.centroid_batch_processor - INFO - Successfully processed Blast_020\n",
      "2025-06-19 15:49:14,750 - src.preprocessing.centroid_batch_processor - INFO - Successfully processed Blast_020\n"
     ]
    },
    {
     "name": "stdout",
     "output_type": "stream",
     "text": [
      "15:49:14 - [Worker-23454134081280] - INFO - ✅ [Worker-23454134081280] Completed: Blast_020\n"
     ]
    },
    {
     "name": "stderr",
     "output_type": "stream",
     "text": [
      "2025-06-19 15:49:14,753 - worker_processor - INFO - ✅ [Worker-23454134081280] Completed: Blast_020\n"
     ]
    },
    {
     "name": "stdout",
     "output_type": "stream",
     "text": [
      "15:49:14 - [Worker-23454134081280] - INFO - 📁 [Worker-23454134081280] Output: /mnt/home/dchhantyal/centroid_model_blastospim/data/labels/Blast/label_Blast_020\n"
     ]
    },
    {
     "name": "stderr",
     "output_type": "stream",
     "text": [
      "2025-06-19 15:49:14,754 - worker_processor - INFO - 📁 [Worker-23454134081280] Output: /mnt/home/dchhantyal/centroid_model_blastospim/data/labels/Blast/label_Blast_020\n"
     ]
    },
    {
     "name": "stdout",
     "output_type": "stream",
     "text": [
      "15:49:14 - [Worker-23454134081280] - WARNING - ⚠️  [Worker-23454134081280] Visualization not found: /mnt/home/dchhantyal/centroid_model_blastospim/data/labels/Blast/label_Blast_020/visualizations/comprehensive_analysis.png\n"
     ]
    },
    {
     "name": "stderr",
     "output_type": "stream",
     "text": [
      "2025-06-19 15:49:14,754 - worker_processor - WARNING - ⚠️  [Worker-23454134081280] Visualization not found: /mnt/home/dchhantyal/centroid_model_blastospim/data/labels/Blast/label_Blast_020/visualizations/comprehensive_analysis.png\n",
      "2025-06-19 15:49:14,764 - src.preprocessing.centroid_batch_processor - INFO - Using voxel spacing from config: Z=2.0µm, Y=0.208µm, X=0.208µm\n",
      "2025-06-19 15:49:14,764 - src.preprocessing.centroid_batch_processor - INFO - Using voxel spacing from config: Z=2.0µm, Y=0.208µm, X=0.208µm\n"
     ]
    },
    {
     "name": "stdout",
     "output_type": "stream",
     "text": [
      "✅ [34/80] ( 42.5%) | ETA:  73.0s | Blast_020.npz\n",
      "15:49:14 - [Worker-23454134081280] - INFO - 🔄 [Worker-23454134081280] Starting: Blast_040\n"
     ]
    },
    {
     "name": "stderr",
     "output_type": "stream",
     "text": [
      "2025-06-19 15:49:14,764 - worker_processor - INFO - 🔄 [Worker-23454134081280] Starting: Blast_040\n",
      "2025-06-19 15:49:14,764 - src.preprocessing.centroid_batch_processor - INFO - Processing file: Blast_040\n",
      "2025-06-19 15:49:14,765 - src.preprocessing.centroid_batch_processor - INFO - Loading data from: /mnt/home/dchhantyal/centroid_model_blastospim/data/raw/Blast/Blast_040.npz\n",
      "2025-06-19 15:49:14,764 - src.preprocessing.centroid_batch_processor - INFO - Processing file: Blast_040\n",
      "2025-06-19 15:49:14,765 - src.preprocessing.centroid_batch_processor - INFO - Loading data from: /mnt/home/dchhantyal/centroid_model_blastospim/data/raw/Blast/Blast_040.npz\n",
      "2025-06-19 15:49:15,765 - src.preprocessing.centroid_batch_processor - INFO - Saved label data to: /mnt/home/dchhantyal/centroid_model_blastospim/data/labels/Blast/label_Blast_041/data/label.npz\n",
      "2025-06-19 15:49:15,765 - src.preprocessing.centroid_batch_processor - INFO - Saved label data to: /mnt/home/dchhantyal/centroid_model_blastospim/data/labels/Blast/label_Blast_041/data/label.npz\n",
      "2025-06-19 15:49:15,866 - src.preprocessing.centroid_batch_processor - INFO - Volume shape: (101, 2048, 2048)\n",
      "2025-06-19 15:49:15,867 - src.preprocessing.centroid_batch_processor - INFO - Mask shape: (101, 2048, 2048)\n",
      "2025-06-19 15:49:15,866 - src.preprocessing.centroid_batch_processor - INFO - Volume shape: (101, 2048, 2048)\n",
      "2025-06-19 15:49:15,867 - src.preprocessing.centroid_batch_processor - INFO - Mask shape: (101, 2048, 2048)\n",
      "2025-06-19 15:49:16,161 - src.preprocessing.centroid_batch_processor - INFO - Successfully processed Blast_056\n",
      "2025-06-19 15:49:16,161 - src.preprocessing.centroid_batch_processor - INFO - Successfully processed Blast_056\n"
     ]
    },
    {
     "name": "stdout",
     "output_type": "stream",
     "text": [
      "15:49:16 - [Worker-23454129878784] - INFO - ✅ [Worker-23454129878784] Completed: Blast_056\n"
     ]
    },
    {
     "name": "stderr",
     "output_type": "stream",
     "text": [
      "2025-06-19 15:49:16,165 - worker_processor - INFO - ✅ [Worker-23454129878784] Completed: Blast_056\n"
     ]
    },
    {
     "name": "stdout",
     "output_type": "stream",
     "text": [
      "15:49:16 - [Worker-23454129878784] - INFO - 📁 [Worker-23454129878784] Output: /mnt/home/dchhantyal/centroid_model_blastospim/data/labels/Blast/label_Blast_056\n"
     ]
    },
    {
     "name": "stderr",
     "output_type": "stream",
     "text": [
      "2025-06-19 15:49:16,166 - worker_processor - INFO - 📁 [Worker-23454129878784] Output: /mnt/home/dchhantyal/centroid_model_blastospim/data/labels/Blast/label_Blast_056\n"
     ]
    },
    {
     "name": "stdout",
     "output_type": "stream",
     "text": [
      "15:49:16 - [Worker-23454129878784] - WARNING - ⚠️  [Worker-23454129878784] Visualization not found: /mnt/home/dchhantyal/centroid_model_blastospim/data/labels/Blast/label_Blast_056/visualizations/comprehensive_analysis.png\n"
     ]
    },
    {
     "name": "stderr",
     "output_type": "stream",
     "text": [
      "2025-06-19 15:49:16,166 - worker_processor - WARNING - ⚠️  [Worker-23454129878784] Visualization not found: /mnt/home/dchhantyal/centroid_model_blastospim/data/labels/Blast/label_Blast_056/visualizations/comprehensive_analysis.png\n",
      "2025-06-19 15:49:16,175 - src.preprocessing.centroid_batch_processor - INFO - Using voxel spacing from config: Z=2.0µm, Y=0.208µm, X=0.208µm\n",
      "2025-06-19 15:49:16,175 - src.preprocessing.centroid_batch_processor - INFO - Using voxel spacing from config: Z=2.0µm, Y=0.208µm, X=0.208µm\n"
     ]
    },
    {
     "name": "stdout",
     "output_type": "stream",
     "text": [
      "✅ [35/80] ( 43.8%) | ETA:  71.2s | Blast_056.npz\n",
      "15:49:16 - [Worker-23454129878784] - INFO - 🔄 [Worker-23454129878784] Starting: Blast_058\n"
     ]
    },
    {
     "name": "stderr",
     "output_type": "stream",
     "text": [
      "2025-06-19 15:49:16,176 - worker_processor - INFO - 🔄 [Worker-23454129878784] Starting: Blast_058\n",
      "2025-06-19 15:49:16,176 - src.preprocessing.centroid_batch_processor - INFO - Processing file: Blast_058\n",
      "2025-06-19 15:49:16,208 - src.preprocessing.centroid_batch_processor - INFO - Loading data from: /mnt/home/dchhantyal/centroid_model_blastospim/data/raw/Blast/Blast_058.npz\n",
      "2025-06-19 15:49:16,176 - src.preprocessing.centroid_batch_processor - INFO - Processing file: Blast_058\n",
      "2025-06-19 15:49:16,208 - src.preprocessing.centroid_batch_processor - INFO - Loading data from: /mnt/home/dchhantyal/centroid_model_blastospim/data/raw/Blast/Blast_058.npz\n",
      "2025-06-19 15:49:16,407 - src.preprocessing.centroid_batch_processor - INFO - Successfully processed Blast_016\n",
      "2025-06-19 15:49:16,407 - src.preprocessing.centroid_batch_processor - INFO - Successfully processed Blast_016\n"
     ]
    },
    {
     "name": "stdout",
     "output_type": "stream",
     "text": [
      "15:49:16 - [Worker-23454136182528] - INFO - ✅ [Worker-23454136182528] Completed: Blast_016\n"
     ]
    },
    {
     "name": "stderr",
     "output_type": "stream",
     "text": [
      "2025-06-19 15:49:16,410 - worker_processor - INFO - ✅ [Worker-23454136182528] Completed: Blast_016\n"
     ]
    },
    {
     "name": "stdout",
     "output_type": "stream",
     "text": [
      "15:49:16 - [Worker-23454136182528] - INFO - 📁 [Worker-23454136182528] Output: /mnt/home/dchhantyal/centroid_model_blastospim/data/labels/Blast/label_Blast_016\n"
     ]
    },
    {
     "name": "stderr",
     "output_type": "stream",
     "text": [
      "2025-06-19 15:49:16,411 - worker_processor - INFO - 📁 [Worker-23454136182528] Output: /mnt/home/dchhantyal/centroid_model_blastospim/data/labels/Blast/label_Blast_016\n"
     ]
    },
    {
     "name": "stdout",
     "output_type": "stream",
     "text": [
      "15:49:16 - [Worker-23454136182528] - WARNING - ⚠️  [Worker-23454136182528] Visualization not found: /mnt/home/dchhantyal/centroid_model_blastospim/data/labels/Blast/label_Blast_016/visualizations/comprehensive_analysis.png\n"
     ]
    },
    {
     "name": "stderr",
     "output_type": "stream",
     "text": [
      "2025-06-19 15:49:16,412 - worker_processor - WARNING - ⚠️  [Worker-23454136182528] Visualization not found: /mnt/home/dchhantyal/centroid_model_blastospim/data/labels/Blast/label_Blast_016/visualizations/comprehensive_analysis.png\n",
      "2025-06-19 15:49:16,420 - src.preprocessing.centroid_batch_processor - INFO - Using voxel spacing from config: Z=2.0µm, Y=0.208µm, X=0.208µm\n",
      "2025-06-19 15:49:16,420 - src.preprocessing.centroid_batch_processor - INFO - Using voxel spacing from config: Z=2.0µm, Y=0.208µm, X=0.208µm\n"
     ]
    },
    {
     "name": "stdout",
     "output_type": "stream",
     "text": [
      "✅ [36/80] ( 45.0%) | ETA:  68.0s | Blast_016.npz\n",
      "15:49:16 - [Worker-23454136182528] - INFO - 🔄 [Worker-23454136182528] Starting: Blast_077\n"
     ]
    },
    {
     "name": "stderr",
     "output_type": "stream",
     "text": [
      "2025-06-19 15:49:16,421 - worker_processor - INFO - 🔄 [Worker-23454136182528] Starting: Blast_077\n",
      "2025-06-19 15:49:16,421 - src.preprocessing.centroid_batch_processor - INFO - Processing file: Blast_077\n",
      "2025-06-19 15:49:16,424 - src.preprocessing.centroid_batch_processor - INFO - Loading data from: /mnt/home/dchhantyal/centroid_model_blastospim/data/raw/Blast/Blast_077.npz\n",
      "2025-06-19 15:49:16,421 - src.preprocessing.centroid_batch_processor - INFO - Processing file: Blast_077\n",
      "2025-06-19 15:49:16,424 - src.preprocessing.centroid_batch_processor - INFO - Loading data from: /mnt/home/dchhantyal/centroid_model_blastospim/data/raw/Blast/Blast_077.npz\n",
      "2025-06-19 15:49:17,508 - src.preprocessing.centroid_batch_processor - INFO - Number of objects: 91\n",
      "2025-06-19 15:49:17,508 - src.preprocessing.centroid_batch_processor - INFO - Number of objects: 91\n",
      "2025-06-19 15:49:17,579 - src.preprocessing.centroid_batch_processor - INFO - Volume shape: (101, 2048, 2048)\n",
      "2025-06-19 15:49:17,579 - src.preprocessing.centroid_batch_processor - INFO - Mask shape: (101, 2048, 2048)\n",
      "2025-06-19 15:49:17,579 - src.preprocessing.centroid_batch_processor - INFO - Volume shape: (101, 2048, 2048)\n",
      "2025-06-19 15:49:17,579 - src.preprocessing.centroid_batch_processor - INFO - Mask shape: (101, 2048, 2048)\n",
      "2025-06-19 15:49:18,404 - src.preprocessing.centroid_batch_processor - INFO - Successfully processed Blast_041\n",
      "2025-06-19 15:49:18,404 - src.preprocessing.centroid_batch_processor - INFO - Successfully processed Blast_041\n"
     ]
    },
    {
     "name": "stdout",
     "output_type": "stream",
     "text": [
      "15:49:18 - [Worker-23454125577984] - INFO - ✅ [Worker-23454125577984] Completed: Blast_041\n"
     ]
    },
    {
     "name": "stderr",
     "output_type": "stream",
     "text": [
      "2025-06-19 15:49:18,407 - worker_processor - INFO - ✅ [Worker-23454125577984] Completed: Blast_041\n"
     ]
    },
    {
     "name": "stdout",
     "output_type": "stream",
     "text": [
      "15:49:18 - [Worker-23454125577984] - INFO - 📁 [Worker-23454125577984] Output: /mnt/home/dchhantyal/centroid_model_blastospim/data/labels/Blast/label_Blast_041\n"
     ]
    },
    {
     "name": "stderr",
     "output_type": "stream",
     "text": [
      "2025-06-19 15:49:18,408 - worker_processor - INFO - 📁 [Worker-23454125577984] Output: /mnt/home/dchhantyal/centroid_model_blastospim/data/labels/Blast/label_Blast_041\n"
     ]
    },
    {
     "name": "stdout",
     "output_type": "stream",
     "text": [
      "15:49:18 - [Worker-23454125577984] - WARNING - ⚠️  [Worker-23454125577984] Visualization not found: /mnt/home/dchhantyal/centroid_model_blastospim/data/labels/Blast/label_Blast_041/visualizations/comprehensive_analysis.png\n"
     ]
    },
    {
     "name": "stderr",
     "output_type": "stream",
     "text": [
      "2025-06-19 15:49:18,409 - worker_processor - WARNING - ⚠️  [Worker-23454125577984] Visualization not found: /mnt/home/dchhantyal/centroid_model_blastospim/data/labels/Blast/label_Blast_041/visualizations/comprehensive_analysis.png\n",
      "2025-06-19 15:49:18,417 - src.preprocessing.centroid_batch_processor - INFO - Using voxel spacing from config: Z=2.0µm, Y=0.208µm, X=0.208µm\n",
      "2025-06-19 15:49:18,417 - src.preprocessing.centroid_batch_processor - INFO - Using voxel spacing from config: Z=2.0µm, Y=0.208µm, X=0.208µm\n"
     ]
    },
    {
     "name": "stdout",
     "output_type": "stream",
     "text": [
      "✅ [37/80] ( 46.2%) | ETA:  67.0s | Blast_041.npz\n",
      "15:49:18 - [Worker-23454125577984] - INFO - 🔄 [Worker-23454125577984] Starting: Blast_022\n"
     ]
    },
    {
     "name": "stderr",
     "output_type": "stream",
     "text": [
      "2025-06-19 15:49:18,418 - worker_processor - INFO - 🔄 [Worker-23454125577984] Starting: Blast_022\n",
      "2025-06-19 15:49:18,418 - src.preprocessing.centroid_batch_processor - INFO - Processing file: Blast_022\n",
      "2025-06-19 15:49:18,418 - src.preprocessing.centroid_batch_processor - INFO - Processing file: Blast_022\n",
      "2025-06-19 15:49:18,450 - src.preprocessing.centroid_batch_processor - INFO - Loading data from: /mnt/home/dchhantyal/centroid_model_blastospim/data/raw/Blast/Blast_022.npz\n",
      "2025-06-19 15:49:18,450 - src.preprocessing.centroid_batch_processor - INFO - Loading data from: /mnt/home/dchhantyal/centroid_model_blastospim/data/raw/Blast/Blast_022.npz\n",
      "2025-06-19 15:49:19,041 - src.preprocessing.centroid_batch_processor - INFO - Saved label data to: /mnt/home/dchhantyal/centroid_model_blastospim/data/labels/Blast/label_Blast_036/data/label.npz\n",
      "2025-06-19 15:49:19,041 - src.preprocessing.centroid_batch_processor - INFO - Saved label data to: /mnt/home/dchhantyal/centroid_model_blastospim/data/labels/Blast/label_Blast_036/data/label.npz\n",
      "2025-06-19 15:49:19,226 - src.preprocessing.centroid_batch_processor - INFO - Number of objects: 91\n",
      "2025-06-19 15:49:19,226 - src.preprocessing.centroid_batch_processor - INFO - Number of objects: 91\n",
      "2025-06-19 15:49:19,246 - src.preprocessing.centroid_batch_processor - INFO - Volume shape: (101, 2048, 2048)\n",
      "2025-06-19 15:49:19,247 - src.preprocessing.centroid_batch_processor - INFO - Mask shape: (101, 2048, 2048)\n",
      "2025-06-19 15:49:19,246 - src.preprocessing.centroid_batch_processor - INFO - Volume shape: (101, 2048, 2048)\n",
      "2025-06-19 15:49:19,247 - src.preprocessing.centroid_batch_processor - INFO - Mask shape: (101, 2048, 2048)\n",
      "2025-06-19 15:49:20,764 - src.preprocessing.centroid_batch_processor - INFO - Saved label data to: /mnt/home/dchhantyal/centroid_model_blastospim/data/labels/Blast/label_Blast_071/data/label.npz\n",
      "2025-06-19 15:49:20,764 - src.preprocessing.centroid_batch_processor - INFO - Saved label data to: /mnt/home/dchhantyal/centroid_model_blastospim/data/labels/Blast/label_Blast_071/data/label.npz\n",
      "2025-06-19 15:49:20,895 - src.preprocessing.centroid_batch_processor - INFO - Number of objects: 87\n",
      "2025-06-19 15:49:20,895 - src.preprocessing.centroid_batch_processor - INFO - Number of objects: 87\n",
      "2025-06-19 15:49:21,664 - src.preprocessing.centroid_batch_processor - INFO - Successfully processed Blast_036\n",
      "2025-06-19 15:49:21,664 - src.preprocessing.centroid_batch_processor - INFO - Successfully processed Blast_036\n"
     ]
    },
    {
     "name": "stdout",
     "output_type": "stream",
     "text": [
      "15:49:21 - [Worker-23454131980032] - INFO - ✅ [Worker-23454131980032] Completed: Blast_036\n"
     ]
    },
    {
     "name": "stderr",
     "output_type": "stream",
     "text": [
      "2025-06-19 15:49:21,667 - worker_processor - INFO - ✅ [Worker-23454131980032] Completed: Blast_036\n"
     ]
    },
    {
     "name": "stdout",
     "output_type": "stream",
     "text": [
      "15:49:21 - [Worker-23454131980032] - INFO - 📁 [Worker-23454131980032] Output: /mnt/home/dchhantyal/centroid_model_blastospim/data/labels/Blast/label_Blast_036\n"
     ]
    },
    {
     "name": "stderr",
     "output_type": "stream",
     "text": [
      "2025-06-19 15:49:21,667 - worker_processor - INFO - 📁 [Worker-23454131980032] Output: /mnt/home/dchhantyal/centroid_model_blastospim/data/labels/Blast/label_Blast_036\n"
     ]
    },
    {
     "name": "stdout",
     "output_type": "stream",
     "text": [
      "15:49:21 - [Worker-23454131980032] - WARNING - ⚠️  [Worker-23454131980032] Visualization not found: /mnt/home/dchhantyal/centroid_model_blastospim/data/labels/Blast/label_Blast_036/visualizations/comprehensive_analysis.png\n"
     ]
    },
    {
     "name": "stderr",
     "output_type": "stream",
     "text": [
      "2025-06-19 15:49:21,668 - worker_processor - WARNING - ⚠️  [Worker-23454131980032] Visualization not found: /mnt/home/dchhantyal/centroid_model_blastospim/data/labels/Blast/label_Blast_036/visualizations/comprehensive_analysis.png\n",
      "2025-06-19 15:49:21,676 - src.preprocessing.centroid_batch_processor - INFO - Using voxel spacing from config: Z=2.0µm, Y=0.208µm, X=0.208µm\n",
      "2025-06-19 15:49:21,676 - src.preprocessing.centroid_batch_processor - INFO - Using voxel spacing from config: Z=2.0µm, Y=0.208µm, X=0.208µm\n"
     ]
    },
    {
     "name": "stdout",
     "output_type": "stream",
     "text": [
      "✅ [38/80] ( 47.5%) | ETA:  67.3s | Blast_036.npz\n",
      "15:49:21 - [Worker-23454131980032] - INFO - 🔄 [Worker-23454131980032] Starting: Blast_074\n"
     ]
    },
    {
     "name": "stderr",
     "output_type": "stream",
     "text": [
      "2025-06-19 15:49:21,677 - worker_processor - INFO - 🔄 [Worker-23454131980032] Starting: Blast_074\n",
      "2025-06-19 15:49:21,677 - src.preprocessing.centroid_batch_processor - INFO - Processing file: Blast_074\n",
      "2025-06-19 15:49:21,679 - src.preprocessing.centroid_batch_processor - INFO - Loading data from: /mnt/home/dchhantyal/centroid_model_blastospim/data/raw/Blast/Blast_074.npz\n",
      "2025-06-19 15:49:21,677 - src.preprocessing.centroid_batch_processor - INFO - Processing file: Blast_074\n",
      "2025-06-19 15:49:21,679 - src.preprocessing.centroid_batch_processor - INFO - Loading data from: /mnt/home/dchhantyal/centroid_model_blastospim/data/raw/Blast/Blast_074.npz\n",
      "2025-06-19 15:49:21,946 - src.preprocessing.centroid_batch_processor - INFO - Volume shape: (101, 2048, 2048)\n",
      "2025-06-19 15:49:21,946 - src.preprocessing.centroid_batch_processor - INFO - Mask shape: (101, 2048, 2048)\n",
      "2025-06-19 15:49:21,946 - src.preprocessing.centroid_batch_processor - INFO - Volume shape: (101, 2048, 2048)\n",
      "2025-06-19 15:49:21,946 - src.preprocessing.centroid_batch_processor - INFO - Mask shape: (101, 2048, 2048)\n",
      "2025-06-19 15:49:22,416 - src.preprocessing.centroid_batch_processor - INFO - Volume shape: (101, 2048, 2048)\n",
      "2025-06-19 15:49:22,416 - src.preprocessing.centroid_batch_processor - INFO - Mask shape: (101, 2048, 2048)\n",
      "2025-06-19 15:49:22,421 - src.preprocessing.centroid_batch_processor - INFO - Saved label data to: /mnt/home/dchhantyal/centroid_model_blastospim/data/labels/Blast/label_Blast_064/data/label.npz\n",
      "2025-06-19 15:49:22,416 - src.preprocessing.centroid_batch_processor - INFO - Volume shape: (101, 2048, 2048)\n",
      "2025-06-19 15:49:22,416 - src.preprocessing.centroid_batch_processor - INFO - Mask shape: (101, 2048, 2048)\n",
      "2025-06-19 15:49:22,421 - src.preprocessing.centroid_batch_processor - INFO - Saved label data to: /mnt/home/dchhantyal/centroid_model_blastospim/data/labels/Blast/label_Blast_064/data/label.npz\n",
      "2025-06-19 15:49:23,309 - src.preprocessing.centroid_batch_processor - INFO - Volume shape: (101, 2048, 2048)\n",
      "2025-06-19 15:49:23,309 - src.preprocessing.centroid_batch_processor - INFO - Mask shape: (101, 2048, 2048)\n",
      "2025-06-19 15:49:23,309 - src.preprocessing.centroid_batch_processor - INFO - Volume shape: (101, 2048, 2048)\n",
      "2025-06-19 15:49:23,309 - src.preprocessing.centroid_batch_processor - INFO - Mask shape: (101, 2048, 2048)\n",
      "2025-06-19 15:49:23,332 - src.preprocessing.centroid_batch_processor - INFO - Volume shape: (101, 2048, 2048)\n",
      "2025-06-19 15:49:23,333 - src.preprocessing.centroid_batch_processor - INFO - Mask shape: (101, 2048, 2048)\n",
      "2025-06-19 15:49:23,332 - src.preprocessing.centroid_batch_processor - INFO - Volume shape: (101, 2048, 2048)\n",
      "2025-06-19 15:49:23,333 - src.preprocessing.centroid_batch_processor - INFO - Mask shape: (101, 2048, 2048)\n",
      "2025-06-19 15:49:23,394 - src.preprocessing.centroid_batch_processor - INFO - Successfully processed Blast_071\n",
      "2025-06-19 15:49:23,394 - src.preprocessing.centroid_batch_processor - INFO - Successfully processed Blast_071\n"
     ]
    },
    {
     "name": "stdout",
     "output_type": "stream",
     "text": [
      "15:49:23 - [Worker-23454127777536] - INFO - ✅ [Worker-23454127777536] Completed: Blast_071\n"
     ]
    },
    {
     "name": "stderr",
     "output_type": "stream",
     "text": [
      "2025-06-19 15:49:23,397 - worker_processor - INFO - ✅ [Worker-23454127777536] Completed: Blast_071\n"
     ]
    },
    {
     "name": "stdout",
     "output_type": "stream",
     "text": [
      "15:49:23 - [Worker-23454127777536] - INFO - 📁 [Worker-23454127777536] Output: /mnt/home/dchhantyal/centroid_model_blastospim/data/labels/Blast/label_Blast_071\n"
     ]
    },
    {
     "name": "stderr",
     "output_type": "stream",
     "text": [
      "2025-06-19 15:49:23,398 - worker_processor - INFO - 📁 [Worker-23454127777536] Output: /mnt/home/dchhantyal/centroid_model_blastospim/data/labels/Blast/label_Blast_071\n"
     ]
    },
    {
     "name": "stdout",
     "output_type": "stream",
     "text": [
      "15:49:23 - [Worker-23454127777536] - WARNING - ⚠️  [Worker-23454127777536] Visualization not found: /mnt/home/dchhantyal/centroid_model_blastospim/data/labels/Blast/label_Blast_071/visualizations/comprehensive_analysis.png\n"
     ]
    },
    {
     "name": "stderr",
     "output_type": "stream",
     "text": [
      "2025-06-19 15:49:23,399 - worker_processor - WARNING - ⚠️  [Worker-23454127777536] Visualization not found: /mnt/home/dchhantyal/centroid_model_blastospim/data/labels/Blast/label_Blast_071/visualizations/comprehensive_analysis.png\n",
      "2025-06-19 15:49:23,408 - src.preprocessing.centroid_batch_processor - INFO - Using voxel spacing from config: Z=2.0µm, Y=0.208µm, X=0.208µm\n",
      "2025-06-19 15:49:23,408 - src.preprocessing.centroid_batch_processor - INFO - Using voxel spacing from config: Z=2.0µm, Y=0.208µm, X=0.208µm\n"
     ]
    },
    {
     "name": "stdout",
     "output_type": "stream",
     "text": [
      "✅ [39/80] ( 48.8%) | ETA:  65.8s | Blast_071.npz\n",
      "15:49:23 - [Worker-23454127777536] - INFO - 🔄 [Worker-23454127777536] Starting: Blast_039\n"
     ]
    },
    {
     "name": "stderr",
     "output_type": "stream",
     "text": [
      "2025-06-19 15:49:23,409 - worker_processor - INFO - 🔄 [Worker-23454127777536] Starting: Blast_039\n",
      "2025-06-19 15:49:23,409 - src.preprocessing.centroid_batch_processor - INFO - Processing file: Blast_039\n",
      "2025-06-19 15:49:23,410 - src.preprocessing.centroid_batch_processor - INFO - Loading data from: /mnt/home/dchhantyal/centroid_model_blastospim/data/raw/Blast/Blast_039.npz\n",
      "2025-06-19 15:49:23,409 - src.preprocessing.centroid_batch_processor - INFO - Processing file: Blast_039\n",
      "2025-06-19 15:49:23,410 - src.preprocessing.centroid_batch_processor - INFO - Loading data from: /mnt/home/dchhantyal/centroid_model_blastospim/data/raw/Blast/Blast_039.npz\n",
      "2025-06-19 15:49:23,590 - src.preprocessing.centroid_batch_processor - INFO - Number of objects: 95\n",
      "2025-06-19 15:49:23,590 - src.preprocessing.centroid_batch_processor - INFO - Number of objects: 95\n",
      "2025-06-19 15:49:24,060 - src.preprocessing.centroid_batch_processor - INFO - Number of objects: 96\n",
      "2025-06-19 15:49:24,060 - src.preprocessing.centroid_batch_processor - INFO - Number of objects: 96\n",
      "2025-06-19 15:49:24,668 - src.preprocessing.centroid_batch_processor - INFO - Volume shape: (101, 2048, 2048)\n",
      "2025-06-19 15:49:24,668 - src.preprocessing.centroid_batch_processor - INFO - Mask shape: (101, 2048, 2048)\n",
      "2025-06-19 15:49:24,668 - src.preprocessing.centroid_batch_processor - INFO - Volume shape: (101, 2048, 2048)\n",
      "2025-06-19 15:49:24,668 - src.preprocessing.centroid_batch_processor - INFO - Mask shape: (101, 2048, 2048)\n",
      "2025-06-19 15:49:24,948 - src.preprocessing.centroid_batch_processor - INFO - Number of objects: 90\n",
      "2025-06-19 15:49:24,948 - src.preprocessing.centroid_batch_processor - INFO - Number of objects: 90\n",
      "2025-06-19 15:49:24,975 - src.preprocessing.centroid_batch_processor - INFO - Number of objects: 80\n",
      "2025-06-19 15:49:24,975 - src.preprocessing.centroid_batch_processor - INFO - Number of objects: 80\n",
      "2025-06-19 15:49:25,009 - src.preprocessing.centroid_batch_processor - INFO - Successfully processed Blast_064\n",
      "2025-06-19 15:49:25,009 - src.preprocessing.centroid_batch_processor - INFO - Successfully processed Blast_064\n"
     ]
    },
    {
     "name": "stdout",
     "output_type": "stream",
     "text": [
      "15:49:25 - [Worker-23454138283776] - INFO - ✅ [Worker-23454138283776] Completed: Blast_064\n"
     ]
    },
    {
     "name": "stderr",
     "output_type": "stream",
     "text": [
      "2025-06-19 15:49:25,012 - worker_processor - INFO - ✅ [Worker-23454138283776] Completed: Blast_064\n"
     ]
    },
    {
     "name": "stdout",
     "output_type": "stream",
     "text": [
      "15:49:25 - [Worker-23454138283776] - INFO - 📁 [Worker-23454138283776] Output: /mnt/home/dchhantyal/centroid_model_blastospim/data/labels/Blast/label_Blast_064\n"
     ]
    },
    {
     "name": "stderr",
     "output_type": "stream",
     "text": [
      "2025-06-19 15:49:25,013 - worker_processor - INFO - 📁 [Worker-23454138283776] Output: /mnt/home/dchhantyal/centroid_model_blastospim/data/labels/Blast/label_Blast_064\n"
     ]
    },
    {
     "name": "stdout",
     "output_type": "stream",
     "text": [
      "15:49:25 - [Worker-23454138283776] - WARNING - ⚠️  [Worker-23454138283776] Visualization not found: /mnt/home/dchhantyal/centroid_model_blastospim/data/labels/Blast/label_Blast_064/visualizations/comprehensive_analysis.png\n"
     ]
    },
    {
     "name": "stderr",
     "output_type": "stream",
     "text": [
      "2025-06-19 15:49:25,014 - worker_processor - WARNING - ⚠️  [Worker-23454138283776] Visualization not found: /mnt/home/dchhantyal/centroid_model_blastospim/data/labels/Blast/label_Blast_064/visualizations/comprehensive_analysis.png\n",
      "2025-06-19 15:49:25,023 - src.preprocessing.centroid_batch_processor - INFO - Using voxel spacing from config: Z=2.0µm, Y=0.208µm, X=0.208µm\n",
      "2025-06-19 15:49:25,023 - src.preprocessing.centroid_batch_processor - INFO - Using voxel spacing from config: Z=2.0µm, Y=0.208µm, X=0.208µm\n"
     ]
    },
    {
     "name": "stdout",
     "output_type": "stream",
     "text": [
      "✅ [40/80] ( 50.0%) | ETA:  64.2s | Blast_064.npz\n",
      "15:49:25 - [Worker-23454138283776] - INFO - 🔄 [Worker-23454138283776] Starting: Blast_038\n"
     ]
    },
    {
     "name": "stderr",
     "output_type": "stream",
     "text": [
      "2025-06-19 15:49:25,024 - worker_processor - INFO - 🔄 [Worker-23454138283776] Starting: Blast_038\n",
      "2025-06-19 15:49:25,024 - src.preprocessing.centroid_batch_processor - INFO - Processing file: Blast_038\n",
      "2025-06-19 15:49:25,026 - src.preprocessing.centroid_batch_processor - INFO - Loading data from: /mnt/home/dchhantyal/centroid_model_blastospim/data/raw/Blast/Blast_038.npz\n",
      "2025-06-19 15:49:25,024 - src.preprocessing.centroid_batch_processor - INFO - Processing file: Blast_038\n",
      "2025-06-19 15:49:25,026 - src.preprocessing.centroid_batch_processor - INFO - Loading data from: /mnt/home/dchhantyal/centroid_model_blastospim/data/raw/Blast/Blast_038.npz\n",
      "2025-06-19 15:49:25,118 - src.preprocessing.centroid_batch_processor - INFO - Saved label data to: /mnt/home/dchhantyal/centroid_model_blastospim/data/labels/Blast/label_Blast_029/data/label.npz\n",
      "2025-06-19 15:49:25,118 - src.preprocessing.centroid_batch_processor - INFO - Saved label data to: /mnt/home/dchhantyal/centroid_model_blastospim/data/labels/Blast/label_Blast_029/data/label.npz\n",
      "2025-06-19 15:49:25,591 - src.preprocessing.centroid_batch_processor - INFO - Saved label data to: /mnt/home/dchhantyal/centroid_model_blastospim/data/labels/Blast/label_Blast_058/data/label.npz\n",
      "2025-06-19 15:49:25,591 - src.preprocessing.centroid_batch_processor - INFO - Saved label data to: /mnt/home/dchhantyal/centroid_model_blastospim/data/labels/Blast/label_Blast_058/data/label.npz\n",
      "2025-06-19 15:49:26,314 - src.preprocessing.centroid_batch_processor - INFO - Number of objects: 65\n",
      "2025-06-19 15:49:26,314 - src.preprocessing.centroid_batch_processor - INFO - Number of objects: 65\n",
      "2025-06-19 15:49:26,494 - src.preprocessing.centroid_batch_processor - INFO - Saved label data to: /mnt/home/dchhantyal/centroid_model_blastospim/data/labels/Blast/label_Blast_077/data/label.npz\n",
      "2025-06-19 15:49:26,494 - src.preprocessing.centroid_batch_processor - INFO - Saved label data to: /mnt/home/dchhantyal/centroid_model_blastospim/data/labels/Blast/label_Blast_077/data/label.npz\n",
      "2025-06-19 15:49:26,520 - src.preprocessing.centroid_batch_processor - INFO - Saved label data to: /mnt/home/dchhantyal/centroid_model_blastospim/data/labels/Blast/label_Blast_040/data/label.npz\n",
      "2025-06-19 15:49:26,520 - src.preprocessing.centroid_batch_processor - INFO - Saved label data to: /mnt/home/dchhantyal/centroid_model_blastospim/data/labels/Blast/label_Blast_040/data/label.npz\n",
      "2025-06-19 15:49:27,687 - src.preprocessing.centroid_batch_processor - INFO - Successfully processed Blast_029\n",
      "2025-06-19 15:49:27,687 - src.preprocessing.centroid_batch_processor - INFO - Successfully processed Blast_029\n"
     ]
    },
    {
     "name": "stdout",
     "output_type": "stream",
     "text": [
      "15:49:27 - [Worker-23454147065600] - INFO - ✅ [Worker-23454147065600] Completed: Blast_029\n"
     ]
    },
    {
     "name": "stderr",
     "output_type": "stream",
     "text": [
      "2025-06-19 15:49:27,690 - worker_processor - INFO - ✅ [Worker-23454147065600] Completed: Blast_029\n"
     ]
    },
    {
     "name": "stdout",
     "output_type": "stream",
     "text": [
      "15:49:27 - [Worker-23454147065600] - INFO - 📁 [Worker-23454147065600] Output: /mnt/home/dchhantyal/centroid_model_blastospim/data/labels/Blast/label_Blast_029\n"
     ]
    },
    {
     "name": "stderr",
     "output_type": "stream",
     "text": [
      "2025-06-19 15:49:27,691 - worker_processor - INFO - 📁 [Worker-23454147065600] Output: /mnt/home/dchhantyal/centroid_model_blastospim/data/labels/Blast/label_Blast_029\n"
     ]
    },
    {
     "name": "stdout",
     "output_type": "stream",
     "text": [
      "15:49:27 - [Worker-23454147065600] - WARNING - ⚠️  [Worker-23454147065600] Visualization not found: /mnt/home/dchhantyal/centroid_model_blastospim/data/labels/Blast/label_Blast_029/visualizations/comprehensive_analysis.png\n"
     ]
    },
    {
     "name": "stderr",
     "output_type": "stream",
     "text": [
      "2025-06-19 15:49:27,691 - worker_processor - WARNING - ⚠️  [Worker-23454147065600] Visualization not found: /mnt/home/dchhantyal/centroid_model_blastospim/data/labels/Blast/label_Blast_029/visualizations/comprehensive_analysis.png\n",
      "2025-06-19 15:49:27,700 - src.preprocessing.centroid_batch_processor - INFO - Using voxel spacing from config: Z=2.0µm, Y=0.208µm, X=0.208µm\n",
      "2025-06-19 15:49:27,700 - src.preprocessing.centroid_batch_processor - INFO - Using voxel spacing from config: Z=2.0µm, Y=0.208µm, X=0.208µm\n"
     ]
    },
    {
     "name": "stdout",
     "output_type": "stream",
     "text": [
      "✅ [41/80] ( 51.2%) | ETA:  63.6s | Blast_029.npz\n",
      "15:49:27 - [Worker-23454147065600] - INFO - 🔄 [Worker-23454147065600] Starting: Blast_009\n"
     ]
    },
    {
     "name": "stderr",
     "output_type": "stream",
     "text": [
      "2025-06-19 15:49:27,700 - worker_processor - INFO - 🔄 [Worker-23454147065600] Starting: Blast_009\n",
      "2025-06-19 15:49:27,701 - src.preprocessing.centroid_batch_processor - INFO - Processing file: Blast_009\n",
      "2025-06-19 15:49:27,703 - src.preprocessing.centroid_batch_processor - INFO - Loading data from: /mnt/home/dchhantyal/centroid_model_blastospim/data/raw/Blast/Blast_009.npz\n",
      "2025-06-19 15:49:27,701 - src.preprocessing.centroid_batch_processor - INFO - Processing file: Blast_009\n",
      "2025-06-19 15:49:27,703 - src.preprocessing.centroid_batch_processor - INFO - Loading data from: /mnt/home/dchhantyal/centroid_model_blastospim/data/raw/Blast/Blast_009.npz\n",
      "2025-06-19 15:49:27,817 - src.preprocessing.centroid_batch_processor - INFO - Saved label data to: /mnt/home/dchhantyal/centroid_model_blastospim/data/labels/Blast/label_Blast_022/data/label.npz\n",
      "2025-06-19 15:49:27,817 - src.preprocessing.centroid_batch_processor - INFO - Saved label data to: /mnt/home/dchhantyal/centroid_model_blastospim/data/labels/Blast/label_Blast_022/data/label.npz\n",
      "2025-06-19 15:49:27,889 - src.preprocessing.centroid_batch_processor - INFO - Volume shape: (101, 2048, 2048)\n",
      "2025-06-19 15:49:27,889 - src.preprocessing.centroid_batch_processor - INFO - Mask shape: (101, 2048, 2048)\n",
      "2025-06-19 15:49:27,889 - src.preprocessing.centroid_batch_processor - INFO - Volume shape: (101, 2048, 2048)\n",
      "2025-06-19 15:49:27,889 - src.preprocessing.centroid_batch_processor - INFO - Mask shape: (101, 2048, 2048)\n",
      "2025-06-19 15:49:28,167 - src.preprocessing.centroid_batch_processor - INFO - Successfully processed Blast_058\n",
      "2025-06-19 15:49:28,167 - src.preprocessing.centroid_batch_processor - INFO - Successfully processed Blast_058\n"
     ]
    },
    {
     "name": "stdout",
     "output_type": "stream",
     "text": [
      "15:49:28 - [Worker-23454129878784] - INFO - ✅ [Worker-23454129878784] Completed: Blast_058\n"
     ]
    },
    {
     "name": "stderr",
     "output_type": "stream",
     "text": [
      "2025-06-19 15:49:28,170 - worker_processor - INFO - ✅ [Worker-23454129878784] Completed: Blast_058\n"
     ]
    },
    {
     "name": "stdout",
     "output_type": "stream",
     "text": [
      "15:49:28 - [Worker-23454129878784] - INFO - 📁 [Worker-23454129878784] Output: /mnt/home/dchhantyal/centroid_model_blastospim/data/labels/Blast/label_Blast_058\n"
     ]
    },
    {
     "name": "stderr",
     "output_type": "stream",
     "text": [
      "2025-06-19 15:49:28,171 - worker_processor - INFO - 📁 [Worker-23454129878784] Output: /mnt/home/dchhantyal/centroid_model_blastospim/data/labels/Blast/label_Blast_058\n"
     ]
    },
    {
     "name": "stdout",
     "output_type": "stream",
     "text": [
      "15:49:28 - [Worker-23454129878784] - WARNING - ⚠️  [Worker-23454129878784] Visualization not found: /mnt/home/dchhantyal/centroid_model_blastospim/data/labels/Blast/label_Blast_058/visualizations/comprehensive_analysis.png\n"
     ]
    },
    {
     "name": "stderr",
     "output_type": "stream",
     "text": [
      "2025-06-19 15:49:28,172 - worker_processor - WARNING - ⚠️  [Worker-23454129878784] Visualization not found: /mnt/home/dchhantyal/centroid_model_blastospim/data/labels/Blast/label_Blast_058/visualizations/comprehensive_analysis.png\n",
      "2025-06-19 15:49:28,180 - src.preprocessing.centroid_batch_processor - INFO - Using voxel spacing from config: Z=2.0µm, Y=0.208µm, X=0.208µm\n",
      "2025-06-19 15:49:28,180 - src.preprocessing.centroid_batch_processor - INFO - Using voxel spacing from config: Z=2.0µm, Y=0.208µm, X=0.208µm\n"
     ]
    },
    {
     "name": "stdout",
     "output_type": "stream",
     "text": [
      "✅ [42/80] ( 52.5%) | ETA:  61.0s | Blast_058.npz\n",
      "15:49:28 - [Worker-23454129878784] - INFO - 🔄 [Worker-23454129878784] Starting: Blast_008\n"
     ]
    },
    {
     "name": "stderr",
     "output_type": "stream",
     "text": [
      "2025-06-19 15:49:28,180 - worker_processor - INFO - 🔄 [Worker-23454129878784] Starting: Blast_008\n",
      "2025-06-19 15:49:28,181 - src.preprocessing.centroid_batch_processor - INFO - Processing file: Blast_008\n",
      "2025-06-19 15:49:28,182 - src.preprocessing.centroid_batch_processor - INFO - Loading data from: /mnt/home/dchhantyal/centroid_model_blastospim/data/raw/Blast/Blast_008.npz\n",
      "2025-06-19 15:49:28,181 - src.preprocessing.centroid_batch_processor - INFO - Processing file: Blast_008\n",
      "2025-06-19 15:49:28,182 - src.preprocessing.centroid_batch_processor - INFO - Loading data from: /mnt/home/dchhantyal/centroid_model_blastospim/data/raw/Blast/Blast_008.npz\n",
      "2025-06-19 15:49:28,737 - src.preprocessing.centroid_batch_processor - INFO - Volume shape: (101, 2048, 2048)\n",
      "2025-06-19 15:49:28,737 - src.preprocessing.centroid_batch_processor - INFO - Mask shape: (101, 2048, 2048)\n",
      "2025-06-19 15:49:28,737 - src.preprocessing.centroid_batch_processor - INFO - Volume shape: (101, 2048, 2048)\n",
      "2025-06-19 15:49:28,737 - src.preprocessing.centroid_batch_processor - INFO - Mask shape: (101, 2048, 2048)\n",
      "2025-06-19 15:49:29,110 - src.preprocessing.centroid_batch_processor - INFO - Successfully processed Blast_077\n",
      "2025-06-19 15:49:29,110 - src.preprocessing.centroid_batch_processor - INFO - Successfully processed Blast_077\n"
     ]
    },
    {
     "name": "stdout",
     "output_type": "stream",
     "text": [
      "15:49:29 - [Worker-23454136182528] - INFO - ✅ [Worker-23454136182528] Completed: Blast_077\n"
     ]
    },
    {
     "name": "stderr",
     "output_type": "stream",
     "text": [
      "2025-06-19 15:49:29,114 - worker_processor - INFO - ✅ [Worker-23454136182528] Completed: Blast_077\n"
     ]
    },
    {
     "name": "stdout",
     "output_type": "stream",
     "text": [
      "15:49:29 - [Worker-23454136182528] - INFO - 📁 [Worker-23454136182528] Output: /mnt/home/dchhantyal/centroid_model_blastospim/data/labels/Blast/label_Blast_077\n"
     ]
    },
    {
     "name": "stderr",
     "output_type": "stream",
     "text": [
      "2025-06-19 15:49:29,114 - worker_processor - INFO - 📁 [Worker-23454136182528] Output: /mnt/home/dchhantyal/centroid_model_blastospim/data/labels/Blast/label_Blast_077\n"
     ]
    },
    {
     "name": "stdout",
     "output_type": "stream",
     "text": [
      "15:49:29 - [Worker-23454136182528] - WARNING - ⚠️  [Worker-23454136182528] Visualization not found: /mnt/home/dchhantyal/centroid_model_blastospim/data/labels/Blast/label_Blast_077/visualizations/comprehensive_analysis.png\n"
     ]
    },
    {
     "name": "stderr",
     "output_type": "stream",
     "text": [
      "2025-06-19 15:49:29,115 - worker_processor - WARNING - ⚠️  [Worker-23454136182528] Visualization not found: /mnt/home/dchhantyal/centroid_model_blastospim/data/labels/Blast/label_Blast_077/visualizations/comprehensive_analysis.png\n",
      "2025-06-19 15:49:29,125 - src.preprocessing.centroid_batch_processor - INFO - Using voxel spacing from config: Z=2.0µm, Y=0.208µm, X=0.208µm\n",
      "2025-06-19 15:49:29,125 - src.preprocessing.centroid_batch_processor - INFO - Using voxel spacing from config: Z=2.0µm, Y=0.208µm, X=0.208µm\n"
     ]
    },
    {
     "name": "stdout",
     "output_type": "stream",
     "text": [
      "✅ [43/80] ( 53.8%) | ETA:  58.8s | Blast_077.npz\n",
      "15:49:29 - [Worker-23454136182528] - INFO - 🔄 [Worker-23454136182528] Starting: Blast_019\n"
     ]
    },
    {
     "name": "stderr",
     "output_type": "stream",
     "text": [
      "2025-06-19 15:49:29,126 - worker_processor - INFO - 🔄 [Worker-23454136182528] Starting: Blast_019\n",
      "2025-06-19 15:49:29,126 - src.preprocessing.centroid_batch_processor - INFO - Processing file: Blast_019\n",
      "2025-06-19 15:49:29,127 - src.preprocessing.centroid_batch_processor - INFO - Successfully processed Blast_040\n",
      "2025-06-19 15:49:29,126 - src.preprocessing.centroid_batch_processor - INFO - Processing file: Blast_019\n",
      "2025-06-19 15:49:29,127 - src.preprocessing.centroid_batch_processor - INFO - Successfully processed Blast_040\n"
     ]
    },
    {
     "name": "stdout",
     "output_type": "stream",
     "text": [
      "15:49:29 - [Worker-23454134081280] - INFO - ✅ [Worker-23454134081280] Completed: Blast_040\n"
     ]
    },
    {
     "name": "stderr",
     "output_type": "stream",
     "text": [
      "2025-06-19 15:49:29,130 - worker_processor - INFO - ✅ [Worker-23454134081280] Completed: Blast_040\n",
      "2025-06-19 15:49:29,131 - src.preprocessing.centroid_batch_processor - INFO - Loading data from: /mnt/home/dchhantyal/centroid_model_blastospim/data/raw/Blast/Blast_019.npz\n",
      "2025-06-19 15:49:29,131 - src.preprocessing.centroid_batch_processor - INFO - Loading data from: /mnt/home/dchhantyal/centroid_model_blastospim/data/raw/Blast/Blast_019.npz\n"
     ]
    },
    {
     "name": "stdout",
     "output_type": "stream",
     "text": [
      "15:49:29 - [Worker-23454134081280] - INFO - 📁 [Worker-23454134081280] Output: /mnt/home/dchhantyal/centroid_model_blastospim/data/labels/Blast/label_Blast_040\n"
     ]
    },
    {
     "name": "stderr",
     "output_type": "stream",
     "text": [
      "2025-06-19 15:49:29,131 - worker_processor - INFO - 📁 [Worker-23454134081280] Output: /mnt/home/dchhantyal/centroid_model_blastospim/data/labels/Blast/label_Blast_040\n"
     ]
    },
    {
     "name": "stdout",
     "output_type": "stream",
     "text": [
      "15:49:29 - [Worker-23454134081280] - WARNING - ⚠️  [Worker-23454134081280] Visualization not found: /mnt/home/dchhantyal/centroid_model_blastospim/data/labels/Blast/label_Blast_040/visualizations/comprehensive_analysis.png\n"
     ]
    },
    {
     "name": "stderr",
     "output_type": "stream",
     "text": [
      "2025-06-19 15:49:29,133 - worker_processor - WARNING - ⚠️  [Worker-23454134081280] Visualization not found: /mnt/home/dchhantyal/centroid_model_blastospim/data/labels/Blast/label_Blast_040/visualizations/comprehensive_analysis.png\n",
      "2025-06-19 15:49:29,142 - src.preprocessing.centroid_batch_processor - INFO - Using voxel spacing from config: Z=2.0µm, Y=0.208µm, X=0.208µm\n",
      "2025-06-19 15:49:29,142 - src.preprocessing.centroid_batch_processor - INFO - Using voxel spacing from config: Z=2.0µm, Y=0.208µm, X=0.208µm\n"
     ]
    },
    {
     "name": "stdout",
     "output_type": "stream",
     "text": [
      "✅ [44/80] ( 55.0%) | ETA:  55.9s | Blast_040.npz\n",
      "15:49:29 - [Worker-23454134081280] - INFO - 🔄 [Worker-23454134081280] Starting: Blast_052\n"
     ]
    },
    {
     "name": "stderr",
     "output_type": "stream",
     "text": [
      "2025-06-19 15:49:29,142 - worker_processor - INFO - 🔄 [Worker-23454134081280] Starting: Blast_052\n",
      "2025-06-19 15:49:29,143 - src.preprocessing.centroid_batch_processor - INFO - Processing file: Blast_052\n",
      "2025-06-19 15:49:29,143 - src.preprocessing.centroid_batch_processor - INFO - Processing file: Blast_052\n",
      "2025-06-19 15:49:29,174 - src.preprocessing.centroid_batch_processor - INFO - Loading data from: /mnt/home/dchhantyal/centroid_model_blastospim/data/raw/Blast/Blast_052.npz\n",
      "2025-06-19 15:49:29,174 - src.preprocessing.centroid_batch_processor - INFO - Loading data from: /mnt/home/dchhantyal/centroid_model_blastospim/data/raw/Blast/Blast_052.npz\n",
      "2025-06-19 15:49:29,532 - src.preprocessing.centroid_batch_processor - INFO - Number of objects: 78\n",
      "2025-06-19 15:49:29,532 - src.preprocessing.centroid_batch_processor - INFO - Number of objects: 78\n",
      "2025-06-19 15:49:30,384 - src.preprocessing.centroid_batch_processor - INFO - Number of objects: 93\n",
      "2025-06-19 15:49:30,384 - src.preprocessing.centroid_batch_processor - INFO - Number of objects: 93\n",
      "2025-06-19 15:49:30,419 - src.preprocessing.centroid_batch_processor - INFO - Successfully processed Blast_022\n",
      "2025-06-19 15:49:30,419 - src.preprocessing.centroid_batch_processor - INFO - Successfully processed Blast_022\n"
     ]
    },
    {
     "name": "stdout",
     "output_type": "stream",
     "text": [
      "15:49:30 - [Worker-23454125577984] - INFO - ✅ [Worker-23454125577984] Completed: Blast_022\n"
     ]
    },
    {
     "name": "stderr",
     "output_type": "stream",
     "text": [
      "2025-06-19 15:49:30,422 - worker_processor - INFO - ✅ [Worker-23454125577984] Completed: Blast_022\n"
     ]
    },
    {
     "name": "stdout",
     "output_type": "stream",
     "text": [
      "15:49:30 - [Worker-23454125577984] - INFO - 📁 [Worker-23454125577984] Output: /mnt/home/dchhantyal/centroid_model_blastospim/data/labels/Blast/label_Blast_022\n"
     ]
    },
    {
     "name": "stderr",
     "output_type": "stream",
     "text": [
      "2025-06-19 15:49:30,423 - worker_processor - INFO - 📁 [Worker-23454125577984] Output: /mnt/home/dchhantyal/centroid_model_blastospim/data/labels/Blast/label_Blast_022\n"
     ]
    },
    {
     "name": "stdout",
     "output_type": "stream",
     "text": [
      "15:49:30 - [Worker-23454125577984] - WARNING - ⚠️  [Worker-23454125577984] Visualization not found: /mnt/home/dchhantyal/centroid_model_blastospim/data/labels/Blast/label_Blast_022/visualizations/comprehensive_analysis.png\n"
     ]
    },
    {
     "name": "stderr",
     "output_type": "stream",
     "text": [
      "2025-06-19 15:49:30,423 - worker_processor - WARNING - ⚠️  [Worker-23454125577984] Visualization not found: /mnt/home/dchhantyal/centroid_model_blastospim/data/labels/Blast/label_Blast_022/visualizations/comprehensive_analysis.png\n",
      "2025-06-19 15:49:30,432 - src.preprocessing.centroid_batch_processor - INFO - Using voxel spacing from config: Z=2.0µm, Y=0.208µm, X=0.208µm\n",
      "2025-06-19 15:49:30,432 - src.preprocessing.centroid_batch_processor - INFO - Using voxel spacing from config: Z=2.0µm, Y=0.208µm, X=0.208µm\n"
     ]
    },
    {
     "name": "stdout",
     "output_type": "stream",
     "text": [
      "✅ [45/80] ( 56.2%) | ETA:  54.2s | Blast_022.npz\n",
      "15:49:30 - [Worker-23454125577984] - INFO - 🔄 [Worker-23454125577984] Starting: Blast_100\n"
     ]
    },
    {
     "name": "stderr",
     "output_type": "stream",
     "text": [
      "2025-06-19 15:49:30,432 - worker_processor - INFO - 🔄 [Worker-23454125577984] Starting: Blast_100\n",
      "2025-06-19 15:49:30,433 - src.preprocessing.centroid_batch_processor - INFO - Processing file: Blast_100\n",
      "2025-06-19 15:49:30,465 - src.preprocessing.centroid_batch_processor - INFO - Loading data from: /mnt/home/dchhantyal/centroid_model_blastospim/data/raw/Blast/Blast_100.npz\n",
      "2025-06-19 15:49:30,433 - src.preprocessing.centroid_batch_processor - INFO - Processing file: Blast_100\n",
      "2025-06-19 15:49:30,465 - src.preprocessing.centroid_batch_processor - INFO - Loading data from: /mnt/home/dchhantyal/centroid_model_blastospim/data/raw/Blast/Blast_100.npz\n",
      "2025-06-19 15:49:31,060 - src.preprocessing.centroid_batch_processor - INFO - Saved label data to: /mnt/home/dchhantyal/centroid_model_blastospim/data/labels/Blast/label_Blast_039/data/label.npz\n",
      "2025-06-19 15:49:31,060 - src.preprocessing.centroid_batch_processor - INFO - Saved label data to: /mnt/home/dchhantyal/centroid_model_blastospim/data/labels/Blast/label_Blast_039/data/label.npz\n",
      "2025-06-19 15:49:31,700 - src.preprocessing.centroid_batch_processor - INFO - Volume shape: (101, 2048, 2048)\n",
      "2025-06-19 15:49:31,701 - src.preprocessing.centroid_batch_processor - INFO - Mask shape: (101, 2048, 2048)\n",
      "2025-06-19 15:49:31,700 - src.preprocessing.centroid_batch_processor - INFO - Volume shape: (101, 2048, 2048)\n",
      "2025-06-19 15:49:31,701 - src.preprocessing.centroid_batch_processor - INFO - Mask shape: (101, 2048, 2048)\n",
      "2025-06-19 15:49:31,892 - src.preprocessing.centroid_batch_processor - INFO - Saved label data to: /mnt/home/dchhantyal/centroid_model_blastospim/data/labels/Blast/label_Blast_074/data/label.npz\n",
      "2025-06-19 15:49:31,892 - src.preprocessing.centroid_batch_processor - INFO - Saved label data to: /mnt/home/dchhantyal/centroid_model_blastospim/data/labels/Blast/label_Blast_074/data/label.npz\n",
      "2025-06-19 15:49:32,750 - src.preprocessing.centroid_batch_processor - INFO - Volume shape: (101, 960, 962)\n",
      "2025-06-19 15:49:32,751 - src.preprocessing.centroid_batch_processor - INFO - Mask shape: (101, 960, 962)\n",
      "2025-06-19 15:49:32,750 - src.preprocessing.centroid_batch_processor - INFO - Volume shape: (101, 960, 962)\n",
      "2025-06-19 15:49:32,751 - src.preprocessing.centroid_batch_processor - INFO - Mask shape: (101, 960, 962)\n",
      "2025-06-19 15:49:33,088 - src.preprocessing.centroid_batch_processor - INFO - Volume shape: (101, 2048, 2048)\n",
      "2025-06-19 15:49:33,089 - src.preprocessing.centroid_batch_processor - INFO - Mask shape: (101, 2048, 2048)\n",
      "2025-06-19 15:49:33,088 - src.preprocessing.centroid_batch_processor - INFO - Volume shape: (101, 2048, 2048)\n",
      "2025-06-19 15:49:33,089 - src.preprocessing.centroid_batch_processor - INFO - Mask shape: (101, 2048, 2048)\n",
      "2025-06-19 15:49:33,113 - src.preprocessing.centroid_batch_processor - INFO - Number of objects: 71\n",
      "2025-06-19 15:49:33,113 - src.preprocessing.centroid_batch_processor - INFO - Number of objects: 71\n",
      "2025-06-19 15:49:33,339 - src.preprocessing.centroid_batch_processor - INFO - Number of objects: 83\n",
      "2025-06-19 15:49:33,339 - src.preprocessing.centroid_batch_processor - INFO - Number of objects: 83\n",
      "2025-06-19 15:49:33,481 - src.preprocessing.centroid_batch_processor - INFO - Saved label data to: /mnt/home/dchhantyal/centroid_model_blastospim/data/labels/Blast/label_Blast_100/data/label.npz\n",
      "2025-06-19 15:49:33,481 - src.preprocessing.centroid_batch_processor - INFO - Saved label data to: /mnt/home/dchhantyal/centroid_model_blastospim/data/labels/Blast/label_Blast_100/data/label.npz\n",
      "2025-06-19 15:49:33,656 - src.preprocessing.centroid_batch_processor - INFO - Successfully processed Blast_039\n",
      "2025-06-19 15:49:33,656 - src.preprocessing.centroid_batch_processor - INFO - Successfully processed Blast_039\n"
     ]
    },
    {
     "name": "stdout",
     "output_type": "stream",
     "text": [
      "15:49:33 - [Worker-23454127777536] - INFO - ✅ [Worker-23454127777536] Completed: Blast_039\n"
     ]
    },
    {
     "name": "stderr",
     "output_type": "stream",
     "text": [
      "2025-06-19 15:49:33,659 - worker_processor - INFO - ✅ [Worker-23454127777536] Completed: Blast_039\n"
     ]
    },
    {
     "name": "stdout",
     "output_type": "stream",
     "text": [
      "15:49:33 - [Worker-23454127777536] - INFO - 📁 [Worker-23454127777536] Output: /mnt/home/dchhantyal/centroid_model_blastospim/data/labels/Blast/label_Blast_039\n"
     ]
    },
    {
     "name": "stderr",
     "output_type": "stream",
     "text": [
      "2025-06-19 15:49:33,659 - worker_processor - INFO - 📁 [Worker-23454127777536] Output: /mnt/home/dchhantyal/centroid_model_blastospim/data/labels/Blast/label_Blast_039\n"
     ]
    },
    {
     "name": "stdout",
     "output_type": "stream",
     "text": [
      "15:49:33 - [Worker-23454127777536] - WARNING - ⚠️  [Worker-23454127777536] Visualization not found: /mnt/home/dchhantyal/centroid_model_blastospim/data/labels/Blast/label_Blast_039/visualizations/comprehensive_analysis.png\n"
     ]
    },
    {
     "name": "stderr",
     "output_type": "stream",
     "text": [
      "2025-06-19 15:49:33,660 - worker_processor - WARNING - ⚠️  [Worker-23454127777536] Visualization not found: /mnt/home/dchhantyal/centroid_model_blastospim/data/labels/Blast/label_Blast_039/visualizations/comprehensive_analysis.png\n",
      "2025-06-19 15:49:33,669 - src.preprocessing.centroid_batch_processor - INFO - Using voxel spacing from config: Z=2.0µm, Y=0.208µm, X=0.208µm\n",
      "2025-06-19 15:49:33,669 - src.preprocessing.centroid_batch_processor - INFO - Using voxel spacing from config: Z=2.0µm, Y=0.208µm, X=0.208µm\n"
     ]
    },
    {
     "name": "stdout",
     "output_type": "stream",
     "text": [
      "✅ [46/80] ( 57.5%) | ETA:  53.9s | Blast_039.npz\n",
      "15:49:33 - [Worker-23454127777536] - INFO - 🔄 [Worker-23454127777536] Starting: Blast_057\n"
     ]
    },
    {
     "name": "stderr",
     "output_type": "stream",
     "text": [
      "2025-06-19 15:49:33,669 - worker_processor - INFO - 🔄 [Worker-23454127777536] Starting: Blast_057\n",
      "2025-06-19 15:49:33,670 - src.preprocessing.centroid_batch_processor - INFO - Processing file: Blast_057\n",
      "2025-06-19 15:49:33,670 - src.preprocessing.centroid_batch_processor - INFO - Loading data from: /mnt/home/dchhantyal/centroid_model_blastospim/data/raw/Blast/Blast_057.npz\n",
      "2025-06-19 15:49:33,670 - src.preprocessing.centroid_batch_processor - INFO - Processing file: Blast_057\n",
      "2025-06-19 15:49:33,670 - src.preprocessing.centroid_batch_processor - INFO - Loading data from: /mnt/home/dchhantyal/centroid_model_blastospim/data/raw/Blast/Blast_057.npz\n",
      "2025-06-19 15:49:34,054 - src.preprocessing.centroid_batch_processor - INFO - Successfully processed Blast_100\n",
      "2025-06-19 15:49:34,054 - src.preprocessing.centroid_batch_processor - INFO - Successfully processed Blast_100\n"
     ]
    },
    {
     "name": "stdout",
     "output_type": "stream",
     "text": [
      "15:49:34 - [Worker-23454125577984] - INFO - ✅ [Worker-23454125577984] Completed: Blast_100\n"
     ]
    },
    {
     "name": "stderr",
     "output_type": "stream",
     "text": [
      "2025-06-19 15:49:34,055 - worker_processor - INFO - ✅ [Worker-23454125577984] Completed: Blast_100\n"
     ]
    },
    {
     "name": "stdout",
     "output_type": "stream",
     "text": [
      "15:49:34 - [Worker-23454125577984] - INFO - 📁 [Worker-23454125577984] Output: /mnt/home/dchhantyal/centroid_model_blastospim/data/labels/Blast/label_Blast_100\n"
     ]
    },
    {
     "name": "stderr",
     "output_type": "stream",
     "text": [
      "2025-06-19 15:49:34,056 - worker_processor - INFO - 📁 [Worker-23454125577984] Output: /mnt/home/dchhantyal/centroid_model_blastospim/data/labels/Blast/label_Blast_100\n"
     ]
    },
    {
     "name": "stdout",
     "output_type": "stream",
     "text": [
      "15:49:34 - [Worker-23454125577984] - WARNING - ⚠️  [Worker-23454125577984] Visualization not found: /mnt/home/dchhantyal/centroid_model_blastospim/data/labels/Blast/label_Blast_100/visualizations/comprehensive_analysis.png\n"
     ]
    },
    {
     "name": "stderr",
     "output_type": "stream",
     "text": [
      "2025-06-19 15:49:34,057 - worker_processor - WARNING - ⚠️  [Worker-23454125577984] Visualization not found: /mnt/home/dchhantyal/centroid_model_blastospim/data/labels/Blast/label_Blast_100/visualizations/comprehensive_analysis.png\n",
      "2025-06-19 15:49:34,066 - src.preprocessing.centroid_batch_processor - INFO - Using voxel spacing from config: Z=2.0µm, Y=0.208µm, X=0.208µm\n",
      "2025-06-19 15:49:34,066 - src.preprocessing.centroid_batch_processor - INFO - Using voxel spacing from config: Z=2.0µm, Y=0.208µm, X=0.208µm\n"
     ]
    },
    {
     "name": "stdout",
     "output_type": "stream",
     "text": [
      "✅ [47/80] ( 58.8%) | ETA:  51.4s | Blast_100.npz\n",
      "15:49:34 - [Worker-23454125577984] - INFO - 🔄 [Worker-23454125577984] Starting: Blast_061\n"
     ]
    },
    {
     "name": "stderr",
     "output_type": "stream",
     "text": [
      "2025-06-19 15:49:34,066 - worker_processor - INFO - 🔄 [Worker-23454125577984] Starting: Blast_061\n",
      "2025-06-19 15:49:34,067 - src.preprocessing.centroid_batch_processor - INFO - Processing file: Blast_061\n",
      "2025-06-19 15:49:34,068 - src.preprocessing.centroid_batch_processor - INFO - Loading data from: /mnt/home/dchhantyal/centroid_model_blastospim/data/raw/Blast/Blast_061.npz\n",
      "2025-06-19 15:49:34,067 - src.preprocessing.centroid_batch_processor - INFO - Processing file: Blast_061\n",
      "2025-06-19 15:49:34,068 - src.preprocessing.centroid_batch_processor - INFO - Loading data from: /mnt/home/dchhantyal/centroid_model_blastospim/data/raw/Blast/Blast_061.npz\n",
      "2025-06-19 15:49:34,457 - src.preprocessing.centroid_batch_processor - INFO - Successfully processed Blast_074\n",
      "2025-06-19 15:49:34,457 - src.preprocessing.centroid_batch_processor - INFO - Successfully processed Blast_074\n"
     ]
    },
    {
     "name": "stdout",
     "output_type": "stream",
     "text": [
      "15:49:34 - [Worker-23454131980032] - INFO - ✅ [Worker-23454131980032] Completed: Blast_074\n"
     ]
    },
    {
     "name": "stderr",
     "output_type": "stream",
     "text": [
      "2025-06-19 15:49:34,460 - worker_processor - INFO - ✅ [Worker-23454131980032] Completed: Blast_074\n"
     ]
    },
    {
     "name": "stdout",
     "output_type": "stream",
     "text": [
      "15:49:34 - [Worker-23454131980032] - INFO - 📁 [Worker-23454131980032] Output: /mnt/home/dchhantyal/centroid_model_blastospim/data/labels/Blast/label_Blast_074\n"
     ]
    },
    {
     "name": "stderr",
     "output_type": "stream",
     "text": [
      "2025-06-19 15:49:34,461 - worker_processor - INFO - 📁 [Worker-23454131980032] Output: /mnt/home/dchhantyal/centroid_model_blastospim/data/labels/Blast/label_Blast_074\n"
     ]
    },
    {
     "name": "stdout",
     "output_type": "stream",
     "text": [
      "15:49:34 - [Worker-23454131980032] - WARNING - ⚠️  [Worker-23454131980032] Visualization not found: /mnt/home/dchhantyal/centroid_model_blastospim/data/labels/Blast/label_Blast_074/visualizations/comprehensive_analysis.png\n"
     ]
    },
    {
     "name": "stderr",
     "output_type": "stream",
     "text": [
      "2025-06-19 15:49:34,461 - worker_processor - WARNING - ⚠️  [Worker-23454131980032] Visualization not found: /mnt/home/dchhantyal/centroid_model_blastospim/data/labels/Blast/label_Blast_074/visualizations/comprehensive_analysis.png\n",
      "2025-06-19 15:49:34,470 - src.preprocessing.centroid_batch_processor - INFO - Using voxel spacing from config: Z=2.0µm, Y=0.208µm, X=0.208µm\n",
      "2025-06-19 15:49:34,470 - src.preprocessing.centroid_batch_processor - INFO - Using voxel spacing from config: Z=2.0µm, Y=0.208µm, X=0.208µm\n"
     ]
    },
    {
     "name": "stdout",
     "output_type": "stream",
     "text": [
      "✅ [48/80] ( 60.0%) | ETA:  49.1s | Blast_074.npz\n",
      "15:49:34 - [Worker-23454131980032] - INFO - 🔄 [Worker-23454131980032] Starting: Blast_075\n"
     ]
    },
    {
     "name": "stderr",
     "output_type": "stream",
     "text": [
      "2025-06-19 15:49:34,471 - worker_processor - INFO - 🔄 [Worker-23454131980032] Starting: Blast_075\n",
      "2025-06-19 15:49:34,471 - src.preprocessing.centroid_batch_processor - INFO - Processing file: Blast_075\n",
      "2025-06-19 15:49:34,472 - src.preprocessing.centroid_batch_processor - INFO - Loading data from: /mnt/home/dchhantyal/centroid_model_blastospim/data/raw/Blast/Blast_075.npz\n",
      "2025-06-19 15:49:34,471 - src.preprocessing.centroid_batch_processor - INFO - Processing file: Blast_075\n",
      "2025-06-19 15:49:34,472 - src.preprocessing.centroid_batch_processor - INFO - Loading data from: /mnt/home/dchhantyal/centroid_model_blastospim/data/raw/Blast/Blast_075.npz\n",
      "2025-06-19 15:49:34,724 - src.preprocessing.centroid_batch_processor - INFO - Volume shape: (101, 2048, 2048)\n",
      "2025-06-19 15:49:34,725 - src.preprocessing.centroid_batch_processor - INFO - Mask shape: (101, 2048, 2048)\n",
      "2025-06-19 15:49:34,734 - src.preprocessing.centroid_batch_processor - INFO - Number of objects: 72\n",
      "2025-06-19 15:49:34,872 - src.preprocessing.centroid_batch_processor - INFO - Saved label data to: /mnt/home/dchhantyal/centroid_model_blastospim/data/labels/Blast/label_Blast_038/data/label.npz\n",
      "2025-06-19 15:49:34,724 - src.preprocessing.centroid_batch_processor - INFO - Volume shape: (101, 2048, 2048)\n",
      "2025-06-19 15:49:34,725 - src.preprocessing.centroid_batch_processor - INFO - Mask shape: (101, 2048, 2048)\n",
      "2025-06-19 15:49:34,734 - src.preprocessing.centroid_batch_processor - INFO - Number of objects: 72\n",
      "2025-06-19 15:49:34,872 - src.preprocessing.centroid_batch_processor - INFO - Saved label data to: /mnt/home/dchhantyal/centroid_model_blastospim/data/labels/Blast/label_Blast_038/data/label.npz\n",
      "2025-06-19 15:49:35,466 - src.preprocessing.centroid_batch_processor - INFO - Volume shape: (101, 2048, 2048)\n",
      "2025-06-19 15:49:35,466 - src.preprocessing.centroid_batch_processor - INFO - Mask shape: (101, 2048, 2048)\n",
      "2025-06-19 15:49:35,466 - src.preprocessing.centroid_batch_processor - INFO - Volume shape: (101, 2048, 2048)\n",
      "2025-06-19 15:49:35,466 - src.preprocessing.centroid_batch_processor - INFO - Mask shape: (101, 2048, 2048)\n",
      "2025-06-19 15:49:36,257 - src.preprocessing.centroid_batch_processor - INFO - Saved label data to: /mnt/home/dchhantyal/centroid_model_blastospim/data/labels/Blast/label_Blast_009/data/label.npz\n",
      "2025-06-19 15:49:36,257 - src.preprocessing.centroid_batch_processor - INFO - Saved label data to: /mnt/home/dchhantyal/centroid_model_blastospim/data/labels/Blast/label_Blast_009/data/label.npz\n",
      "2025-06-19 15:49:36,342 - src.preprocessing.centroid_batch_processor - INFO - Volume shape: (101, 2048, 2048)\n",
      "2025-06-19 15:49:36,343 - src.preprocessing.centroid_batch_processor - INFO - Mask shape: (101, 2048, 2048)\n",
      "2025-06-19 15:49:36,342 - src.preprocessing.centroid_batch_processor - INFO - Volume shape: (101, 2048, 2048)\n",
      "2025-06-19 15:49:36,343 - src.preprocessing.centroid_batch_processor - INFO - Mask shape: (101, 2048, 2048)\n",
      "2025-06-19 15:49:36,375 - src.preprocessing.centroid_batch_processor - INFO - Number of objects: 68\n",
      "2025-06-19 15:49:36,375 - src.preprocessing.centroid_batch_processor - INFO - Number of objects: 68\n",
      "2025-06-19 15:49:37,110 - src.preprocessing.centroid_batch_processor - INFO - Number of objects: 48\n",
      "2025-06-19 15:49:37,110 - src.preprocessing.centroid_batch_processor - INFO - Number of objects: 48\n",
      "2025-06-19 15:49:37,452 - src.preprocessing.centroid_batch_processor - INFO - Successfully processed Blast_038\n",
      "2025-06-19 15:49:37,452 - src.preprocessing.centroid_batch_processor - INFO - Successfully processed Blast_038\n"
     ]
    },
    {
     "name": "stdout",
     "output_type": "stream",
     "text": [
      "15:49:37 - [Worker-23454138283776] - INFO - ✅ [Worker-23454138283776] Completed: Blast_038\n"
     ]
    },
    {
     "name": "stderr",
     "output_type": "stream",
     "text": [
      "2025-06-19 15:49:37,455 - worker_processor - INFO - ✅ [Worker-23454138283776] Completed: Blast_038\n"
     ]
    },
    {
     "name": "stdout",
     "output_type": "stream",
     "text": [
      "15:49:37 - [Worker-23454138283776] - INFO - 📁 [Worker-23454138283776] Output: /mnt/home/dchhantyal/centroid_model_blastospim/data/labels/Blast/label_Blast_038\n"
     ]
    },
    {
     "name": "stderr",
     "output_type": "stream",
     "text": [
      "2025-06-19 15:49:37,456 - worker_processor - INFO - 📁 [Worker-23454138283776] Output: /mnt/home/dchhantyal/centroid_model_blastospim/data/labels/Blast/label_Blast_038\n"
     ]
    },
    {
     "name": "stdout",
     "output_type": "stream",
     "text": [
      "15:49:37 - [Worker-23454138283776] - WARNING - ⚠️  [Worker-23454138283776] Visualization not found: /mnt/home/dchhantyal/centroid_model_blastospim/data/labels/Blast/label_Blast_038/visualizations/comprehensive_analysis.png\n"
     ]
    },
    {
     "name": "stderr",
     "output_type": "stream",
     "text": [
      "2025-06-19 15:49:37,456 - worker_processor - WARNING - ⚠️  [Worker-23454138283776] Visualization not found: /mnt/home/dchhantyal/centroid_model_blastospim/data/labels/Blast/label_Blast_038/visualizations/comprehensive_analysis.png\n",
      "2025-06-19 15:49:37,465 - src.preprocessing.centroid_batch_processor - INFO - Using voxel spacing from config: Z=2.0µm, Y=0.208µm, X=0.208µm\n",
      "2025-06-19 15:49:37,465 - src.preprocessing.centroid_batch_processor - INFO - Using voxel spacing from config: Z=2.0µm, Y=0.208µm, X=0.208µm\n"
     ]
    },
    {
     "name": "stdout",
     "output_type": "stream",
     "text": [
      "✅ [49/80] ( 61.3%) | ETA:  48.5s | Blast_038.npz\n",
      "15:49:37 - [Worker-23454138283776] - INFO - 🔄 [Worker-23454138283776] Starting: Blast_012\n"
     ]
    },
    {
     "name": "stderr",
     "output_type": "stream",
     "text": [
      "2025-06-19 15:49:37,465 - worker_processor - INFO - 🔄 [Worker-23454138283776] Starting: Blast_012\n",
      "2025-06-19 15:49:37,466 - src.preprocessing.centroid_batch_processor - INFO - Processing file: Blast_012\n",
      "2025-06-19 15:49:37,468 - src.preprocessing.centroid_batch_processor - INFO - Loading data from: /mnt/home/dchhantyal/centroid_model_blastospim/data/raw/Blast/Blast_012.npz\n",
      "2025-06-19 15:49:37,466 - src.preprocessing.centroid_batch_processor - INFO - Processing file: Blast_012\n",
      "2025-06-19 15:49:37,468 - src.preprocessing.centroid_batch_processor - INFO - Loading data from: /mnt/home/dchhantyal/centroid_model_blastospim/data/raw/Blast/Blast_012.npz\n",
      "2025-06-19 15:49:37,915 - src.preprocessing.centroid_batch_processor - INFO - Saved label data to: /mnt/home/dchhantyal/centroid_model_blastospim/data/labels/Blast/label_Blast_008/data/label.npz\n",
      "2025-06-19 15:49:37,915 - src.preprocessing.centroid_batch_processor - INFO - Saved label data to: /mnt/home/dchhantyal/centroid_model_blastospim/data/labels/Blast/label_Blast_008/data/label.npz\n",
      "2025-06-19 15:49:37,987 - src.preprocessing.centroid_batch_processor - INFO - Number of objects: 83\n",
      "2025-06-19 15:49:37,987 - src.preprocessing.centroid_batch_processor - INFO - Number of objects: 83\n",
      "2025-06-19 15:49:38,668 - src.preprocessing.centroid_batch_processor - INFO - Saved label data to: /mnt/home/dchhantyal/centroid_model_blastospim/data/labels/Blast/label_Blast_019/data/label.npz\n",
      "2025-06-19 15:49:38,668 - src.preprocessing.centroid_batch_processor - INFO - Saved label data to: /mnt/home/dchhantyal/centroid_model_blastospim/data/labels/Blast/label_Blast_019/data/label.npz\n",
      "2025-06-19 15:49:38,840 - src.preprocessing.centroid_batch_processor - INFO - Successfully processed Blast_009\n",
      "2025-06-19 15:49:38,840 - src.preprocessing.centroid_batch_processor - INFO - Successfully processed Blast_009\n"
     ]
    },
    {
     "name": "stdout",
     "output_type": "stream",
     "text": [
      "15:49:38 - [Worker-23454147065600] - INFO - ✅ [Worker-23454147065600] Completed: Blast_009\n"
     ]
    },
    {
     "name": "stderr",
     "output_type": "stream",
     "text": [
      "2025-06-19 15:49:38,843 - worker_processor - INFO - ✅ [Worker-23454147065600] Completed: Blast_009\n"
     ]
    },
    {
     "name": "stdout",
     "output_type": "stream",
     "text": [
      "15:49:38 - [Worker-23454147065600] - INFO - 📁 [Worker-23454147065600] Output: /mnt/home/dchhantyal/centroid_model_blastospim/data/labels/Blast/label_Blast_009\n"
     ]
    },
    {
     "name": "stderr",
     "output_type": "stream",
     "text": [
      "2025-06-19 15:49:38,844 - worker_processor - INFO - 📁 [Worker-23454147065600] Output: /mnt/home/dchhantyal/centroid_model_blastospim/data/labels/Blast/label_Blast_009\n"
     ]
    },
    {
     "name": "stdout",
     "output_type": "stream",
     "text": [
      "15:49:38 - [Worker-23454147065600] - WARNING - ⚠️  [Worker-23454147065600] Visualization not found: /mnt/home/dchhantyal/centroid_model_blastospim/data/labels/Blast/label_Blast_009/visualizations/comprehensive_analysis.png\n"
     ]
    },
    {
     "name": "stderr",
     "output_type": "stream",
     "text": [
      "2025-06-19 15:49:38,845 - worker_processor - WARNING - ⚠️  [Worker-23454147065600] Visualization not found: /mnt/home/dchhantyal/centroid_model_blastospim/data/labels/Blast/label_Blast_009/visualizations/comprehensive_analysis.png\n",
      "2025-06-19 15:49:38,854 - src.preprocessing.centroid_batch_processor - INFO - Using voxel spacing from config: Z=2.0µm, Y=0.208µm, X=0.208µm\n",
      "2025-06-19 15:49:38,854 - src.preprocessing.centroid_batch_processor - INFO - Using voxel spacing from config: Z=2.0µm, Y=0.208µm, X=0.208µm\n"
     ]
    },
    {
     "name": "stdout",
     "output_type": "stream",
     "text": [
      "✅ [50/80] ( 62.5%) | ETA:  46.8s | Blast_009.npz\n",
      "15:49:38 - [Worker-23454147065600] - INFO - 🔄 [Worker-23454147065600] Starting: Blast_042\n"
     ]
    },
    {
     "name": "stderr",
     "output_type": "stream",
     "text": [
      "2025-06-19 15:49:38,854 - worker_processor - INFO - 🔄 [Worker-23454147065600] Starting: Blast_042\n",
      "2025-06-19 15:49:38,855 - src.preprocessing.centroid_batch_processor - INFO - Processing file: Blast_042\n",
      "2025-06-19 15:49:38,856 - src.preprocessing.centroid_batch_processor - INFO - Loading data from: /mnt/home/dchhantyal/centroid_model_blastospim/data/raw/Blast/Blast_042.npz\n",
      "2025-06-19 15:49:38,855 - src.preprocessing.centroid_batch_processor - INFO - Processing file: Blast_042\n",
      "2025-06-19 15:49:38,856 - src.preprocessing.centroid_batch_processor - INFO - Loading data from: /mnt/home/dchhantyal/centroid_model_blastospim/data/raw/Blast/Blast_042.npz\n",
      "2025-06-19 15:49:39,203 - src.preprocessing.centroid_batch_processor - INFO - Volume shape: (101, 2048, 2048)\n",
      "2025-06-19 15:49:39,203 - src.preprocessing.centroid_batch_processor - INFO - Mask shape: (101, 2048, 2048)\n",
      "2025-06-19 15:49:39,203 - src.preprocessing.centroid_batch_processor - INFO - Volume shape: (101, 2048, 2048)\n",
      "2025-06-19 15:49:39,203 - src.preprocessing.centroid_batch_processor - INFO - Mask shape: (101, 2048, 2048)\n",
      "2025-06-19 15:49:39,521 - src.preprocessing.centroid_batch_processor - INFO - Saved label data to: /mnt/home/dchhantyal/centroid_model_blastospim/data/labels/Blast/label_Blast_052/data/label.npz\n",
      "2025-06-19 15:49:39,521 - src.preprocessing.centroid_batch_processor - INFO - Saved label data to: /mnt/home/dchhantyal/centroid_model_blastospim/data/labels/Blast/label_Blast_052/data/label.npz\n",
      "2025-06-19 15:49:40,172 - src.preprocessing.centroid_batch_processor - INFO - Volume shape: (101, 2048, 2048)\n",
      "2025-06-19 15:49:40,172 - src.preprocessing.centroid_batch_processor - INFO - Mask shape: (101, 2048, 2048)\n",
      "2025-06-19 15:49:40,172 - src.preprocessing.centroid_batch_processor - INFO - Volume shape: (101, 2048, 2048)\n",
      "2025-06-19 15:49:40,172 - src.preprocessing.centroid_batch_processor - INFO - Mask shape: (101, 2048, 2048)\n",
      "2025-06-19 15:49:40,537 - src.preprocessing.centroid_batch_processor - INFO - Successfully processed Blast_008\n",
      "2025-06-19 15:49:40,537 - src.preprocessing.centroid_batch_processor - INFO - Successfully processed Blast_008\n"
     ]
    },
    {
     "name": "stdout",
     "output_type": "stream",
     "text": [
      "15:49:40 - [Worker-23454129878784] - INFO - ✅ [Worker-23454129878784] Completed: Blast_008\n"
     ]
    },
    {
     "name": "stderr",
     "output_type": "stream",
     "text": [
      "2025-06-19 15:49:40,540 - worker_processor - INFO - ✅ [Worker-23454129878784] Completed: Blast_008\n"
     ]
    },
    {
     "name": "stdout",
     "output_type": "stream",
     "text": [
      "15:49:40 - [Worker-23454129878784] - INFO - 📁 [Worker-23454129878784] Output: /mnt/home/dchhantyal/centroid_model_blastospim/data/labels/Blast/label_Blast_008\n"
     ]
    },
    {
     "name": "stderr",
     "output_type": "stream",
     "text": [
      "2025-06-19 15:49:40,541 - worker_processor - INFO - 📁 [Worker-23454129878784] Output: /mnt/home/dchhantyal/centroid_model_blastospim/data/labels/Blast/label_Blast_008\n"
     ]
    },
    {
     "name": "stdout",
     "output_type": "stream",
     "text": [
      "15:49:40 - [Worker-23454129878784] - WARNING - ⚠️  [Worker-23454129878784] Visualization not found: /mnt/home/dchhantyal/centroid_model_blastospim/data/labels/Blast/label_Blast_008/visualizations/comprehensive_analysis.png\n"
     ]
    },
    {
     "name": "stderr",
     "output_type": "stream",
     "text": [
      "2025-06-19 15:49:40,541 - worker_processor - WARNING - ⚠️  [Worker-23454129878784] Visualization not found: /mnt/home/dchhantyal/centroid_model_blastospim/data/labels/Blast/label_Blast_008/visualizations/comprehensive_analysis.png\n",
      "2025-06-19 15:49:40,550 - src.preprocessing.centroid_batch_processor - INFO - Using voxel spacing from config: Z=2.0µm, Y=0.208µm, X=0.208µm\n",
      "2025-06-19 15:49:40,550 - src.preprocessing.centroid_batch_processor - INFO - Using voxel spacing from config: Z=2.0µm, Y=0.208µm, X=0.208µm\n"
     ]
    },
    {
     "name": "stdout",
     "output_type": "stream",
     "text": [
      "✅ [51/80] ( 63.7%) | ETA:  45.3s | Blast_008.npz\n",
      "15:49:40 - [Worker-23454129878784] - INFO - 🔄 [Worker-23454129878784] Starting: Blast_082\n"
     ]
    },
    {
     "name": "stderr",
     "output_type": "stream",
     "text": [
      "2025-06-19 15:49:40,550 - worker_processor - INFO - 🔄 [Worker-23454129878784] Starting: Blast_082\n",
      "2025-06-19 15:49:40,551 - src.preprocessing.centroid_batch_processor - INFO - Processing file: Blast_082\n",
      "2025-06-19 15:49:40,552 - src.preprocessing.centroid_batch_processor - INFO - Loading data from: /mnt/home/dchhantyal/centroid_model_blastospim/data/raw/Blast/Blast_082.npz\n",
      "2025-06-19 15:49:40,551 - src.preprocessing.centroid_batch_processor - INFO - Processing file: Blast_082\n",
      "2025-06-19 15:49:40,552 - src.preprocessing.centroid_batch_processor - INFO - Loading data from: /mnt/home/dchhantyal/centroid_model_blastospim/data/raw/Blast/Blast_082.npz\n",
      "2025-06-19 15:49:40,834 - src.preprocessing.centroid_batch_processor - INFO - Volume shape: (101, 2048, 2048)\n",
      "2025-06-19 15:49:40,834 - src.preprocessing.centroid_batch_processor - INFO - Mask shape: (101, 2048, 2048)\n",
      "2025-06-19 15:49:40,843 - src.preprocessing.centroid_batch_processor - INFO - Number of objects: 89\n",
      "2025-06-19 15:49:40,834 - src.preprocessing.centroid_batch_processor - INFO - Volume shape: (101, 2048, 2048)\n",
      "2025-06-19 15:49:40,834 - src.preprocessing.centroid_batch_processor - INFO - Mask shape: (101, 2048, 2048)\n",
      "2025-06-19 15:49:40,843 - src.preprocessing.centroid_batch_processor - INFO - Number of objects: 89\n",
      "2025-06-19 15:49:41,260 - src.preprocessing.centroid_batch_processor - INFO - Successfully processed Blast_019\n",
      "2025-06-19 15:49:41,260 - src.preprocessing.centroid_batch_processor - INFO - Successfully processed Blast_019\n"
     ]
    },
    {
     "name": "stdout",
     "output_type": "stream",
     "text": [
      "15:49:41 - [Worker-23454136182528] - INFO - ✅ [Worker-23454136182528] Completed: Blast_019\n"
     ]
    },
    {
     "name": "stderr",
     "output_type": "stream",
     "text": [
      "2025-06-19 15:49:41,264 - worker_processor - INFO - ✅ [Worker-23454136182528] Completed: Blast_019\n"
     ]
    },
    {
     "name": "stdout",
     "output_type": "stream",
     "text": [
      "15:49:41 - [Worker-23454136182528] - INFO - 📁 [Worker-23454136182528] Output: /mnt/home/dchhantyal/centroid_model_blastospim/data/labels/Blast/label_Blast_019\n"
     ]
    },
    {
     "name": "stderr",
     "output_type": "stream",
     "text": [
      "2025-06-19 15:49:41,264 - worker_processor - INFO - 📁 [Worker-23454136182528] Output: /mnt/home/dchhantyal/centroid_model_blastospim/data/labels/Blast/label_Blast_019\n"
     ]
    },
    {
     "name": "stdout",
     "output_type": "stream",
     "text": [
      "15:49:41 - [Worker-23454136182528] - WARNING - ⚠️  [Worker-23454136182528] Visualization not found: /mnt/home/dchhantyal/centroid_model_blastospim/data/labels/Blast/label_Blast_019/visualizations/comprehensive_analysis.png\n"
     ]
    },
    {
     "name": "stderr",
     "output_type": "stream",
     "text": [
      "2025-06-19 15:49:41,265 - worker_processor - WARNING - ⚠️  [Worker-23454136182528] Visualization not found: /mnt/home/dchhantyal/centroid_model_blastospim/data/labels/Blast/label_Blast_019/visualizations/comprehensive_analysis.png\n",
      "2025-06-19 15:49:41,293 - src.preprocessing.centroid_batch_processor - INFO - Using voxel spacing from config: Z=2.0µm, Y=0.208µm, X=0.208µm\n",
      "2025-06-19 15:49:41,293 - src.preprocessing.centroid_batch_processor - INFO - Using voxel spacing from config: Z=2.0µm, Y=0.208µm, X=0.208µm\n"
     ]
    },
    {
     "name": "stdout",
     "output_type": "stream",
     "text": [
      "✅ [52/80] ( 65.0%) | ETA:  43.3s | Blast_019.npz\n",
      "15:49:41 - [Worker-23454136182528] - INFO - 🔄 [Worker-23454136182528] Starting: Blast_109\n"
     ]
    },
    {
     "name": "stderr",
     "output_type": "stream",
     "text": [
      "2025-06-19 15:49:41,294 - worker_processor - INFO - 🔄 [Worker-23454136182528] Starting: Blast_109\n",
      "2025-06-19 15:49:41,300 - src.preprocessing.centroid_batch_processor - INFO - Processing file: Blast_109\n",
      "2025-06-19 15:49:41,301 - src.preprocessing.centroid_batch_processor - INFO - Loading data from: /mnt/home/dchhantyal/centroid_model_blastospim/data/raw/Blast/Blast_109.npz\n",
      "2025-06-19 15:49:41,300 - src.preprocessing.centroid_batch_processor - INFO - Processing file: Blast_109\n",
      "2025-06-19 15:49:41,301 - src.preprocessing.centroid_batch_processor - INFO - Loading data from: /mnt/home/dchhantyal/centroid_model_blastospim/data/raw/Blast/Blast_109.npz\n",
      "2025-06-19 15:49:41,817 - src.preprocessing.centroid_batch_processor - INFO - Number of objects: 99\n",
      "2025-06-19 15:49:41,817 - src.preprocessing.centroid_batch_processor - INFO - Number of objects: 99\n",
      "2025-06-19 15:49:42,114 - src.preprocessing.centroid_batch_processor - INFO - Successfully processed Blast_052\n",
      "2025-06-19 15:49:42,114 - src.preprocessing.centroid_batch_processor - INFO - Successfully processed Blast_052\n"
     ]
    },
    {
     "name": "stdout",
     "output_type": "stream",
     "text": [
      "15:49:42 - [Worker-23454134081280] - INFO - ✅ [Worker-23454134081280] Completed: Blast_052\n"
     ]
    },
    {
     "name": "stderr",
     "output_type": "stream",
     "text": [
      "2025-06-19 15:49:42,117 - worker_processor - INFO - ✅ [Worker-23454134081280] Completed: Blast_052\n"
     ]
    },
    {
     "name": "stdout",
     "output_type": "stream",
     "text": [
      "15:49:42 - [Worker-23454134081280] - INFO - 📁 [Worker-23454134081280] Output: /mnt/home/dchhantyal/centroid_model_blastospim/data/labels/Blast/label_Blast_052\n"
     ]
    },
    {
     "name": "stderr",
     "output_type": "stream",
     "text": [
      "2025-06-19 15:49:42,117 - worker_processor - INFO - 📁 [Worker-23454134081280] Output: /mnt/home/dchhantyal/centroid_model_blastospim/data/labels/Blast/label_Blast_052\n"
     ]
    },
    {
     "name": "stdout",
     "output_type": "stream",
     "text": [
      "15:49:42 - [Worker-23454134081280] - WARNING - ⚠️  [Worker-23454134081280] Visualization not found: /mnt/home/dchhantyal/centroid_model_blastospim/data/labels/Blast/label_Blast_052/visualizations/comprehensive_analysis.png\n"
     ]
    },
    {
     "name": "stderr",
     "output_type": "stream",
     "text": [
      "2025-06-19 15:49:42,118 - worker_processor - WARNING - ⚠️  [Worker-23454134081280] Visualization not found: /mnt/home/dchhantyal/centroid_model_blastospim/data/labels/Blast/label_Blast_052/visualizations/comprehensive_analysis.png\n",
      "2025-06-19 15:49:42,127 - src.preprocessing.centroid_batch_processor - INFO - Using voxel spacing from config: Z=2.0µm, Y=0.208µm, X=0.208µm\n",
      "2025-06-19 15:49:42,127 - src.preprocessing.centroid_batch_processor - INFO - Using voxel spacing from config: Z=2.0µm, Y=0.208µm, X=0.208µm\n"
     ]
    },
    {
     "name": "stdout",
     "output_type": "stream",
     "text": [
      "✅ [53/80] ( 66.2%) | ETA:  41.4s | Blast_052.npz\n",
      "15:49:42 - [Worker-23454134081280] - INFO - 🔄 [Worker-23454134081280] Starting: Blast_099\n"
     ]
    },
    {
     "name": "stderr",
     "output_type": "stream",
     "text": [
      "2025-06-19 15:49:42,127 - worker_processor - INFO - 🔄 [Worker-23454134081280] Starting: Blast_099\n",
      "2025-06-19 15:49:42,128 - src.preprocessing.centroid_batch_processor - INFO - Processing file: Blast_099\n",
      "2025-06-19 15:49:42,129 - src.preprocessing.centroid_batch_processor - INFO - Loading data from: /mnt/home/dchhantyal/centroid_model_blastospim/data/raw/Blast/Blast_099.npz\n",
      "2025-06-19 15:49:42,128 - src.preprocessing.centroid_batch_processor - INFO - Processing file: Blast_099\n",
      "2025-06-19 15:49:42,129 - src.preprocessing.centroid_batch_processor - INFO - Loading data from: /mnt/home/dchhantyal/centroid_model_blastospim/data/raw/Blast/Blast_099.npz\n",
      "2025-06-19 15:49:42,381 - src.preprocessing.centroid_batch_processor - INFO - Saved label data to: /mnt/home/dchhantyal/centroid_model_blastospim/data/labels/Blast/label_Blast_061/data/label.npz\n",
      "2025-06-19 15:49:42,381 - src.preprocessing.centroid_batch_processor - INFO - Saved label data to: /mnt/home/dchhantyal/centroid_model_blastospim/data/labels/Blast/label_Blast_061/data/label.npz\n",
      "2025-06-19 15:49:42,479 - src.preprocessing.centroid_batch_processor - INFO - Number of objects: 87\n",
      "2025-06-19 15:49:42,479 - src.preprocessing.centroid_batch_processor - INFO - Number of objects: 87\n",
      "2025-06-19 15:49:43,336 - src.preprocessing.centroid_batch_processor - INFO - Saved label data to: /mnt/home/dchhantyal/centroid_model_blastospim/data/labels/Blast/label_Blast_057/data/label.npz\n",
      "2025-06-19 15:49:43,336 - src.preprocessing.centroid_batch_processor - INFO - Saved label data to: /mnt/home/dchhantyal/centroid_model_blastospim/data/labels/Blast/label_Blast_057/data/label.npz\n",
      "2025-06-19 15:49:43,622 - src.preprocessing.centroid_batch_processor - INFO - Volume shape: (101, 960, 962)\n",
      "2025-06-19 15:49:43,622 - src.preprocessing.centroid_batch_processor - INFO - Mask shape: (101, 960, 962)\n",
      "2025-06-19 15:49:43,622 - src.preprocessing.centroid_batch_processor - INFO - Volume shape: (101, 960, 962)\n",
      "2025-06-19 15:49:43,622 - src.preprocessing.centroid_batch_processor - INFO - Mask shape: (101, 960, 962)\n",
      "2025-06-19 15:49:43,960 - src.preprocessing.centroid_batch_processor - INFO - Volume shape: (101, 960, 1568)\n",
      "2025-06-19 15:49:43,960 - src.preprocessing.centroid_batch_processor - INFO - Mask shape: (101, 960, 1568)\n",
      "2025-06-19 15:49:43,972 - src.preprocessing.centroid_batch_processor - INFO - Volume shape: (101, 1200, 1564)\n",
      "2025-06-19 15:49:43,972 - src.preprocessing.centroid_batch_processor - INFO - Mask shape: (101, 1200, 1564)\n",
      "2025-06-19 15:49:43,986 - src.preprocessing.centroid_batch_processor - INFO - Number of objects: 75\n",
      "2025-06-19 15:49:43,995 - src.preprocessing.centroid_batch_processor - INFO - Saved label data to: /mnt/home/dchhantyal/centroid_model_blastospim/data/labels/Blast/label_Blast_075/data/label.npz\n",
      "2025-06-19 15:49:43,960 - src.preprocessing.centroid_batch_processor - INFO - Volume shape: (101, 960, 1568)\n",
      "2025-06-19 15:49:43,960 - src.preprocessing.centroid_batch_processor - INFO - Mask shape: (101, 960, 1568)\n",
      "2025-06-19 15:49:43,972 - src.preprocessing.centroid_batch_processor - INFO - Volume shape: (101, 1200, 1564)\n",
      "2025-06-19 15:49:43,972 - src.preprocessing.centroid_batch_processor - INFO - Mask shape: (101, 1200, 1564)\n",
      "2025-06-19 15:49:43,986 - src.preprocessing.centroid_batch_processor - INFO - Number of objects: 75\n",
      "2025-06-19 15:49:43,995 - src.preprocessing.centroid_batch_processor - INFO - Saved label data to: /mnt/home/dchhantyal/centroid_model_blastospim/data/labels/Blast/label_Blast_075/data/label.npz\n",
      "2025-06-19 15:49:44,065 - src.preprocessing.centroid_batch_processor - INFO - Volume shape: (101, 2048, 2048)\n",
      "2025-06-19 15:49:44,066 - src.preprocessing.centroid_batch_processor - INFO - Mask shape: (101, 2048, 2048)\n",
      "2025-06-19 15:49:44,065 - src.preprocessing.centroid_batch_processor - INFO - Volume shape: (101, 2048, 2048)\n",
      "2025-06-19 15:49:44,066 - src.preprocessing.centroid_batch_processor - INFO - Mask shape: (101, 2048, 2048)\n",
      "2025-06-19 15:49:44,342 - src.preprocessing.centroid_batch_processor - INFO - Saved label data to: /mnt/home/dchhantyal/centroid_model_blastospim/data/labels/Blast/label_Blast_099/data/label.npz\n",
      "2025-06-19 15:49:44,342 - src.preprocessing.centroid_batch_processor - INFO - Saved label data to: /mnt/home/dchhantyal/centroid_model_blastospim/data/labels/Blast/label_Blast_099/data/label.npz\n",
      "2025-06-19 15:49:44,553 - src.preprocessing.centroid_batch_processor - INFO - Number of objects: 107\n",
      "2025-06-19 15:49:44,553 - src.preprocessing.centroid_batch_processor - INFO - Number of objects: 107\n",
      "2025-06-19 15:49:44,709 - src.preprocessing.centroid_batch_processor - INFO - Number of objects: 78\n",
      "2025-06-19 15:49:44,709 - src.preprocessing.centroid_batch_processor - INFO - Number of objects: 78\n",
      "2025-06-19 15:49:44,756 - src.preprocessing.centroid_batch_processor - INFO - Volume shape: (101, 2048, 2048)\n",
      "2025-06-19 15:49:44,757 - src.preprocessing.centroid_batch_processor - INFO - Mask shape: (101, 2048, 2048)\n",
      "2025-06-19 15:49:44,756 - src.preprocessing.centroid_batch_processor - INFO - Volume shape: (101, 2048, 2048)\n",
      "2025-06-19 15:49:44,757 - src.preprocessing.centroid_batch_processor - INFO - Mask shape: (101, 2048, 2048)\n",
      "2025-06-19 15:49:44,915 - src.preprocessing.centroid_batch_processor - INFO - Successfully processed Blast_099\n",
      "2025-06-19 15:49:44,915 - src.preprocessing.centroid_batch_processor - INFO - Successfully processed Blast_099\n"
     ]
    },
    {
     "name": "stdout",
     "output_type": "stream",
     "text": [
      "15:49:44 - [Worker-23454134081280] - INFO - ✅ [Worker-23454134081280] Completed: Blast_099\n"
     ]
    },
    {
     "name": "stderr",
     "output_type": "stream",
     "text": [
      "2025-06-19 15:49:44,916 - worker_processor - INFO - ✅ [Worker-23454134081280] Completed: Blast_099\n"
     ]
    },
    {
     "name": "stdout",
     "output_type": "stream",
     "text": [
      "15:49:44 - [Worker-23454134081280] - INFO - 📁 [Worker-23454134081280] Output: /mnt/home/dchhantyal/centroid_model_blastospim/data/labels/Blast/label_Blast_099\n"
     ]
    },
    {
     "name": "stderr",
     "output_type": "stream",
     "text": [
      "2025-06-19 15:49:44,917 - worker_processor - INFO - 📁 [Worker-23454134081280] Output: /mnt/home/dchhantyal/centroid_model_blastospim/data/labels/Blast/label_Blast_099\n"
     ]
    },
    {
     "name": "stdout",
     "output_type": "stream",
     "text": [
      "15:49:44 - [Worker-23454134081280] - WARNING - ⚠️  [Worker-23454134081280] Visualization not found: /mnt/home/dchhantyal/centroid_model_blastospim/data/labels/Blast/label_Blast_099/visualizations/comprehensive_analysis.png\n"
     ]
    },
    {
     "name": "stderr",
     "output_type": "stream",
     "text": [
      "2025-06-19 15:49:44,919 - worker_processor - WARNING - ⚠️  [Worker-23454134081280] Visualization not found: /mnt/home/dchhantyal/centroid_model_blastospim/data/labels/Blast/label_Blast_099/visualizations/comprehensive_analysis.png\n",
      "2025-06-19 15:49:44,928 - src.preprocessing.centroid_batch_processor - INFO - Using voxel spacing from config: Z=2.0µm, Y=0.208µm, X=0.208µm\n",
      "2025-06-19 15:49:44,928 - src.preprocessing.centroid_batch_processor - INFO - Using voxel spacing from config: Z=2.0µm, Y=0.208µm, X=0.208µm\n"
     ]
    },
    {
     "name": "stdout",
     "output_type": "stream",
     "text": [
      "✅ [54/80] ( 67.5%) | ETA:  40.5s | Blast_099.npz\n",
      "15:49:44 - [Worker-23454134081280] - INFO - 🔄 [Worker-23454134081280] Starting: Blast_098\n"
     ]
    },
    {
     "name": "stderr",
     "output_type": "stream",
     "text": [
      "2025-06-19 15:49:44,929 - worker_processor - INFO - 🔄 [Worker-23454134081280] Starting: Blast_098\n",
      "2025-06-19 15:49:44,929 - src.preprocessing.centroid_batch_processor - INFO - Processing file: Blast_098\n",
      "2025-06-19 15:49:44,930 - src.preprocessing.centroid_batch_processor - INFO - Loading data from: /mnt/home/dchhantyal/centroid_model_blastospim/data/raw/Blast/Blast_098.npz\n",
      "2025-06-19 15:49:44,929 - src.preprocessing.centroid_batch_processor - INFO - Processing file: Blast_098\n",
      "2025-06-19 15:49:44,930 - src.preprocessing.centroid_batch_processor - INFO - Loading data from: /mnt/home/dchhantyal/centroid_model_blastospim/data/raw/Blast/Blast_098.npz\n",
      "2025-06-19 15:49:44,966 - src.preprocessing.centroid_batch_processor - INFO - Successfully processed Blast_061\n",
      "2025-06-19 15:49:44,966 - src.preprocessing.centroid_batch_processor - INFO - Successfully processed Blast_061\n"
     ]
    },
    {
     "name": "stdout",
     "output_type": "stream",
     "text": [
      "15:49:44 - [Worker-23454125577984] - INFO - ✅ [Worker-23454125577984] Completed: Blast_061\n"
     ]
    },
    {
     "name": "stderr",
     "output_type": "stream",
     "text": [
      "2025-06-19 15:49:44,969 - worker_processor - INFO - ✅ [Worker-23454125577984] Completed: Blast_061\n"
     ]
    },
    {
     "name": "stdout",
     "output_type": "stream",
     "text": [
      "15:49:44 - [Worker-23454125577984] - INFO - 📁 [Worker-23454125577984] Output: /mnt/home/dchhantyal/centroid_model_blastospim/data/labels/Blast/label_Blast_061\n"
     ]
    },
    {
     "name": "stderr",
     "output_type": "stream",
     "text": [
      "2025-06-19 15:49:44,969 - worker_processor - INFO - 📁 [Worker-23454125577984] Output: /mnt/home/dchhantyal/centroid_model_blastospim/data/labels/Blast/label_Blast_061\n"
     ]
    },
    {
     "name": "stdout",
     "output_type": "stream",
     "text": [
      "15:49:44 - [Worker-23454125577984] - WARNING - ⚠️  [Worker-23454125577984] Visualization not found: /mnt/home/dchhantyal/centroid_model_blastospim/data/labels/Blast/label_Blast_061/visualizations/comprehensive_analysis.png\n"
     ]
    },
    {
     "name": "stderr",
     "output_type": "stream",
     "text": [
      "2025-06-19 15:49:44,970 - worker_processor - WARNING - ⚠️  [Worker-23454125577984] Visualization not found: /mnt/home/dchhantyal/centroid_model_blastospim/data/labels/Blast/label_Blast_061/visualizations/comprehensive_analysis.png\n",
      "2025-06-19 15:49:44,979 - src.preprocessing.centroid_batch_processor - INFO - Using voxel spacing from config: Z=2.0µm, Y=0.208µm, X=0.208µm\n",
      "2025-06-19 15:49:44,979 - src.preprocessing.centroid_batch_processor - INFO - Using voxel spacing from config: Z=2.0µm, Y=0.208µm, X=0.208µm\n"
     ]
    },
    {
     "name": "stdout",
     "output_type": "stream",
     "text": [
      "✅ [55/80] ( 68.8%) | ETA:  38.3s | Blast_061.npz\n",
      "15:49:44 - [Worker-23454125577984] - INFO - 🔄 [Worker-23454125577984] Starting: Blast_072\n"
     ]
    },
    {
     "name": "stderr",
     "output_type": "stream",
     "text": [
      "2025-06-19 15:49:44,979 - worker_processor - INFO - 🔄 [Worker-23454125577984] Starting: Blast_072\n",
      "2025-06-19 15:49:44,979 - src.preprocessing.centroid_batch_processor - INFO - Processing file: Blast_072\n",
      "2025-06-19 15:49:44,980 - src.preprocessing.centroid_batch_processor - INFO - Loading data from: /mnt/home/dchhantyal/centroid_model_blastospim/data/raw/Blast/Blast_072.npz\n",
      "2025-06-19 15:49:44,979 - src.preprocessing.centroid_batch_processor - INFO - Processing file: Blast_072\n",
      "2025-06-19 15:49:44,980 - src.preprocessing.centroid_batch_processor - INFO - Loading data from: /mnt/home/dchhantyal/centroid_model_blastospim/data/raw/Blast/Blast_072.npz\n",
      "2025-06-19 15:49:45,115 - src.preprocessing.centroid_batch_processor - INFO - Saved label data to: /mnt/home/dchhantyal/centroid_model_blastospim/data/labels/Blast/label_Blast_109/data/label.npz\n",
      "2025-06-19 15:49:45,115 - src.preprocessing.centroid_batch_processor - INFO - Saved label data to: /mnt/home/dchhantyal/centroid_model_blastospim/data/labels/Blast/label_Blast_109/data/label.npz\n",
      "2025-06-19 15:49:45,411 - src.preprocessing.centroid_batch_processor - INFO - Saved label data to: /mnt/home/dchhantyal/centroid_model_blastospim/data/labels/Blast/label_Blast_082/data/label.npz\n",
      "2025-06-19 15:49:45,411 - src.preprocessing.centroid_batch_processor - INFO - Saved label data to: /mnt/home/dchhantyal/centroid_model_blastospim/data/labels/Blast/label_Blast_082/data/label.npz\n",
      "2025-06-19 15:49:45,710 - src.preprocessing.centroid_batch_processor - INFO - Number of objects: 69\n",
      "2025-06-19 15:49:45,903 - src.preprocessing.centroid_batch_processor - INFO - Successfully processed Blast_057\n",
      "2025-06-19 15:49:45,710 - src.preprocessing.centroid_batch_processor - INFO - Number of objects: 69\n",
      "2025-06-19 15:49:45,903 - src.preprocessing.centroid_batch_processor - INFO - Successfully processed Blast_057\n"
     ]
    },
    {
     "name": "stdout",
     "output_type": "stream",
     "text": [
      "15:49:45 - [Worker-23454127777536] - INFO - ✅ [Worker-23454127777536] Completed: Blast_057\n"
     ]
    },
    {
     "name": "stderr",
     "output_type": "stream",
     "text": [
      "2025-06-19 15:49:45,907 - worker_processor - INFO - ✅ [Worker-23454127777536] Completed: Blast_057\n"
     ]
    },
    {
     "name": "stdout",
     "output_type": "stream",
     "text": [
      "15:49:45 - [Worker-23454127777536] - INFO - 📁 [Worker-23454127777536] Output: /mnt/home/dchhantyal/centroid_model_blastospim/data/labels/Blast/label_Blast_057\n"
     ]
    },
    {
     "name": "stderr",
     "output_type": "stream",
     "text": [
      "2025-06-19 15:49:45,908 - worker_processor - INFO - 📁 [Worker-23454127777536] Output: /mnt/home/dchhantyal/centroid_model_blastospim/data/labels/Blast/label_Blast_057\n"
     ]
    },
    {
     "name": "stdout",
     "output_type": "stream",
     "text": [
      "15:49:45 - [Worker-23454127777536] - WARNING - ⚠️  [Worker-23454127777536] Visualization not found: /mnt/home/dchhantyal/centroid_model_blastospim/data/labels/Blast/label_Blast_057/visualizations/comprehensive_analysis.png\n"
     ]
    },
    {
     "name": "stderr",
     "output_type": "stream",
     "text": [
      "2025-06-19 15:49:45,909 - worker_processor - WARNING - ⚠️  [Worker-23454127777536] Visualization not found: /mnt/home/dchhantyal/centroid_model_blastospim/data/labels/Blast/label_Blast_057/visualizations/comprehensive_analysis.png\n",
      "2025-06-19 15:49:45,918 - src.preprocessing.centroid_batch_processor - INFO - Using voxel spacing from config: Z=2.0µm, Y=0.208µm, X=0.208µm\n",
      "2025-06-19 15:49:45,918 - src.preprocessing.centroid_batch_processor - INFO - Using voxel spacing from config: Z=2.0µm, Y=0.208µm, X=0.208µm\n"
     ]
    },
    {
     "name": "stdout",
     "output_type": "stream",
     "text": [
      "✅ [56/80] ( 70.0%) | ETA:  36.5s | Blast_057.npz\n",
      "15:49:45 - [Worker-23454127777536] - INFO - 🔄 [Worker-23454127777536] Starting: Blast_004\n"
     ]
    },
    {
     "name": "stderr",
     "output_type": "stream",
     "text": [
      "2025-06-19 15:49:45,918 - worker_processor - INFO - 🔄 [Worker-23454127777536] Starting: Blast_004\n",
      "2025-06-19 15:49:45,919 - src.preprocessing.centroid_batch_processor - INFO - Processing file: Blast_004\n",
      "2025-06-19 15:49:45,936 - src.preprocessing.centroid_batch_processor - INFO - Loading data from: /mnt/home/dchhantyal/centroid_model_blastospim/data/raw/Blast/Blast_004.npz\n",
      "2025-06-19 15:49:46,042 - src.preprocessing.centroid_batch_processor - INFO - Successfully processed Blast_109\n",
      "2025-06-19 15:49:45,919 - src.preprocessing.centroid_batch_processor - INFO - Processing file: Blast_004\n",
      "2025-06-19 15:49:45,936 - src.preprocessing.centroid_batch_processor - INFO - Loading data from: /mnt/home/dchhantyal/centroid_model_blastospim/data/raw/Blast/Blast_004.npz\n",
      "2025-06-19 15:49:46,042 - src.preprocessing.centroid_batch_processor - INFO - Successfully processed Blast_109\n"
     ]
    },
    {
     "name": "stdout",
     "output_type": "stream",
     "text": [
      "15:49:46 - [Worker-23454136182528] - INFO - ✅ [Worker-23454136182528] Completed: Blast_109\n"
     ]
    },
    {
     "name": "stderr",
     "output_type": "stream",
     "text": [
      "2025-06-19 15:49:46,043 - worker_processor - INFO - ✅ [Worker-23454136182528] Completed: Blast_109\n"
     ]
    },
    {
     "name": "stdout",
     "output_type": "stream",
     "text": [
      "15:49:46 - [Worker-23454136182528] - INFO - 📁 [Worker-23454136182528] Output: /mnt/home/dchhantyal/centroid_model_blastospim/data/labels/Blast/label_Blast_109\n"
     ]
    },
    {
     "name": "stderr",
     "output_type": "stream",
     "text": [
      "2025-06-19 15:49:46,044 - worker_processor - INFO - 📁 [Worker-23454136182528] Output: /mnt/home/dchhantyal/centroid_model_blastospim/data/labels/Blast/label_Blast_109\n"
     ]
    },
    {
     "name": "stdout",
     "output_type": "stream",
     "text": [
      "15:49:46 - [Worker-23454136182528] - WARNING - ⚠️  [Worker-23454136182528] Visualization not found: /mnt/home/dchhantyal/centroid_model_blastospim/data/labels/Blast/label_Blast_109/visualizations/comprehensive_analysis.png\n"
     ]
    },
    {
     "name": "stderr",
     "output_type": "stream",
     "text": [
      "2025-06-19 15:49:46,045 - worker_processor - WARNING - ⚠️  [Worker-23454136182528] Visualization not found: /mnt/home/dchhantyal/centroid_model_blastospim/data/labels/Blast/label_Blast_109/visualizations/comprehensive_analysis.png\n",
      "2025-06-19 15:49:46,054 - src.preprocessing.centroid_batch_processor - INFO - Using voxel spacing from config: Z=2.0µm, Y=0.208µm, X=0.208µm\n",
      "2025-06-19 15:49:46,054 - src.preprocessing.centroid_batch_processor - INFO - Using voxel spacing from config: Z=2.0µm, Y=0.208µm, X=0.208µm\n"
     ]
    },
    {
     "name": "stdout",
     "output_type": "stream",
     "text": [
      "✅ [57/80] ( 71.2%) | ETA:  34.4s | Blast_109.npz\n",
      "15:49:46 - [Worker-23454136182528] - INFO - 🔄 [Worker-23454136182528] Starting: Blast_110\n"
     ]
    },
    {
     "name": "stderr",
     "output_type": "stream",
     "text": [
      "2025-06-19 15:49:46,054 - worker_processor - INFO - 🔄 [Worker-23454136182528] Starting: Blast_110\n",
      "2025-06-19 15:49:46,055 - src.preprocessing.centroid_batch_processor - INFO - Processing file: Blast_110\n",
      "2025-06-19 15:49:46,057 - src.preprocessing.centroid_batch_processor - INFO - Loading data from: /mnt/home/dchhantyal/centroid_model_blastospim/data/raw/Blast/Blast_110.npz\n",
      "2025-06-19 15:49:46,055 - src.preprocessing.centroid_batch_processor - INFO - Processing file: Blast_110\n",
      "2025-06-19 15:49:46,057 - src.preprocessing.centroid_batch_processor - INFO - Loading data from: /mnt/home/dchhantyal/centroid_model_blastospim/data/raw/Blast/Blast_110.npz\n",
      "2025-06-19 15:49:46,181 - src.preprocessing.centroid_batch_processor - INFO - Volume shape: (101, 960, 962)\n",
      "2025-06-19 15:49:46,181 - src.preprocessing.centroid_batch_processor - INFO - Mask shape: (101, 960, 962)\n",
      "2025-06-19 15:49:46,181 - src.preprocessing.centroid_batch_processor - INFO - Volume shape: (101, 960, 962)\n",
      "2025-06-19 15:49:46,181 - src.preprocessing.centroid_batch_processor - INFO - Mask shape: (101, 960, 962)\n",
      "2025-06-19 15:49:46,398 - src.preprocessing.centroid_batch_processor - INFO - Number of objects: 57\n",
      "2025-06-19 15:49:46,398 - src.preprocessing.centroid_batch_processor - INFO - Number of objects: 57\n",
      "2025-06-19 15:49:46,544 - src.preprocessing.centroid_batch_processor - INFO - Number of objects: 102\n",
      "2025-06-19 15:49:46,573 - src.preprocessing.centroid_batch_processor - INFO - Successfully processed Blast_075\n",
      "2025-06-19 15:49:46,544 - src.preprocessing.centroid_batch_processor - INFO - Number of objects: 102\n",
      "2025-06-19 15:49:46,573 - src.preprocessing.centroid_batch_processor - INFO - Successfully processed Blast_075\n"
     ]
    },
    {
     "name": "stdout",
     "output_type": "stream",
     "text": [
      "15:49:46 - [Worker-23454131980032] - INFO - ✅ [Worker-23454131980032] Completed: Blast_075\n"
     ]
    },
    {
     "name": "stderr",
     "output_type": "stream",
     "text": [
      "2025-06-19 15:49:46,577 - worker_processor - INFO - ✅ [Worker-23454131980032] Completed: Blast_075\n"
     ]
    },
    {
     "name": "stdout",
     "output_type": "stream",
     "text": [
      "15:49:46 - [Worker-23454131980032] - INFO - 📁 [Worker-23454131980032] Output: /mnt/home/dchhantyal/centroid_model_blastospim/data/labels/Blast/label_Blast_075\n"
     ]
    },
    {
     "name": "stderr",
     "output_type": "stream",
     "text": [
      "2025-06-19 15:49:46,578 - worker_processor - INFO - 📁 [Worker-23454131980032] Output: /mnt/home/dchhantyal/centroid_model_blastospim/data/labels/Blast/label_Blast_075\n"
     ]
    },
    {
     "name": "stdout",
     "output_type": "stream",
     "text": [
      "15:49:46 - [Worker-23454131980032] - WARNING - ⚠️  [Worker-23454131980032] Visualization not found: /mnt/home/dchhantyal/centroid_model_blastospim/data/labels/Blast/label_Blast_075/visualizations/comprehensive_analysis.png\n"
     ]
    },
    {
     "name": "stderr",
     "output_type": "stream",
     "text": [
      "2025-06-19 15:49:46,579 - src.preprocessing.centroid_batch_processor - INFO - Successfully processed Blast_082\n",
      "2025-06-19 15:49:46,578 - worker_processor - WARNING - ⚠️  [Worker-23454131980032] Visualization not found: /mnt/home/dchhantyal/centroid_model_blastospim/data/labels/Blast/label_Blast_075/visualizations/comprehensive_analysis.png\n",
      "2025-06-19 15:49:46,578 - worker_processor - WARNING - ⚠️  [Worker-23454131980032] Visualization not found: /mnt/home/dchhantyal/centroid_model_blastospim/data/labels/Blast/label_Blast_075/visualizations/comprehensive_analysis.png\n"
     ]
    },
    {
     "name": "stdout",
     "output_type": "stream",
     "text": [
      "15:49:46 - [Worker-23454129878784] - INFO - ✅ [Worker-23454129878784] Completed: Blast_082\n"
     ]
    },
    {
     "name": "stderr",
     "output_type": "stream",
     "text": [
      "2025-06-19 15:49:46,580 - worker_processor - INFO - ✅ [Worker-23454129878784] Completed: Blast_082\n"
     ]
    },
    {
     "name": "stdout",
     "output_type": "stream",
     "text": [
      "✅ [58/80] ( 72.5%) | ETA:  32.5s | Blast_075.npz\n",
      "15:49:46 - [Worker-23454129878784] - INFO - 📁 [Worker-23454129878784] Output: /mnt/home/dchhantyal/centroid_model_blastospim/data/labels/Blast/label_Blast_082\n"
     ]
    },
    {
     "name": "stderr",
     "output_type": "stream",
     "text": [
      "2025-06-19 15:49:46,589 - src.preprocessing.centroid_batch_processor - INFO - Using voxel spacing from config: Z=2.0µm, Y=0.208µm, X=0.208µm\n",
      "2025-06-19 15:49:46,589 - worker_processor - INFO - 📁 [Worker-23454129878784] Output: /mnt/home/dchhantyal/centroid_model_blastospim/data/labels/Blast/label_Blast_082\n",
      "2025-06-19 15:49:46,589 - worker_processor - INFO - 📁 [Worker-23454129878784] Output: /mnt/home/dchhantyal/centroid_model_blastospim/data/labels/Blast/label_Blast_082\n"
     ]
    },
    {
     "name": "stdout",
     "output_type": "stream",
     "text": [
      "15:49:46 - [Worker-23454131980032] - INFO - 🔄 [Worker-23454131980032] Starting: Blast_007\n"
     ]
    },
    {
     "name": "stderr",
     "output_type": "stream",
     "text": [
      "2025-06-19 15:49:46,590 - worker_processor - INFO - 🔄 [Worker-23454131980032] Starting: Blast_007\n"
     ]
    },
    {
     "name": "stdout",
     "output_type": "stream",
     "text": [
      "15:49:46 - [Worker-23454129878784] - WARNING - ⚠️  [Worker-23454129878784] Visualization not found: /mnt/home/dchhantyal/centroid_model_blastospim/data/labels/Blast/label_Blast_082/visualizations/comprehensive_analysis.png\n"
     ]
    },
    {
     "name": "stderr",
     "output_type": "stream",
     "text": [
      "2025-06-19 15:49:46,591 - src.preprocessing.centroid_batch_processor - INFO - Processing file: Blast_007\n",
      "2025-06-19 15:49:46,590 - worker_processor - WARNING - ⚠️  [Worker-23454129878784] Visualization not found: /mnt/home/dchhantyal/centroid_model_blastospim/data/labels/Blast/label_Blast_082/visualizations/comprehensive_analysis.png\n",
      "2025-06-19 15:49:46,600 - src.preprocessing.centroid_batch_processor - INFO - Using voxel spacing from config: Z=2.0µm, Y=0.208µm, X=0.208µm\n",
      "2025-06-19 15:49:46,590 - worker_processor - WARNING - ⚠️  [Worker-23454129878784] Visualization not found: /mnt/home/dchhantyal/centroid_model_blastospim/data/labels/Blast/label_Blast_082/visualizations/comprehensive_analysis.png\n",
      "2025-06-19 15:49:46,600 - src.preprocessing.centroid_batch_processor - INFO - Using voxel spacing from config: Z=2.0µm, Y=0.208µm, X=0.208µm\n"
     ]
    },
    {
     "name": "stdout",
     "output_type": "stream",
     "text": [
      "✅ [59/80] ( 73.8%) | ETA:  30.5s | Blast_082.npz\n",
      "15:49:46 - [Worker-23454129878784] - INFO - 🔄 [Worker-23454129878784] Starting: Blast_032\n"
     ]
    },
    {
     "name": "stderr",
     "output_type": "stream",
     "text": [
      "2025-06-19 15:49:46,600 - worker_processor - INFO - 🔄 [Worker-23454129878784] Starting: Blast_032\n",
      "2025-06-19 15:49:46,601 - src.preprocessing.centroid_batch_processor - INFO - Loading data from: /mnt/home/dchhantyal/centroid_model_blastospim/data/raw/Blast/Blast_007.npz\n",
      "2025-06-19 15:49:46,601 - src.preprocessing.centroid_batch_processor - INFO - Processing file: Blast_032\n",
      "2025-06-19 15:49:46,602 - src.preprocessing.centroid_batch_processor - INFO - Loading data from: /mnt/home/dchhantyal/centroid_model_blastospim/data/raw/Blast/Blast_032.npz\n",
      "2025-06-19 15:49:46,601 - src.preprocessing.centroid_batch_processor - INFO - Loading data from: /mnt/home/dchhantyal/centroid_model_blastospim/data/raw/Blast/Blast_007.npz\n",
      "2025-06-19 15:49:46,601 - src.preprocessing.centroid_batch_processor - INFO - Processing file: Blast_032\n",
      "2025-06-19 15:49:46,602 - src.preprocessing.centroid_batch_processor - INFO - Loading data from: /mnt/home/dchhantyal/centroid_model_blastospim/data/raw/Blast/Blast_032.npz\n",
      "2025-06-19 15:49:46,911 - src.preprocessing.centroid_batch_processor - INFO - Saved label data to: /mnt/home/dchhantyal/centroid_model_blastospim/data/labels/Blast/label_Blast_098/data/label.npz\n",
      "2025-06-19 15:49:46,911 - src.preprocessing.centroid_batch_processor - INFO - Saved label data to: /mnt/home/dchhantyal/centroid_model_blastospim/data/labels/Blast/label_Blast_098/data/label.npz\n",
      "2025-06-19 15:49:47,254 - src.preprocessing.centroid_batch_processor - INFO - Saved label data to: /mnt/home/dchhantyal/centroid_model_blastospim/data/labels/Blast/label_Blast_042/data/label.npz\n",
      "2025-06-19 15:49:47,254 - src.preprocessing.centroid_batch_processor - INFO - Saved label data to: /mnt/home/dchhantyal/centroid_model_blastospim/data/labels/Blast/label_Blast_042/data/label.npz\n",
      "2025-06-19 15:49:47,485 - src.preprocessing.centroid_batch_processor - INFO - Successfully processed Blast_098\n",
      "2025-06-19 15:49:47,485 - src.preprocessing.centroid_batch_processor - INFO - Successfully processed Blast_098\n"
     ]
    },
    {
     "name": "stdout",
     "output_type": "stream",
     "text": [
      "15:49:47 - [Worker-23454134081280] - INFO - ✅ [Worker-23454134081280] Completed: Blast_098\n"
     ]
    },
    {
     "name": "stderr",
     "output_type": "stream",
     "text": [
      "2025-06-19 15:49:47,486 - worker_processor - INFO - ✅ [Worker-23454134081280] Completed: Blast_098\n"
     ]
    },
    {
     "name": "stdout",
     "output_type": "stream",
     "text": [
      "15:49:47 - [Worker-23454134081280] - INFO - 📁 [Worker-23454134081280] Output: /mnt/home/dchhantyal/centroid_model_blastospim/data/labels/Blast/label_Blast_098\n"
     ]
    },
    {
     "name": "stderr",
     "output_type": "stream",
     "text": [
      "2025-06-19 15:49:47,487 - worker_processor - INFO - 📁 [Worker-23454134081280] Output: /mnt/home/dchhantyal/centroid_model_blastospim/data/labels/Blast/label_Blast_098\n"
     ]
    },
    {
     "name": "stdout",
     "output_type": "stream",
     "text": [
      "15:49:47 - [Worker-23454134081280] - WARNING - ⚠️  [Worker-23454134081280] Visualization not found: /mnt/home/dchhantyal/centroid_model_blastospim/data/labels/Blast/label_Blast_098/visualizations/comprehensive_analysis.png\n"
     ]
    },
    {
     "name": "stderr",
     "output_type": "stream",
     "text": [
      "2025-06-19 15:49:47,488 - worker_processor - WARNING - ⚠️  [Worker-23454134081280] Visualization not found: /mnt/home/dchhantyal/centroid_model_blastospim/data/labels/Blast/label_Blast_098/visualizations/comprehensive_analysis.png\n",
      "2025-06-19 15:49:47,497 - src.preprocessing.centroid_batch_processor - INFO - Using voxel spacing from config: Z=2.0µm, Y=0.208µm, X=0.208µm\n",
      "2025-06-19 15:49:47,497 - src.preprocessing.centroid_batch_processor - INFO - Using voxel spacing from config: Z=2.0µm, Y=0.208µm, X=0.208µm\n"
     ]
    },
    {
     "name": "stdout",
     "output_type": "stream",
     "text": [
      "✅ [60/80] ( 75.0%) | ETA:  28.9s | Blast_098.npz\n",
      "15:49:47 - [Worker-23454134081280] - INFO - 🔄 [Worker-23454134081280] Starting: Blast_026\n"
     ]
    },
    {
     "name": "stderr",
     "output_type": "stream",
     "text": [
      "2025-06-19 15:49:47,497 - worker_processor - INFO - 🔄 [Worker-23454134081280] Starting: Blast_026\n",
      "2025-06-19 15:49:47,498 - src.preprocessing.centroid_batch_processor - INFO - Processing file: Blast_026\n",
      "2025-06-19 15:49:47,500 - src.preprocessing.centroid_batch_processor - INFO - Loading data from: /mnt/home/dchhantyal/centroid_model_blastospim/data/raw/Blast/Blast_026.npz\n",
      "2025-06-19 15:49:47,498 - src.preprocessing.centroid_batch_processor - INFO - Processing file: Blast_026\n",
      "2025-06-19 15:49:47,500 - src.preprocessing.centroid_batch_processor - INFO - Loading data from: /mnt/home/dchhantyal/centroid_model_blastospim/data/raw/Blast/Blast_026.npz\n",
      "2025-06-19 15:49:47,944 - src.preprocessing.centroid_batch_processor - INFO - Saved label data to: /mnt/home/dchhantyal/centroid_model_blastospim/data/labels/Blast/label_Blast_012/data/label.npz\n",
      "2025-06-19 15:49:47,944 - src.preprocessing.centroid_batch_processor - INFO - Saved label data to: /mnt/home/dchhantyal/centroid_model_blastospim/data/labels/Blast/label_Blast_012/data/label.npz\n",
      "2025-06-19 15:49:49,864 - src.preprocessing.centroid_batch_processor - INFO - Successfully processed Blast_042\n",
      "2025-06-19 15:49:49,864 - src.preprocessing.centroid_batch_processor - INFO - Successfully processed Blast_042\n"
     ]
    },
    {
     "name": "stdout",
     "output_type": "stream",
     "text": [
      "15:49:49 - [Worker-23454147065600] - INFO - ✅ [Worker-23454147065600] Completed: Blast_042\n"
     ]
    },
    {
     "name": "stderr",
     "output_type": "stream",
     "text": [
      "2025-06-19 15:49:49,868 - worker_processor - INFO - ✅ [Worker-23454147065600] Completed: Blast_042\n"
     ]
    },
    {
     "name": "stdout",
     "output_type": "stream",
     "text": [
      "15:49:49 - [Worker-23454147065600] - INFO - 📁 [Worker-23454147065600] Output: /mnt/home/dchhantyal/centroid_model_blastospim/data/labels/Blast/label_Blast_042\n"
     ]
    },
    {
     "name": "stderr",
     "output_type": "stream",
     "text": [
      "2025-06-19 15:49:49,869 - worker_processor - INFO - 📁 [Worker-23454147065600] Output: /mnt/home/dchhantyal/centroid_model_blastospim/data/labels/Blast/label_Blast_042\n"
     ]
    },
    {
     "name": "stdout",
     "output_type": "stream",
     "text": [
      "15:49:49 - [Worker-23454147065600] - WARNING - ⚠️  [Worker-23454147065600] Visualization not found: /mnt/home/dchhantyal/centroid_model_blastospim/data/labels/Blast/label_Blast_042/visualizations/comprehensive_analysis.png\n"
     ]
    },
    {
     "name": "stderr",
     "output_type": "stream",
     "text": [
      "2025-06-19 15:49:49,870 - worker_processor - WARNING - ⚠️  [Worker-23454147065600] Visualization not found: /mnt/home/dchhantyal/centroid_model_blastospim/data/labels/Blast/label_Blast_042/visualizations/comprehensive_analysis.png\n",
      "2025-06-19 15:49:49,879 - src.preprocessing.centroid_batch_processor - INFO - Using voxel spacing from config: Z=2.0µm, Y=0.208µm, X=0.208µm\n",
      "2025-06-19 15:49:49,879 - src.preprocessing.centroid_batch_processor - INFO - Using voxel spacing from config: Z=2.0µm, Y=0.208µm, X=0.208µm\n"
     ]
    },
    {
     "name": "stdout",
     "output_type": "stream",
     "text": [
      "✅ [61/80] ( 76.2%) | ETA:  27.7s | Blast_042.npz\n",
      "15:49:49 - [Worker-23454147065600] - INFO - 🔄 [Worker-23454147065600] Starting: Blast_021\n"
     ]
    },
    {
     "name": "stderr",
     "output_type": "stream",
     "text": [
      "2025-06-19 15:49:49,879 - worker_processor - INFO - 🔄 [Worker-23454147065600] Starting: Blast_021\n",
      "2025-06-19 15:49:49,879 - src.preprocessing.centroid_batch_processor - INFO - Processing file: Blast_021\n",
      "2025-06-19 15:49:49,881 - src.preprocessing.centroid_batch_processor - INFO - Loading data from: /mnt/home/dchhantyal/centroid_model_blastospim/data/raw/Blast/Blast_021.npz\n",
      "2025-06-19 15:49:49,879 - src.preprocessing.centroid_batch_processor - INFO - Processing file: Blast_021\n",
      "2025-06-19 15:49:49,881 - src.preprocessing.centroid_batch_processor - INFO - Loading data from: /mnt/home/dchhantyal/centroid_model_blastospim/data/raw/Blast/Blast_021.npz\n",
      "2025-06-19 15:49:50,539 - src.preprocessing.centroid_batch_processor - INFO - Successfully processed Blast_012\n",
      "2025-06-19 15:49:50,539 - src.preprocessing.centroid_batch_processor - INFO - Successfully processed Blast_012\n"
     ]
    },
    {
     "name": "stdout",
     "output_type": "stream",
     "text": [
      "15:49:50 - [Worker-23454138283776] - INFO - ✅ [Worker-23454138283776] Completed: Blast_012\n"
     ]
    },
    {
     "name": "stderr",
     "output_type": "stream",
     "text": [
      "2025-06-19 15:49:50,542 - worker_processor - INFO - ✅ [Worker-23454138283776] Completed: Blast_012\n"
     ]
    },
    {
     "name": "stdout",
     "output_type": "stream",
     "text": [
      "15:49:50 - [Worker-23454138283776] - INFO - 📁 [Worker-23454138283776] Output: /mnt/home/dchhantyal/centroid_model_blastospim/data/labels/Blast/label_Blast_012\n"
     ]
    },
    {
     "name": "stderr",
     "output_type": "stream",
     "text": [
      "2025-06-19 15:49:50,543 - worker_processor - INFO - 📁 [Worker-23454138283776] Output: /mnt/home/dchhantyal/centroid_model_blastospim/data/labels/Blast/label_Blast_012\n"
     ]
    },
    {
     "name": "stdout",
     "output_type": "stream",
     "text": [
      "15:49:50 - [Worker-23454138283776] - WARNING - ⚠️  [Worker-23454138283776] Visualization not found: /mnt/home/dchhantyal/centroid_model_blastospim/data/labels/Blast/label_Blast_012/visualizations/comprehensive_analysis.png\n"
     ]
    },
    {
     "name": "stderr",
     "output_type": "stream",
     "text": [
      "2025-06-19 15:49:50,544 - worker_processor - WARNING - ⚠️  [Worker-23454138283776] Visualization not found: /mnt/home/dchhantyal/centroid_model_blastospim/data/labels/Blast/label_Blast_012/visualizations/comprehensive_analysis.png\n",
      "2025-06-19 15:49:50,553 - src.preprocessing.centroid_batch_processor - INFO - Using voxel spacing from config: Z=2.0µm, Y=0.208µm, X=0.208µm\n",
      "2025-06-19 15:49:50,553 - src.preprocessing.centroid_batch_processor - INFO - Using voxel spacing from config: Z=2.0µm, Y=0.208µm, X=0.208µm\n"
     ]
    },
    {
     "name": "stdout",
     "output_type": "stream",
     "text": [
      "✅ [62/80] ( 77.5%) | ETA:  26.1s | Blast_012.npz\n",
      "15:49:50 - [Worker-23454138283776] - INFO - 🔄 [Worker-23454138283776] Starting: Blast_112\n"
     ]
    },
    {
     "name": "stderr",
     "output_type": "stream",
     "text": [
      "2025-06-19 15:49:50,554 - worker_processor - INFO - 🔄 [Worker-23454138283776] Starting: Blast_112\n",
      "2025-06-19 15:49:50,554 - src.preprocessing.centroid_batch_processor - INFO - Processing file: Blast_112\n",
      "2025-06-19 15:49:50,555 - src.preprocessing.centroid_batch_processor - INFO - Loading data from: /mnt/home/dchhantyal/centroid_model_blastospim/data/raw/Blast/Blast_112.npz\n",
      "2025-06-19 15:49:50,554 - src.preprocessing.centroid_batch_processor - INFO - Processing file: Blast_112\n",
      "2025-06-19 15:49:50,555 - src.preprocessing.centroid_batch_processor - INFO - Loading data from: /mnt/home/dchhantyal/centroid_model_blastospim/data/raw/Blast/Blast_112.npz\n",
      "2025-06-19 15:49:51,232 - src.preprocessing.centroid_batch_processor - INFO - Volume shape: (101, 2048, 2048)\n",
      "2025-06-19 15:49:51,233 - src.preprocessing.centroid_batch_processor - INFO - Mask shape: (101, 2048, 2048)\n",
      "2025-06-19 15:49:51,256 - src.preprocessing.centroid_batch_processor - INFO - Volume shape: (101, 2048, 2048)\n",
      "2025-06-19 15:49:51,257 - src.preprocessing.centroid_batch_processor - INFO - Mask shape: (101, 2048, 2048)\n",
      "2025-06-19 15:49:51,232 - src.preprocessing.centroid_batch_processor - INFO - Volume shape: (101, 2048, 2048)\n",
      "2025-06-19 15:49:51,233 - src.preprocessing.centroid_batch_processor - INFO - Mask shape: (101, 2048, 2048)\n",
      "2025-06-19 15:49:51,256 - src.preprocessing.centroid_batch_processor - INFO - Volume shape: (101, 2048, 2048)\n",
      "2025-06-19 15:49:51,257 - src.preprocessing.centroid_batch_processor - INFO - Mask shape: (101, 2048, 2048)\n",
      "2025-06-19 15:49:52,429 - src.preprocessing.centroid_batch_processor - INFO - Volume shape: (101, 2048, 2048)\n",
      "2025-06-19 15:49:52,429 - src.preprocessing.centroid_batch_processor - INFO - Mask shape: (101, 2048, 2048)\n",
      "2025-06-19 15:49:52,541 - src.preprocessing.centroid_batch_processor - INFO - Volume shape: (101, 2048, 2048)\n",
      "2025-06-19 15:49:52,541 - src.preprocessing.centroid_batch_processor - INFO - Mask shape: (101, 2048, 2048)\n",
      "2025-06-19 15:49:52,429 - src.preprocessing.centroid_batch_processor - INFO - Volume shape: (101, 2048, 2048)\n",
      "2025-06-19 15:49:52,429 - src.preprocessing.centroid_batch_processor - INFO - Mask shape: (101, 2048, 2048)\n",
      "2025-06-19 15:49:52,541 - src.preprocessing.centroid_batch_processor - INFO - Volume shape: (101, 2048, 2048)\n",
      "2025-06-19 15:49:52,541 - src.preprocessing.centroid_batch_processor - INFO - Mask shape: (101, 2048, 2048)\n",
      "2025-06-19 15:49:52,881 - src.preprocessing.centroid_batch_processor - INFO - Number of objects: 84\n",
      "2025-06-19 15:49:52,881 - src.preprocessing.centroid_batch_processor - INFO - Number of objects: 84\n",
      "2025-06-19 15:49:52,902 - src.preprocessing.centroid_batch_processor - INFO - Number of objects: 63\n",
      "2025-06-19 15:49:52,902 - src.preprocessing.centroid_batch_processor - INFO - Number of objects: 63\n",
      "2025-06-19 15:49:54,183 - src.preprocessing.centroid_batch_processor - INFO - Number of objects: 93\n",
      "2025-06-19 15:49:54,183 - src.preprocessing.centroid_batch_processor - INFO - Number of objects: 93\n",
      "2025-06-19 15:49:54,259 - src.preprocessing.centroid_batch_processor - INFO - Number of objects: 106\n",
      "2025-06-19 15:49:54,259 - src.preprocessing.centroid_batch_processor - INFO - Number of objects: 106\n",
      "2025-06-19 15:49:54,425 - src.preprocessing.centroid_batch_processor - INFO - Saved label data to: /mnt/home/dchhantyal/centroid_model_blastospim/data/labels/Blast/label_Blast_007/data/label.npz\n",
      "2025-06-19 15:49:54,431 - src.preprocessing.centroid_batch_processor - INFO - Saved label data to: /mnt/home/dchhantyal/centroid_model_blastospim/data/labels/Blast/label_Blast_032/data/label.npz\n",
      "2025-06-19 15:49:54,425 - src.preprocessing.centroid_batch_processor - INFO - Saved label data to: /mnt/home/dchhantyal/centroid_model_blastospim/data/labels/Blast/label_Blast_007/data/label.npz\n",
      "2025-06-19 15:49:54,431 - src.preprocessing.centroid_batch_processor - INFO - Saved label data to: /mnt/home/dchhantyal/centroid_model_blastospim/data/labels/Blast/label_Blast_032/data/label.npz\n",
      "2025-06-19 15:49:54,443 - src.preprocessing.centroid_batch_processor - INFO - Volume shape: (101, 2048, 2048)\n",
      "2025-06-19 15:49:54,444 - src.preprocessing.centroid_batch_processor - INFO - Mask shape: (101, 2048, 2048)\n",
      "2025-06-19 15:49:54,443 - src.preprocessing.centroid_batch_processor - INFO - Volume shape: (101, 2048, 2048)\n",
      "2025-06-19 15:49:54,444 - src.preprocessing.centroid_batch_processor - INFO - Mask shape: (101, 2048, 2048)\n",
      "2025-06-19 15:49:55,698 - src.preprocessing.centroid_batch_processor - INFO - Saved label data to: /mnt/home/dchhantyal/centroid_model_blastospim/data/labels/Blast/label_Blast_072/data/label.npz\n",
      "2025-06-19 15:49:55,698 - src.preprocessing.centroid_batch_processor - INFO - Saved label data to: /mnt/home/dchhantyal/centroid_model_blastospim/data/labels/Blast/label_Blast_072/data/label.npz\n",
      "2025-06-19 15:49:55,805 - src.preprocessing.centroid_batch_processor - INFO - Saved label data to: /mnt/home/dchhantyal/centroid_model_blastospim/data/labels/Blast/label_Blast_004/data/label.npz\n",
      "2025-06-19 15:49:55,805 - src.preprocessing.centroid_batch_processor - INFO - Saved label data to: /mnt/home/dchhantyal/centroid_model_blastospim/data/labels/Blast/label_Blast_004/data/label.npz\n",
      "2025-06-19 15:49:56,086 - src.preprocessing.centroid_batch_processor - INFO - Number of objects: 68\n",
      "2025-06-19 15:49:56,086 - src.preprocessing.centroid_batch_processor - INFO - Number of objects: 68\n",
      "2025-06-19 15:49:56,138 - src.preprocessing.centroid_batch_processor - INFO - Volume shape: (101, 2048, 2048)\n",
      "2025-06-19 15:49:56,139 - src.preprocessing.centroid_batch_processor - INFO - Mask shape: (101, 2048, 2048)\n",
      "2025-06-19 15:49:56,138 - src.preprocessing.centroid_batch_processor - INFO - Volume shape: (101, 2048, 2048)\n",
      "2025-06-19 15:49:56,139 - src.preprocessing.centroid_batch_processor - INFO - Mask shape: (101, 2048, 2048)\n",
      "2025-06-19 15:49:56,168 - src.preprocessing.centroid_batch_processor - INFO - Volume shape: (91, 2048, 2048)\n",
      "2025-06-19 15:49:56,169 - src.preprocessing.centroid_batch_processor - INFO - Mask shape: (91, 2048, 2048)\n",
      "2025-06-19 15:49:56,168 - src.preprocessing.centroid_batch_processor - INFO - Volume shape: (91, 2048, 2048)\n",
      "2025-06-19 15:49:56,169 - src.preprocessing.centroid_batch_processor - INFO - Mask shape: (91, 2048, 2048)\n",
      "2025-06-19 15:49:57,023 - src.preprocessing.centroid_batch_processor - INFO - Successfully processed Blast_032\n",
      "2025-06-19 15:49:57,023 - src.preprocessing.centroid_batch_processor - INFO - Successfully processed Blast_032\n"
     ]
    },
    {
     "name": "stdout",
     "output_type": "stream",
     "text": [
      "15:49:57 - [Worker-23454129878784] - INFO - ✅ [Worker-23454129878784] Completed: Blast_032\n"
     ]
    },
    {
     "name": "stderr",
     "output_type": "stream",
     "text": [
      "2025-06-19 15:49:57,026 - worker_processor - INFO - ✅ [Worker-23454129878784] Completed: Blast_032\n",
      "2025-06-19 15:49:57,026 - src.preprocessing.centroid_batch_processor - INFO - Successfully processed Blast_007\n",
      "2025-06-19 15:49:57,026 - src.preprocessing.centroid_batch_processor - INFO - Successfully processed Blast_007\n"
     ]
    },
    {
     "name": "stdout",
     "output_type": "stream",
     "text": [
      "15:49:57 - [Worker-23454129878784] - INFO - 📁 [Worker-23454129878784] Output: /mnt/home/dchhantyal/centroid_model_blastospim/data/labels/Blast/label_Blast_032\n"
     ]
    },
    {
     "name": "stderr",
     "output_type": "stream",
     "text": [
      "2025-06-19 15:49:57,027 - worker_processor - INFO - 📁 [Worker-23454129878784] Output: /mnt/home/dchhantyal/centroid_model_blastospim/data/labels/Blast/label_Blast_032\n"
     ]
    },
    {
     "name": "stdout",
     "output_type": "stream",
     "text": [
      "15:49:57 - [Worker-23454131980032] - INFO - ✅ [Worker-23454131980032] Completed: Blast_007\n"
     ]
    },
    {
     "name": "stderr",
     "output_type": "stream",
     "text": [
      "2025-06-19 15:49:57,030 - worker_processor - INFO - ✅ [Worker-23454131980032] Completed: Blast_007\n"
     ]
    },
    {
     "name": "stdout",
     "output_type": "stream",
     "text": [
      "15:49:57 - [Worker-23454129878784] - WARNING - ⚠️  [Worker-23454129878784] Visualization not found: /mnt/home/dchhantyal/centroid_model_blastospim/data/labels/Blast/label_Blast_032/visualizations/comprehensive_analysis.png\n",
      "15:49:57 - [Worker-23454131980032] - INFO - 📁 [Worker-23454131980032] Output: /mnt/home/dchhantyal/centroid_model_blastospim/data/labels/Blast/label_Blast_007\n",
      "15:49:57 - [Worker-23454131980032] - INFO - 📁 [Worker-23454131980032] Output: /mnt/home/dchhantyal/centroid_model_blastospim/data/labels/Blast/label_Blast_007\n"
     ]
    },
    {
     "name": "stderr",
     "output_type": "stream",
     "text": [
      "2025-06-19 15:49:57,030 - worker_processor - WARNING - ⚠️  [Worker-23454129878784] Visualization not found: /mnt/home/dchhantyal/centroid_model_blastospim/data/labels/Blast/label_Blast_032/visualizations/comprehensive_analysis.png\n",
      "2025-06-19 15:49:57,031 - worker_processor - INFO - 📁 [Worker-23454131980032] Output: /mnt/home/dchhantyal/centroid_model_blastospim/data/labels/Blast/label_Blast_007\n",
      "2025-06-19 15:49:57,031 - worker_processor - INFO - 📁 [Worker-23454131980032] Output: /mnt/home/dchhantyal/centroid_model_blastospim/data/labels/Blast/label_Blast_007\n"
     ]
    },
    {
     "name": "stdout",
     "output_type": "stream",
     "text": [
      "✅ [63/80] ( 78.8%) | ETA:  26.0s | Blast_032.npz\n",
      "15:49:57 - [Worker-23454131980032] - WARNING - ⚠️  [Worker-23454131980032] Visualization not found: /mnt/home/dchhantyal/centroid_model_blastospim/data/labels/Blast/label_Blast_007/visualizations/comprehensive_analysis.png\n"
     ]
    },
    {
     "name": "stderr",
     "output_type": "stream",
     "text": [
      "2025-06-19 15:49:57,041 - src.preprocessing.centroid_batch_processor - INFO - Using voxel spacing from config: Z=2.0µm, Y=0.208µm, X=0.208µm\n"
     ]
    },
    {
     "name": "stdout",
     "output_type": "stream",
     "text": [
      "15:49:57 - [Worker-23454129878784] - INFO - 🔄 [Worker-23454129878784] Starting: Blast_083\n"
     ]
    },
    {
     "name": "stderr",
     "output_type": "stream",
     "text": [
      "2025-06-19 15:49:57,033 - worker_processor - WARNING - ⚠️  [Worker-23454131980032] Visualization not found: /mnt/home/dchhantyal/centroid_model_blastospim/data/labels/Blast/label_Blast_007/visualizations/comprehensive_analysis.png\n",
      "2025-06-19 15:49:57,042 - worker_processor - INFO - 🔄 [Worker-23454129878784] Starting: Blast_083\n",
      "2025-06-19 15:49:57,043 - src.preprocessing.centroid_batch_processor - INFO - Processing file: Blast_083\n",
      "2025-06-19 15:49:57,042 - worker_processor - INFO - 🔄 [Worker-23454129878784] Starting: Blast_083\n",
      "2025-06-19 15:49:57,043 - src.preprocessing.centroid_batch_processor - INFO - Processing file: Blast_083\n",
      "2025-06-19 15:49:57,051 - src.preprocessing.centroid_batch_processor - INFO - Using voxel spacing from config: Z=2.0µm, Y=0.208µm, X=0.208µm\n",
      "2025-06-19 15:49:57,051 - src.preprocessing.centroid_batch_processor - INFO - Using voxel spacing from config: Z=2.0µm, Y=0.208µm, X=0.208µm\n"
     ]
    },
    {
     "name": "stdout",
     "output_type": "stream",
     "text": [
      "✅ [64/80] ( 80.0%) | ETA:  24.1s | Blast_007.npz\n",
      "15:49:57 - [Worker-23454131980032] - INFO - 🔄 [Worker-23454131980032] Starting: Blast_059\n"
     ]
    },
    {
     "name": "stderr",
     "output_type": "stream",
     "text": [
      "2025-06-19 15:49:57,052 - src.preprocessing.centroid_batch_processor - INFO - Loading data from: /mnt/home/dchhantyal/centroid_model_blastospim/data/raw/Blast/Blast_083.npz\n",
      "2025-06-19 15:49:57,052 - worker_processor - INFO - 🔄 [Worker-23454131980032] Starting: Blast_059\n",
      "2025-06-19 15:49:57,053 - src.preprocessing.centroid_batch_processor - INFO - Processing file: Blast_059\n",
      "2025-06-19 15:49:57,054 - src.preprocessing.centroid_batch_processor - INFO - Loading data from: /mnt/home/dchhantyal/centroid_model_blastospim/data/raw/Blast/Blast_059.npz\n",
      "2025-06-19 15:49:57,052 - worker_processor - INFO - 🔄 [Worker-23454131980032] Starting: Blast_059\n",
      "2025-06-19 15:49:57,053 - src.preprocessing.centroid_batch_processor - INFO - Processing file: Blast_059\n",
      "2025-06-19 15:49:57,054 - src.preprocessing.centroid_batch_processor - INFO - Loading data from: /mnt/home/dchhantyal/centroid_model_blastospim/data/raw/Blast/Blast_059.npz\n",
      "2025-06-19 15:49:57,073 - src.preprocessing.centroid_batch_processor - INFO - Volume shape: (96, 2048, 2048)\n",
      "2025-06-19 15:49:57,073 - src.preprocessing.centroid_batch_processor - INFO - Mask shape: (96, 2048, 2048)\n",
      "2025-06-19 15:49:57,073 - src.preprocessing.centroid_batch_processor - INFO - Volume shape: (96, 2048, 2048)\n",
      "2025-06-19 15:49:57,073 - src.preprocessing.centroid_batch_processor - INFO - Mask shape: (96, 2048, 2048)\n",
      "2025-06-19 15:49:57,601 - src.preprocessing.centroid_batch_processor - INFO - Saved label data to: /mnt/home/dchhantyal/centroid_model_blastospim/data/labels/Blast/label_Blast_026/data/label.npz\n",
      "2025-06-19 15:49:57,601 - src.preprocessing.centroid_batch_processor - INFO - Saved label data to: /mnt/home/dchhantyal/centroid_model_blastospim/data/labels/Blast/label_Blast_026/data/label.npz\n",
      "2025-06-19 15:49:57,655 - src.preprocessing.centroid_batch_processor - INFO - Number of objects: 106\n",
      "2025-06-19 15:49:57,655 - src.preprocessing.centroid_batch_processor - INFO - Number of objects: 106\n",
      "2025-06-19 15:49:57,788 - src.preprocessing.centroid_batch_processor - INFO - Number of objects: 68\n",
      "2025-06-19 15:49:57,788 - src.preprocessing.centroid_batch_processor - INFO - Number of objects: 68\n",
      "2025-06-19 15:49:58,273 - src.preprocessing.centroid_batch_processor - INFO - Successfully processed Blast_072\n",
      "2025-06-19 15:49:58,273 - src.preprocessing.centroid_batch_processor - INFO - Successfully processed Blast_072\n"
     ]
    },
    {
     "name": "stdout",
     "output_type": "stream",
     "text": [
      "15:49:58 - [Worker-23454125577984] - INFO - ✅ [Worker-23454125577984] Completed: Blast_072\n"
     ]
    },
    {
     "name": "stderr",
     "output_type": "stream",
     "text": [
      "2025-06-19 15:49:58,276 - worker_processor - INFO - ✅ [Worker-23454125577984] Completed: Blast_072\n"
     ]
    },
    {
     "name": "stdout",
     "output_type": "stream",
     "text": [
      "15:49:58 - [Worker-23454125577984] - INFO - 📁 [Worker-23454125577984] Output: /mnt/home/dchhantyal/centroid_model_blastospim/data/labels/Blast/label_Blast_072\n"
     ]
    },
    {
     "name": "stderr",
     "output_type": "stream",
     "text": [
      "2025-06-19 15:49:58,276 - worker_processor - INFO - 📁 [Worker-23454125577984] Output: /mnt/home/dchhantyal/centroid_model_blastospim/data/labels/Blast/label_Blast_072\n"
     ]
    },
    {
     "name": "stdout",
     "output_type": "stream",
     "text": [
      "15:49:58 - [Worker-23454125577984] - WARNING - ⚠️  [Worker-23454125577984] Visualization not found: /mnt/home/dchhantyal/centroid_model_blastospim/data/labels/Blast/label_Blast_072/visualizations/comprehensive_analysis.png\n"
     ]
    },
    {
     "name": "stderr",
     "output_type": "stream",
     "text": [
      "2025-06-19 15:49:58,277 - worker_processor - WARNING - ⚠️  [Worker-23454125577984] Visualization not found: /mnt/home/dchhantyal/centroid_model_blastospim/data/labels/Blast/label_Blast_072/visualizations/comprehensive_analysis.png\n",
      "2025-06-19 15:49:58,286 - src.preprocessing.centroid_batch_processor - INFO - Using voxel spacing from config: Z=2.0µm, Y=0.208µm, X=0.208µm\n",
      "2025-06-19 15:49:58,286 - src.preprocessing.centroid_batch_processor - INFO - Using voxel spacing from config: Z=2.0µm, Y=0.208µm, X=0.208µm\n"
     ]
    },
    {
     "name": "stdout",
     "output_type": "stream",
     "text": [
      "✅ [65/80] ( 81.2%) | ETA:  22.5s | Blast_072.npz\n",
      "15:49:58 - [Worker-23454125577984] - INFO - 🔄 [Worker-23454125577984] Starting: Blast_068\n"
     ]
    },
    {
     "name": "stderr",
     "output_type": "stream",
     "text": [
      "2025-06-19 15:49:58,287 - worker_processor - INFO - 🔄 [Worker-23454125577984] Starting: Blast_068\n",
      "2025-06-19 15:49:58,287 - src.preprocessing.centroid_batch_processor - INFO - Processing file: Blast_068\n",
      "2025-06-19 15:49:58,290 - src.preprocessing.centroid_batch_processor - INFO - Loading data from: /mnt/home/dchhantyal/centroid_model_blastospim/data/raw/Blast/Blast_068.npz\n",
      "2025-06-19 15:49:58,287 - src.preprocessing.centroid_batch_processor - INFO - Processing file: Blast_068\n",
      "2025-06-19 15:49:58,290 - src.preprocessing.centroid_batch_processor - INFO - Loading data from: /mnt/home/dchhantyal/centroid_model_blastospim/data/raw/Blast/Blast_068.npz\n",
      "2025-06-19 15:49:58,586 - src.preprocessing.centroid_batch_processor - INFO - Successfully processed Blast_004\n",
      "2025-06-19 15:49:58,586 - src.preprocessing.centroid_batch_processor - INFO - Successfully processed Blast_004\n"
     ]
    },
    {
     "name": "stdout",
     "output_type": "stream",
     "text": [
      "15:49:58 - [Worker-23454127777536] - INFO - ✅ [Worker-23454127777536] Completed: Blast_004\n"
     ]
    },
    {
     "name": "stderr",
     "output_type": "stream",
     "text": [
      "2025-06-19 15:49:58,590 - worker_processor - INFO - ✅ [Worker-23454127777536] Completed: Blast_004\n"
     ]
    },
    {
     "name": "stdout",
     "output_type": "stream",
     "text": [
      "15:49:58 - [Worker-23454127777536] - INFO - 📁 [Worker-23454127777536] Output: /mnt/home/dchhantyal/centroid_model_blastospim/data/labels/Blast/label_Blast_004\n"
     ]
    },
    {
     "name": "stderr",
     "output_type": "stream",
     "text": [
      "2025-06-19 15:49:58,590 - worker_processor - INFO - 📁 [Worker-23454127777536] Output: /mnt/home/dchhantyal/centroid_model_blastospim/data/labels/Blast/label_Blast_004\n"
     ]
    },
    {
     "name": "stdout",
     "output_type": "stream",
     "text": [
      "15:49:58 - [Worker-23454127777536] - WARNING - ⚠️  [Worker-23454127777536] Visualization not found: /mnt/home/dchhantyal/centroid_model_blastospim/data/labels/Blast/label_Blast_004/visualizations/comprehensive_analysis.png\n"
     ]
    },
    {
     "name": "stderr",
     "output_type": "stream",
     "text": [
      "2025-06-19 15:49:58,591 - worker_processor - WARNING - ⚠️  [Worker-23454127777536] Visualization not found: /mnt/home/dchhantyal/centroid_model_blastospim/data/labels/Blast/label_Blast_004/visualizations/comprehensive_analysis.png\n",
      "2025-06-19 15:49:58,600 - src.preprocessing.centroid_batch_processor - INFO - Using voxel spacing from config: Z=2.0µm, Y=0.208µm, X=0.208µm\n",
      "2025-06-19 15:49:58,600 - src.preprocessing.centroid_batch_processor - INFO - Using voxel spacing from config: Z=2.0µm, Y=0.208µm, X=0.208µm\n"
     ]
    },
    {
     "name": "stdout",
     "output_type": "stream",
     "text": [
      "✅ [66/80] ( 82.5%) | ETA:  20.7s | Blast_004.npz\n",
      "15:49:58 - [Worker-23454127777536] - INFO - 🔄 [Worker-23454127777536] Starting: Blast_030\n"
     ]
    },
    {
     "name": "stderr",
     "output_type": "stream",
     "text": [
      "2025-06-19 15:49:58,600 - worker_processor - INFO - 🔄 [Worker-23454127777536] Starting: Blast_030\n",
      "2025-06-19 15:49:58,601 - src.preprocessing.centroid_batch_processor - INFO - Processing file: Blast_030\n",
      "2025-06-19 15:49:58,601 - src.preprocessing.centroid_batch_processor - INFO - Loading data from: /mnt/home/dchhantyal/centroid_model_blastospim/data/raw/Blast/Blast_030.npz\n",
      "2025-06-19 15:49:58,630 - src.preprocessing.centroid_batch_processor - INFO - Number of objects: 50\n",
      "2025-06-19 15:49:58,601 - src.preprocessing.centroid_batch_processor - INFO - Processing file: Blast_030\n",
      "2025-06-19 15:49:58,601 - src.preprocessing.centroid_batch_processor - INFO - Loading data from: /mnt/home/dchhantyal/centroid_model_blastospim/data/raw/Blast/Blast_030.npz\n",
      "2025-06-19 15:49:58,630 - src.preprocessing.centroid_batch_processor - INFO - Number of objects: 50\n",
      "2025-06-19 15:49:59,049 - src.preprocessing.centroid_batch_processor - INFO - Saved label data to: /mnt/home/dchhantyal/centroid_model_blastospim/data/labels/Blast/label_Blast_110/data/label.npz\n",
      "2025-06-19 15:49:59,315 - src.preprocessing.centroid_batch_processor - INFO - Saved label data to: /mnt/home/dchhantyal/centroid_model_blastospim/data/labels/Blast/label_Blast_021/data/label.npz\n",
      "2025-06-19 15:49:59,049 - src.preprocessing.centroid_batch_processor - INFO - Saved label data to: /mnt/home/dchhantyal/centroid_model_blastospim/data/labels/Blast/label_Blast_110/data/label.npz\n",
      "2025-06-19 15:49:59,315 - src.preprocessing.centroid_batch_processor - INFO - Saved label data to: /mnt/home/dchhantyal/centroid_model_blastospim/data/labels/Blast/label_Blast_021/data/label.npz\n",
      "2025-06-19 15:49:59,452 - src.preprocessing.centroid_batch_processor - INFO - Volume shape: (101, 960, 1568)\n",
      "2025-06-19 15:49:59,453 - src.preprocessing.centroid_batch_processor - INFO - Mask shape: (101, 960, 1568)\n",
      "2025-06-19 15:49:59,452 - src.preprocessing.centroid_batch_processor - INFO - Volume shape: (101, 960, 1568)\n",
      "2025-06-19 15:49:59,453 - src.preprocessing.centroid_batch_processor - INFO - Mask shape: (101, 960, 1568)\n",
      "2025-06-19 15:50:00,054 - src.preprocessing.centroid_batch_processor - INFO - Number of objects: 73\n",
      "2025-06-19 15:50:00,063 - src.preprocessing.centroid_batch_processor - INFO - Saved label data to: /mnt/home/dchhantyal/centroid_model_blastospim/data/labels/Blast/label_Blast_112/data/label.npz\n",
      "2025-06-19 15:50:00,213 - src.preprocessing.centroid_batch_processor - INFO - Successfully processed Blast_026\n",
      "2025-06-19 15:50:00,054 - src.preprocessing.centroid_batch_processor - INFO - Number of objects: 73\n",
      "2025-06-19 15:50:00,063 - src.preprocessing.centroid_batch_processor - INFO - Saved label data to: /mnt/home/dchhantyal/centroid_model_blastospim/data/labels/Blast/label_Blast_112/data/label.npz\n",
      "2025-06-19 15:50:00,213 - src.preprocessing.centroid_batch_processor - INFO - Successfully processed Blast_026\n"
     ]
    },
    {
     "name": "stdout",
     "output_type": "stream",
     "text": [
      "15:50:00 - [Worker-23454134081280] - INFO - ✅ [Worker-23454134081280] Completed: Blast_026\n"
     ]
    },
    {
     "name": "stderr",
     "output_type": "stream",
     "text": [
      "2025-06-19 15:50:00,216 - worker_processor - INFO - ✅ [Worker-23454134081280] Completed: Blast_026\n"
     ]
    },
    {
     "name": "stdout",
     "output_type": "stream",
     "text": [
      "15:50:00 - [Worker-23454134081280] - INFO - 📁 [Worker-23454134081280] Output: /mnt/home/dchhantyal/centroid_model_blastospim/data/labels/Blast/label_Blast_026\n"
     ]
    },
    {
     "name": "stderr",
     "output_type": "stream",
     "text": [
      "2025-06-19 15:50:00,216 - worker_processor - INFO - 📁 [Worker-23454134081280] Output: /mnt/home/dchhantyal/centroid_model_blastospim/data/labels/Blast/label_Blast_026\n"
     ]
    },
    {
     "name": "stdout",
     "output_type": "stream",
     "text": [
      "15:50:00 - [Worker-23454134081280] - WARNING - ⚠️  [Worker-23454134081280] Visualization not found: /mnt/home/dchhantyal/centroid_model_blastospim/data/labels/Blast/label_Blast_026/visualizations/comprehensive_analysis.png\n"
     ]
    },
    {
     "name": "stderr",
     "output_type": "stream",
     "text": [
      "2025-06-19 15:50:00,217 - worker_processor - WARNING - ⚠️  [Worker-23454134081280] Visualization not found: /mnt/home/dchhantyal/centroid_model_blastospim/data/labels/Blast/label_Blast_026/visualizations/comprehensive_analysis.png\n",
      "2025-06-19 15:50:00,226 - src.preprocessing.centroid_batch_processor - INFO - Using voxel spacing from config: Z=2.0µm, Y=0.208µm, X=0.208µm\n",
      "2025-06-19 15:50:00,226 - src.preprocessing.centroid_batch_processor - INFO - Using voxel spacing from config: Z=2.0µm, Y=0.208µm, X=0.208µm\n"
     ]
    },
    {
     "name": "stdout",
     "output_type": "stream",
     "text": [
      "✅ [67/80] ( 83.8%) | ETA:  19.3s | Blast_026.npz\n",
      "15:50:00 - [Worker-23454134081280] - INFO - 🔄 [Worker-23454134081280] Starting: Blast_015\n"
     ]
    },
    {
     "name": "stderr",
     "output_type": "stream",
     "text": [
      "2025-06-19 15:50:00,226 - worker_processor - INFO - 🔄 [Worker-23454134081280] Starting: Blast_015\n",
      "2025-06-19 15:50:00,226 - src.preprocessing.centroid_batch_processor - INFO - Processing file: Blast_015\n",
      "2025-06-19 15:50:00,227 - src.preprocessing.centroid_batch_processor - INFO - Loading data from: /mnt/home/dchhantyal/centroid_model_blastospim/data/raw/Blast/Blast_015.npz\n",
      "2025-06-19 15:50:00,226 - src.preprocessing.centroid_batch_processor - INFO - Processing file: Blast_015\n",
      "2025-06-19 15:50:00,227 - src.preprocessing.centroid_batch_processor - INFO - Loading data from: /mnt/home/dchhantyal/centroid_model_blastospim/data/raw/Blast/Blast_015.npz\n",
      "2025-06-19 15:50:00,610 - src.preprocessing.centroid_batch_processor - INFO - Saved label data to: /mnt/home/dchhantyal/centroid_model_blastospim/data/labels/Blast/label_Blast_083/data/label.npz\n",
      "2025-06-19 15:50:00,610 - src.preprocessing.centroid_batch_processor - INFO - Saved label data to: /mnt/home/dchhantyal/centroid_model_blastospim/data/labels/Blast/label_Blast_083/data/label.npz\n",
      "2025-06-19 15:50:01,380 - src.preprocessing.centroid_batch_processor - INFO - Successfully processed Blast_110\n",
      "2025-06-19 15:50:01,380 - src.preprocessing.centroid_batch_processor - INFO - Successfully processed Blast_110\n"
     ]
    },
    {
     "name": "stdout",
     "output_type": "stream",
     "text": [
      "15:50:01 - [Worker-23454136182528] - INFO - ✅ [Worker-23454136182528] Completed: Blast_110\n"
     ]
    },
    {
     "name": "stderr",
     "output_type": "stream",
     "text": [
      "2025-06-19 15:50:01,383 - worker_processor - INFO - ✅ [Worker-23454136182528] Completed: Blast_110\n"
     ]
    },
    {
     "name": "stdout",
     "output_type": "stream",
     "text": [
      "15:50:01 - [Worker-23454136182528] - INFO - 📁 [Worker-23454136182528] Output: /mnt/home/dchhantyal/centroid_model_blastospim/data/labels/Blast/label_Blast_110\n"
     ]
    },
    {
     "name": "stderr",
     "output_type": "stream",
     "text": [
      "2025-06-19 15:50:01,384 - worker_processor - INFO - 📁 [Worker-23454136182528] Output: /mnt/home/dchhantyal/centroid_model_blastospim/data/labels/Blast/label_Blast_110\n"
     ]
    },
    {
     "name": "stdout",
     "output_type": "stream",
     "text": [
      "15:50:01 - [Worker-23454136182528] - WARNING - ⚠️  [Worker-23454136182528] Visualization not found: /mnt/home/dchhantyal/centroid_model_blastospim/data/labels/Blast/label_Blast_110/visualizations/comprehensive_analysis.png\n"
     ]
    },
    {
     "name": "stderr",
     "output_type": "stream",
     "text": [
      "2025-06-19 15:50:01,385 - worker_processor - WARNING - ⚠️  [Worker-23454136182528] Visualization not found: /mnt/home/dchhantyal/centroid_model_blastospim/data/labels/Blast/label_Blast_110/visualizations/comprehensive_analysis.png\n",
      "2025-06-19 15:50:01,393 - src.preprocessing.centroid_batch_processor - INFO - Using voxel spacing from config: Z=2.0µm, Y=0.208µm, X=0.208µm\n",
      "2025-06-19 15:50:01,393 - src.preprocessing.centroid_batch_processor - INFO - Using voxel spacing from config: Z=2.0µm, Y=0.208µm, X=0.208µm\n"
     ]
    },
    {
     "name": "stdout",
     "output_type": "stream",
     "text": [
      "✅ [68/80] ( 85.0%) | ETA:  17.8s | Blast_110.npz\n",
      "15:50:01 - [Worker-23454136182528] - INFO - 🔄 [Worker-23454136182528] Starting: Blast_054\n"
     ]
    },
    {
     "name": "stderr",
     "output_type": "stream",
     "text": [
      "2025-06-19 15:50:01,394 - worker_processor - INFO - 🔄 [Worker-23454136182528] Starting: Blast_054\n",
      "2025-06-19 15:50:01,394 - src.preprocessing.centroid_batch_processor - INFO - Processing file: Blast_054\n",
      "2025-06-19 15:50:01,395 - src.preprocessing.centroid_batch_processor - INFO - Loading data from: /mnt/home/dchhantyal/centroid_model_blastospim/data/raw/Blast/Blast_054.npz\n",
      "2025-06-19 15:50:01,394 - src.preprocessing.centroid_batch_processor - INFO - Processing file: Blast_054\n",
      "2025-06-19 15:50:01,395 - src.preprocessing.centroid_batch_processor - INFO - Loading data from: /mnt/home/dchhantyal/centroid_model_blastospim/data/raw/Blast/Blast_054.npz\n",
      "2025-06-19 15:50:01,548 - src.preprocessing.centroid_batch_processor - INFO - Successfully processed Blast_083\n",
      "2025-06-19 15:50:01,548 - src.preprocessing.centroid_batch_processor - INFO - Successfully processed Blast_083\n"
     ]
    },
    {
     "name": "stdout",
     "output_type": "stream",
     "text": [
      "15:50:01 - [Worker-23454129878784] - INFO - ✅ [Worker-23454129878784] Completed: Blast_083\n"
     ]
    },
    {
     "name": "stderr",
     "output_type": "stream",
     "text": [
      "2025-06-19 15:50:01,550 - worker_processor - INFO - ✅ [Worker-23454129878784] Completed: Blast_083\n"
     ]
    },
    {
     "name": "stdout",
     "output_type": "stream",
     "text": [
      "15:50:01 - [Worker-23454129878784] - INFO - 📁 [Worker-23454129878784] Output: /mnt/home/dchhantyal/centroid_model_blastospim/data/labels/Blast/label_Blast_083\n"
     ]
    },
    {
     "name": "stderr",
     "output_type": "stream",
     "text": [
      "2025-06-19 15:50:01,550 - worker_processor - INFO - 📁 [Worker-23454129878784] Output: /mnt/home/dchhantyal/centroid_model_blastospim/data/labels/Blast/label_Blast_083\n"
     ]
    },
    {
     "name": "stdout",
     "output_type": "stream",
     "text": [
      "15:50:01 - [Worker-23454129878784] - WARNING - ⚠️  [Worker-23454129878784] Visualization not found: /mnt/home/dchhantyal/centroid_model_blastospim/data/labels/Blast/label_Blast_083/visualizations/comprehensive_analysis.png\n"
     ]
    },
    {
     "name": "stderr",
     "output_type": "stream",
     "text": [
      "2025-06-19 15:50:01,551 - worker_processor - WARNING - ⚠️  [Worker-23454129878784] Visualization not found: /mnt/home/dchhantyal/centroid_model_blastospim/data/labels/Blast/label_Blast_083/visualizations/comprehensive_analysis.png\n",
      "2025-06-19 15:50:01,560 - src.preprocessing.centroid_batch_processor - INFO - Using voxel spacing from config: Z=2.0µm, Y=0.208µm, X=0.208µm\n",
      "2025-06-19 15:50:01,560 - src.preprocessing.centroid_batch_processor - INFO - Using voxel spacing from config: Z=2.0µm, Y=0.208µm, X=0.208µm\n"
     ]
    },
    {
     "name": "stdout",
     "output_type": "stream",
     "text": [
      "✅ [69/80] ( 86.2%) | ETA:  16.1s | Blast_083.npz\n",
      "15:50:01 - [Worker-23454129878784] - INFO - 🔄 [Worker-23454129878784] Starting: Blast_002\n"
     ]
    },
    {
     "name": "stderr",
     "output_type": "stream",
     "text": [
      "2025-06-19 15:50:01,560 - worker_processor - INFO - 🔄 [Worker-23454129878784] Starting: Blast_002\n",
      "2025-06-19 15:50:01,560 - src.preprocessing.centroid_batch_processor - INFO - Processing file: Blast_002\n",
      "2025-06-19 15:50:01,561 - src.preprocessing.centroid_batch_processor - INFO - Loading data from: /mnt/home/dchhantyal/centroid_model_blastospim/data/raw/Blast/Blast_002.npz\n",
      "2025-06-19 15:50:01,911 - src.preprocessing.centroid_batch_processor - INFO - Successfully processed Blast_021\n",
      "2025-06-19 15:50:01,560 - src.preprocessing.centroid_batch_processor - INFO - Processing file: Blast_002\n",
      "2025-06-19 15:50:01,561 - src.preprocessing.centroid_batch_processor - INFO - Loading data from: /mnt/home/dchhantyal/centroid_model_blastospim/data/raw/Blast/Blast_002.npz\n",
      "2025-06-19 15:50:01,911 - src.preprocessing.centroid_batch_processor - INFO - Successfully processed Blast_021\n"
     ]
    },
    {
     "name": "stdout",
     "output_type": "stream",
     "text": [
      "15:50:01 - [Worker-23454147065600] - INFO - ✅ [Worker-23454147065600] Completed: Blast_021\n"
     ]
    },
    {
     "name": "stderr",
     "output_type": "stream",
     "text": [
      "2025-06-19 15:50:01,915 - worker_processor - INFO - ✅ [Worker-23454147065600] Completed: Blast_021\n"
     ]
    },
    {
     "name": "stdout",
     "output_type": "stream",
     "text": [
      "15:50:01 - [Worker-23454147065600] - INFO - 📁 [Worker-23454147065600] Output: /mnt/home/dchhantyal/centroid_model_blastospim/data/labels/Blast/label_Blast_021\n"
     ]
    },
    {
     "name": "stderr",
     "output_type": "stream",
     "text": [
      "2025-06-19 15:50:01,915 - worker_processor - INFO - 📁 [Worker-23454147065600] Output: /mnt/home/dchhantyal/centroid_model_blastospim/data/labels/Blast/label_Blast_021\n"
     ]
    },
    {
     "name": "stdout",
     "output_type": "stream",
     "text": [
      "15:50:01 - [Worker-23454147065600] - WARNING - ⚠️  [Worker-23454147065600] Visualization not found: /mnt/home/dchhantyal/centroid_model_blastospim/data/labels/Blast/label_Blast_021/visualizations/comprehensive_analysis.png\n"
     ]
    },
    {
     "name": "stderr",
     "output_type": "stream",
     "text": [
      "2025-06-19 15:50:01,916 - worker_processor - WARNING - ⚠️  [Worker-23454147065600] Visualization not found: /mnt/home/dchhantyal/centroid_model_blastospim/data/labels/Blast/label_Blast_021/visualizations/comprehensive_analysis.png\n",
      "2025-06-19 15:50:01,924 - src.preprocessing.centroid_batch_processor - INFO - Using voxel spacing from config: Z=2.0µm, Y=0.208µm, X=0.208µm\n",
      "2025-06-19 15:50:01,924 - src.preprocessing.centroid_batch_processor - INFO - Using voxel spacing from config: Z=2.0µm, Y=0.208µm, X=0.208µm\n"
     ]
    },
    {
     "name": "stdout",
     "output_type": "stream",
     "text": [
      "✅ [70/80] ( 87.5%) | ETA:  14.4s | Blast_021.npz\n",
      "15:50:01 - [Worker-23454147065600] - INFO - 🔄 [Worker-23454147065600] Starting: Blast_001\n"
     ]
    },
    {
     "name": "stderr",
     "output_type": "stream",
     "text": [
      "2025-06-19 15:50:01,925 - worker_processor - INFO - 🔄 [Worker-23454147065600] Starting: Blast_001\n",
      "2025-06-19 15:50:01,925 - src.preprocessing.centroid_batch_processor - INFO - Processing file: Blast_001\n",
      "2025-06-19 15:50:01,926 - src.preprocessing.centroid_batch_processor - INFO - Loading data from: /mnt/home/dchhantyal/centroid_model_blastospim/data/raw/Blast/Blast_001.npz\n",
      "2025-06-19 15:50:01,925 - src.preprocessing.centroid_batch_processor - INFO - Processing file: Blast_001\n",
      "2025-06-19 15:50:01,926 - src.preprocessing.centroid_batch_processor - INFO - Loading data from: /mnt/home/dchhantyal/centroid_model_blastospim/data/raw/Blast/Blast_001.npz\n",
      "2025-06-19 15:50:02,531 - src.preprocessing.centroid_batch_processor - INFO - Successfully processed Blast_112\n",
      "2025-06-19 15:50:02,531 - src.preprocessing.centroid_batch_processor - INFO - Successfully processed Blast_112\n"
     ]
    },
    {
     "name": "stdout",
     "output_type": "stream",
     "text": [
      "15:50:02 - [Worker-23454138283776] - INFO - ✅ [Worker-23454138283776] Completed: Blast_112\n"
     ]
    },
    {
     "name": "stderr",
     "output_type": "stream",
     "text": [
      "2025-06-19 15:50:02,534 - worker_processor - INFO - ✅ [Worker-23454138283776] Completed: Blast_112\n"
     ]
    },
    {
     "name": "stdout",
     "output_type": "stream",
     "text": [
      "15:50:02 - [Worker-23454138283776] - INFO - 📁 [Worker-23454138283776] Output: /mnt/home/dchhantyal/centroid_model_blastospim/data/labels/Blast/label_Blast_112\n"
     ]
    },
    {
     "name": "stderr",
     "output_type": "stream",
     "text": [
      "2025-06-19 15:50:02,535 - worker_processor - INFO - 📁 [Worker-23454138283776] Output: /mnt/home/dchhantyal/centroid_model_blastospim/data/labels/Blast/label_Blast_112\n"
     ]
    },
    {
     "name": "stdout",
     "output_type": "stream",
     "text": [
      "15:50:02 - [Worker-23454138283776] - WARNING - ⚠️  [Worker-23454138283776] Visualization not found: /mnt/home/dchhantyal/centroid_model_blastospim/data/labels/Blast/label_Blast_112/visualizations/comprehensive_analysis.png\n"
     ]
    },
    {
     "name": "stderr",
     "output_type": "stream",
     "text": [
      "2025-06-19 15:50:02,535 - worker_processor - WARNING - ⚠️  [Worker-23454138283776] Visualization not found: /mnt/home/dchhantyal/centroid_model_blastospim/data/labels/Blast/label_Blast_112/visualizations/comprehensive_analysis.png\n",
      "2025-06-19 15:50:02,544 - src.preprocessing.centroid_batch_processor - INFO - Using voxel spacing from config: Z=2.0µm, Y=0.208µm, X=0.208µm\n",
      "2025-06-19 15:50:02,544 - src.preprocessing.centroid_batch_processor - INFO - Using voxel spacing from config: Z=2.0µm, Y=0.208µm, X=0.208µm\n"
     ]
    },
    {
     "name": "stdout",
     "output_type": "stream",
     "text": [
      "✅ [71/80] ( 88.8%) | ETA:  12.9s | Blast_112.npz\n",
      "15:50:02 - [Worker-23454138283776] - INFO - 🔄 [Worker-23454138283776] Starting: Blast_010\n"
     ]
    },
    {
     "name": "stderr",
     "output_type": "stream",
     "text": [
      "2025-06-19 15:50:02,544 - worker_processor - INFO - 🔄 [Worker-23454138283776] Starting: Blast_010\n",
      "2025-06-19 15:50:02,545 - src.preprocessing.centroid_batch_processor - INFO - Processing file: Blast_010\n",
      "2025-06-19 15:50:02,546 - src.preprocessing.centroid_batch_processor - INFO - Loading data from: /mnt/home/dchhantyal/centroid_model_blastospim/data/raw/Blast/Blast_010.npz\n",
      "2025-06-19 15:50:02,545 - src.preprocessing.centroid_batch_processor - INFO - Processing file: Blast_010\n",
      "2025-06-19 15:50:02,546 - src.preprocessing.centroid_batch_processor - INFO - Loading data from: /mnt/home/dchhantyal/centroid_model_blastospim/data/raw/Blast/Blast_010.npz\n",
      "2025-06-19 15:50:02,631 - src.preprocessing.centroid_batch_processor - INFO - Volume shape: (101, 2048, 2048)\n",
      "2025-06-19 15:50:02,632 - src.preprocessing.centroid_batch_processor - INFO - Mask shape: (101, 2048, 2048)\n",
      "2025-06-19 15:50:02,631 - src.preprocessing.centroid_batch_processor - INFO - Volume shape: (101, 2048, 2048)\n",
      "2025-06-19 15:50:02,632 - src.preprocessing.centroid_batch_processor - INFO - Mask shape: (101, 2048, 2048)\n",
      "2025-06-19 15:50:03,829 - src.preprocessing.centroid_batch_processor - INFO - Volume shape: (101, 2048, 2048)\n",
      "2025-06-19 15:50:03,830 - src.preprocessing.centroid_batch_processor - INFO - Mask shape: (101, 2048, 2048)\n",
      "2025-06-19 15:50:03,829 - src.preprocessing.centroid_batch_processor - INFO - Volume shape: (101, 2048, 2048)\n",
      "2025-06-19 15:50:03,830 - src.preprocessing.centroid_batch_processor - INFO - Mask shape: (101, 2048, 2048)\n",
      "2025-06-19 15:50:04,279 - src.preprocessing.centroid_batch_processor - INFO - Number of objects: 96\n",
      "2025-06-19 15:50:04,279 - src.preprocessing.centroid_batch_processor - INFO - Number of objects: 96\n",
      "2025-06-19 15:50:04,826 - src.preprocessing.centroid_batch_processor - INFO - Volume shape: (101, 2048, 2048)\n",
      "2025-06-19 15:50:04,826 - src.preprocessing.centroid_batch_processor - INFO - Mask shape: (101, 2048, 2048)\n",
      "2025-06-19 15:50:04,826 - src.preprocessing.centroid_batch_processor - INFO - Volume shape: (101, 2048, 2048)\n",
      "2025-06-19 15:50:04,826 - src.preprocessing.centroid_batch_processor - INFO - Mask shape: (101, 2048, 2048)\n",
      "2025-06-19 15:50:05,473 - src.preprocessing.centroid_batch_processor - INFO - Number of objects: 93\n",
      "2025-06-19 15:50:05,473 - src.preprocessing.centroid_batch_processor - INFO - Number of objects: 93\n",
      "2025-06-19 15:50:05,788 - src.preprocessing.centroid_batch_processor - INFO - Saved label data to: /mnt/home/dchhantyal/centroid_model_blastospim/data/labels/Blast/label_Blast_059/data/label.npz\n",
      "2025-06-19 15:50:05,788 - src.preprocessing.centroid_batch_processor - INFO - Saved label data to: /mnt/home/dchhantyal/centroid_model_blastospim/data/labels/Blast/label_Blast_059/data/label.npz\n",
      "2025-06-19 15:50:06,470 - src.preprocessing.centroid_batch_processor - INFO - Number of objects: 90\n",
      "2025-06-19 15:50:06,470 - src.preprocessing.centroid_batch_processor - INFO - Number of objects: 90\n",
      "2025-06-19 15:50:06,980 - src.preprocessing.centroid_batch_processor - INFO - Saved label data to: /mnt/home/dchhantyal/centroid_model_blastospim/data/labels/Blast/label_Blast_068/data/label.npz\n",
      "2025-06-19 15:50:07,555 - src.preprocessing.centroid_batch_processor - INFO - Volume shape: (101, 2048, 2048)\n",
      "2025-06-19 15:50:07,555 - src.preprocessing.centroid_batch_processor - INFO - Mask shape: (101, 2048, 2048)\n",
      "2025-06-19 15:50:06,980 - src.preprocessing.centroid_batch_processor - INFO - Saved label data to: /mnt/home/dchhantyal/centroid_model_blastospim/data/labels/Blast/label_Blast_068/data/label.npz\n",
      "2025-06-19 15:50:07,555 - src.preprocessing.centroid_batch_processor - INFO - Volume shape: (101, 2048, 2048)\n",
      "2025-06-19 15:50:07,555 - src.preprocessing.centroid_batch_processor - INFO - Mask shape: (101, 2048, 2048)\n",
      "2025-06-19 15:50:07,587 - src.preprocessing.centroid_batch_processor - INFO - Volume shape: (101, 2048, 2048)\n",
      "2025-06-19 15:50:07,587 - src.preprocessing.centroid_batch_processor - INFO - Mask shape: (101, 2048, 2048)\n",
      "2025-06-19 15:50:07,590 - src.preprocessing.centroid_batch_processor - INFO - Volume shape: (91, 2048, 2048)\n",
      "2025-06-19 15:50:07,591 - src.preprocessing.centroid_batch_processor - INFO - Mask shape: (91, 2048, 2048)\n",
      "2025-06-19 15:50:07,587 - src.preprocessing.centroid_batch_processor - INFO - Volume shape: (101, 2048, 2048)\n",
      "2025-06-19 15:50:07,587 - src.preprocessing.centroid_batch_processor - INFO - Mask shape: (101, 2048, 2048)\n",
      "2025-06-19 15:50:07,590 - src.preprocessing.centroid_batch_processor - INFO - Volume shape: (91, 2048, 2048)\n",
      "2025-06-19 15:50:07,591 - src.preprocessing.centroid_batch_processor - INFO - Mask shape: (91, 2048, 2048)\n",
      "2025-06-19 15:50:08,005 - src.preprocessing.centroid_batch_processor - INFO - Saved label data to: /mnt/home/dchhantyal/centroid_model_blastospim/data/labels/Blast/label_Blast_030/data/label.npz\n",
      "2025-06-19 15:50:08,005 - src.preprocessing.centroid_batch_processor - INFO - Saved label data to: /mnt/home/dchhantyal/centroid_model_blastospim/data/labels/Blast/label_Blast_030/data/label.npz\n",
      "2025-06-19 15:50:08,289 - src.preprocessing.centroid_batch_processor - INFO - Volume shape: (96, 2048, 2048)\n",
      "2025-06-19 15:50:08,290 - src.preprocessing.centroid_batch_processor - INFO - Mask shape: (96, 2048, 2048)\n",
      "2025-06-19 15:50:08,289 - src.preprocessing.centroid_batch_processor - INFO - Volume shape: (96, 2048, 2048)\n",
      "2025-06-19 15:50:08,290 - src.preprocessing.centroid_batch_processor - INFO - Mask shape: (96, 2048, 2048)\n",
      "2025-06-19 15:50:08,349 - src.preprocessing.centroid_batch_processor - INFO - Successfully processed Blast_059\n",
      "2025-06-19 15:50:08,349 - src.preprocessing.centroid_batch_processor - INFO - Successfully processed Blast_059\n"
     ]
    },
    {
     "name": "stdout",
     "output_type": "stream",
     "text": [
      "15:50:08 - [Worker-23454131980032] - INFO - ✅ [Worker-23454131980032] Completed: Blast_059\n"
     ]
    },
    {
     "name": "stderr",
     "output_type": "stream",
     "text": [
      "2025-06-19 15:50:08,353 - worker_processor - INFO - ✅ [Worker-23454131980032] Completed: Blast_059\n"
     ]
    },
    {
     "name": "stdout",
     "output_type": "stream",
     "text": [
      "15:50:08 - [Worker-23454131980032] - INFO - 📁 [Worker-23454131980032] Output: /mnt/home/dchhantyal/centroid_model_blastospim/data/labels/Blast/label_Blast_059\n"
     ]
    },
    {
     "name": "stderr",
     "output_type": "stream",
     "text": [
      "2025-06-19 15:50:08,356 - worker_processor - INFO - 📁 [Worker-23454131980032] Output: /mnt/home/dchhantyal/centroid_model_blastospim/data/labels/Blast/label_Blast_059\n"
     ]
    },
    {
     "name": "stdout",
     "output_type": "stream",
     "text": [
      "15:50:08 - [Worker-23454131980032] - WARNING - ⚠️  [Worker-23454131980032] Visualization not found: /mnt/home/dchhantyal/centroid_model_blastospim/data/labels/Blast/label_Blast_059/visualizations/comprehensive_analysis.png\n"
     ]
    },
    {
     "name": "stderr",
     "output_type": "stream",
     "text": [
      "2025-06-19 15:50:08,357 - worker_processor - WARNING - ⚠️  [Worker-23454131980032] Visualization not found: /mnt/home/dchhantyal/centroid_model_blastospim/data/labels/Blast/label_Blast_059/visualizations/comprehensive_analysis.png\n",
      "2025-06-19 15:50:08,366 - src.preprocessing.centroid_batch_processor - INFO - Using voxel spacing from config: Z=2.0µm, Y=0.208µm, X=0.208µm\n",
      "2025-06-19 15:50:08,366 - src.preprocessing.centroid_batch_processor - INFO - Using voxel spacing from config: Z=2.0µm, Y=0.208µm, X=0.208µm\n"
     ]
    },
    {
     "name": "stdout",
     "output_type": "stream",
     "text": [
      "✅ [72/80] ( 90.0%) | ETA:  12.0s | Blast_059.npz\n",
      "15:50:08 - [Worker-23454131980032] - INFO - 🔄 [Worker-23454131980032] Starting: Blast_027\n"
     ]
    },
    {
     "name": "stderr",
     "output_type": "stream",
     "text": [
      "2025-06-19 15:50:08,366 - worker_processor - INFO - 🔄 [Worker-23454131980032] Starting: Blast_027\n",
      "2025-06-19 15:50:08,367 - src.preprocessing.centroid_batch_processor - INFO - Processing file: Blast_027\n",
      "2025-06-19 15:50:08,368 - src.preprocessing.centroid_batch_processor - INFO - Loading data from: /mnt/home/dchhantyal/centroid_model_blastospim/data/raw/Blast/Blast_027.npz\n",
      "2025-06-19 15:50:08,367 - src.preprocessing.centroid_batch_processor - INFO - Processing file: Blast_027\n",
      "2025-06-19 15:50:08,368 - src.preprocessing.centroid_batch_processor - INFO - Loading data from: /mnt/home/dchhantyal/centroid_model_blastospim/data/raw/Blast/Blast_027.npz\n",
      "2025-06-19 15:50:09,083 - src.preprocessing.centroid_batch_processor - INFO - Number of objects: 123\n",
      "2025-06-19 15:50:09,083 - src.preprocessing.centroid_batch_processor - INFO - Number of objects: 123\n",
      "2025-06-19 15:50:09,181 - src.preprocessing.centroid_batch_processor - INFO - Volume shape: (101, 2048, 2048)\n",
      "2025-06-19 15:50:09,182 - src.preprocessing.centroid_batch_processor - INFO - Mask shape: (101, 2048, 2048)\n",
      "2025-06-19 15:50:09,181 - src.preprocessing.centroid_batch_processor - INFO - Volume shape: (101, 2048, 2048)\n",
      "2025-06-19 15:50:09,182 - src.preprocessing.centroid_batch_processor - INFO - Mask shape: (101, 2048, 2048)\n",
      "2025-06-19 15:50:09,204 - src.preprocessing.centroid_batch_processor - INFO - Number of objects: 76\n",
      "2025-06-19 15:50:09,204 - src.preprocessing.centroid_batch_processor - INFO - Number of objects: 76\n",
      "2025-06-19 15:50:09,236 - src.preprocessing.centroid_batch_processor - INFO - Number of objects: 73\n",
      "2025-06-19 15:50:09,236 - src.preprocessing.centroid_batch_processor - INFO - Number of objects: 73\n",
      "2025-06-19 15:50:09,561 - src.preprocessing.centroid_batch_processor - INFO - Successfully processed Blast_068\n",
      "2025-06-19 15:50:09,561 - src.preprocessing.centroid_batch_processor - INFO - Successfully processed Blast_068\n"
     ]
    },
    {
     "name": "stdout",
     "output_type": "stream",
     "text": [
      "15:50:09 - [Worker-23454125577984] - INFO - ✅ [Worker-23454125577984] Completed: Blast_068\n"
     ]
    },
    {
     "name": "stderr",
     "output_type": "stream",
     "text": [
      "2025-06-19 15:50:09,564 - worker_processor - INFO - ✅ [Worker-23454125577984] Completed: Blast_068\n"
     ]
    },
    {
     "name": "stdout",
     "output_type": "stream",
     "text": [
      "15:50:09 - [Worker-23454125577984] - INFO - 📁 [Worker-23454125577984] Output: /mnt/home/dchhantyal/centroid_model_blastospim/data/labels/Blast/label_Blast_068\n"
     ]
    },
    {
     "name": "stderr",
     "output_type": "stream",
     "text": [
      "2025-06-19 15:50:09,564 - worker_processor - INFO - 📁 [Worker-23454125577984] Output: /mnt/home/dchhantyal/centroid_model_blastospim/data/labels/Blast/label_Blast_068\n"
     ]
    },
    {
     "name": "stdout",
     "output_type": "stream",
     "text": [
      "15:50:09 - [Worker-23454125577984] - WARNING - ⚠️  [Worker-23454125577984] Visualization not found: /mnt/home/dchhantyal/centroid_model_blastospim/data/labels/Blast/label_Blast_068/visualizations/comprehensive_analysis.png\n"
     ]
    },
    {
     "name": "stderr",
     "output_type": "stream",
     "text": [
      "2025-06-19 15:50:09,565 - worker_processor - WARNING - ⚠️  [Worker-23454125577984] Visualization not found: /mnt/home/dchhantyal/centroid_model_blastospim/data/labels/Blast/label_Blast_068/visualizations/comprehensive_analysis.png\n"
     ]
    },
    {
     "name": "stdout",
     "output_type": "stream",
     "text": [
      "✅ [73/80] ( 91.2%) | ETA:  10.4s | Blast_068.npz\n"
     ]
    },
    {
     "name": "stderr",
     "output_type": "stream",
     "text": [
      "2025-06-19 15:50:10,294 - src.preprocessing.centroid_batch_processor - INFO - Number of objects: 142\n",
      "2025-06-19 15:50:10,493 - src.preprocessing.centroid_batch_processor - INFO - Saved label data to: /mnt/home/dchhantyal/centroid_model_blastospim/data/labels/Blast/label_Blast_001/data/label.npz\n",
      "2025-06-19 15:50:10,595 - src.preprocessing.centroid_batch_processor - INFO - Successfully processed Blast_030\n",
      "2025-06-19 15:50:10,493 - src.preprocessing.centroid_batch_processor - INFO - Saved label data to: /mnt/home/dchhantyal/centroid_model_blastospim/data/labels/Blast/label_Blast_001/data/label.npz\n",
      "2025-06-19 15:50:10,595 - src.preprocessing.centroid_batch_processor - INFO - Successfully processed Blast_030\n"
     ]
    },
    {
     "name": "stdout",
     "output_type": "stream",
     "text": [
      "15:50:10 - [Worker-23454127777536] - INFO - ✅ [Worker-23454127777536] Completed: Blast_030\n"
     ]
    },
    {
     "name": "stderr",
     "output_type": "stream",
     "text": [
      "2025-06-19 15:50:10,598 - worker_processor - INFO - ✅ [Worker-23454127777536] Completed: Blast_030\n"
     ]
    },
    {
     "name": "stdout",
     "output_type": "stream",
     "text": [
      "15:50:10 - [Worker-23454127777536] - INFO - 📁 [Worker-23454127777536] Output: /mnt/home/dchhantyal/centroid_model_blastospim/data/labels/Blast/label_Blast_030\n"
     ]
    },
    {
     "name": "stderr",
     "output_type": "stream",
     "text": [
      "2025-06-19 15:50:10,599 - worker_processor - INFO - 📁 [Worker-23454127777536] Output: /mnt/home/dchhantyal/centroid_model_blastospim/data/labels/Blast/label_Blast_030\n"
     ]
    },
    {
     "name": "stdout",
     "output_type": "stream",
     "text": [
      "15:50:10 - [Worker-23454127777536] - WARNING - ⚠️  [Worker-23454127777536] Visualization not found: /mnt/home/dchhantyal/centroid_model_blastospim/data/labels/Blast/label_Blast_030/visualizations/comprehensive_analysis.png\n"
     ]
    },
    {
     "name": "stderr",
     "output_type": "stream",
     "text": [
      "2025-06-19 15:50:10,599 - worker_processor - WARNING - ⚠️  [Worker-23454127777536] Visualization not found: /mnt/home/dchhantyal/centroid_model_blastospim/data/labels/Blast/label_Blast_030/visualizations/comprehensive_analysis.png\n",
      "2025-06-19 15:50:10,764 - src.preprocessing.centroid_batch_processor - INFO - Saved label data to: /mnt/home/dchhantyal/centroid_model_blastospim/data/labels/Blast/label_Blast_054/data/label.npz\n",
      "2025-06-19 15:50:10,771 - src.preprocessing.centroid_batch_processor - INFO - Saved label data to: /mnt/home/dchhantyal/centroid_model_blastospim/data/labels/Blast/label_Blast_015/data/label.npz\n",
      "2025-06-19 15:50:10,764 - src.preprocessing.centroid_batch_processor - INFO - Saved label data to: /mnt/home/dchhantyal/centroid_model_blastospim/data/labels/Blast/label_Blast_054/data/label.npz\n",
      "2025-06-19 15:50:10,771 - src.preprocessing.centroid_batch_processor - INFO - Saved label data to: /mnt/home/dchhantyal/centroid_model_blastospim/data/labels/Blast/label_Blast_015/data/label.npz\n"
     ]
    },
    {
     "name": "stdout",
     "output_type": "stream",
     "text": [
      "✅ [74/80] ( 92.5%) | ETA:   8.9s | Blast_030.npz\n"
     ]
    },
    {
     "name": "stderr",
     "output_type": "stream",
     "text": [
      "2025-06-19 15:50:10,826 - src.preprocessing.centroid_batch_processor - INFO - Number of objects: 78\n",
      "2025-06-19 15:50:11,737 - src.preprocessing.centroid_batch_processor - INFO - Saved label data to: /mnt/home/dchhantyal/centroid_model_blastospim/data/labels/Blast/label_Blast_002/data/label.npz\n",
      "2025-06-19 15:50:11,737 - src.preprocessing.centroid_batch_processor - INFO - Saved label data to: /mnt/home/dchhantyal/centroid_model_blastospim/data/labels/Blast/label_Blast_002/data/label.npz\n",
      "2025-06-19 15:50:12,365 - src.preprocessing.centroid_batch_processor - INFO - Saved label data to: /mnt/home/dchhantyal/centroid_model_blastospim/data/labels/Blast/label_Blast_010/data/label.npz\n",
      "2025-06-19 15:50:12,568 - src.preprocessing.centroid_batch_processor - INFO - Volume shape: (101, 2048, 2048)\n",
      "2025-06-19 15:50:12,569 - src.preprocessing.centroid_batch_processor - INFO - Mask shape: (101, 2048, 2048)\n",
      "2025-06-19 15:50:12,365 - src.preprocessing.centroid_batch_processor - INFO - Saved label data to: /mnt/home/dchhantyal/centroid_model_blastospim/data/labels/Blast/label_Blast_010/data/label.npz\n",
      "2025-06-19 15:50:12,568 - src.preprocessing.centroid_batch_processor - INFO - Volume shape: (101, 2048, 2048)\n",
      "2025-06-19 15:50:12,569 - src.preprocessing.centroid_batch_processor - INFO - Mask shape: (101, 2048, 2048)\n",
      "2025-06-19 15:50:12,837 - src.preprocessing.centroid_batch_processor - INFO - Successfully processed Blast_001\n",
      "2025-06-19 15:50:12,837 - src.preprocessing.centroid_batch_processor - INFO - Successfully processed Blast_001\n"
     ]
    },
    {
     "name": "stdout",
     "output_type": "stream",
     "text": [
      "15:50:12 - [Worker-23454147065600] - INFO - ✅ [Worker-23454147065600] Completed: Blast_001\n"
     ]
    },
    {
     "name": "stderr",
     "output_type": "stream",
     "text": [
      "2025-06-19 15:50:12,840 - worker_processor - INFO - ✅ [Worker-23454147065600] Completed: Blast_001\n"
     ]
    },
    {
     "name": "stdout",
     "output_type": "stream",
     "text": [
      "15:50:12 - [Worker-23454147065600] - INFO - 📁 [Worker-23454147065600] Output: /mnt/home/dchhantyal/centroid_model_blastospim/data/labels/Blast/label_Blast_001\n"
     ]
    },
    {
     "name": "stderr",
     "output_type": "stream",
     "text": [
      "2025-06-19 15:50:12,840 - worker_processor - INFO - 📁 [Worker-23454147065600] Output: /mnt/home/dchhantyal/centroid_model_blastospim/data/labels/Blast/label_Blast_001\n"
     ]
    },
    {
     "name": "stdout",
     "output_type": "stream",
     "text": [
      "15:50:12 - [Worker-23454147065600] - WARNING - ⚠️  [Worker-23454147065600] Visualization not found: /mnt/home/dchhantyal/centroid_model_blastospim/data/labels/Blast/label_Blast_001/visualizations/comprehensive_analysis.png\n"
     ]
    },
    {
     "name": "stderr",
     "output_type": "stream",
     "text": [
      "2025-06-19 15:50:12,841 - worker_processor - WARNING - ⚠️  [Worker-23454147065600] Visualization not found: /mnt/home/dchhantyal/centroid_model_blastospim/data/labels/Blast/label_Blast_001/visualizations/comprehensive_analysis.png\n"
     ]
    },
    {
     "name": "stdout",
     "output_type": "stream",
     "text": [
      "✅ [75/80] ( 93.8%) | ETA:   7.5s | Blast_001.npz\n"
     ]
    },
    {
     "name": "stderr",
     "output_type": "stream",
     "text": [
      "2025-06-19 15:50:13,345 - src.preprocessing.centroid_batch_processor - INFO - Successfully processed Blast_054\n"
     ]
    },
    {
     "name": "stdout",
     "output_type": "stream",
     "text": [
      "15:50:13 - [Worker-23454136182528] - INFO - ✅ [Worker-23454136182528] Completed: Blast_054\n"
     ]
    },
    {
     "name": "stderr",
     "output_type": "stream",
     "text": [
      "2025-06-19 15:50:13,348 - worker_processor - INFO - ✅ [Worker-23454136182528] Completed: Blast_054\n"
     ]
    },
    {
     "name": "stdout",
     "output_type": "stream",
     "text": [
      "15:50:13 - [Worker-23454136182528] - INFO - 📁 [Worker-23454136182528] Output: /mnt/home/dchhantyal/centroid_model_blastospim/data/labels/Blast/label_Blast_054\n"
     ]
    },
    {
     "name": "stderr",
     "output_type": "stream",
     "text": [
      "2025-06-19 15:50:13,349 - worker_processor - INFO - 📁 [Worker-23454136182528] Output: /mnt/home/dchhantyal/centroid_model_blastospim/data/labels/Blast/label_Blast_054\n"
     ]
    },
    {
     "name": "stdout",
     "output_type": "stream",
     "text": [
      "15:50:13 - [Worker-23454136182528] - WARNING - ⚠️  [Worker-23454136182528] Visualization not found: /mnt/home/dchhantyal/centroid_model_blastospim/data/labels/Blast/label_Blast_054/visualizations/comprehensive_analysis.png\n"
     ]
    },
    {
     "name": "stderr",
     "output_type": "stream",
     "text": [
      "2025-06-19 15:50:13,349 - worker_processor - WARNING - ⚠️  [Worker-23454136182528] Visualization not found: /mnt/home/dchhantyal/centroid_model_blastospim/data/labels/Blast/label_Blast_054/visualizations/comprehensive_analysis.png\n",
      "2025-06-19 15:50:13,362 - src.preprocessing.centroid_batch_processor - INFO - Successfully processed Blast_015\n",
      "2025-06-19 15:50:13,362 - src.preprocessing.centroid_batch_processor - INFO - Successfully processed Blast_015\n"
     ]
    },
    {
     "name": "stdout",
     "output_type": "stream",
     "text": [
      "✅ [76/80] ( 95.0%) | ETA:   5.9s | Blast_054.npz\n",
      "15:50:13 - [Worker-23454134081280] - INFO - ✅ [Worker-23454134081280] Completed: Blast_015\n"
     ]
    },
    {
     "name": "stderr",
     "output_type": "stream",
     "text": [
      "2025-06-19 15:50:13,365 - worker_processor - INFO - ✅ [Worker-23454134081280] Completed: Blast_015\n"
     ]
    },
    {
     "name": "stdout",
     "output_type": "stream",
     "text": [
      "15:50:13 - [Worker-23454134081280] - INFO - 📁 [Worker-23454134081280] Output: /mnt/home/dchhantyal/centroid_model_blastospim/data/labels/Blast/label_Blast_015\n"
     ]
    },
    {
     "name": "stderr",
     "output_type": "stream",
     "text": [
      "2025-06-19 15:50:13,365 - worker_processor - INFO - 📁 [Worker-23454134081280] Output: /mnt/home/dchhantyal/centroid_model_blastospim/data/labels/Blast/label_Blast_015\n"
     ]
    },
    {
     "name": "stdout",
     "output_type": "stream",
     "text": [
      "15:50:13 - [Worker-23454134081280] - WARNING - ⚠️  [Worker-23454134081280] Visualization not found: /mnt/home/dchhantyal/centroid_model_blastospim/data/labels/Blast/label_Blast_015/visualizations/comprehensive_analysis.png\n"
     ]
    },
    {
     "name": "stderr",
     "output_type": "stream",
     "text": [
      "2025-06-19 15:50:13,366 - worker_processor - WARNING - ⚠️  [Worker-23454134081280] Visualization not found: /mnt/home/dchhantyal/centroid_model_blastospim/data/labels/Blast/label_Blast_015/visualizations/comprehensive_analysis.png\n"
     ]
    },
    {
     "name": "stdout",
     "output_type": "stream",
     "text": [
      "✅ [77/80] ( 96.2%) | ETA:   4.4s | Blast_015.npz\n"
     ]
    },
    {
     "name": "stderr",
     "output_type": "stream",
     "text": [
      "2025-06-19 15:50:14,213 - src.preprocessing.centroid_batch_processor - INFO - Number of objects: 63\n",
      "2025-06-19 15:50:14,611 - src.preprocessing.centroid_batch_processor - INFO - Successfully processed Blast_002\n",
      "2025-06-19 15:50:14,611 - src.preprocessing.centroid_batch_processor - INFO - Successfully processed Blast_002\n"
     ]
    },
    {
     "name": "stdout",
     "output_type": "stream",
     "text": [
      "15:50:14 - [Worker-23454129878784] - INFO - ✅ [Worker-23454129878784] Completed: Blast_002\n"
     ]
    },
    {
     "name": "stderr",
     "output_type": "stream",
     "text": [
      "2025-06-19 15:50:14,614 - worker_processor - INFO - ✅ [Worker-23454129878784] Completed: Blast_002\n"
     ]
    },
    {
     "name": "stdout",
     "output_type": "stream",
     "text": [
      "15:50:14 - [Worker-23454129878784] - INFO - 📁 [Worker-23454129878784] Output: /mnt/home/dchhantyal/centroid_model_blastospim/data/labels/Blast/label_Blast_002\n"
     ]
    },
    {
     "name": "stderr",
     "output_type": "stream",
     "text": [
      "2025-06-19 15:50:14,615 - worker_processor - INFO - 📁 [Worker-23454129878784] Output: /mnt/home/dchhantyal/centroid_model_blastospim/data/labels/Blast/label_Blast_002\n"
     ]
    },
    {
     "name": "stdout",
     "output_type": "stream",
     "text": [
      "15:50:14 - [Worker-23454129878784] - WARNING - ⚠️  [Worker-23454129878784] Visualization not found: /mnt/home/dchhantyal/centroid_model_blastospim/data/labels/Blast/label_Blast_002/visualizations/comprehensive_analysis.png\n"
     ]
    },
    {
     "name": "stderr",
     "output_type": "stream",
     "text": [
      "2025-06-19 15:50:14,615 - worker_processor - WARNING - ⚠️  [Worker-23454129878784] Visualization not found: /mnt/home/dchhantyal/centroid_model_blastospim/data/labels/Blast/label_Blast_002/visualizations/comprehensive_analysis.png\n"
     ]
    },
    {
     "name": "stdout",
     "output_type": "stream",
     "text": [
      "✅ [78/80] ( 97.5%) | ETA:   2.9s | Blast_002.npz\n"
     ]
    },
    {
     "name": "stderr",
     "output_type": "stream",
     "text": [
      "2025-06-19 15:50:14,941 - src.preprocessing.centroid_batch_processor - INFO - Successfully processed Blast_010\n"
     ]
    },
    {
     "name": "stdout",
     "output_type": "stream",
     "text": [
      "15:50:14 - [Worker-23454138283776] - INFO - ✅ [Worker-23454138283776] Completed: Blast_010\n"
     ]
    },
    {
     "name": "stderr",
     "output_type": "stream",
     "text": [
      "2025-06-19 15:50:14,944 - worker_processor - INFO - ✅ [Worker-23454138283776] Completed: Blast_010\n"
     ]
    },
    {
     "name": "stdout",
     "output_type": "stream",
     "text": [
      "15:50:14 - [Worker-23454138283776] - INFO - 📁 [Worker-23454138283776] Output: /mnt/home/dchhantyal/centroid_model_blastospim/data/labels/Blast/label_Blast_010\n"
     ]
    },
    {
     "name": "stderr",
     "output_type": "stream",
     "text": [
      "2025-06-19 15:50:14,945 - worker_processor - INFO - 📁 [Worker-23454138283776] Output: /mnt/home/dchhantyal/centroid_model_blastospim/data/labels/Blast/label_Blast_010\n"
     ]
    },
    {
     "name": "stdout",
     "output_type": "stream",
     "text": [
      "15:50:14 - [Worker-23454138283776] - WARNING - ⚠️  [Worker-23454138283776] Visualization not found: /mnt/home/dchhantyal/centroid_model_blastospim/data/labels/Blast/label_Blast_010/visualizations/comprehensive_analysis.png\n"
     ]
    },
    {
     "name": "stderr",
     "output_type": "stream",
     "text": [
      "2025-06-19 15:50:14,945 - worker_processor - WARNING - ⚠️  [Worker-23454138283776] Visualization not found: /mnt/home/dchhantyal/centroid_model_blastospim/data/labels/Blast/label_Blast_010/visualizations/comprehensive_analysis.png\n"
     ]
    },
    {
     "name": "stdout",
     "output_type": "stream",
     "text": [
      "✅ [79/80] ( 98.8%) | ETA:   1.4s | Blast_010.npz\n"
     ]
    },
    {
     "name": "stderr",
     "output_type": "stream",
     "text": [
      "2025-06-19 15:50:15,721 - src.preprocessing.centroid_batch_processor - INFO - Saved label data to: /mnt/home/dchhantyal/centroid_model_blastospim/data/labels/Blast/label_Blast_027/data/label.npz\n",
      "2025-06-19 15:50:18,267 - src.preprocessing.centroid_batch_processor - INFO - Successfully processed Blast_027\n",
      "2025-06-19 15:50:18,267 - src.preprocessing.centroid_batch_processor - INFO - Successfully processed Blast_027\n"
     ]
    },
    {
     "name": "stdout",
     "output_type": "stream",
     "text": [
      "15:50:18 - [Worker-23454131980032] - INFO - ✅ [Worker-23454131980032] Completed: Blast_027\n"
     ]
    },
    {
     "name": "stderr",
     "output_type": "stream",
     "text": [
      "2025-06-19 15:50:18,270 - worker_processor - INFO - ✅ [Worker-23454131980032] Completed: Blast_027\n"
     ]
    },
    {
     "name": "stdout",
     "output_type": "stream",
     "text": [
      "15:50:18 - [Worker-23454131980032] - INFO - 📁 [Worker-23454131980032] Output: /mnt/home/dchhantyal/centroid_model_blastospim/data/labels/Blast/label_Blast_027\n"
     ]
    },
    {
     "name": "stderr",
     "output_type": "stream",
     "text": [
      "2025-06-19 15:50:18,270 - worker_processor - INFO - 📁 [Worker-23454131980032] Output: /mnt/home/dchhantyal/centroid_model_blastospim/data/labels/Blast/label_Blast_027\n"
     ]
    },
    {
     "name": "stdout",
     "output_type": "stream",
     "text": [
      "15:50:18 - [Worker-23454131980032] - WARNING - ⚠️  [Worker-23454131980032] Visualization not found: /mnt/home/dchhantyal/centroid_model_blastospim/data/labels/Blast/label_Blast_027/visualizations/comprehensive_analysis.png\n"
     ]
    },
    {
     "name": "stderr",
     "output_type": "stream",
     "text": [
      "2025-06-19 15:50:18,271 - worker_processor - WARNING - ⚠️  [Worker-23454131980032] Visualization not found: /mnt/home/dchhantyal/centroid_model_blastospim/data/labels/Blast/label_Blast_027/visualizations/comprehensive_analysis.png\n"
     ]
    },
    {
     "name": "stdout",
     "output_type": "stream",
     "text": [
      "✅ [80/80] (100.0%) | ETA:   0.0s | Blast_027.npz\n",
      "--------------------------------------------------------------------------------\n",
      "✅ Parallel processing completed with 8 workers!\n",
      "✅ Core processing completed successfully!\n",
      "📊 Processed 80 files with clean output formatting\n"
     ]
    }
   ],
   "source": [
    "# Execute batch processing - Part 3: Run Parallel or Sequential Processing\n",
    "if len(npz_files) > 0:\n",
    "    import threading\n",
    "    import sys\n",
    "    from io import StringIO\n",
    "    \n",
    "    # Create a thread-safe logger for worker processes\n",
    "    worker_logger = logging.getLogger('worker_processor')\n",
    "    worker_logger.setLevel(logging.INFO)\n",
    "    \n",
    "    # Clear any existing handlers for worker logger\n",
    "    worker_logger.handlers.clear()\n",
    "    \n",
    "    # Create a custom formatter for worker logs with thread identification\n",
    "    worker_formatter = logging.Formatter(\n",
    "        '%(asctime)s - [Worker-%(thread)d] - %(levelname)s - %(message)s',\n",
    "        datefmt='%H:%M:%S'\n",
    "    )\n",
    "    \n",
    "    # Console handler for worker progress with minimal format\n",
    "    worker_console_handler = logging.StreamHandler(sys.stdout)\n",
    "    worker_console_handler.setLevel(logging.INFO)\n",
    "    worker_console_handler.setFormatter(worker_formatter)\n",
    "    worker_logger.addHandler(worker_console_handler)\n",
    "    \n",
    "    try:\n",
    "        # Execute parallel processing if max_workers > 1, otherwise sequential\n",
    "        results = []\n",
    "        processing_start_time = time.time()\n",
    "        \n",
    "        if processing_params['max_workers'] > 1:\n",
    "            print(f\"🔄 Starting parallel processing with {processing_params['max_workers']} workers...\")\n",
    "            print(f\"📊 Progress tracking with thread identification enabled\")\n",
    "            print(\"-\" * 80)\n",
    "            \n",
    "            # Use ThreadPoolExecutor for I/O-bound operations (better for file processing)\n",
    "            # ProcessPoolExecutor can be used for CPU-intensive tasks, but ThreadPoolExecutor\n",
    "            # is often better for file I/O and works well with our processing pipeline\n",
    "            with ThreadPoolExecutor(max_workers=processing_params['max_workers']) as executor:\n",
    "                # Submit all files for processing\n",
    "                future_to_file = {\n",
    "                    executor.submit(process_single_npz_file, npz_file): npz_file \n",
    "                    for npz_file in npz_files\n",
    "                }\n",
    "                \n",
    "                # Collect results as they complete\n",
    "                completed_count = 0\n",
    "                for future in as_completed(future_to_file):\n",
    "                    npz_file = future_to_file[future]\n",
    "                    try:\n",
    "                        result = future.result()\n",
    "                        results.append(result)\n",
    "                        completed_count += 1\n",
    "                        \n",
    "                        # Progress reporting with cleaner formatting\n",
    "                        progress_percent = (completed_count / len(npz_files)) * 100\n",
    "                        elapsed_time = time.time() - processing_start_time\n",
    "                        avg_time_per_file = elapsed_time / completed_count\n",
    "                        estimated_remaining = avg_time_per_file * (len(npz_files) - completed_count)\n",
    "                        \n",
    "                        # Clean progress output with consistent formatting\n",
    "                        filename_display = Path(npz_file).name[:30] + \"...\" if len(Path(npz_file).name) > 30 else Path(npz_file).name\n",
    "                        status_icon = \"✅\" if result.get('status') == 'success' else \"❌\"\n",
    "                        \n",
    "                        print(f\"{status_icon} [{completed_count:2d}/{len(npz_files)}] ({progress_percent:5.1f}%) \"\n",
    "                              f\"| ETA: {estimated_remaining:5.1f}s | {filename_display}\")\n",
    "                        \n",
    "                    except Exception as e:\n",
    "                        batch_logger.error(f\"❌ Worker failed for {Path(npz_file).name}: {str(e)}\")\n",
    "                        results.append({\n",
    "                            'filename': Path(npz_file).stem,\n",
    "                            'status': 'error',\n",
    "                            'error': str(e)\n",
    "                        })\n",
    "                        completed_count += 1\n",
    "                        \n",
    "                        # Error progress display\n",
    "                        progress_percent = (completed_count / len(npz_files)) * 100\n",
    "                        filename_display = Path(npz_file).name[:30] + \"...\" if len(Path(npz_file).name) > 30 else Path(npz_file).name\n",
    "                        print(f\"❌ [{completed_count:2d}/{len(npz_files)}] ({progress_percent:5.1f}%) \"\n",
    "                              f\"| ERROR     | {filename_display}\")\n",
    "            \n",
    "            print(\"-\" * 80)\n",
    "            print(f\"✅ Parallel processing completed with {processing_params['max_workers']} workers!\")\n",
    "            \n",
    "        else:\n",
    "            print(f\"🔄 Starting sequential processing...\")\n",
    "            print(\"-\" * 80)\n",
    "            \n",
    "            # Sequential processing with better progress display\n",
    "            for i, npz_file in enumerate(npz_files, 1):\n",
    "                filename_display = Path(npz_file).name[:30] + \"...\" if len(Path(npz_file).name) > 30 else Path(npz_file).name\n",
    "                print(f\"🔄 [{i:2d}/{len(npz_files)}] Processing: {filename_display}\")\n",
    "                \n",
    "                result = process_single_npz_file(npz_file)\n",
    "                results.append(result)\n",
    "                \n",
    "                # Status update\n",
    "                status_icon = \"✅\" if result.get('status') == 'success' else \"❌\"\n",
    "                print(f\"{status_icon} [{i:2d}/{len(npz_files)}] Completed: {filename_display}\")\n",
    "            \n",
    "            print(\"-\" * 80)\n",
    "        \n",
    "        # Restore original visualization setting if changed\n",
    "        if not processing_params['save_visualizations']:\n",
    "            batch_processor.config_manager.set(\"visualization.enabled\", original_viz_setting)\n",
    "        \n",
    "        # Clean up worker logger\n",
    "        worker_logger.handlers.clear()\n",
    "        \n",
    "        print(\"✅ Core processing completed successfully!\")\n",
    "        print(f\"📊 Processed {len(results)} files with clean output formatting\")\n",
    "        \n",
    "    except Exception as e:\n",
    "        # Clean up worker logger on error\n",
    "        worker_logger.handlers.clear()\n",
    "        \n",
    "        batch_logger.error(f\"❌ Batch processing failed: {str(e)}\")\n",
    "        print(f\"\\n❌ ERROR during batch processing: {str(e)}\")\n",
    "        print(f\"💡 Check processing parameters: {processing_params}\")\n",
    "        raise e\n",
    "        \n",
    "else:\n",
    "    print(\"⏭️  Skipping core processing - no NPZ files found\")\n",
    "    results = []"
   ]
  },
  {
   "cell_type": "markdown",
   "id": "6a1de3ed",
   "metadata": {},
   "source": [
    "## 6. Analyze Batch Processing Results\n",
    "\n",
    "Examine the results from batch processing, including success rates, processing statistics, and any errors encountered.\n",
    "\n",
    "### Analysis Features:\n",
    "- **Success/Failure Summary**: Overall batch processing statistics\n",
    "- **Processing Time Analysis**: Time distribution across files\n",
    "- **Error Analysis**: Detailed examination of any failed files\n",
    "- **Output Organization**: Review of generated file structure\n",
    "- **Quality Metrics**: Distribution of extracted centroids and volumes"
   ]
  },
  {
   "cell_type": "markdown",
   "id": "5b632bf4",
   "metadata": {},
   "source": [
    "## 7. Explore Individual Results\n",
    "\n",
    "Examine specific results from individual files, including generated visualizations and detailed statistics.\n",
    "\n",
    "### Exploration Options:\n",
    "- **File Selection**: Choose specific files to examine in detail\n",
    "- **Visualization Review**: Display generated plots and analysis\n",
    "- **Statistics Deep Dive**: Detailed metrics for individual samples\n",
    "- **Output File Inspection**: Examine saved JSON results and logs"
   ]
  },
  {
   "cell_type": "markdown",
   "id": "31dc79ef",
   "metadata": {},
   "source": [
    "## 8. Summary and Next Steps\n",
    "\n",
    "### Batch Processing Complete! 🎉\n",
    "\n",
    "This notebook has successfully demonstrated batch processing of BlastoSpim NPZ files using the **CentroidBatchProcessor** with the following achievements:\n",
    "\n",
    "#### ✅ **What Was Accomplished:**\n",
    "- **Comprehensive Batch Processing**: Processed multiple NPZ files in parallel\n",
    "- **Robust Error Handling**: Continued processing even when individual files failed\n",
    "- **Detailed Logging**: Tracked all operations with timestamps and progress\n",
    "- **Organized Output Structure**: Created structured directories for each processed file\n",
    "- **Physical Coordinate Calculations**: Used correct voxel spacing (Z=2.0µm, Y/X=0.208µm)\n",
    "- **Professional Visualizations**: Generated multi-slice, 3D, and statistical plots\n",
    "- **Comprehensive Statistics**: Calculated centroids, volumes, and bounding boxes\n",
    "- **Batch Analysis**: Summarized results across all processed files\n",
    "\n",
    "#### 📊 **Generated Outputs:**\n",
    "- **Individual Results**: Separate directory for each processed file\n",
    "- **Visualizations**: PNG files with comprehensive plots\n",
    "- **Statistics**: JSON files with detailed metrics\n",
    "- **Summary Reports**: Batch-level analysis and statistics\n",
    "- **Detailed Logs**: Complete processing history with timestamps\n",
    "\n",
    "#### 🔧 **Key Features Used:**\n",
    "- **CentroidBatchProcessor**: Main batch processing engine\n",
    "- **ConfigManager**: YAML-based configuration management\n",
    "- **Progress Tracking**: Real-time progress bars and time estimates\n",
    "- **Parallel Processing**: Multi-threaded processing for efficiency\n",
    "- **Physical Units**: Proper handling of anisotropic voxel spacing\n",
    "\n",
    "#### 🚀 **Next Steps:**\n",
    "1. **Review Generated Results**: Examine the output directories and visualizations\n",
    "2. **Analyze Statistics**: Use the batch summary for scientific analysis\n",
    "3. **Customize Processing**: Modify configuration parameters as needed\n",
    "4. **Scale Up**: Process larger datasets with the same pipeline\n",
    "5. **Integration**: Incorporate results into downstream analysis workflows\n",
    "\n",
    "#### 💡 **Tips for Production Use:**\n",
    "- Adjust `max_workers` based on your system's capabilities\n",
    "- Monitor memory usage for large datasets\n",
    "- Use the logging files to troubleshoot any processing issues\n",
    "- Customize visualization parameters in the configuration file\n",
    "- Consider implementing additional quality control checks\n",
    "\n",
    "**The batch processing pipeline is now ready for production use with your BlastoSpim data!**"
   ]
  },
  {
   "cell_type": "markdown",
   "id": "900f2ebb",
   "metadata": {},
   "source": []
  }
 ],
 "metadata": {
  "kernelspec": {
   "display_name": "ml-centroid3d",
   "language": "python",
   "name": "python3"
  },
  "language_info": {
   "codemirror_mode": {
    "name": "ipython",
    "version": 3
   },
   "file_extension": ".py",
   "mimetype": "text/x-python",
   "name": "python",
   "nbconvert_exporter": "python",
   "pygments_lexer": "ipython3",
   "version": "3.13.5"
  }
 },
 "nbformat": 4,
 "nbformat_minor": 5
}
