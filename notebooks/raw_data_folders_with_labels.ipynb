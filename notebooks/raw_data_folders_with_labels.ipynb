{
 "cells": [
  {
   "cell_type": "code",
   "execution_count": 2,
   "id": "6d1dc6d4",
   "metadata": {},
   "outputs": [],
   "source": [
    "import os \n",
    "\n",
    "import numpy as np\n",
    "import csv\n",
    "from tqdm import tqdm"
   ]
  },
  {
   "cell_type": "code",
   "execution_count": 3,
   "id": "cf1f0072",
   "metadata": {},
   "outputs": [],
   "source": [
    "# Add project root to Python path\n",
    "project_root = \"/mnt/home/dchhantyal/centroid_model_blastospim\""
   ]
  },
  {
   "cell_type": "code",
   "execution_count": 4,
   "id": "91c3ad23",
   "metadata": {},
   "outputs": [],
   "source": [
    "# Define the root directory to search\n",
    "data_folder_dir = os.path.join(project_root, \"data\", \"raw\")\n",
    "\n",
    "# Step 1: Collect all .npz files\n",
    "all_npz_files = []\n",
    "for root, dirs, files in os.walk(data_folder_dir):\n",
    "    for file in files:\n",
    "        if file.endswith(\".npz\"):\n",
    "            all_npz_files.append(os.path.join(root, file))"
   ]
  },
  {
   "cell_type": "code",
   "execution_count": 9,
   "id": "a7c3663f",
   "metadata": {},
   "outputs": [
    {
     "name": "stderr",
     "output_type": "stream",
     "text": [
      "Processing .npz files:   0%|          | 0/1131 [00:00<?, ?it/s]"
     ]
    },
    {
     "name": "stderr",
     "output_type": "stream",
     "text": [
      "Processing .npz files: 100%|██████████| 1131/1131 [00:14<00:00, 78.87it/s]"
     ]
    },
    {
     "name": "stdout",
     "output_type": "stream",
     "text": [
      "✅ Summary saved to /mnt/home/dchhantyal/centroid_model_blastospim/data/npz_keys_summary.csv\n"
     ]
    },
    {
     "name": "stderr",
     "output_type": "stream",
     "text": [
      "\n"
     ]
    }
   ],
   "source": [
    "# Step 2: Write to CSV with progress bar\n",
    "output_file = os.path.join(project_root, \"data\", \"npz_keys_summary.csv\")\n",
    "\n",
    "with open(output_file, mode=\"w\", newline=\"\") as csvfile:\n",
    "    writer = csv.writer(csvfile)\n",
    "    writer.writerow([\"Filename\"] + [f\"Key_{i+1}\" for i in range(10)])  # Adjust the range based on expected max keys\n",
    "\n",
    "    for file in tqdm(all_npz_files, desc=\"Processing .npz files\"):\n",
    "        try:\n",
    "            data = np.load(file)\n",
    "            keys = data.files\n",
    "            row = [file] + keys + [\"\"] * (10 - len(keys))  # Pad with empty strings if fewer keys\n",
    "            writer.writerow(row)\n",
    "        except Exception as e:\n",
    "            writer.writerow([file, f\"Error: {e}\"] + [\"\"] * 9)  # Pad with empty strings for error rows\n",
    "\n",
    "print(f\"✅ Summary saved to {output_file}\")"
   ]
  },
  {
   "cell_type": "code",
   "execution_count": null,
   "id": "b49ec7a1",
   "metadata": {},
   "outputs": [],
   "source": []
  }
 ],
 "metadata": {
  "kernelspec": {
   "display_name": "ml-tf",
   "language": "python",
   "name": "python3"
  },
  "language_info": {
   "codemirror_mode": {
    "name": "ipython",
    "version": 3
   },
   "file_extension": ".py",
   "mimetype": "text/x-python",
   "name": "python",
   "nbconvert_exporter": "python",
   "pygments_lexer": "ipython3",
   "version": "3.10.18"
  }
 },
 "nbformat": 4,
 "nbformat_minor": 5
}
